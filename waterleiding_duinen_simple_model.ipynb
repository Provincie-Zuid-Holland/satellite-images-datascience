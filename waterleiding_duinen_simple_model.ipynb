{
 "cells": [
  {
   "cell_type": "code",
   "execution_count": 1,
   "metadata": {},
   "outputs": [
    {
     "name": "stderr",
     "output_type": "stream",
     "text": [
      "C:\\ProgramData\\Anaconda3\\lib\\site-packages\\geopandas\\_compat.py:115: UserWarning: The Shapely GEOS version (3.4.3-CAPI-1.8.3 r4285) is incompatible with the GEOS version PyGEOS was compiled with (3.10.0-CAPI-1.16.0). Conversions between both will be slow.\n",
      "  shapely_geos_version, geos_capi_version_string\n"
     ]
    }
   ],
   "source": [
    "import rasterio\n",
    "import geopandas as gpd\n",
    "import pandas as pd\n",
    "from rasterio import mask\n",
    "from shapely.geometry import shape\n",
    "import json\n",
    "import numpy as np\n",
    "from tqdm import tqdm\n",
    "from random import randint\n",
    "import random"
   ]
  },
  {
   "cell_type": "code",
   "execution_count": 2,
   "metadata": {},
   "outputs": [],
   "source": [
    "def __make_the_crop(load_shape, raster_path, raster_path_cropped):\n",
    "    \"\"\"\n",
    "        This crops the sattelite image with a chosen shape.\n",
    "\n",
    "        TODO: Make this accept a object of geopandas or shapely and crs independant.\n",
    "        @param load_schape: path to a geojson shape file.\n",
    "        @param raster_path_wgs: path to the raster .tiff file.\n",
    "        @param raster_path_cropped: path were the cropped raster will be stored.\n",
    "    \"\"\"\n",
    "    geo_file = gpd.read_file(load_shape)\n",
    "    src = rasterio.open(raster_path)\n",
    "\n",
    "    # Change the crs to rijks driehoek, because all the satelliet images are in rijks driehoek\n",
    "    if geo_file.crs != 'epsg:28992':\n",
    "        geo_file = geo_file.to_crs(epsg=28992)\n",
    "\n",
    "    out_image, out_transform = rasterio.mask.mask(src,geo_file['geometry'], crop=True, filled=True)\n",
    "    out_meta = src.meta\n",
    "\n",
    "    out_meta.update({\"driver\": \"GTiff\",\n",
    "                 \"height\": out_image.shape[1],\n",
    "                 \"width\": out_image.shape[2],\n",
    "                 \"transform\": out_transform})\n",
    "\n",
    "    with rasterio.open(raster_path_cropped, \"w\", **out_meta) as dest:\n",
    "            dest.write(out_image)\n",
    "            dest.close()"
   ]
  },
  {
   "cell_type": "markdown",
   "metadata": {},
   "source": [
    "# Cut .tif image into shapes based on labels."
   ]
  },
  {
   "cell_type": "code",
   "execution_count": 3,
   "metadata": {},
   "outputs": [],
   "source": [
    "tif_file = \"E:/data/waterleidingduinen/20190729_111526_SV1-04_50cm_RD_11bit_RGBI_Lisse_waterleidingduin_aaneensluitende_polygon_cropped__ndvi_ahn.tif\""
   ]
  },
  {
   "cell_type": "code",
   "execution_count": 4,
   "metadata": {},
   "outputs": [],
   "source": [
    "src = rasterio.open(tif_file)"
   ]
  },
  {
   "cell_type": "code",
   "execution_count": 63,
   "metadata": {
    "collapsed": true
   },
   "outputs": [
    {
     "data": {
      "text/plain": [
       "array([[[0, 0, 0, ..., 0, 0, 0],\n",
       "        [0, 0, 0, ..., 0, 0, 0],\n",
       "        [0, 0, 0, ..., 0, 0, 0],\n",
       "        ...,\n",
       "        [0, 0, 0, ..., 0, 0, 0],\n",
       "        [0, 0, 0, ..., 0, 0, 0],\n",
       "        [0, 0, 0, ..., 0, 0, 0]],\n",
       "\n",
       "       [[0, 0, 0, ..., 0, 0, 0],\n",
       "        [0, 0, 0, ..., 0, 0, 0],\n",
       "        [0, 0, 0, ..., 0, 0, 0],\n",
       "        ...,\n",
       "        [0, 0, 0, ..., 0, 0, 0],\n",
       "        [0, 0, 0, ..., 0, 0, 0],\n",
       "        [0, 0, 0, ..., 0, 0, 0]]], dtype=uint16)"
      ]
     },
     "execution_count": 63,
     "metadata": {},
     "output_type": "execute_result"
    }
   ],
   "source": [
    "src.read()"
   ]
  },
  {
   "cell_type": "code",
   "execution_count": 5,
   "metadata": {},
   "outputs": [],
   "source": [
    "struco_codes = pd.read_csv(\"C:/repos/waterleiding_annotaties/AWD_Struco_codes.csv\", sep=\";\")"
   ]
  },
  {
   "cell_type": "code",
   "execution_count": 6,
   "metadata": {
    "collapsed": true
   },
   "outputs": [
    {
     "data": {
      "text/html": [
       "<div>\n",
       "<style scoped>\n",
       "    .dataframe tbody tr th:only-of-type {\n",
       "        vertical-align: middle;\n",
       "    }\n",
       "\n",
       "    .dataframe tbody tr th {\n",
       "        vertical-align: top;\n",
       "    }\n",
       "\n",
       "    .dataframe thead th {\n",
       "        text-align: right;\n",
       "    }\n",
       "</style>\n",
       "<table border=\"1\" class=\"dataframe\">\n",
       "  <thead>\n",
       "    <tr style=\"text-align: right;\">\n",
       "      <th></th>\n",
       "      <th>Struco</th>\n",
       "      <th>Label</th>\n",
       "    </tr>\n",
       "  </thead>\n",
       "  <tbody>\n",
       "    <tr>\n",
       "      <th>0</th>\n",
       "      <td>0</td>\n",
       "      <td>Water, Overig</td>\n",
       "    </tr>\n",
       "    <tr>\n",
       "      <th>1</th>\n",
       "      <td>10</td>\n",
       "      <td>Zand</td>\n",
       "    </tr>\n",
       "    <tr>\n",
       "      <th>2</th>\n",
       "      <td>20</td>\n",
       "      <td>Mos</td>\n",
       "    </tr>\n",
       "    <tr>\n",
       "      <th>3</th>\n",
       "      <td>30</td>\n",
       "      <td>Lage kruiden-gras</td>\n",
       "    </tr>\n",
       "    <tr>\n",
       "      <th>4</th>\n",
       "      <td>40</td>\n",
       "      <td>Hoge kruiden-gras</td>\n",
       "    </tr>\n",
       "    <tr>\n",
       "      <th>5</th>\n",
       "      <td>50</td>\n",
       "      <td>Open laag struweel</td>\n",
       "    </tr>\n",
       "    <tr>\n",
       "      <th>6</th>\n",
       "      <td>51</td>\n",
       "      <td>Dicht laag struweel</td>\n",
       "    </tr>\n",
       "    <tr>\n",
       "      <th>7</th>\n",
       "      <td>60</td>\n",
       "      <td>Open Duindoorn</td>\n",
       "    </tr>\n",
       "    <tr>\n",
       "      <th>8</th>\n",
       "      <td>61</td>\n",
       "      <td>Dicht Duindoorn</td>\n",
       "    </tr>\n",
       "    <tr>\n",
       "      <th>9</th>\n",
       "      <td>70</td>\n",
       "      <td>Open Hoog Struweel</td>\n",
       "    </tr>\n",
       "    <tr>\n",
       "      <th>10</th>\n",
       "      <td>71</td>\n",
       "      <td>Dicht Hoog Struweel</td>\n",
       "    </tr>\n",
       "    <tr>\n",
       "      <th>11</th>\n",
       "      <td>90</td>\n",
       "      <td>Heide</td>\n",
       "    </tr>\n",
       "    <tr>\n",
       "      <th>12</th>\n",
       "      <td>110</td>\n",
       "      <td>Loofbos</td>\n",
       "    </tr>\n",
       "    <tr>\n",
       "      <th>13</th>\n",
       "      <td>120</td>\n",
       "      <td>Naaldbos</td>\n",
       "    </tr>\n",
       "    <tr>\n",
       "      <th>14</th>\n",
       "      <td>130</td>\n",
       "      <td>Adelaarsvaren</td>\n",
       "    </tr>\n",
       "    <tr>\n",
       "      <th>15</th>\n",
       "      <td>140</td>\n",
       "      <td>Riet</td>\n",
       "    </tr>\n",
       "  </tbody>\n",
       "</table>\n",
       "</div>"
      ],
      "text/plain": [
       "    Struco                Label\n",
       "0        0        Water, Overig\n",
       "1       10                 Zand\n",
       "2       20                  Mos\n",
       "3       30    Lage kruiden-gras\n",
       "4       40    Hoge kruiden-gras\n",
       "5       50   Open laag struweel\n",
       "6       51  Dicht laag struweel\n",
       "7       60       Open Duindoorn\n",
       "8       61      Dicht Duindoorn\n",
       "9       70   Open Hoog Struweel\n",
       "10      71  Dicht Hoog Struweel\n",
       "11      90                Heide\n",
       "12     110              Loofbos\n",
       "13     120             Naaldbos\n",
       "14     130        Adelaarsvaren\n",
       "15     140                 Riet"
      ]
     },
     "execution_count": 6,
     "metadata": {},
     "output_type": "execute_result"
    }
   ],
   "source": [
    "struco_codes"
   ]
  },
  {
   "cell_type": "code",
   "execution_count": 8,
   "metadata": {},
   "outputs": [],
   "source": [
    "gdf = gpd.read_file(\"E:/data/waterleidingduinen/AWD_vegetatiekartering_2016_2018_dissolve.shp\")"
   ]
  },
  {
   "cell_type": "code",
   "execution_count": 9,
   "metadata": {},
   "outputs": [],
   "source": [
    "gdf['Struco'] = gdf['Struco'].astype(int)"
   ]
  },
  {
   "cell_type": "code",
   "execution_count": 10,
   "metadata": {},
   "outputs": [],
   "source": [
    "gdf = gdf.merge(struco_codes, on=\"Struco\")"
   ]
  },
  {
   "cell_type": "code",
   "execution_count": 11,
   "metadata": {},
   "outputs": [
    {
     "data": {
      "text/html": [
       "<div>\n",
       "<style scoped>\n",
       "    .dataframe tbody tr th:only-of-type {\n",
       "        vertical-align: middle;\n",
       "    }\n",
       "\n",
       "    .dataframe tbody tr th {\n",
       "        vertical-align: top;\n",
       "    }\n",
       "\n",
       "    .dataframe thead th {\n",
       "        text-align: right;\n",
       "    }\n",
       "</style>\n",
       "<table border=\"1\" class=\"dataframe\">\n",
       "  <thead>\n",
       "    <tr style=\"text-align: right;\">\n",
       "      <th></th>\n",
       "      <th>Struco</th>\n",
       "      <th>geometry</th>\n",
       "      <th>Label</th>\n",
       "    </tr>\n",
       "  </thead>\n",
       "  <tbody>\n",
       "    <tr>\n",
       "      <th>0</th>\n",
       "      <td>20</td>\n",
       "      <td>MULTIPOLYGON (((93468.281 477863.716, 93471.58...</td>\n",
       "      <td>Mos</td>\n",
       "    </tr>\n",
       "    <tr>\n",
       "      <th>1</th>\n",
       "      <td>50</td>\n",
       "      <td>MULTIPOLYGON (((93090.931 477908.638, 93092.41...</td>\n",
       "      <td>Open laag struweel</td>\n",
       "    </tr>\n",
       "    <tr>\n",
       "      <th>2</th>\n",
       "      <td>10</td>\n",
       "      <td>MULTIPOLYGON (((93280.478 477754.144, 93283.01...</td>\n",
       "      <td>Zand</td>\n",
       "    </tr>\n",
       "    <tr>\n",
       "      <th>3</th>\n",
       "      <td>60</td>\n",
       "      <td>MULTIPOLYGON (((93342.346 477720.225, 93345.32...</td>\n",
       "      <td>Open Duindoorn</td>\n",
       "    </tr>\n",
       "    <tr>\n",
       "      <th>4</th>\n",
       "      <td>61</td>\n",
       "      <td>MULTIPOLYGON (((93493.644 477825.265, 93493.24...</td>\n",
       "      <td>Dicht Duindoorn</td>\n",
       "    </tr>\n",
       "    <tr>\n",
       "      <th>5</th>\n",
       "      <td>30</td>\n",
       "      <td>MULTIPOLYGON (((93438.025 477696.898, 93440.56...</td>\n",
       "      <td>Lage kruiden-gras</td>\n",
       "    </tr>\n",
       "    <tr>\n",
       "      <th>6</th>\n",
       "      <td>40</td>\n",
       "      <td>MULTIPOLYGON (((93431.139 477658.021, 93426.05...</td>\n",
       "      <td>Hoge kruiden-gras</td>\n",
       "    </tr>\n",
       "    <tr>\n",
       "      <th>7</th>\n",
       "      <td>51</td>\n",
       "      <td>MULTIPOLYGON (((93184.561 478067.038, 93186.09...</td>\n",
       "      <td>Dicht laag struweel</td>\n",
       "    </tr>\n",
       "    <tr>\n",
       "      <th>8</th>\n",
       "      <td>70</td>\n",
       "      <td>MULTIPOLYGON (((93223.830 478065.160, 93220.65...</td>\n",
       "      <td>Open Hoog Struweel</td>\n",
       "    </tr>\n",
       "    <tr>\n",
       "      <th>9</th>\n",
       "      <td>71</td>\n",
       "      <td>MULTIPOLYGON (((92945.727 477985.050, 92946.78...</td>\n",
       "      <td>Dicht Hoog Struweel</td>\n",
       "    </tr>\n",
       "    <tr>\n",
       "      <th>10</th>\n",
       "      <td>120</td>\n",
       "      <td>MULTIPOLYGON (((93593.544 478712.757, 93596.71...</td>\n",
       "      <td>Naaldbos</td>\n",
       "    </tr>\n",
       "    <tr>\n",
       "      <th>11</th>\n",
       "      <td>110</td>\n",
       "      <td>MULTIPOLYGON (((93328.940 477713.346, 93332.11...</td>\n",
       "      <td>Loofbos</td>\n",
       "    </tr>\n",
       "    <tr>\n",
       "      <th>12</th>\n",
       "      <td>130</td>\n",
       "      <td>MULTIPOLYGON (((95843.425 478797.609, 95846.07...</td>\n",
       "      <td>Adelaarsvaren</td>\n",
       "    </tr>\n",
       "    <tr>\n",
       "      <th>13</th>\n",
       "      <td>90</td>\n",
       "      <td>MULTIPOLYGON (((96057.219 478743.373, 96056.02...</td>\n",
       "      <td>Heide</td>\n",
       "    </tr>\n",
       "    <tr>\n",
       "      <th>14</th>\n",
       "      <td>0</td>\n",
       "      <td>MULTIPOLYGON (((93576.041 477845.982, 93572.86...</td>\n",
       "      <td>Water, Overig</td>\n",
       "    </tr>\n",
       "    <tr>\n",
       "      <th>15</th>\n",
       "      <td>140</td>\n",
       "      <td>MULTIPOLYGON (((95243.753 482097.598, 95241.05...</td>\n",
       "      <td>Riet</td>\n",
       "    </tr>\n",
       "  </tbody>\n",
       "</table>\n",
       "</div>"
      ],
      "text/plain": [
       "    Struco                                           geometry  \\\n",
       "0       20  MULTIPOLYGON (((93468.281 477863.716, 93471.58...   \n",
       "1       50  MULTIPOLYGON (((93090.931 477908.638, 93092.41...   \n",
       "2       10  MULTIPOLYGON (((93280.478 477754.144, 93283.01...   \n",
       "3       60  MULTIPOLYGON (((93342.346 477720.225, 93345.32...   \n",
       "4       61  MULTIPOLYGON (((93493.644 477825.265, 93493.24...   \n",
       "5       30  MULTIPOLYGON (((93438.025 477696.898, 93440.56...   \n",
       "6       40  MULTIPOLYGON (((93431.139 477658.021, 93426.05...   \n",
       "7       51  MULTIPOLYGON (((93184.561 478067.038, 93186.09...   \n",
       "8       70  MULTIPOLYGON (((93223.830 478065.160, 93220.65...   \n",
       "9       71  MULTIPOLYGON (((92945.727 477985.050, 92946.78...   \n",
       "10     120  MULTIPOLYGON (((93593.544 478712.757, 93596.71...   \n",
       "11     110  MULTIPOLYGON (((93328.940 477713.346, 93332.11...   \n",
       "12     130  MULTIPOLYGON (((95843.425 478797.609, 95846.07...   \n",
       "13      90  MULTIPOLYGON (((96057.219 478743.373, 96056.02...   \n",
       "14       0  MULTIPOLYGON (((93576.041 477845.982, 93572.86...   \n",
       "15     140  MULTIPOLYGON (((95243.753 482097.598, 95241.05...   \n",
       "\n",
       "                  Label  \n",
       "0                   Mos  \n",
       "1    Open laag struweel  \n",
       "2                  Zand  \n",
       "3        Open Duindoorn  \n",
       "4       Dicht Duindoorn  \n",
       "5     Lage kruiden-gras  \n",
       "6     Hoge kruiden-gras  \n",
       "7   Dicht laag struweel  \n",
       "8    Open Hoog Struweel  \n",
       "9   Dicht Hoog Struweel  \n",
       "10             Naaldbos  \n",
       "11              Loofbos  \n",
       "12        Adelaarsvaren  \n",
       "13                Heide  \n",
       "14        Water, Overig  \n",
       "15                 Riet  "
      ]
     },
     "execution_count": 11,
     "metadata": {},
     "output_type": "execute_result"
    }
   ],
   "source": [
    "gdf"
   ]
  },
  {
   "cell_type": "code",
   "execution_count": 37,
   "metadata": {
    "collapsed": true
   },
   "outputs": [
    {
     "name": "stdout",
     "output_type": "stream",
     "text": [
      "E:/data/waterleidingduinen/20190729_111526_SV1-04_50cm_RD_11bit_RGBI_Lisse_waterleidingduin_aaneensluitende_polygon_cropped__ndvi_ahn_Mos.tif\n",
      "E:/data/waterleidingduinen/20190729_111526_SV1-04_50cm_RD_11bit_RGBI_Lisse_waterleidingduin_aaneensluitende_polygon_cropped__ndvi_ahn_Open laag struweel.tif\n",
      "E:/data/waterleidingduinen/20190729_111526_SV1-04_50cm_RD_11bit_RGBI_Lisse_waterleidingduin_aaneensluitende_polygon_cropped__ndvi_ahn_Zand.tif\n",
      "E:/data/waterleidingduinen/20190729_111526_SV1-04_50cm_RD_11bit_RGBI_Lisse_waterleidingduin_aaneensluitende_polygon_cropped__ndvi_ahn_Open Duindoorn.tif\n",
      "E:/data/waterleidingduinen/20190729_111526_SV1-04_50cm_RD_11bit_RGBI_Lisse_waterleidingduin_aaneensluitende_polygon_cropped__ndvi_ahn_Dicht Duindoorn.tif\n",
      "E:/data/waterleidingduinen/20190729_111526_SV1-04_50cm_RD_11bit_RGBI_Lisse_waterleidingduin_aaneensluitende_polygon_cropped__ndvi_ahn_Lage kruiden-gras.tif\n",
      "E:/data/waterleidingduinen/20190729_111526_SV1-04_50cm_RD_11bit_RGBI_Lisse_waterleidingduin_aaneensluitende_polygon_cropped__ndvi_ahn_Hoge kruiden-gras.tif\n",
      "E:/data/waterleidingduinen/20190729_111526_SV1-04_50cm_RD_11bit_RGBI_Lisse_waterleidingduin_aaneensluitende_polygon_cropped__ndvi_ahn_Dicht laag struweel.tif\n",
      "E:/data/waterleidingduinen/20190729_111526_SV1-04_50cm_RD_11bit_RGBI_Lisse_waterleidingduin_aaneensluitende_polygon_cropped__ndvi_ahn_Open Hoog Struweel.tif\n",
      "E:/data/waterleidingduinen/20190729_111526_SV1-04_50cm_RD_11bit_RGBI_Lisse_waterleidingduin_aaneensluitende_polygon_cropped__ndvi_ahn_Dicht Hoog Struweel.tif\n",
      "E:/data/waterleidingduinen/20190729_111526_SV1-04_50cm_RD_11bit_RGBI_Lisse_waterleidingduin_aaneensluitende_polygon_cropped__ndvi_ahn_Naaldbos.tif\n",
      "E:/data/waterleidingduinen/20190729_111526_SV1-04_50cm_RD_11bit_RGBI_Lisse_waterleidingduin_aaneensluitende_polygon_cropped__ndvi_ahn_Loofbos.tif\n",
      "E:/data/waterleidingduinen/20190729_111526_SV1-04_50cm_RD_11bit_RGBI_Lisse_waterleidingduin_aaneensluitende_polygon_cropped__ndvi_ahn_Adelaarsvaren.tif\n",
      "E:/data/waterleidingduinen/20190729_111526_SV1-04_50cm_RD_11bit_RGBI_Lisse_waterleidingduin_aaneensluitende_polygon_cropped__ndvi_ahn_Heide.tif\n",
      "E:/data/waterleidingduinen/20190729_111526_SV1-04_50cm_RD_11bit_RGBI_Lisse_waterleidingduin_aaneensluitende_polygon_cropped__ndvi_ahn_Water, Overig.tif\n",
      "E:/data/waterleidingduinen/20190729_111526_SV1-04_50cm_RD_11bit_RGBI_Lisse_waterleidingduin_aaneensluitende_polygon_cropped__ndvi_ahn_Riet.tif\n"
     ]
    }
   ],
   "source": [
    "for xid,row in gdf.iterrows():\n",
    "    \n",
    "    out_image, out_transform = rasterio.mask.mask(src, row['geometry'], crop=True, filled=True)\n",
    "    out_meta = src.meta\n",
    "    \n",
    "    data_src =src.read() \n",
    "    out_meta.update({\"driver\": \"GTiff\",\n",
    "                 \"height\": out_image.shape[1],\n",
    "                 \"width\": out_image.shape[2],\n",
    "                 \"transform\": out_transform})\n",
    "    \n",
    "    print(tif_file.replace(\".tif\",\"_\"+str(row['Label'])+\".tif\"))\n",
    "    with rasterio.open(tif_file.replace(\".tif\",\"_\"+str(row['Label'])+\".tif\"), \"w\", **out_meta) as dest:\n",
    "            dest.write(out_image)\n",
    "            dest.close()"
   ]
  },
  {
   "cell_type": "code",
   "execution_count": 12,
   "metadata": {},
   "outputs": [
    {
     "data": {
      "text/plain": [
       "38.2612"
      ]
     },
     "execution_count": 12,
     "metadata": {},
     "output_type": "execute_result"
    }
   ],
   "source": [
    "len_shapes/5000"
   ]
  },
  {
   "cell_type": "code",
   "execution_count": 10,
   "metadata": {},
   "outputs": [],
   "source": [
    "annotation_tif = \"E:/data/waterleidingduinen/20190729_111526_SV1-04_50cm_RD_11bit_RGBI_Lisse_waterleidingduin_aaneensluitende_polygon_cropped__ndvi_ahn_Mos.tif\""
   ]
  },
  {
   "cell_type": "code",
   "execution_count": 11,
   "metadata": {},
   "outputs": [],
   "source": [
    "with rasterio.open(annotation_tif) as f:\n",
    "        data = f.read()\n",
    "        shapes = rasterio.features.shapes(data[1])"
   ]
  },
  {
   "cell_type": "code",
   "execution_count": 12,
   "metadata": {},
   "outputs": [],
   "source": [
    "data_shapes = [ shape for shape in shapes]"
   ]
  },
  {
   "cell_type": "code",
   "execution_count": 39,
   "metadata": {},
   "outputs": [
    {
     "name": "stderr",
     "output_type": "stream",
     "text": [
      "100%|██████████████████████████████████████████████████████████████████████████████| 5000/5000 [01:39<00:00, 50.48it/s]\n"
     ]
    }
   ],
   "source": [
    "\n",
    "np_array = np.array([])\n",
    "\n",
    "for x_shape in tqdm(random.sample(range(1, len(data_shapes)), 5000)):\n",
    "    \n",
    "    shape = data_shapes[x_shape]\n",
    "   \n",
    "    \n",
    "    for cors in shape[0]['coordinates'][0]:\n",
    "             \n",
    "            if sum([band[int(cors[1])][int(cors[0])] for band in data]) != 0:\n",
    "                        \n",
    "                        rd_cors = f.xy(int(cors[1]), int(cors[0]))\n",
    "                        np_array =np.append(np_array, [[\"Mos\",rd_cors[0],rd_cors[1]]])\n",
    "                        \n",
    "        "
   ]
  },
  {
   "cell_type": "code",
   "execution_count": 40,
   "metadata": {
    "collapsed": true
   },
   "outputs": [
    {
     "data": {
      "text/html": [
       "<div>\n",
       "<style scoped>\n",
       "    .dataframe tbody tr th:only-of-type {\n",
       "        vertical-align: middle;\n",
       "    }\n",
       "\n",
       "    .dataframe tbody tr th {\n",
       "        vertical-align: top;\n",
       "    }\n",
       "\n",
       "    .dataframe thead th {\n",
       "        text-align: right;\n",
       "    }\n",
       "</style>\n",
       "<table border=\"1\" class=\"dataframe\">\n",
       "  <thead>\n",
       "    <tr style=\"text-align: right;\">\n",
       "      <th></th>\n",
       "      <th>label</th>\n",
       "      <th>x</th>\n",
       "      <th>y</th>\n",
       "    </tr>\n",
       "  </thead>\n",
       "  <tbody>\n",
       "    <tr>\n",
       "      <th>0</th>\n",
       "      <td>Mos</td>\n",
       "      <td>95879.25</td>\n",
       "      <td>486047.75</td>\n",
       "    </tr>\n",
       "    <tr>\n",
       "      <th>1</th>\n",
       "      <td>Mos</td>\n",
       "      <td>95879.25</td>\n",
       "      <td>486046.75</td>\n",
       "    </tr>\n",
       "    <tr>\n",
       "      <th>2</th>\n",
       "      <td>Mos</td>\n",
       "      <td>95880.25</td>\n",
       "      <td>486046.75</td>\n",
       "    </tr>\n",
       "    <tr>\n",
       "      <th>3</th>\n",
       "      <td>Mos</td>\n",
       "      <td>95880.25</td>\n",
       "      <td>486047.75</td>\n",
       "    </tr>\n",
       "    <tr>\n",
       "      <th>4</th>\n",
       "      <td>Mos</td>\n",
       "      <td>95879.25</td>\n",
       "      <td>486047.75</td>\n",
       "    </tr>\n",
       "    <tr>\n",
       "      <th>...</th>\n",
       "      <td>...</td>\n",
       "      <td>...</td>\n",
       "      <td>...</td>\n",
       "    </tr>\n",
       "    <tr>\n",
       "      <th>26146</th>\n",
       "      <td>Mos</td>\n",
       "      <td>93613.25</td>\n",
       "      <td>479993.75</td>\n",
       "    </tr>\n",
       "    <tr>\n",
       "      <th>26147</th>\n",
       "      <td>Mos</td>\n",
       "      <td>93613.25</td>\n",
       "      <td>479992.75</td>\n",
       "    </tr>\n",
       "    <tr>\n",
       "      <th>26148</th>\n",
       "      <td>Mos</td>\n",
       "      <td>93614.25</td>\n",
       "      <td>479992.75</td>\n",
       "    </tr>\n",
       "    <tr>\n",
       "      <th>26149</th>\n",
       "      <td>Mos</td>\n",
       "      <td>93614.25</td>\n",
       "      <td>479993.75</td>\n",
       "    </tr>\n",
       "    <tr>\n",
       "      <th>26150</th>\n",
       "      <td>Mos</td>\n",
       "      <td>93613.25</td>\n",
       "      <td>479993.75</td>\n",
       "    </tr>\n",
       "  </tbody>\n",
       "</table>\n",
       "<p>26151 rows × 3 columns</p>\n",
       "</div>"
      ],
      "text/plain": [
       "      label         x          y\n",
       "0       Mos  95879.25  486047.75\n",
       "1       Mos  95879.25  486046.75\n",
       "2       Mos  95880.25  486046.75\n",
       "3       Mos  95880.25  486047.75\n",
       "4       Mos  95879.25  486047.75\n",
       "...     ...       ...        ...\n",
       "26146   Mos  93613.25  479993.75\n",
       "26147   Mos  93613.25  479992.75\n",
       "26148   Mos  93614.25  479992.75\n",
       "26149   Mos  93614.25  479993.75\n",
       "26150   Mos  93613.25  479993.75\n",
       "\n",
       "[26151 rows x 3 columns]"
      ]
     },
     "execution_count": 40,
     "metadata": {},
     "output_type": "execute_result"
    }
   ],
   "source": [
    "pd.DataFrame(np_array.reshape(int(np_array.shape[0]/3),3),columns=['label','x','y'])"
   ]
  },
  {
   "cell_type": "markdown",
   "metadata": {},
   "source": [
    "## Sample coordinates from the labels shapes."
   ]
  },
  {
   "cell_type": "code",
   "execution_count": 62,
   "metadata": {},
   "outputs": [
    {
     "name": "stdout",
     "output_type": "stream",
     "text": [
      "------\n",
      "E:/data/waterleidingduinen/20190729_111526_SV1-04_50cm_RD_11bit_RGBI_Lisse_waterleidingduin_aaneensluitende_polygon_cropped__ndvi_ahn_Mos.tif\n",
      "Number of shapes:191306\n"
     ]
    },
    {
     "name": "stderr",
     "output_type": "stream",
     "text": [
      "100%|██████████████████████████████████████████████████████████████████████████████| 5000/5000 [01:44<00:00, 47.96it/s]\n"
     ]
    },
    {
     "name": "stdout",
     "output_type": "stream",
     "text": [
      "------\n",
      "E:/data/waterleidingduinen/20190729_111526_SV1-04_50cm_RD_11bit_RGBI_Lisse_waterleidingduin_aaneensluitende_polygon_cropped__ndvi_ahn_Open laag struweel.tif\n",
      "Number of shapes:364004\n"
     ]
    },
    {
     "name": "stderr",
     "output_type": "stream",
     "text": [
      "100%|██████████████████████████████████████████████████████████████████████████████| 5000/5000 [01:39<00:00, 50.38it/s]\n"
     ]
    },
    {
     "name": "stdout",
     "output_type": "stream",
     "text": [
      "------\n",
      "E:/data/waterleidingduinen/20190729_111526_SV1-04_50cm_RD_11bit_RGBI_Lisse_waterleidingduin_aaneensluitende_polygon_cropped__ndvi_ahn_Zand.tif\n",
      "Number of shapes:474423\n"
     ]
    },
    {
     "name": "stderr",
     "output_type": "stream",
     "text": [
      "100%|██████████████████████████████████████████████████████████████████████████████| 5000/5000 [01:53<00:00, 43.97it/s]\n"
     ]
    },
    {
     "name": "stdout",
     "output_type": "stream",
     "text": [
      "------\n",
      "E:/data/waterleidingduinen/20190729_111526_SV1-04_50cm_RD_11bit_RGBI_Lisse_waterleidingduin_aaneensluitende_polygon_cropped__ndvi_ahn_Open Duindoorn.tif\n",
      "Number of shapes:2536264\n"
     ]
    },
    {
     "name": "stderr",
     "output_type": "stream",
     "text": [
      "100%|██████████████████████████████████████████████████████████████████████████████| 5000/5000 [01:42<00:00, 48.89it/s]\n"
     ]
    },
    {
     "name": "stdout",
     "output_type": "stream",
     "text": [
      "------\n",
      "E:/data/waterleidingduinen/20190729_111526_SV1-04_50cm_RD_11bit_RGBI_Lisse_waterleidingduin_aaneensluitende_polygon_cropped__ndvi_ahn_Dicht Duindoorn.tif\n",
      "Number of shapes:1301958\n"
     ]
    },
    {
     "name": "stderr",
     "output_type": "stream",
     "text": [
      "100%|██████████████████████████████████████████████████████████████████████████████| 5000/5000 [01:37<00:00, 51.35it/s]\n"
     ]
    },
    {
     "name": "stdout",
     "output_type": "stream",
     "text": [
      "------\n",
      "E:/data/waterleidingduinen/20190729_111526_SV1-04_50cm_RD_11bit_RGBI_Lisse_waterleidingduin_aaneensluitende_polygon_cropped__ndvi_ahn_Lage kruiden-gras.tif\n",
      "Number of shapes:3422358\n"
     ]
    },
    {
     "name": "stderr",
     "output_type": "stream",
     "text": [
      "100%|██████████████████████████████████████████████████████████████████████████████| 5000/5000 [01:35<00:00, 52.17it/s]\n"
     ]
    },
    {
     "name": "stdout",
     "output_type": "stream",
     "text": [
      "------\n",
      "E:/data/waterleidingduinen/20190729_111526_SV1-04_50cm_RD_11bit_RGBI_Lisse_waterleidingduin_aaneensluitende_polygon_cropped__ndvi_ahn_Hoge kruiden-gras.tif\n",
      "Number of shapes:1592648\n"
     ]
    },
    {
     "name": "stderr",
     "output_type": "stream",
     "text": [
      "100%|██████████████████████████████████████████████████████████████████████████████| 5000/5000 [01:41<00:00, 49.24it/s]\n"
     ]
    },
    {
     "name": "stdout",
     "output_type": "stream",
     "text": [
      "------\n",
      "E:/data/waterleidingduinen/20190729_111526_SV1-04_50cm_RD_11bit_RGBI_Lisse_waterleidingduin_aaneensluitende_polygon_cropped__ndvi_ahn_Dicht laag struweel.tif\n",
      "Number of shapes:92645\n"
     ]
    },
    {
     "name": "stderr",
     "output_type": "stream",
     "text": [
      "100%|██████████████████████████████████████████████████████████████████████████████| 5000/5000 [01:39<00:00, 50.00it/s]\n"
     ]
    },
    {
     "name": "stdout",
     "output_type": "stream",
     "text": [
      "------\n",
      "E:/data/waterleidingduinen/20190729_111526_SV1-04_50cm_RD_11bit_RGBI_Lisse_waterleidingduin_aaneensluitende_polygon_cropped__ndvi_ahn_Open Hoog Struweel.tif\n",
      "Number of shapes:566933\n"
     ]
    },
    {
     "name": "stderr",
     "output_type": "stream",
     "text": [
      "100%|██████████████████████████████████████████████████████████████████████████████| 5000/5000 [01:41<00:00, 49.20it/s]\n"
     ]
    },
    {
     "name": "stdout",
     "output_type": "stream",
     "text": [
      "------\n",
      "E:/data/waterleidingduinen/20190729_111526_SV1-04_50cm_RD_11bit_RGBI_Lisse_waterleidingduin_aaneensluitende_polygon_cropped__ndvi_ahn_Dicht Hoog Struweel.tif\n",
      "Number of shapes:658373\n"
     ]
    },
    {
     "name": "stderr",
     "output_type": "stream",
     "text": [
      "100%|██████████████████████████████████████████████████████████████████████████████| 5000/5000 [01:35<00:00, 52.20it/s]\n"
     ]
    },
    {
     "name": "stdout",
     "output_type": "stream",
     "text": [
      "------\n",
      "E:/data/waterleidingduinen/20190729_111526_SV1-04_50cm_RD_11bit_RGBI_Lisse_waterleidingduin_aaneensluitende_polygon_cropped__ndvi_ahn_Naaldbos.tif\n",
      "Number of shapes:993999\n"
     ]
    },
    {
     "name": "stderr",
     "output_type": "stream",
     "text": [
      "100%|██████████████████████████████████████████████████████████████████████████████| 5000/5000 [01:36<00:00, 51.57it/s]\n"
     ]
    },
    {
     "name": "stdout",
     "output_type": "stream",
     "text": [
      "------\n",
      "E:/data/waterleidingduinen/20190729_111526_SV1-04_50cm_RD_11bit_RGBI_Lisse_waterleidingduin_aaneensluitende_polygon_cropped__ndvi_ahn_Loofbos.tif\n",
      "Number of shapes:4486761\n"
     ]
    },
    {
     "name": "stderr",
     "output_type": "stream",
     "text": [
      "100%|██████████████████████████████████████████████████████████████████████████████| 5000/5000 [01:38<00:00, 50.92it/s]\n"
     ]
    },
    {
     "name": "stdout",
     "output_type": "stream",
     "text": [
      "------\n",
      "E:/data/waterleidingduinen/20190729_111526_SV1-04_50cm_RD_11bit_RGBI_Lisse_waterleidingduin_aaneensluitende_polygon_cropped__ndvi_ahn_Adelaarsvaren.tif\n",
      "Number of shapes:96598\n"
     ]
    },
    {
     "name": "stderr",
     "output_type": "stream",
     "text": [
      "100%|██████████████████████████████████████████████████████████████████████████████| 5000/5000 [01:45<00:00, 47.60it/s]\n"
     ]
    },
    {
     "name": "stdout",
     "output_type": "stream",
     "text": [
      "------\n",
      "E:/data/waterleidingduinen/20190729_111526_SV1-04_50cm_RD_11bit_RGBI_Lisse_waterleidingduin_aaneensluitende_polygon_cropped__ndvi_ahn_Heide.tif\n",
      "Number of shapes:2586\n"
     ]
    },
    {
     "name": "stderr",
     "output_type": "stream",
     "text": [
      "100%|██████████████████████████████████████████████████████████████████████████████| 2585/2585 [00:33<00:00, 76.18it/s]\n"
     ]
    },
    {
     "name": "stdout",
     "output_type": "stream",
     "text": [
      "------\n",
      "E:/data/waterleidingduinen/20190729_111526_SV1-04_50cm_RD_11bit_RGBI_Lisse_waterleidingduin_aaneensluitende_polygon_cropped__ndvi_ahn_Water, Overig.tif\n",
      "Number of shapes:295143\n"
     ]
    },
    {
     "name": "stderr",
     "output_type": "stream",
     "text": [
      "100%|██████████████████████████████████████████████████████████████████████████████| 5000/5000 [01:21<00:00, 61.02it/s]\n"
     ]
    },
    {
     "name": "stdout",
     "output_type": "stream",
     "text": [
      "------\n",
      "E:/data/waterleidingduinen/20190729_111526_SV1-04_50cm_RD_11bit_RGBI_Lisse_waterleidingduin_aaneensluitende_polygon_cropped__ndvi_ahn_Riet.tif\n",
      "Number of shapes:509332\n"
     ]
    },
    {
     "name": "stderr",
     "output_type": "stream",
     "text": [
      "100%|██████████████████████████████████████████████████████████████████████████████| 5000/5000 [01:27<00:00, 57.11it/s]\n"
     ]
    }
   ],
   "source": [
    "annotations = pd.DataFrame([])\n",
    "\n",
    "for xid,row in gdf.iterrows():\n",
    "    annotation_tif = tif_file.replace(\".tif\",\"_\"+str(row['Label'])+\".tif\")\n",
    "    print(\"------\")\n",
    "    print(annotation_tif)\n",
    "    f = rasterio.open(annotation_tif) \n",
    "    data = f.read()\n",
    "    shapes = rasterio.features.shapes(data[1])\n",
    "        \n",
    "    data_shapes = [ shape for shape in shapes]\n",
    "    print(\"Number of shapes:\"+str(len(data_shapes)))\n",
    "    \n",
    "    \n",
    "    np_array = np.array([])\n",
    "    \n",
    "    number_of_sample = 5000\n",
    "    \n",
    "    if len(data_shapes) < number_of_sample:\n",
    "        number_of_sample = len(data_shapes)-1\n",
    "    \n",
    " \n",
    "    for x_shape in tqdm(random.sample(range(1, len(data_shapes)), number_of_sample)):\n",
    "\n",
    "        shape = data_shapes[x_shape]\n",
    "\n",
    "\n",
    "        for cors in shape[0]['coordinates'][0]:\n",
    "\n",
    "                if sum([band[int(cors[1])-1][int(cors[0])-1] for band in data]) != 0:\n",
    "                            rd_cors = f.xy(int(cors[1]), int(cors[0]))\n",
    "                            np_array =np.append(np_array, [[str(row['Label']),rd_cors[0],rd_cors[1]]])\n",
    "                            \n",
    "            \n",
    "    annotations = annotations.append(\\\n",
    "                                         pd.DataFrame(np_array.reshape(int(np_array.shape[0]/3),3),columns=['label','x','y']) \\\n",
    "                                        )"
   ]
  },
  {
   "cell_type": "code",
   "execution_count": 89,
   "metadata": {},
   "outputs": [],
   "source": [
    "annotations.to_csv(\"coordinates_rd_awd.csv\")"
   ]
  },
  {
   "cell_type": "code",
   "execution_count": 63,
   "metadata": {
    "collapsed": true
   },
   "outputs": [
    {
     "data": {
      "text/plain": [
       "Zand                   26579\n",
       "Adelaarsvaren          26086\n",
       "Open laag struweel     25750\n",
       "Hoge kruiden-gras      25684\n",
       "Mos                    25676\n",
       "Open Duindoorn         25455\n",
       "Open Hoog Struweel     25417\n",
       "Dicht laag struweel    25345\n",
       "Naaldbos               25068\n",
       "Loofbos                25059\n",
       "Dicht Duindoorn        24900\n",
       "Lage kruiden-gras      24777\n",
       "Dicht Hoog Struweel    24745\n",
       "Riet                   24041\n",
       "Water, Overig          23040\n",
       "Heide                  14759\n",
       "Name: label, dtype: int64"
      ]
     },
     "execution_count": 63,
     "metadata": {},
     "output_type": "execute_result"
    }
   ],
   "source": [
    "annotations['label'].value_counts()"
   ]
  },
  {
   "cell_type": "code",
   "execution_count": 158,
   "metadata": {},
   "outputs": [],
   "source": [
    "annotation_tif = \"E:/data/waterleidingduinen/20190729_111526_SV1-04_50cm_RD_11bit_RGBI_Lisse_waterleidingduin_aaneensluitende_polygon_cropped__ndvi_ahn_Riet.tif\""
   ]
  },
  {
   "cell_type": "markdown",
   "metadata": {},
   "source": [
    "# Use annotations "
   ]
  },
  {
   "cell_type": "code",
   "execution_count": 12,
   "metadata": {},
   "outputs": [],
   "source": [
    "annotations = pd.read_csv(\"coordinates_rd_awd.csv\").drop(['Unnamed: 0'],axis=1)"
   ]
  },
  {
   "cell_type": "code",
   "execution_count": 13,
   "metadata": {
    "collapsed": true
   },
   "outputs": [
    {
     "data": {
      "text/html": [
       "<div>\n",
       "<style scoped>\n",
       "    .dataframe tbody tr th:only-of-type {\n",
       "        vertical-align: middle;\n",
       "    }\n",
       "\n",
       "    .dataframe tbody tr th {\n",
       "        vertical-align: top;\n",
       "    }\n",
       "\n",
       "    .dataframe thead th {\n",
       "        text-align: right;\n",
       "    }\n",
       "</style>\n",
       "<table border=\"1\" class=\"dataframe\">\n",
       "  <thead>\n",
       "    <tr style=\"text-align: right;\">\n",
       "      <th></th>\n",
       "      <th>label</th>\n",
       "      <th>x</th>\n",
       "      <th>y</th>\n",
       "      <th>cor_x</th>\n",
       "      <th>cor_y</th>\n",
       "    </tr>\n",
       "  </thead>\n",
       "  <tbody>\n",
       "    <tr>\n",
       "      <th>0</th>\n",
       "      <td>Mos</td>\n",
       "      <td>93927.25</td>\n",
       "      <td>479552.75</td>\n",
       "      <td>14979</td>\n",
       "      <td>2643</td>\n",
       "    </tr>\n",
       "    <tr>\n",
       "      <th>1</th>\n",
       "      <td>Mos</td>\n",
       "      <td>93927.25</td>\n",
       "      <td>479551.75</td>\n",
       "      <td>14981</td>\n",
       "      <td>2643</td>\n",
       "    </tr>\n",
       "    <tr>\n",
       "      <th>2</th>\n",
       "      <td>Mos</td>\n",
       "      <td>93928.25</td>\n",
       "      <td>479551.75</td>\n",
       "      <td>14981</td>\n",
       "      <td>2645</td>\n",
       "    </tr>\n",
       "    <tr>\n",
       "      <th>3</th>\n",
       "      <td>Mos</td>\n",
       "      <td>93928.25</td>\n",
       "      <td>479552.75</td>\n",
       "      <td>14979</td>\n",
       "      <td>2645</td>\n",
       "    </tr>\n",
       "    <tr>\n",
       "      <th>4</th>\n",
       "      <td>Mos</td>\n",
       "      <td>93927.25</td>\n",
       "      <td>479552.75</td>\n",
       "      <td>14979</td>\n",
       "      <td>2643</td>\n",
       "    </tr>\n",
       "    <tr>\n",
       "      <th>...</th>\n",
       "      <td>...</td>\n",
       "      <td>...</td>\n",
       "      <td>...</td>\n",
       "      <td>...</td>\n",
       "      <td>...</td>\n",
       "    </tr>\n",
       "    <tr>\n",
       "      <th>392376</th>\n",
       "      <td>Riet</td>\n",
       "      <td>95940.25</td>\n",
       "      <td>482367.75</td>\n",
       "      <td>9349</td>\n",
       "      <td>6669</td>\n",
       "    </tr>\n",
       "    <tr>\n",
       "      <th>392377</th>\n",
       "      <td>Riet</td>\n",
       "      <td>95940.25</td>\n",
       "      <td>482366.75</td>\n",
       "      <td>9351</td>\n",
       "      <td>6669</td>\n",
       "    </tr>\n",
       "    <tr>\n",
       "      <th>392378</th>\n",
       "      <td>Riet</td>\n",
       "      <td>95941.25</td>\n",
       "      <td>482366.75</td>\n",
       "      <td>9351</td>\n",
       "      <td>6671</td>\n",
       "    </tr>\n",
       "    <tr>\n",
       "      <th>392379</th>\n",
       "      <td>Riet</td>\n",
       "      <td>95941.25</td>\n",
       "      <td>482367.75</td>\n",
       "      <td>9349</td>\n",
       "      <td>6671</td>\n",
       "    </tr>\n",
       "    <tr>\n",
       "      <th>392380</th>\n",
       "      <td>Riet</td>\n",
       "      <td>95940.25</td>\n",
       "      <td>482367.75</td>\n",
       "      <td>9349</td>\n",
       "      <td>6669</td>\n",
       "    </tr>\n",
       "  </tbody>\n",
       "</table>\n",
       "<p>392381 rows × 5 columns</p>\n",
       "</div>"
      ],
      "text/plain": [
       "       label         x          y  cor_x  cor_y\n",
       "0        Mos  93927.25  479552.75  14979   2643\n",
       "1        Mos  93927.25  479551.75  14981   2643\n",
       "2        Mos  93928.25  479551.75  14981   2645\n",
       "3        Mos  93928.25  479552.75  14979   2645\n",
       "4        Mos  93927.25  479552.75  14979   2643\n",
       "...      ...       ...        ...    ...    ...\n",
       "392376  Riet  95940.25  482367.75   9349   6669\n",
       "392377  Riet  95940.25  482366.75   9351   6669\n",
       "392378  Riet  95941.25  482366.75   9351   6671\n",
       "392379  Riet  95941.25  482367.75   9349   6671\n",
       "392380  Riet  95940.25  482367.75   9349   6669\n",
       "\n",
       "[392381 rows x 5 columns]"
      ]
     },
     "execution_count": 13,
     "metadata": {},
     "output_type": "execute_result"
    }
   ],
   "source": [
    "annotations"
   ]
  },
  {
   "cell_type": "code",
   "execution_count": 3,
   "metadata": {},
   "outputs": [
    {
     "name": "stderr",
     "output_type": "stream",
     "text": [
      "Using TensorFlow backend.\n"
     ]
    }
   ],
   "source": [
    "import nso_ds_classes.nso_tif_kernel as nso_tif_kernel\n",
    "import nso_ds_classes.nso_ds_models as nso_ds_models\n",
    "import glob\n",
    "import geopandas as gpd\n",
    "import os\n",
    "import pandas as pd\n",
    "import numpy as np\n",
    "from timeit import default_timer as timer\n",
    "from sklearn import preprocessing"
   ]
  },
  {
   "cell_type": "code",
   "execution_count": 56,
   "metadata": {},
   "outputs": [],
   "source": [
    "# Set a kernel generator.\n",
    "x_kernel_width = 32\n",
    "y_kernel_height = 32\n",
    "\n",
    "\n",
    "path_to_tif_file = \"E:/data/waterleidingduinen/20190729_111526_SV1-04_50cm_RD_11bit_RGBI_Lisse_waterleidingduin_aaneensluitende_polygon_cropped__ndvi_ahn.tif\"\n",
    "tif_kernel_generator = nso_tif_kernel.nso_tif_kernel_generator(path_to_tif_file, x_kernel_width , y_kernel_height)"
   ]
  },
  {
   "cell_type": "code",
   "execution_count": 5,
   "metadata": {
    "collapsed": true
   },
   "outputs": [
    {
     "data": {
      "text/plain": [
       "array([[[365, 363, 381, ..., 384, 392, 409],\n",
       "        [377, 366, 383, ..., 413, 426, 437],\n",
       "        [402, 375, 373, ..., 410, 412, 423],\n",
       "        ...,\n",
       "        [427, 405, 399, ..., 437, 459, 446],\n",
       "        [455, 430, 408, ..., 420, 438, 441],\n",
       "        [470, 461, 437, ..., 403, 413, 421]],\n",
       "\n",
       "       [[311, 306, 328, ..., 350, 362, 384],\n",
       "        [326, 311, 332, ..., 385, 403, 418],\n",
       "        [358, 323, 320, ..., 379, 384, 399],\n",
       "        ...,\n",
       "        [398, 372, 368, ..., 411, 440, 424],\n",
       "        [431, 401, 377, ..., 390, 413, 417],\n",
       "        [447, 437, 411, ..., 368, 381, 391]],\n",
       "\n",
       "       [[215, 209, 230, ..., 242, 255, 278],\n",
       "        [230, 212, 233, ..., 283, 301, 318],\n",
       "        [263, 224, 219, ..., 279, 285, 302],\n",
       "        ...,\n",
       "        [312, 284, 278, ..., 322, 353, 336],\n",
       "        [347, 316, 289, ..., 301, 325, 330],\n",
       "        [365, 355, 327, ..., 279, 294, 304]],\n",
       "\n",
       "       [[583, 571, 629, ..., 656, 688, 742],\n",
       "        [629, 589, 648, ..., 716, 758, 792],\n",
       "        [722, 632, 629, ..., 663, 670, 699],\n",
       "        ...,\n",
       "        [612, 527, 495, ..., 652, 734, 697],\n",
       "        [663, 575, 503, ..., 597, 662, 677],\n",
       "        [675, 641, 570, ..., 539, 580, 608]]])"
      ]
     },
     "execution_count": 5,
     "metadata": {},
     "output_type": "execute_result"
    }
   ],
   "source": [
    "tif_kernel_generator.get_kernel_for_x_y(tif_kernel_generator.get_x_y(float(annotations[0:1][\"x\"][0]),float(annotations[0:1][\"y\"][0]))[0]\\\n",
    "                                        ,tif_kernel_generator.get_x_y(float(annotations[0:1][\"x\"][0]),float(annotations[0:1][\"y\"][0]))[1])"
   ]
  },
  {
   "cell_type": "code",
   "execution_count": 58,
   "metadata": {},
   "outputs": [],
   "source": [
    "def retrieve_kernel(cor_x, cor_y):\n",
    "    try:\n",
    "        return tif_kernel_generator.get_kernel_for_x_y(cor_x, cor_y)\n",
    "    except:\n",
    "        return 0"
   ]
  },
  {
   "cell_type": "code",
   "execution_count": 60,
   "metadata": {},
   "outputs": [],
   "source": [
    "annotations['kernel'] = annotations.apply(lambda x: retrieve_kernel(x['cor_x'],x['cor_y']), axis=1)"
   ]
  },
  {
   "cell_type": "code",
   "execution_count": 10,
   "metadata": {
    "collapsed": true
   },
   "outputs": [
    {
     "data": {
      "text/plain": [
       "Zand                   26579\n",
       "Adelaarsvaren          26086\n",
       "Open laag struweel     25750\n",
       "Hoge kruiden-gras      25684\n",
       "Mos                    25676\n",
       "Open Duindoorn         25455\n",
       "Open Hoog Struweel     25417\n",
       "Dicht laag struweel    25345\n",
       "Naaldbos               25068\n",
       "Loofbos                25059\n",
       "Dicht Duindoorn        24900\n",
       "Lage kruiden-gras      24777\n",
       "Dicht Hoog Struweel    24745\n",
       "Riet                   24041\n",
       "Water, Overig          23040\n",
       "Heide                  14759\n",
       "Name: label, dtype: int64"
      ]
     },
     "execution_count": 10,
     "metadata": {},
     "output_type": "execute_result"
    }
   ],
   "source": [
    "annotations['label'].value_counts()"
   ]
  },
  {
   "cell_type": "code",
   "execution_count": 26,
   "metadata": {
    "collapsed": true
   },
   "outputs": [
    {
     "data": {
      "image/png": "[encoded data removed]",
      "text/plain": [
       "<Figure size 432x288 with 1 Axes>"
      ]
     },
     "metadata": {
      "needs_background": "light"
     },
     "output_type": "display_data"
    },
    {
     "data": {
      "image/png": "[encoded data removed]",
      "text/plain": [
       "<Figure size 432x288 with 1 Axes>"
      ]
     },
     "metadata": {
      "needs_background": "light"
     },
     "output_type": "display_data"
    },
    {
     "data": {
      "image/png": "[encoded data removed]",
      "text/plain": [
       "<Figure size 432x288 with 1 Axes>"
      ]
     },
     "metadata": {
      "needs_background": "light"
     },
     "output_type": "display_data"
    },
    {
     "data": {
      "image/png": "[encoded data removed]",
      "text/plain": [
       "<Figure size 432x288 with 1 Axes>"
      ]
     },
     "metadata": {
      "needs_background": "light"
     },
     "output_type": "display_data"
    },
    {
     "data": {
      "image/png": "[encoded data removed]",
      "text/plain": [
       "<Figure size 432x288 with 1 Axes>"
      ]
     },
     "metadata": {
      "needs_background": "light"
     },
     "output_type": "display_data"
    },
    {
     "data": {
      "image/png": "[encoded data removed]",
      "text/plain": [
       "<Figure size 432x288 with 1 Axes>"
      ]
     },
     "metadata": {
      "needs_background": "light"
     },
     "output_type": "display_data"
    },
    {
     "data": {
      "image/png": "[encoded data removed]",
      "text/plain": [
       "<Figure size 432x288 with 1 Axes>"
      ]
     },
     "metadata": {
      "needs_background": "light"
     },
     "output_type": "display_data"
    },
    {
     "data": {
      "image/png": "[encoded data removed]",
      "text/plain": [
       "<Figure size 432x288 with 1 Axes>"
      ]
     },
     "metadata": {
      "needs_background": "light"
     },
     "output_type": "display_data"
    },
    {
     "data": {
      "image/png": "[encoded data removed]",
      "text/plain": [
       "<Figure size 432x288 with 1 Axes>"
      ]
     },
     "metadata": {
      "needs_background": "light"
     },
     "output_type": "display_data"
    },
    {
     "data": {
      "image/png": "[encoded data removed]",
      "text/plain": [
       "<Figure size 432x288 with 1 Axes>"
      ]
     },
     "metadata": {
      "needs_background": "light"
     },
     "output_type": "display_data"
    },
    {
     "data": {
      "image/png": "[encoded data removed]",
      "text/plain": [
       "<Figure size 432x288 with 1 Axes>"
      ]
     },
     "metadata": {
      "needs_background": "light"
     },
     "output_type": "display_data"
    },
    {
     "data": {
      "image/png": "[encoded data removed]",
      "text/plain": [
       "<Figure size 432x288 with 1 Axes>"
      ]
     },
     "metadata": {
      "needs_background": "light"
     },
     "output_type": "display_data"
    },
    {
     "data": {
      "image/png": "[encoded data removed]",
      "text/plain": [
       "<Figure size 432x288 with 1 Axes>"
      ]
     },
     "metadata": {
      "needs_background": "light"
     },
     "output_type": "display_data"
    },
    {
     "data": {
      "image/png": "[encoded data removed]",
      "text/plain": [
       "<Figure size 432x288 with 1 Axes>"
      ]
     },
     "metadata": {
      "needs_background": "light"
     },
     "output_type": "display_data"
    },
    {
     "data": {
      "image/png": "[encoded data removed]",
      "text/plain": [
       "<Figure size 432x288 with 1 Axes>"
      ]
     },
     "metadata": {
      "needs_background": "light"
     },
     "output_type": "display_data"
    },
    {
     "data": {
      "image/png": "[encoded data removed]",
      "text/plain": [
       "<Figure size 432x288 with 1 Axes>"
      ]
     },
     "metadata": {
      "needs_background": "light"
     },
     "output_type": "display_data"
    },
    {
     "data": {
      "image/png": "[encoded data removed]",
      "text/plain": [
       "<Figure size 432x288 with 1 Axes>"
      ]
     },
     "metadata": {
      "needs_background": "light"
     },
     "output_type": "display_data"
    },
    {
     "data": {
      "image/png": "[encoded data removed]",
      "text/plain": [
       "<Figure size 432x288 with 1 Axes>"
      ]
     },
     "metadata": {
      "needs_background": "light"
     },
     "output_type": "display_data"
    },
    {
     "data": {
      "image/png": "[encoded data removed]",
      "text/plain": [
       "<Figure size 432x288 with 1 Axes>"
      ]
     },
     "metadata": {
      "needs_background": "light"
     },
     "output_type": "display_data"
    },
    {
     "data": {
      "image/png": "[encoded data removed]",
      "text/plain": [
       "<Figure size 432x288 with 1 Axes>"
      ]
     },
     "metadata": {
      "needs_background": "light"
     },
     "output_type": "display_data"
    },
    {
     "data": {
      "image/png": "[encoded data removed]",
      "text/plain": [
       "<Figure size 432x288 with 1 Axes>"
      ]
     },
     "metadata": {
      "needs_background": "light"
     },
     "output_type": "display_data"
    },
    {
     "data": {
      "image/png": "[encoded data removed]",
      "text/plain": [
       "<Figure size 432x288 with 1 Axes>"
      ]
     },
     "metadata": {
      "needs_background": "light"
     },
     "output_type": "display_data"
    },
    {
     "data": {
      "image/png": "[encoded data removed]",
      "text/plain": [
       "<Figure size 432x288 with 1 Axes>"
      ]
     },
     "metadata": {
      "needs_background": "light"
     },
     "output_type": "display_data"
    },
    {
     "data": {
      "image/png": "[encoded data removed]",
      "text/plain": [
       "<Figure size 432x288 with 1 Axes>"
      ]
     },
     "metadata": {
      "needs_background": "light"
     },
     "output_type": "display_data"
    },
    {
     "data": {
      "image/png": "[encoded data removed]",
      "text/plain": [
       "<Figure size 432x288 with 1 Axes>"
      ]
     },
     "metadata": {
      "needs_background": "light"
     },
     "output_type": "display_data"
    },
    {
     "data": {
      "image/png": "[encoded data removed]",
      "text/plain": [
       "<Figure size 432x288 with 1 Axes>"
      ]
     },
     "metadata": {
      "needs_background": "light"
     },
     "output_type": "display_data"
    },
    {
     "data": {
      "image/png": "[encoded data removed]",
      "text/plain": [
       "<Figure size 432x288 with 1 Axes>"
      ]
     },
     "metadata": {
      "needs_background": "light"
     },
     "output_type": "display_data"
    },
    {
     "data": {
      "image/png": "[encoded data removed]",
      "text/plain": [
       "<Figure size 432x288 with 1 Axes>"
      ]
     },
     "metadata": {
      "needs_background": "light"
     },
     "output_type": "display_data"
    },
    {
     "ename": "KeyboardInterrupt",
     "evalue": "",
     "output_type": "error",
     "traceback": [
      "\u001b[1;31m---------------------------------------------------------------------------\u001b[0m",
      "\u001b[1;31mKeyboardInterrupt\u001b[0m                         Traceback (most recent call last)",
      "\u001b[1;32m<ipython-input-26-adcee97f32bd>\u001b[0m in \u001b[0;36m<module>\u001b[1;34m\u001b[0m\n\u001b[1;32m----> 1\u001b[1;33m \u001b[0mannotations\u001b[0m\u001b[1;33m[\u001b[0m\u001b[0mannotations\u001b[0m\u001b[1;33m[\u001b[0m\u001b[1;34m'label'\u001b[0m\u001b[1;33m]\u001b[0m \u001b[1;33m==\u001b[0m \u001b[1;34m\"Water, Overig\"\u001b[0m\u001b[1;33m]\u001b[0m\u001b[1;33m.\u001b[0m\u001b[0mapply\u001b[0m\u001b[1;33m(\u001b[0m\u001b[1;32mlambda\u001b[0m \u001b[0mx\u001b[0m\u001b[1;33m:\u001b[0m\u001b[0mnso_tif_kernel\u001b[0m\u001b[1;33m.\u001b[0m\u001b[0mplot_kernel\u001b[0m\u001b[1;33m(\u001b[0m\u001b[0mx\u001b[0m\u001b[1;33m[\u001b[0m\u001b[1;34m'kernel'\u001b[0m\u001b[1;33m]\u001b[0m\u001b[1;33m)\u001b[0m\u001b[1;33m,\u001b[0m \u001b[0maxis\u001b[0m\u001b[1;33m=\u001b[0m\u001b[1;36m1\u001b[0m\u001b[1;33m)\u001b[0m\u001b[1;33m\u001b[0m\u001b[1;33m\u001b[0m\u001b[0m\n\u001b[0m",
      "\u001b[1;32mC:\\ProgramData\\Anaconda3\\lib\\site-packages\\pandas\\core\\frame.py\u001b[0m in \u001b[0;36mapply\u001b[1;34m(self, func, axis, raw, result_type, args, **kwargs)\u001b[0m\n\u001b[0;32m   8738\u001b[0m             \u001b[0mkwargs\u001b[0m\u001b[1;33m=\u001b[0m\u001b[0mkwargs\u001b[0m\u001b[1;33m,\u001b[0m\u001b[1;33m\u001b[0m\u001b[1;33m\u001b[0m\u001b[0m\n\u001b[0;32m   8739\u001b[0m         )\n\u001b[1;32m-> 8740\u001b[1;33m         \u001b[1;32mreturn\u001b[0m \u001b[0mop\u001b[0m\u001b[1;33m.\u001b[0m\u001b[0mapply\u001b[0m\u001b[1;33m(\u001b[0m\u001b[1;33m)\u001b[0m\u001b[1;33m\u001b[0m\u001b[1;33m\u001b[0m\u001b[0m\n\u001b[0m\u001b[0;32m   8741\u001b[0m \u001b[1;33m\u001b[0m\u001b[0m\n\u001b[0;32m   8742\u001b[0m     def applymap(\n",
      "\u001b[1;32mC:\\ProgramData\\Anaconda3\\lib\\site-packages\\pandas\\core\\apply.py\u001b[0m in \u001b[0;36mapply\u001b[1;34m(self)\u001b[0m\n\u001b[0;32m    686\u001b[0m             \u001b[1;32mreturn\u001b[0m \u001b[0mself\u001b[0m\u001b[1;33m.\u001b[0m\u001b[0mapply_raw\u001b[0m\u001b[1;33m(\u001b[0m\u001b[1;33m)\u001b[0m\u001b[1;33m\u001b[0m\u001b[1;33m\u001b[0m\u001b[0m\n\u001b[0;32m    687\u001b[0m \u001b[1;33m\u001b[0m\u001b[0m\n\u001b[1;32m--> 688\u001b[1;33m         \u001b[1;32mreturn\u001b[0m \u001b[0mself\u001b[0m\u001b[1;33m.\u001b[0m\u001b[0mapply_standard\u001b[0m\u001b[1;33m(\u001b[0m\u001b[1;33m)\u001b[0m\u001b[1;33m\u001b[0m\u001b[1;33m\u001b[0m\u001b[0m\n\u001b[0m\u001b[0;32m    689\u001b[0m \u001b[1;33m\u001b[0m\u001b[0m\n\u001b[0;32m    690\u001b[0m     \u001b[1;32mdef\u001b[0m \u001b[0magg\u001b[0m\u001b[1;33m(\u001b[0m\u001b[0mself\u001b[0m\u001b[1;33m)\u001b[0m\u001b[1;33m:\u001b[0m\u001b[1;33m\u001b[0m\u001b[1;33m\u001b[0m\u001b[0m\n",
      "\u001b[1;32mC:\\ProgramData\\Anaconda3\\lib\\site-packages\\pandas\\core\\apply.py\u001b[0m in \u001b[0;36mapply_standard\u001b[1;34m(self)\u001b[0m\n\u001b[0;32m    810\u001b[0m \u001b[1;33m\u001b[0m\u001b[0m\n\u001b[0;32m    811\u001b[0m     \u001b[1;32mdef\u001b[0m \u001b[0mapply_standard\u001b[0m\u001b[1;33m(\u001b[0m\u001b[0mself\u001b[0m\u001b[1;33m)\u001b[0m\u001b[1;33m:\u001b[0m\u001b[1;33m\u001b[0m\u001b[1;33m\u001b[0m\u001b[0m\n\u001b[1;32m--> 812\u001b[1;33m         \u001b[0mresults\u001b[0m\u001b[1;33m,\u001b[0m \u001b[0mres_index\u001b[0m \u001b[1;33m=\u001b[0m \u001b[0mself\u001b[0m\u001b[1;33m.\u001b[0m\u001b[0mapply_series_generator\u001b[0m\u001b[1;33m(\u001b[0m\u001b[1;33m)\u001b[0m\u001b[1;33m\u001b[0m\u001b[1;33m\u001b[0m\u001b[0m\n\u001b[0m\u001b[0;32m    813\u001b[0m \u001b[1;33m\u001b[0m\u001b[0m\n\u001b[0;32m    814\u001b[0m         \u001b[1;31m# wrap results\u001b[0m\u001b[1;33m\u001b[0m\u001b[1;33m\u001b[0m\u001b[1;33m\u001b[0m\u001b[0m\n",
      "\u001b[1;32mC:\\ProgramData\\Anaconda3\\lib\\site-packages\\pandas\\core\\apply.py\u001b[0m in \u001b[0;36mapply_series_generator\u001b[1;34m(self)\u001b[0m\n\u001b[0;32m    826\u001b[0m             \u001b[1;32mfor\u001b[0m \u001b[0mi\u001b[0m\u001b[1;33m,\u001b[0m \u001b[0mv\u001b[0m \u001b[1;32min\u001b[0m \u001b[0menumerate\u001b[0m\u001b[1;33m(\u001b[0m\u001b[0mseries_gen\u001b[0m\u001b[1;33m)\u001b[0m\u001b[1;33m:\u001b[0m\u001b[1;33m\u001b[0m\u001b[1;33m\u001b[0m\u001b[0m\n\u001b[0;32m    827\u001b[0m                 \u001b[1;31m# ignore SettingWithCopy here in case the user mutates\u001b[0m\u001b[1;33m\u001b[0m\u001b[1;33m\u001b[0m\u001b[1;33m\u001b[0m\u001b[0m\n\u001b[1;32m--> 828\u001b[1;33m                 \u001b[0mresults\u001b[0m\u001b[1;33m[\u001b[0m\u001b[0mi\u001b[0m\u001b[1;33m]\u001b[0m \u001b[1;33m=\u001b[0m \u001b[0mself\u001b[0m\u001b[1;33m.\u001b[0m\u001b[0mf\u001b[0m\u001b[1;33m(\u001b[0m\u001b[0mv\u001b[0m\u001b[1;33m)\u001b[0m\u001b[1;33m\u001b[0m\u001b[1;33m\u001b[0m\u001b[0m\n\u001b[0m\u001b[0;32m    829\u001b[0m                 \u001b[1;32mif\u001b[0m \u001b[0misinstance\u001b[0m\u001b[1;33m(\u001b[0m\u001b[0mresults\u001b[0m\u001b[1;33m[\u001b[0m\u001b[0mi\u001b[0m\u001b[1;33m]\u001b[0m\u001b[1;33m,\u001b[0m \u001b[0mABCSeries\u001b[0m\u001b[1;33m)\u001b[0m\u001b[1;33m:\u001b[0m\u001b[1;33m\u001b[0m\u001b[1;33m\u001b[0m\u001b[0m\n\u001b[0;32m    830\u001b[0m                     \u001b[1;31m# If we have a view on v, we need to make a copy because\u001b[0m\u001b[1;33m\u001b[0m\u001b[1;33m\u001b[0m\u001b[1;33m\u001b[0m\u001b[0m\n",
      "\u001b[1;32m<ipython-input-26-adcee97f32bd>\u001b[0m in \u001b[0;36m<lambda>\u001b[1;34m(x)\u001b[0m\n\u001b[1;32m----> 1\u001b[1;33m \u001b[0mannotations\u001b[0m\u001b[1;33m[\u001b[0m\u001b[0mannotations\u001b[0m\u001b[1;33m[\u001b[0m\u001b[1;34m'label'\u001b[0m\u001b[1;33m]\u001b[0m \u001b[1;33m==\u001b[0m \u001b[1;34m\"Water, Overig\"\u001b[0m\u001b[1;33m]\u001b[0m\u001b[1;33m.\u001b[0m\u001b[0mapply\u001b[0m\u001b[1;33m(\u001b[0m\u001b[1;32mlambda\u001b[0m \u001b[0mx\u001b[0m\u001b[1;33m:\u001b[0m\u001b[0mnso_tif_kernel\u001b[0m\u001b[1;33m.\u001b[0m\u001b[0mplot_kernel\u001b[0m\u001b[1;33m(\u001b[0m\u001b[0mx\u001b[0m\u001b[1;33m[\u001b[0m\u001b[1;34m'kernel'\u001b[0m\u001b[1;33m]\u001b[0m\u001b[1;33m)\u001b[0m\u001b[1;33m,\u001b[0m \u001b[0maxis\u001b[0m\u001b[1;33m=\u001b[0m\u001b[1;36m1\u001b[0m\u001b[1;33m)\u001b[0m\u001b[1;33m\u001b[0m\u001b[1;33m\u001b[0m\u001b[0m\n\u001b[0m",
      "\u001b[1;32mC:\\repos\\satellite-images-nso-datascience\\nso_ds_classes\\nso_tif_kernel.py\u001b[0m in \u001b[0;36mplot_kernel\u001b[1;34m(kernel, y)\u001b[0m\n\u001b[0;32m    495\u001b[0m             \u001b[0mrasterio\u001b[0m\u001b[1;33m.\u001b[0m\u001b[0mplot\u001b[0m\u001b[1;33m.\u001b[0m\u001b[0mshow\u001b[0m\u001b[1;33m(\u001b[0m\u001b[0mnp\u001b[0m\u001b[1;33m.\u001b[0m\u001b[0mclip\u001b[0m\u001b[1;33m(\u001b[0m\u001b[0mself\u001b[0m\u001b[1;33m.\u001b[0m\u001b[0mget_kernel_for_x_y\u001b[0m\u001b[1;33m(\u001b[0m\u001b[0mkernel\u001b[0m\u001b[1;33m,\u001b[0m\u001b[0my\u001b[0m\u001b[1;33m)\u001b[0m\u001b[1;33m[\u001b[0m\u001b[1;36m2\u001b[0m\u001b[1;33m:\u001b[0m\u001b[1;33m:\u001b[0m\u001b[1;33m-\u001b[0m\u001b[1;36m1\u001b[0m\u001b[1;33m]\u001b[0m\u001b[1;33m,\u001b[0m\u001b[1;36m0\u001b[0m\u001b[1;33m,\u001b[0m\u001b[1;36m2200\u001b[0m\u001b[1;33m)\u001b[0m\u001b[1;33m/\u001b[0m\u001b[1;36m2200\u001b[0m\u001b[1;33m)\u001b[0m\u001b[1;33m\u001b[0m\u001b[1;33m\u001b[0m\u001b[0m\n\u001b[0;32m    496\u001b[0m         \u001b[1;32melse\u001b[0m\u001b[1;33m:\u001b[0m\u001b[1;33m\u001b[0m\u001b[1;33m\u001b[0m\u001b[0m\n\u001b[1;32m--> 497\u001b[1;33m             \u001b[0mrasterio\u001b[0m\u001b[1;33m.\u001b[0m\u001b[0mplot\u001b[0m\u001b[1;33m.\u001b[0m\u001b[0mshow\u001b[0m\u001b[1;33m(\u001b[0m\u001b[0mnp\u001b[0m\u001b[1;33m.\u001b[0m\u001b[0mclip\u001b[0m\u001b[1;33m(\u001b[0m\u001b[0mkernel\u001b[0m\u001b[1;33m[\u001b[0m\u001b[1;36m2\u001b[0m\u001b[1;33m:\u001b[0m\u001b[1;33m:\u001b[0m\u001b[1;33m-\u001b[0m\u001b[1;36m1\u001b[0m\u001b[1;33m]\u001b[0m\u001b[1;33m,\u001b[0m\u001b[1;36m0\u001b[0m\u001b[1;33m,\u001b[0m\u001b[1;36m2200\u001b[0m\u001b[1;33m)\u001b[0m\u001b[1;33m/\u001b[0m\u001b[1;36m2200\u001b[0m\u001b[1;33m)\u001b[0m\u001b[1;33m\u001b[0m\u001b[1;33m\u001b[0m\u001b[0m\n\u001b[0m\u001b[0;32m    498\u001b[0m \u001b[1;33m\u001b[0m\u001b[0m\n\u001b[0;32m    499\u001b[0m \u001b[1;32mdef\u001b[0m \u001b[0mfunc_cor_square\u001b[0m\u001b[1;33m(\u001b[0m\u001b[0minput_x_y\u001b[0m\u001b[1;33m)\u001b[0m\u001b[1;33m:\u001b[0m\u001b[1;33m\u001b[0m\u001b[1;33m\u001b[0m\u001b[0m\n",
      "\u001b[1;32mC:\\ProgramData\\Anaconda3\\lib\\site-packages\\rasterio\\plot.py\u001b[0m in \u001b[0;36mshow\u001b[1;34m(source, with_bounds, contour, contour_label_kws, ax, title, transform, adjust, **kwargs)\u001b[0m\n\u001b[0;32m    150\u001b[0m \u001b[1;33m\u001b[0m\u001b[0m\n\u001b[0;32m    151\u001b[0m     \u001b[1;32mif\u001b[0m \u001b[0mshow\u001b[0m\u001b[1;33m:\u001b[0m\u001b[1;33m\u001b[0m\u001b[1;33m\u001b[0m\u001b[0m\n\u001b[1;32m--> 152\u001b[1;33m         \u001b[0mplt\u001b[0m\u001b[1;33m.\u001b[0m\u001b[0mshow\u001b[0m\u001b[1;33m(\u001b[0m\u001b[1;33m)\u001b[0m\u001b[1;33m\u001b[0m\u001b[1;33m\u001b[0m\u001b[0m\n\u001b[0m\u001b[0;32m    153\u001b[0m \u001b[1;33m\u001b[0m\u001b[0m\n\u001b[0;32m    154\u001b[0m     \u001b[1;32mreturn\u001b[0m \u001b[0max\u001b[0m\u001b[1;33m\u001b[0m\u001b[1;33m\u001b[0m\u001b[0m\n",
      "\u001b[1;32mC:\\ProgramData\\Anaconda3\\lib\\site-packages\\matplotlib\\pyplot.py\u001b[0m in \u001b[0;36mshow\u001b[1;34m(*args, **kw)\u001b[0m\n\u001b[0;32m    252\u001b[0m     \"\"\"\n\u001b[0;32m    253\u001b[0m     \u001b[1;32mglobal\u001b[0m \u001b[0m_show\u001b[0m\u001b[1;33m\u001b[0m\u001b[1;33m\u001b[0m\u001b[0m\n\u001b[1;32m--> 254\u001b[1;33m     \u001b[1;32mreturn\u001b[0m \u001b[0m_show\u001b[0m\u001b[1;33m(\u001b[0m\u001b[1;33m*\u001b[0m\u001b[0margs\u001b[0m\u001b[1;33m,\u001b[0m \u001b[1;33m**\u001b[0m\u001b[0mkw\u001b[0m\u001b[1;33m)\u001b[0m\u001b[1;33m\u001b[0m\u001b[1;33m\u001b[0m\u001b[0m\n\u001b[0m\u001b[0;32m    255\u001b[0m \u001b[1;33m\u001b[0m\u001b[0m\n\u001b[0;32m    256\u001b[0m \u001b[1;33m\u001b[0m\u001b[0m\n",
      "\u001b[1;32mC:\\ProgramData\\Anaconda3\\lib\\site-packages\\ipykernel\\pylab\\backend_inline.py\u001b[0m in \u001b[0;36mshow\u001b[1;34m(close, block)\u001b[0m\n\u001b[0;32m     37\u001b[0m             display(\n\u001b[0;32m     38\u001b[0m                 \u001b[0mfigure_manager\u001b[0m\u001b[1;33m.\u001b[0m\u001b[0mcanvas\u001b[0m\u001b[1;33m.\u001b[0m\u001b[0mfigure\u001b[0m\u001b[1;33m,\u001b[0m\u001b[1;33m\u001b[0m\u001b[1;33m\u001b[0m\u001b[0m\n\u001b[1;32m---> 39\u001b[1;33m                 \u001b[0mmetadata\u001b[0m\u001b[1;33m=\u001b[0m\u001b[0m_fetch_figure_metadata\u001b[0m\u001b[1;33m(\u001b[0m\u001b[0mfigure_manager\u001b[0m\u001b[1;33m.\u001b[0m\u001b[0mcanvas\u001b[0m\u001b[1;33m.\u001b[0m\u001b[0mfigure\u001b[0m\u001b[1;33m)\u001b[0m\u001b[1;33m\u001b[0m\u001b[1;33m\u001b[0m\u001b[0m\n\u001b[0m\u001b[0;32m     40\u001b[0m             )\n\u001b[0;32m     41\u001b[0m     \u001b[1;32mfinally\u001b[0m\u001b[1;33m:\u001b[0m\u001b[1;33m\u001b[0m\u001b[1;33m\u001b[0m\u001b[0m\n",
      "\u001b[1;32mC:\\ProgramData\\Anaconda3\\lib\\site-packages\\IPython\\core\\display.py\u001b[0m in \u001b[0;36mdisplay\u001b[1;34m(include, exclude, metadata, transient, display_id, *objs, **kwargs)\u001b[0m\n\u001b[0;32m    302\u001b[0m             \u001b[0mpublish_display_data\u001b[0m\u001b[1;33m(\u001b[0m\u001b[0mdata\u001b[0m\u001b[1;33m=\u001b[0m\u001b[0mobj\u001b[0m\u001b[1;33m,\u001b[0m \u001b[0mmetadata\u001b[0m\u001b[1;33m=\u001b[0m\u001b[0mmetadata\u001b[0m\u001b[1;33m,\u001b[0m \u001b[1;33m**\u001b[0m\u001b[0mkwargs\u001b[0m\u001b[1;33m)\u001b[0m\u001b[1;33m\u001b[0m\u001b[1;33m\u001b[0m\u001b[0m\n\u001b[0;32m    303\u001b[0m         \u001b[1;32melse\u001b[0m\u001b[1;33m:\u001b[0m\u001b[1;33m\u001b[0m\u001b[1;33m\u001b[0m\u001b[0m\n\u001b[1;32m--> 304\u001b[1;33m             \u001b[0mformat_dict\u001b[0m\u001b[1;33m,\u001b[0m \u001b[0mmd_dict\u001b[0m \u001b[1;33m=\u001b[0m \u001b[0mformat\u001b[0m\u001b[1;33m(\u001b[0m\u001b[0mobj\u001b[0m\u001b[1;33m,\u001b[0m \u001b[0minclude\u001b[0m\u001b[1;33m=\u001b[0m\u001b[0minclude\u001b[0m\u001b[1;33m,\u001b[0m \u001b[0mexclude\u001b[0m\u001b[1;33m=\u001b[0m\u001b[0mexclude\u001b[0m\u001b[1;33m)\u001b[0m\u001b[1;33m\u001b[0m\u001b[1;33m\u001b[0m\u001b[0m\n\u001b[0m\u001b[0;32m    305\u001b[0m             \u001b[1;32mif\u001b[0m \u001b[1;32mnot\u001b[0m \u001b[0mformat_dict\u001b[0m\u001b[1;33m:\u001b[0m\u001b[1;33m\u001b[0m\u001b[1;33m\u001b[0m\u001b[0m\n\u001b[0;32m    306\u001b[0m                 \u001b[1;31m# nothing to display (e.g. _ipython_display_ took over)\u001b[0m\u001b[1;33m\u001b[0m\u001b[1;33m\u001b[0m\u001b[1;33m\u001b[0m\u001b[0m\n",
      "\u001b[1;32mC:\\ProgramData\\Anaconda3\\lib\\site-packages\\IPython\\core\\formatters.py\u001b[0m in \u001b[0;36mformat\u001b[1;34m(self, obj, include, exclude)\u001b[0m\n\u001b[0;32m    178\u001b[0m             \u001b[0mmd\u001b[0m \u001b[1;33m=\u001b[0m \u001b[1;32mNone\u001b[0m\u001b[1;33m\u001b[0m\u001b[1;33m\u001b[0m\u001b[0m\n\u001b[0;32m    179\u001b[0m             \u001b[1;32mtry\u001b[0m\u001b[1;33m:\u001b[0m\u001b[1;33m\u001b[0m\u001b[1;33m\u001b[0m\u001b[0m\n\u001b[1;32m--> 180\u001b[1;33m                 \u001b[0mdata\u001b[0m \u001b[1;33m=\u001b[0m \u001b[0mformatter\u001b[0m\u001b[1;33m(\u001b[0m\u001b[0mobj\u001b[0m\u001b[1;33m)\u001b[0m\u001b[1;33m\u001b[0m\u001b[1;33m\u001b[0m\u001b[0m\n\u001b[0m\u001b[0;32m    181\u001b[0m             \u001b[1;32mexcept\u001b[0m\u001b[1;33m:\u001b[0m\u001b[1;33m\u001b[0m\u001b[1;33m\u001b[0m\u001b[0m\n\u001b[0;32m    182\u001b[0m                 \u001b[1;31m# FIXME: log the exception\u001b[0m\u001b[1;33m\u001b[0m\u001b[1;33m\u001b[0m\u001b[1;33m\u001b[0m\u001b[0m\n",
      "\u001b[1;32m<C:\\ProgramData\\Anaconda3\\lib\\site-packages\\decorator.py:decorator-gen-9>\u001b[0m in \u001b[0;36m__call__\u001b[1;34m(self, obj)\u001b[0m\n",
      "\u001b[1;32mC:\\ProgramData\\Anaconda3\\lib\\site-packages\\IPython\\core\\formatters.py\u001b[0m in \u001b[0;36mcatch_format_error\u001b[1;34m(method, self, *args, **kwargs)\u001b[0m\n\u001b[0;32m    222\u001b[0m     \u001b[1;34m\"\"\"show traceback on failed format call\"\"\"\u001b[0m\u001b[1;33m\u001b[0m\u001b[1;33m\u001b[0m\u001b[0m\n\u001b[0;32m    223\u001b[0m     \u001b[1;32mtry\u001b[0m\u001b[1;33m:\u001b[0m\u001b[1;33m\u001b[0m\u001b[1;33m\u001b[0m\u001b[0m\n\u001b[1;32m--> 224\u001b[1;33m         \u001b[0mr\u001b[0m \u001b[1;33m=\u001b[0m \u001b[0mmethod\u001b[0m\u001b[1;33m(\u001b[0m\u001b[0mself\u001b[0m\u001b[1;33m,\u001b[0m \u001b[1;33m*\u001b[0m\u001b[0margs\u001b[0m\u001b[1;33m,\u001b[0m \u001b[1;33m**\u001b[0m\u001b[0mkwargs\u001b[0m\u001b[1;33m)\u001b[0m\u001b[1;33m\u001b[0m\u001b[1;33m\u001b[0m\u001b[0m\n\u001b[0m\u001b[0;32m    225\u001b[0m     \u001b[1;32mexcept\u001b[0m \u001b[0mNotImplementedError\u001b[0m\u001b[1;33m:\u001b[0m\u001b[1;33m\u001b[0m\u001b[1;33m\u001b[0m\u001b[0m\n\u001b[0;32m    226\u001b[0m         \u001b[1;31m# don't warn on NotImplementedErrors\u001b[0m\u001b[1;33m\u001b[0m\u001b[1;33m\u001b[0m\u001b[1;33m\u001b[0m\u001b[0m\n",
      "\u001b[1;32mC:\\ProgramData\\Anaconda3\\lib\\site-packages\\IPython\\core\\formatters.py\u001b[0m in \u001b[0;36m__call__\u001b[1;34m(self, obj)\u001b[0m\n\u001b[0;32m    339\u001b[0m                 \u001b[1;32mpass\u001b[0m\u001b[1;33m\u001b[0m\u001b[1;33m\u001b[0m\u001b[0m\n\u001b[0;32m    340\u001b[0m             \u001b[1;32melse\u001b[0m\u001b[1;33m:\u001b[0m\u001b[1;33m\u001b[0m\u001b[1;33m\u001b[0m\u001b[0m\n\u001b[1;32m--> 341\u001b[1;33m                 \u001b[1;32mreturn\u001b[0m \u001b[0mprinter\u001b[0m\u001b[1;33m(\u001b[0m\u001b[0mobj\u001b[0m\u001b[1;33m)\u001b[0m\u001b[1;33m\u001b[0m\u001b[1;33m\u001b[0m\u001b[0m\n\u001b[0m\u001b[0;32m    342\u001b[0m             \u001b[1;31m# Finally look for special method names\u001b[0m\u001b[1;33m\u001b[0m\u001b[1;33m\u001b[0m\u001b[1;33m\u001b[0m\u001b[0m\n\u001b[0;32m    343\u001b[0m             \u001b[0mmethod\u001b[0m \u001b[1;33m=\u001b[0m \u001b[0mget_real_method\u001b[0m\u001b[1;33m(\u001b[0m\u001b[0mobj\u001b[0m\u001b[1;33m,\u001b[0m \u001b[0mself\u001b[0m\u001b[1;33m.\u001b[0m\u001b[0mprint_method\u001b[0m\u001b[1;33m)\u001b[0m\u001b[1;33m\u001b[0m\u001b[1;33m\u001b[0m\u001b[0m\n",
      "\u001b[1;32mC:\\ProgramData\\Anaconda3\\lib\\site-packages\\IPython\\core\\pylabtools.py\u001b[0m in \u001b[0;36m<lambda>\u001b[1;34m(fig)\u001b[0m\n\u001b[0;32m    242\u001b[0m \u001b[1;33m\u001b[0m\u001b[0m\n\u001b[0;32m    243\u001b[0m     \u001b[1;32mif\u001b[0m \u001b[1;34m'png'\u001b[0m \u001b[1;32min\u001b[0m \u001b[0mformats\u001b[0m\u001b[1;33m:\u001b[0m\u001b[1;33m\u001b[0m\u001b[1;33m\u001b[0m\u001b[0m\n\u001b[1;32m--> 244\u001b[1;33m         \u001b[0mpng_formatter\u001b[0m\u001b[1;33m.\u001b[0m\u001b[0mfor_type\u001b[0m\u001b[1;33m(\u001b[0m\u001b[0mFigure\u001b[0m\u001b[1;33m,\u001b[0m \u001b[1;32mlambda\u001b[0m \u001b[0mfig\u001b[0m\u001b[1;33m:\u001b[0m \u001b[0mprint_figure\u001b[0m\u001b[1;33m(\u001b[0m\u001b[0mfig\u001b[0m\u001b[1;33m,\u001b[0m \u001b[1;34m'png'\u001b[0m\u001b[1;33m,\u001b[0m \u001b[1;33m**\u001b[0m\u001b[0mkwargs\u001b[0m\u001b[1;33m)\u001b[0m\u001b[1;33m)\u001b[0m\u001b[1;33m\u001b[0m\u001b[1;33m\u001b[0m\u001b[0m\n\u001b[0m\u001b[0;32m    245\u001b[0m     \u001b[1;32mif\u001b[0m \u001b[1;34m'retina'\u001b[0m \u001b[1;32min\u001b[0m \u001b[0mformats\u001b[0m \u001b[1;32mor\u001b[0m \u001b[1;34m'png2x'\u001b[0m \u001b[1;32min\u001b[0m \u001b[0mformats\u001b[0m\u001b[1;33m:\u001b[0m\u001b[1;33m\u001b[0m\u001b[1;33m\u001b[0m\u001b[0m\n\u001b[0;32m    246\u001b[0m         \u001b[0mpng_formatter\u001b[0m\u001b[1;33m.\u001b[0m\u001b[0mfor_type\u001b[0m\u001b[1;33m(\u001b[0m\u001b[0mFigure\u001b[0m\u001b[1;33m,\u001b[0m \u001b[1;32mlambda\u001b[0m \u001b[0mfig\u001b[0m\u001b[1;33m:\u001b[0m \u001b[0mretina_figure\u001b[0m\u001b[1;33m(\u001b[0m\u001b[0mfig\u001b[0m\u001b[1;33m,\u001b[0m \u001b[1;33m**\u001b[0m\u001b[0mkwargs\u001b[0m\u001b[1;33m)\u001b[0m\u001b[1;33m)\u001b[0m\u001b[1;33m\u001b[0m\u001b[1;33m\u001b[0m\u001b[0m\n",
      "\u001b[1;32mC:\\ProgramData\\Anaconda3\\lib\\site-packages\\IPython\\core\\pylabtools.py\u001b[0m in \u001b[0;36mprint_figure\u001b[1;34m(fig, fmt, bbox_inches, **kwargs)\u001b[0m\n\u001b[0;32m    126\u001b[0m \u001b[1;33m\u001b[0m\u001b[0m\n\u001b[0;32m    127\u001b[0m     \u001b[0mbytes_io\u001b[0m \u001b[1;33m=\u001b[0m \u001b[0mBytesIO\u001b[0m\u001b[1;33m(\u001b[0m\u001b[1;33m)\u001b[0m\u001b[1;33m\u001b[0m\u001b[1;33m\u001b[0m\u001b[0m\n\u001b[1;32m--> 128\u001b[1;33m     \u001b[0mfig\u001b[0m\u001b[1;33m.\u001b[0m\u001b[0mcanvas\u001b[0m\u001b[1;33m.\u001b[0m\u001b[0mprint_figure\u001b[0m\u001b[1;33m(\u001b[0m\u001b[0mbytes_io\u001b[0m\u001b[1;33m,\u001b[0m \u001b[1;33m**\u001b[0m\u001b[0mkw\u001b[0m\u001b[1;33m)\u001b[0m\u001b[1;33m\u001b[0m\u001b[1;33m\u001b[0m\u001b[0m\n\u001b[0m\u001b[0;32m    129\u001b[0m     \u001b[0mdata\u001b[0m \u001b[1;33m=\u001b[0m \u001b[0mbytes_io\u001b[0m\u001b[1;33m.\u001b[0m\u001b[0mgetvalue\u001b[0m\u001b[1;33m(\u001b[0m\u001b[1;33m)\u001b[0m\u001b[1;33m\u001b[0m\u001b[1;33m\u001b[0m\u001b[0m\n\u001b[0;32m    130\u001b[0m     \u001b[1;32mif\u001b[0m \u001b[0mfmt\u001b[0m \u001b[1;33m==\u001b[0m \u001b[1;34m'svg'\u001b[0m\u001b[1;33m:\u001b[0m\u001b[1;33m\u001b[0m\u001b[1;33m\u001b[0m\u001b[0m\n",
      "\u001b[1;32mC:\\ProgramData\\Anaconda3\\lib\\site-packages\\matplotlib\\backend_bases.py\u001b[0m in \u001b[0;36mprint_figure\u001b[1;34m(self, filename, dpi, facecolor, edgecolor, orientation, format, bbox_inches, **kwargs)\u001b[0m\n\u001b[0;32m   2073\u001b[0m                     \u001b[0morientation\u001b[0m\u001b[1;33m=\u001b[0m\u001b[0morientation\u001b[0m\u001b[1;33m,\u001b[0m\u001b[1;33m\u001b[0m\u001b[1;33m\u001b[0m\u001b[0m\n\u001b[0;32m   2074\u001b[0m                     \u001b[0mbbox_inches_restore\u001b[0m\u001b[1;33m=\u001b[0m\u001b[0m_bbox_inches_restore\u001b[0m\u001b[1;33m,\u001b[0m\u001b[1;33m\u001b[0m\u001b[1;33m\u001b[0m\u001b[0m\n\u001b[1;32m-> 2075\u001b[1;33m                     **kwargs)\n\u001b[0m\u001b[0;32m   2076\u001b[0m             \u001b[1;32mfinally\u001b[0m\u001b[1;33m:\u001b[0m\u001b[1;33m\u001b[0m\u001b[1;33m\u001b[0m\u001b[0m\n\u001b[0;32m   2077\u001b[0m                 \u001b[1;32mif\u001b[0m \u001b[0mbbox_inches\u001b[0m \u001b[1;32mand\u001b[0m \u001b[0mrestore_bbox\u001b[0m\u001b[1;33m:\u001b[0m\u001b[1;33m\u001b[0m\u001b[1;33m\u001b[0m\u001b[0m\n",
      "\u001b[1;32mC:\\ProgramData\\Anaconda3\\lib\\site-packages\\matplotlib\\backends\\backend_agg.py\u001b[0m in \u001b[0;36mprint_png\u001b[1;34m(self, filename_or_obj, *args, **kwargs)\u001b[0m\n\u001b[0;32m    508\u001b[0m \u001b[1;33m\u001b[0m\u001b[0m\n\u001b[0;32m    509\u001b[0m         \"\"\"\n\u001b[1;32m--> 510\u001b[1;33m         \u001b[0mFigureCanvasAgg\u001b[0m\u001b[1;33m.\u001b[0m\u001b[0mdraw\u001b[0m\u001b[1;33m(\u001b[0m\u001b[0mself\u001b[0m\u001b[1;33m)\u001b[0m\u001b[1;33m\u001b[0m\u001b[1;33m\u001b[0m\u001b[0m\n\u001b[0m\u001b[0;32m    511\u001b[0m         \u001b[0mrenderer\u001b[0m \u001b[1;33m=\u001b[0m \u001b[0mself\u001b[0m\u001b[1;33m.\u001b[0m\u001b[0mget_renderer\u001b[0m\u001b[1;33m(\u001b[0m\u001b[1;33m)\u001b[0m\u001b[1;33m\u001b[0m\u001b[1;33m\u001b[0m\u001b[0m\n\u001b[0;32m    512\u001b[0m \u001b[1;33m\u001b[0m\u001b[0m\n",
      "\u001b[1;32mC:\\ProgramData\\Anaconda3\\lib\\site-packages\\matplotlib\\backends\\backend_agg.py\u001b[0m in \u001b[0;36mdraw\u001b[1;34m(self)\u001b[0m\n\u001b[0;32m    400\u001b[0m         \u001b[0mtoolbar\u001b[0m \u001b[1;33m=\u001b[0m \u001b[0mself\u001b[0m\u001b[1;33m.\u001b[0m\u001b[0mtoolbar\u001b[0m\u001b[1;33m\u001b[0m\u001b[1;33m\u001b[0m\u001b[0m\n\u001b[0;32m    401\u001b[0m         \u001b[1;32mtry\u001b[0m\u001b[1;33m:\u001b[0m\u001b[1;33m\u001b[0m\u001b[1;33m\u001b[0m\u001b[0m\n\u001b[1;32m--> 402\u001b[1;33m             \u001b[0mself\u001b[0m\u001b[1;33m.\u001b[0m\u001b[0mfigure\u001b[0m\u001b[1;33m.\u001b[0m\u001b[0mdraw\u001b[0m\u001b[1;33m(\u001b[0m\u001b[0mself\u001b[0m\u001b[1;33m.\u001b[0m\u001b[0mrenderer\u001b[0m\u001b[1;33m)\u001b[0m\u001b[1;33m\u001b[0m\u001b[1;33m\u001b[0m\u001b[0m\n\u001b[0m\u001b[0;32m    403\u001b[0m             \u001b[1;31m# A GUI class may be need to update a window using this draw, so\u001b[0m\u001b[1;33m\u001b[0m\u001b[1;33m\u001b[0m\u001b[1;33m\u001b[0m\u001b[0m\n\u001b[0;32m    404\u001b[0m             \u001b[1;31m# don't forget to call the superclass.\u001b[0m\u001b[1;33m\u001b[0m\u001b[1;33m\u001b[0m\u001b[1;33m\u001b[0m\u001b[0m\n",
      "\u001b[1;32mC:\\ProgramData\\Anaconda3\\lib\\site-packages\\matplotlib\\artist.py\u001b[0m in \u001b[0;36mdraw_wrapper\u001b[1;34m(artist, renderer, *args, **kwargs)\u001b[0m\n\u001b[0;32m     48\u001b[0m                 \u001b[0mrenderer\u001b[0m\u001b[1;33m.\u001b[0m\u001b[0mstart_filter\u001b[0m\u001b[1;33m(\u001b[0m\u001b[1;33m)\u001b[0m\u001b[1;33m\u001b[0m\u001b[1;33m\u001b[0m\u001b[0m\n\u001b[0;32m     49\u001b[0m \u001b[1;33m\u001b[0m\u001b[0m\n\u001b[1;32m---> 50\u001b[1;33m             \u001b[1;32mreturn\u001b[0m \u001b[0mdraw\u001b[0m\u001b[1;33m(\u001b[0m\u001b[0martist\u001b[0m\u001b[1;33m,\u001b[0m \u001b[0mrenderer\u001b[0m\u001b[1;33m,\u001b[0m \u001b[1;33m*\u001b[0m\u001b[0margs\u001b[0m\u001b[1;33m,\u001b[0m \u001b[1;33m**\u001b[0m\u001b[0mkwargs\u001b[0m\u001b[1;33m)\u001b[0m\u001b[1;33m\u001b[0m\u001b[1;33m\u001b[0m\u001b[0m\n\u001b[0m\u001b[0;32m     51\u001b[0m         \u001b[1;32mfinally\u001b[0m\u001b[1;33m:\u001b[0m\u001b[1;33m\u001b[0m\u001b[1;33m\u001b[0m\u001b[0m\n\u001b[0;32m     52\u001b[0m             \u001b[1;32mif\u001b[0m \u001b[0martist\u001b[0m\u001b[1;33m.\u001b[0m\u001b[0mget_agg_filter\u001b[0m\u001b[1;33m(\u001b[0m\u001b[1;33m)\u001b[0m \u001b[1;32mis\u001b[0m \u001b[1;32mnot\u001b[0m \u001b[1;32mNone\u001b[0m\u001b[1;33m:\u001b[0m\u001b[1;33m\u001b[0m\u001b[1;33m\u001b[0m\u001b[0m\n",
      "\u001b[1;32mC:\\ProgramData\\Anaconda3\\lib\\site-packages\\matplotlib\\figure.py\u001b[0m in \u001b[0;36mdraw\u001b[1;34m(self, renderer)\u001b[0m\n\u001b[0;32m   1647\u001b[0m \u001b[1;33m\u001b[0m\u001b[0m\n\u001b[0;32m   1648\u001b[0m             mimage._draw_list_compositing_images(\n\u001b[1;32m-> 1649\u001b[1;33m                 renderer, self, artists, self.suppressComposite)\n\u001b[0m\u001b[0;32m   1650\u001b[0m \u001b[1;33m\u001b[0m\u001b[0m\n\u001b[0;32m   1651\u001b[0m             \u001b[0mrenderer\u001b[0m\u001b[1;33m.\u001b[0m\u001b[0mclose_group\u001b[0m\u001b[1;33m(\u001b[0m\u001b[1;34m'figure'\u001b[0m\u001b[1;33m)\u001b[0m\u001b[1;33m\u001b[0m\u001b[1;33m\u001b[0m\u001b[0m\n",
      "\u001b[1;32mC:\\ProgramData\\Anaconda3\\lib\\site-packages\\matplotlib\\image.py\u001b[0m in \u001b[0;36m_draw_list_compositing_images\u001b[1;34m(renderer, parent, artists, suppress_composite)\u001b[0m\n\u001b[0;32m    136\u001b[0m     \u001b[1;32mif\u001b[0m \u001b[0mnot_composite\u001b[0m \u001b[1;32mor\u001b[0m \u001b[1;32mnot\u001b[0m \u001b[0mhas_images\u001b[0m\u001b[1;33m:\u001b[0m\u001b[1;33m\u001b[0m\u001b[1;33m\u001b[0m\u001b[0m\n\u001b[0;32m    137\u001b[0m         \u001b[1;32mfor\u001b[0m \u001b[0ma\u001b[0m \u001b[1;32min\u001b[0m \u001b[0martists\u001b[0m\u001b[1;33m:\u001b[0m\u001b[1;33m\u001b[0m\u001b[1;33m\u001b[0m\u001b[0m\n\u001b[1;32m--> 138\u001b[1;33m             \u001b[0ma\u001b[0m\u001b[1;33m.\u001b[0m\u001b[0mdraw\u001b[0m\u001b[1;33m(\u001b[0m\u001b[0mrenderer\u001b[0m\u001b[1;33m)\u001b[0m\u001b[1;33m\u001b[0m\u001b[1;33m\u001b[0m\u001b[0m\n\u001b[0m\u001b[0;32m    139\u001b[0m     \u001b[1;32melse\u001b[0m\u001b[1;33m:\u001b[0m\u001b[1;33m\u001b[0m\u001b[1;33m\u001b[0m\u001b[0m\n\u001b[0;32m    140\u001b[0m         \u001b[1;31m# Composite any adjacent images together\u001b[0m\u001b[1;33m\u001b[0m\u001b[1;33m\u001b[0m\u001b[1;33m\u001b[0m\u001b[0m\n",
      "\u001b[1;32mC:\\ProgramData\\Anaconda3\\lib\\site-packages\\matplotlib\\artist.py\u001b[0m in \u001b[0;36mdraw_wrapper\u001b[1;34m(artist, renderer, *args, **kwargs)\u001b[0m\n\u001b[0;32m     48\u001b[0m                 \u001b[0mrenderer\u001b[0m\u001b[1;33m.\u001b[0m\u001b[0mstart_filter\u001b[0m\u001b[1;33m(\u001b[0m\u001b[1;33m)\u001b[0m\u001b[1;33m\u001b[0m\u001b[1;33m\u001b[0m\u001b[0m\n\u001b[0;32m     49\u001b[0m \u001b[1;33m\u001b[0m\u001b[0m\n\u001b[1;32m---> 50\u001b[1;33m             \u001b[1;32mreturn\u001b[0m \u001b[0mdraw\u001b[0m\u001b[1;33m(\u001b[0m\u001b[0martist\u001b[0m\u001b[1;33m,\u001b[0m \u001b[0mrenderer\u001b[0m\u001b[1;33m,\u001b[0m \u001b[1;33m*\u001b[0m\u001b[0margs\u001b[0m\u001b[1;33m,\u001b[0m \u001b[1;33m**\u001b[0m\u001b[0mkwargs\u001b[0m\u001b[1;33m)\u001b[0m\u001b[1;33m\u001b[0m\u001b[1;33m\u001b[0m\u001b[0m\n\u001b[0m\u001b[0;32m     51\u001b[0m         \u001b[1;32mfinally\u001b[0m\u001b[1;33m:\u001b[0m\u001b[1;33m\u001b[0m\u001b[1;33m\u001b[0m\u001b[0m\n\u001b[0;32m     52\u001b[0m             \u001b[1;32mif\u001b[0m \u001b[0martist\u001b[0m\u001b[1;33m.\u001b[0m\u001b[0mget_agg_filter\u001b[0m\u001b[1;33m(\u001b[0m\u001b[1;33m)\u001b[0m \u001b[1;32mis\u001b[0m \u001b[1;32mnot\u001b[0m \u001b[1;32mNone\u001b[0m\u001b[1;33m:\u001b[0m\u001b[1;33m\u001b[0m\u001b[1;33m\u001b[0m\u001b[0m\n",
      "\u001b[1;32mC:\\ProgramData\\Anaconda3\\lib\\site-packages\\matplotlib\\axes\\_base.py\u001b[0m in \u001b[0;36mdraw\u001b[1;34m(self, renderer, inframe)\u001b[0m\n\u001b[0;32m   2626\u001b[0m             \u001b[0mrenderer\u001b[0m\u001b[1;33m.\u001b[0m\u001b[0mstop_rasterizing\u001b[0m\u001b[1;33m(\u001b[0m\u001b[1;33m)\u001b[0m\u001b[1;33m\u001b[0m\u001b[1;33m\u001b[0m\u001b[0m\n\u001b[0;32m   2627\u001b[0m \u001b[1;33m\u001b[0m\u001b[0m\n\u001b[1;32m-> 2628\u001b[1;33m         \u001b[0mmimage\u001b[0m\u001b[1;33m.\u001b[0m\u001b[0m_draw_list_compositing_images\u001b[0m\u001b[1;33m(\u001b[0m\u001b[0mrenderer\u001b[0m\u001b[1;33m,\u001b[0m \u001b[0mself\u001b[0m\u001b[1;33m,\u001b[0m \u001b[0martists\u001b[0m\u001b[1;33m)\u001b[0m\u001b[1;33m\u001b[0m\u001b[1;33m\u001b[0m\u001b[0m\n\u001b[0m\u001b[0;32m   2629\u001b[0m \u001b[1;33m\u001b[0m\u001b[0m\n\u001b[0;32m   2630\u001b[0m         \u001b[0mrenderer\u001b[0m\u001b[1;33m.\u001b[0m\u001b[0mclose_group\u001b[0m\u001b[1;33m(\u001b[0m\u001b[1;34m'axes'\u001b[0m\u001b[1;33m)\u001b[0m\u001b[1;33m\u001b[0m\u001b[1;33m\u001b[0m\u001b[0m\n",
      "\u001b[1;32mC:\\ProgramData\\Anaconda3\\lib\\site-packages\\matplotlib\\image.py\u001b[0m in \u001b[0;36m_draw_list_compositing_images\u001b[1;34m(renderer, parent, artists, suppress_composite)\u001b[0m\n\u001b[0;32m    136\u001b[0m     \u001b[1;32mif\u001b[0m \u001b[0mnot_composite\u001b[0m \u001b[1;32mor\u001b[0m \u001b[1;32mnot\u001b[0m \u001b[0mhas_images\u001b[0m\u001b[1;33m:\u001b[0m\u001b[1;33m\u001b[0m\u001b[1;33m\u001b[0m\u001b[0m\n\u001b[0;32m    137\u001b[0m         \u001b[1;32mfor\u001b[0m \u001b[0ma\u001b[0m \u001b[1;32min\u001b[0m \u001b[0martists\u001b[0m\u001b[1;33m:\u001b[0m\u001b[1;33m\u001b[0m\u001b[1;33m\u001b[0m\u001b[0m\n\u001b[1;32m--> 138\u001b[1;33m             \u001b[0ma\u001b[0m\u001b[1;33m.\u001b[0m\u001b[0mdraw\u001b[0m\u001b[1;33m(\u001b[0m\u001b[0mrenderer\u001b[0m\u001b[1;33m)\u001b[0m\u001b[1;33m\u001b[0m\u001b[1;33m\u001b[0m\u001b[0m\n\u001b[0m\u001b[0;32m    139\u001b[0m     \u001b[1;32melse\u001b[0m\u001b[1;33m:\u001b[0m\u001b[1;33m\u001b[0m\u001b[1;33m\u001b[0m\u001b[0m\n\u001b[0;32m    140\u001b[0m         \u001b[1;31m# Composite any adjacent images together\u001b[0m\u001b[1;33m\u001b[0m\u001b[1;33m\u001b[0m\u001b[1;33m\u001b[0m\u001b[0m\n",
      "\u001b[1;32mC:\\ProgramData\\Anaconda3\\lib\\site-packages\\matplotlib\\artist.py\u001b[0m in \u001b[0;36mdraw_wrapper\u001b[1;34m(artist, renderer, *args, **kwargs)\u001b[0m\n\u001b[0;32m     48\u001b[0m                 \u001b[0mrenderer\u001b[0m\u001b[1;33m.\u001b[0m\u001b[0mstart_filter\u001b[0m\u001b[1;33m(\u001b[0m\u001b[1;33m)\u001b[0m\u001b[1;33m\u001b[0m\u001b[1;33m\u001b[0m\u001b[0m\n\u001b[0;32m     49\u001b[0m \u001b[1;33m\u001b[0m\u001b[0m\n\u001b[1;32m---> 50\u001b[1;33m             \u001b[1;32mreturn\u001b[0m \u001b[0mdraw\u001b[0m\u001b[1;33m(\u001b[0m\u001b[0martist\u001b[0m\u001b[1;33m,\u001b[0m \u001b[0mrenderer\u001b[0m\u001b[1;33m,\u001b[0m \u001b[1;33m*\u001b[0m\u001b[0margs\u001b[0m\u001b[1;33m,\u001b[0m \u001b[1;33m**\u001b[0m\u001b[0mkwargs\u001b[0m\u001b[1;33m)\u001b[0m\u001b[1;33m\u001b[0m\u001b[1;33m\u001b[0m\u001b[0m\n\u001b[0m\u001b[0;32m     51\u001b[0m         \u001b[1;32mfinally\u001b[0m\u001b[1;33m:\u001b[0m\u001b[1;33m\u001b[0m\u001b[1;33m\u001b[0m\u001b[0m\n\u001b[0;32m     52\u001b[0m             \u001b[1;32mif\u001b[0m \u001b[0martist\u001b[0m\u001b[1;33m.\u001b[0m\u001b[0mget_agg_filter\u001b[0m\u001b[1;33m(\u001b[0m\u001b[1;33m)\u001b[0m \u001b[1;32mis\u001b[0m \u001b[1;32mnot\u001b[0m \u001b[1;32mNone\u001b[0m\u001b[1;33m:\u001b[0m\u001b[1;33m\u001b[0m\u001b[1;33m\u001b[0m\u001b[0m\n",
      "\u001b[1;32mC:\\ProgramData\\Anaconda3\\lib\\site-packages\\matplotlib\\axis.py\u001b[0m in \u001b[0;36mdraw\u001b[1;34m(self, renderer, *args, **kwargs)\u001b[0m\n\u001b[0;32m   1185\u001b[0m         \u001b[0mticks_to_draw\u001b[0m \u001b[1;33m=\u001b[0m \u001b[0mself\u001b[0m\u001b[1;33m.\u001b[0m\u001b[0m_update_ticks\u001b[0m\u001b[1;33m(\u001b[0m\u001b[0mrenderer\u001b[0m\u001b[1;33m)\u001b[0m\u001b[1;33m\u001b[0m\u001b[1;33m\u001b[0m\u001b[0m\n\u001b[0;32m   1186\u001b[0m         ticklabelBoxes, ticklabelBoxes2 = self._get_tick_bboxes(ticks_to_draw,\n\u001b[1;32m-> 1187\u001b[1;33m                                                                 renderer)\n\u001b[0m\u001b[0;32m   1188\u001b[0m \u001b[1;33m\u001b[0m\u001b[0m\n\u001b[0;32m   1189\u001b[0m         \u001b[1;32mfor\u001b[0m \u001b[0mtick\u001b[0m \u001b[1;32min\u001b[0m \u001b[0mticks_to_draw\u001b[0m\u001b[1;33m:\u001b[0m\u001b[1;33m\u001b[0m\u001b[1;33m\u001b[0m\u001b[0m\n",
      "\u001b[1;32mC:\\ProgramData\\Anaconda3\\lib\\site-packages\\matplotlib\\axis.py\u001b[0m in \u001b[0;36m_get_tick_bboxes\u001b[1;34m(self, ticks, renderer)\u001b[0m\n\u001b[0;32m   1123\u001b[0m         \u001b[1;32mfor\u001b[0m \u001b[0mtick\u001b[0m \u001b[1;32min\u001b[0m \u001b[0mticks\u001b[0m\u001b[1;33m:\u001b[0m\u001b[1;33m\u001b[0m\u001b[1;33m\u001b[0m\u001b[0m\n\u001b[0;32m   1124\u001b[0m             \u001b[1;32mif\u001b[0m \u001b[0mtick\u001b[0m\u001b[1;33m.\u001b[0m\u001b[0mlabel1On\u001b[0m \u001b[1;32mand\u001b[0m \u001b[0mtick\u001b[0m\u001b[1;33m.\u001b[0m\u001b[0mlabel1\u001b[0m\u001b[1;33m.\u001b[0m\u001b[0mget_visible\u001b[0m\u001b[1;33m(\u001b[0m\u001b[1;33m)\u001b[0m\u001b[1;33m:\u001b[0m\u001b[1;33m\u001b[0m\u001b[1;33m\u001b[0m\u001b[0m\n\u001b[1;32m-> 1125\u001b[1;33m                 \u001b[0mextent\u001b[0m \u001b[1;33m=\u001b[0m \u001b[0mtick\u001b[0m\u001b[1;33m.\u001b[0m\u001b[0mlabel1\u001b[0m\u001b[1;33m.\u001b[0m\u001b[0mget_window_extent\u001b[0m\u001b[1;33m(\u001b[0m\u001b[0mrenderer\u001b[0m\u001b[1;33m)\u001b[0m\u001b[1;33m\u001b[0m\u001b[1;33m\u001b[0m\u001b[0m\n\u001b[0m\u001b[0;32m   1126\u001b[0m                 \u001b[0mticklabelBoxes\u001b[0m\u001b[1;33m.\u001b[0m\u001b[0mappend\u001b[0m\u001b[1;33m(\u001b[0m\u001b[0mextent\u001b[0m\u001b[1;33m)\u001b[0m\u001b[1;33m\u001b[0m\u001b[1;33m\u001b[0m\u001b[0m\n\u001b[0;32m   1127\u001b[0m             \u001b[1;32mif\u001b[0m \u001b[0mtick\u001b[0m\u001b[1;33m.\u001b[0m\u001b[0mlabel2On\u001b[0m \u001b[1;32mand\u001b[0m \u001b[0mtick\u001b[0m\u001b[1;33m.\u001b[0m\u001b[0mlabel2\u001b[0m\u001b[1;33m.\u001b[0m\u001b[0mget_visible\u001b[0m\u001b[1;33m(\u001b[0m\u001b[1;33m)\u001b[0m\u001b[1;33m:\u001b[0m\u001b[1;33m\u001b[0m\u001b[1;33m\u001b[0m\u001b[0m\n",
      "\u001b[1;32mC:\\ProgramData\\Anaconda3\\lib\\site-packages\\matplotlib\\text.py\u001b[0m in \u001b[0;36mget_window_extent\u001b[1;34m(self, renderer, dpi)\u001b[0m\n\u001b[0;32m    930\u001b[0m         \u001b[0mbbox\u001b[0m\u001b[1;33m,\u001b[0m \u001b[0minfo\u001b[0m\u001b[1;33m,\u001b[0m \u001b[0mdescent\u001b[0m \u001b[1;33m=\u001b[0m \u001b[0mself\u001b[0m\u001b[1;33m.\u001b[0m\u001b[0m_get_layout\u001b[0m\u001b[1;33m(\u001b[0m\u001b[0mself\u001b[0m\u001b[1;33m.\u001b[0m\u001b[0m_renderer\u001b[0m\u001b[1;33m)\u001b[0m\u001b[1;33m\u001b[0m\u001b[1;33m\u001b[0m\u001b[0m\n\u001b[0;32m    931\u001b[0m         \u001b[0mx\u001b[0m\u001b[1;33m,\u001b[0m \u001b[0my\u001b[0m \u001b[1;33m=\u001b[0m \u001b[0mself\u001b[0m\u001b[1;33m.\u001b[0m\u001b[0mget_unitless_position\u001b[0m\u001b[1;33m(\u001b[0m\u001b[1;33m)\u001b[0m\u001b[1;33m\u001b[0m\u001b[1;33m\u001b[0m\u001b[0m\n\u001b[1;32m--> 932\u001b[1;33m         \u001b[0mx\u001b[0m\u001b[1;33m,\u001b[0m \u001b[0my\u001b[0m \u001b[1;33m=\u001b[0m \u001b[0mself\u001b[0m\u001b[1;33m.\u001b[0m\u001b[0mget_transform\u001b[0m\u001b[1;33m(\u001b[0m\u001b[1;33m)\u001b[0m\u001b[1;33m.\u001b[0m\u001b[0mtransform_point\u001b[0m\u001b[1;33m(\u001b[0m\u001b[1;33m(\u001b[0m\u001b[0mx\u001b[0m\u001b[1;33m,\u001b[0m \u001b[0my\u001b[0m\u001b[1;33m)\u001b[0m\u001b[1;33m)\u001b[0m\u001b[1;33m\u001b[0m\u001b[1;33m\u001b[0m\u001b[0m\n\u001b[0m\u001b[0;32m    933\u001b[0m         \u001b[0mbbox\u001b[0m \u001b[1;33m=\u001b[0m \u001b[0mbbox\u001b[0m\u001b[1;33m.\u001b[0m\u001b[0mtranslated\u001b[0m\u001b[1;33m(\u001b[0m\u001b[0mx\u001b[0m\u001b[1;33m,\u001b[0m \u001b[0my\u001b[0m\u001b[1;33m)\u001b[0m\u001b[1;33m\u001b[0m\u001b[1;33m\u001b[0m\u001b[0m\n\u001b[0;32m    934\u001b[0m         \u001b[1;32mif\u001b[0m \u001b[0mdpi\u001b[0m \u001b[1;32mis\u001b[0m \u001b[1;32mnot\u001b[0m \u001b[1;32mNone\u001b[0m\u001b[1;33m:\u001b[0m\u001b[1;33m\u001b[0m\u001b[1;33m\u001b[0m\u001b[0m\n",
      "\u001b[1;32mC:\\ProgramData\\Anaconda3\\lib\\site-packages\\matplotlib\\transforms.py\u001b[0m in \u001b[0;36mtransform_point\u001b[1;34m(self, point)\u001b[0m\n\u001b[0;32m   1509\u001b[0m         \u001b[1;32mif\u001b[0m \u001b[0mlen\u001b[0m\u001b[1;33m(\u001b[0m\u001b[0mpoint\u001b[0m\u001b[1;33m)\u001b[0m \u001b[1;33m!=\u001b[0m \u001b[0mself\u001b[0m\u001b[1;33m.\u001b[0m\u001b[0minput_dims\u001b[0m\u001b[1;33m:\u001b[0m\u001b[1;33m\u001b[0m\u001b[1;33m\u001b[0m\u001b[0m\n\u001b[0;32m   1510\u001b[0m             \u001b[1;32mraise\u001b[0m \u001b[0mValueError\u001b[0m\u001b[1;33m(\u001b[0m\u001b[1;34m\"The length of 'point' must be 'self.input_dims'\"\u001b[0m\u001b[1;33m)\u001b[0m\u001b[1;33m\u001b[0m\u001b[1;33m\u001b[0m\u001b[0m\n\u001b[1;32m-> 1511\u001b[1;33m         \u001b[1;32mreturn\u001b[0m \u001b[0mself\u001b[0m\u001b[1;33m.\u001b[0m\u001b[0mtransform\u001b[0m\u001b[1;33m(\u001b[0m\u001b[0mnp\u001b[0m\u001b[1;33m.\u001b[0m\u001b[0masarray\u001b[0m\u001b[1;33m(\u001b[0m\u001b[1;33m[\u001b[0m\u001b[0mpoint\u001b[0m\u001b[1;33m]\u001b[0m\u001b[1;33m)\u001b[0m\u001b[1;33m)\u001b[0m\u001b[1;33m[\u001b[0m\u001b[1;36m0\u001b[0m\u001b[1;33m]\u001b[0m\u001b[1;33m\u001b[0m\u001b[1;33m\u001b[0m\u001b[0m\n\u001b[0m\u001b[0;32m   1512\u001b[0m \u001b[1;33m\u001b[0m\u001b[0m\n\u001b[0;32m   1513\u001b[0m     \u001b[1;32mdef\u001b[0m \u001b[0mtransform_path\u001b[0m\u001b[1;33m(\u001b[0m\u001b[0mself\u001b[0m\u001b[1;33m,\u001b[0m \u001b[0mpath\u001b[0m\u001b[1;33m)\u001b[0m\u001b[1;33m:\u001b[0m\u001b[1;33m\u001b[0m\u001b[1;33m\u001b[0m\u001b[0m\n",
      "\u001b[1;32mC:\\ProgramData\\Anaconda3\\lib\\site-packages\\matplotlib\\transforms.py\u001b[0m in \u001b[0;36mtransform\u001b[1;34m(self, values)\u001b[0m\n\u001b[0;32m   1422\u001b[0m \u001b[1;33m\u001b[0m\u001b[0m\n\u001b[0;32m   1423\u001b[0m         \u001b[1;31m# Transform the values\u001b[0m\u001b[1;33m\u001b[0m\u001b[1;33m\u001b[0m\u001b[1;33m\u001b[0m\u001b[0m\n\u001b[1;32m-> 1424\u001b[1;33m         \u001b[0mres\u001b[0m \u001b[1;33m=\u001b[0m \u001b[0mself\u001b[0m\u001b[1;33m.\u001b[0m\u001b[0mtransform_affine\u001b[0m\u001b[1;33m(\u001b[0m\u001b[0mself\u001b[0m\u001b[1;33m.\u001b[0m\u001b[0mtransform_non_affine\u001b[0m\u001b[1;33m(\u001b[0m\u001b[0mvalues\u001b[0m\u001b[1;33m)\u001b[0m\u001b[1;33m)\u001b[0m\u001b[1;33m\u001b[0m\u001b[1;33m\u001b[0m\u001b[0m\n\u001b[0m\u001b[0;32m   1425\u001b[0m \u001b[1;33m\u001b[0m\u001b[0m\n\u001b[0;32m   1426\u001b[0m         \u001b[1;31m# Convert the result back to the shape of the input values.\u001b[0m\u001b[1;33m\u001b[0m\u001b[1;33m\u001b[0m\u001b[1;33m\u001b[0m\u001b[0m\n",
      "\u001b[1;32mC:\\ProgramData\\Anaconda3\\lib\\site-packages\\matplotlib\\transforms.py\u001b[0m in \u001b[0;36mtransform_affine\u001b[1;34m(self, points)\u001b[0m\n\u001b[0;32m   2432\u001b[0m \u001b[1;33m\u001b[0m\u001b[0m\n\u001b[0;32m   2433\u001b[0m     \u001b[1;32mdef\u001b[0m \u001b[0mtransform_affine\u001b[0m\u001b[1;33m(\u001b[0m\u001b[0mself\u001b[0m\u001b[1;33m,\u001b[0m \u001b[0mpoints\u001b[0m\u001b[1;33m)\u001b[0m\u001b[1;33m:\u001b[0m\u001b[1;33m\u001b[0m\u001b[1;33m\u001b[0m\u001b[0m\n\u001b[1;32m-> 2434\u001b[1;33m         \u001b[1;32mreturn\u001b[0m \u001b[0mself\u001b[0m\u001b[1;33m.\u001b[0m\u001b[0mget_affine\u001b[0m\u001b[1;33m(\u001b[0m\u001b[1;33m)\u001b[0m\u001b[1;33m.\u001b[0m\u001b[0mtransform\u001b[0m\u001b[1;33m(\u001b[0m\u001b[0mpoints\u001b[0m\u001b[1;33m)\u001b[0m\u001b[1;33m\u001b[0m\u001b[1;33m\u001b[0m\u001b[0m\n\u001b[0m\u001b[0;32m   2435\u001b[0m     \u001b[0mtransform_affine\u001b[0m\u001b[1;33m.\u001b[0m\u001b[0m__doc__\u001b[0m \u001b[1;33m=\u001b[0m \u001b[0mTransform\u001b[0m\u001b[1;33m.\u001b[0m\u001b[0mtransform_affine\u001b[0m\u001b[1;33m.\u001b[0m\u001b[0m__doc__\u001b[0m\u001b[1;33m\u001b[0m\u001b[1;33m\u001b[0m\u001b[0m\n\u001b[0;32m   2436\u001b[0m \u001b[1;33m\u001b[0m\u001b[0m\n",
      "\u001b[1;32mC:\\ProgramData\\Anaconda3\\lib\\site-packages\\matplotlib\\transforms.py\u001b[0m in \u001b[0;36mget_affine\u001b[1;34m(self)\u001b[0m\n\u001b[0;32m   2460\u001b[0m         \u001b[1;32melse\u001b[0m\u001b[1;33m:\u001b[0m\u001b[1;33m\u001b[0m\u001b[1;33m\u001b[0m\u001b[0m\n\u001b[0;32m   2461\u001b[0m             return Affine2D(np.dot(self._b.get_affine().get_matrix(),\n\u001b[1;32m-> 2462\u001b[1;33m                                 self._a.get_affine().get_matrix()))\n\u001b[0m\u001b[0;32m   2463\u001b[0m     \u001b[0mget_affine\u001b[0m\u001b[1;33m.\u001b[0m\u001b[0m__doc__\u001b[0m \u001b[1;33m=\u001b[0m \u001b[0mTransform\u001b[0m\u001b[1;33m.\u001b[0m\u001b[0mget_affine\u001b[0m\u001b[1;33m.\u001b[0m\u001b[0m__doc__\u001b[0m\u001b[1;33m\u001b[0m\u001b[1;33m\u001b[0m\u001b[0m\n\u001b[0;32m   2464\u001b[0m \u001b[1;33m\u001b[0m\u001b[0m\n",
      "\u001b[1;32mC:\\ProgramData\\Anaconda3\\lib\\site-packages\\matplotlib\\transforms.py\u001b[0m in \u001b[0;36mget_affine\u001b[1;34m(self)\u001b[0m\n\u001b[0;32m   2240\u001b[0m             \u001b[1;32melse\u001b[0m\u001b[1;33m:\u001b[0m\u001b[1;33m\u001b[0m\u001b[1;33m\u001b[0m\u001b[0m\n\u001b[0;32m   2241\u001b[0m                 \u001b[0mx_mtx\u001b[0m \u001b[1;33m=\u001b[0m \u001b[0mself\u001b[0m\u001b[1;33m.\u001b[0m\u001b[0m_x\u001b[0m\u001b[1;33m.\u001b[0m\u001b[0mget_affine\u001b[0m\u001b[1;33m(\u001b[0m\u001b[1;33m)\u001b[0m\u001b[1;33m.\u001b[0m\u001b[0mget_matrix\u001b[0m\u001b[1;33m(\u001b[0m\u001b[1;33m)\u001b[0m\u001b[1;33m\u001b[0m\u001b[1;33m\u001b[0m\u001b[0m\n\u001b[1;32m-> 2242\u001b[1;33m                 \u001b[0my_mtx\u001b[0m \u001b[1;33m=\u001b[0m \u001b[0mself\u001b[0m\u001b[1;33m.\u001b[0m\u001b[0m_y\u001b[0m\u001b[1;33m.\u001b[0m\u001b[0mget_affine\u001b[0m\u001b[1;33m(\u001b[0m\u001b[1;33m)\u001b[0m\u001b[1;33m.\u001b[0m\u001b[0mget_matrix\u001b[0m\u001b[1;33m(\u001b[0m\u001b[1;33m)\u001b[0m\u001b[1;33m\u001b[0m\u001b[1;33m\u001b[0m\u001b[0m\n\u001b[0m\u001b[0;32m   2243\u001b[0m                 \u001b[1;31m# This works because we already know the transforms are\u001b[0m\u001b[1;33m\u001b[0m\u001b[1;33m\u001b[0m\u001b[1;33m\u001b[0m\u001b[0m\n\u001b[0;32m   2244\u001b[0m                 \u001b[1;31m# separable, though normally one would want to set b and\u001b[0m\u001b[1;33m\u001b[0m\u001b[1;33m\u001b[0m\u001b[1;33m\u001b[0m\u001b[0m\n",
      "\u001b[1;32mC:\\ProgramData\\Anaconda3\\lib\\site-packages\\matplotlib\\transforms.py\u001b[0m in \u001b[0;36mget_affine\u001b[1;34m(self)\u001b[0m\n\u001b[0;32m   2460\u001b[0m         \u001b[1;32melse\u001b[0m\u001b[1;33m:\u001b[0m\u001b[1;33m\u001b[0m\u001b[1;33m\u001b[0m\u001b[0m\n\u001b[0;32m   2461\u001b[0m             return Affine2D(np.dot(self._b.get_affine().get_matrix(),\n\u001b[1;32m-> 2462\u001b[1;33m                                 self._a.get_affine().get_matrix()))\n\u001b[0m\u001b[0;32m   2463\u001b[0m     \u001b[0mget_affine\u001b[0m\u001b[1;33m.\u001b[0m\u001b[0m__doc__\u001b[0m \u001b[1;33m=\u001b[0m \u001b[0mTransform\u001b[0m\u001b[1;33m.\u001b[0m\u001b[0mget_affine\u001b[0m\u001b[1;33m.\u001b[0m\u001b[0m__doc__\u001b[0m\u001b[1;33m\u001b[0m\u001b[1;33m\u001b[0m\u001b[0m\n\u001b[0;32m   2464\u001b[0m \u001b[1;33m\u001b[0m\u001b[0m\n",
      "\u001b[1;32m<__array_function__ internals>\u001b[0m in \u001b[0;36mdot\u001b[1;34m(*args, **kwargs)\u001b[0m\n",
      "\u001b[1;31mKeyboardInterrupt\u001b[0m: "
     ]
    }
   ],
   "source": [
    "annotations[annotations['label'] == \"Water, Overig\"].apply(lambda x:nso_tif_kernel.plot_kernel(x['kernel']), axis=1)"
   ]
  },
  {
   "cell_type": "code",
   "execution_count": 61,
   "metadata": {
    "collapsed": true
   },
   "outputs": [
    {
     "ename": "TypeError",
     "evalue": "Invalid dimensions for image data",
     "output_type": "error",
     "traceback": [
      "\u001b[1;31m---------------------------------------------------------------------------\u001b[0m",
      "\u001b[1;31mTypeError\u001b[0m                                 Traceback (most recent call last)",
      "\u001b[1;32m<ipython-input-61-dd7fd6e672a2>\u001b[0m in \u001b[0;36m<module>\u001b[1;34m\u001b[0m\n\u001b[1;32m----> 1\u001b[1;33m \u001b[0mnso_tif_kernel\u001b[0m\u001b[1;33m.\u001b[0m\u001b[0mplot_kernel\u001b[0m\u001b[1;33m(\u001b[0m\u001b[0mannotations\u001b[0m\u001b[1;33m[\u001b[0m\u001b[0mannotations\u001b[0m\u001b[1;33m[\u001b[0m\u001b[1;34m'label'\u001b[0m\u001b[1;33m]\u001b[0m \u001b[1;33m==\u001b[0m \u001b[1;34m\"Water, Overig\"\u001b[0m\u001b[1;33m]\u001b[0m\u001b[1;33m[\u001b[0m\u001b[1;36m14\u001b[0m\u001b[1;33m:\u001b[0m\u001b[1;36m15\u001b[0m\u001b[1;33m]\u001b[0m\u001b[1;33m[\u001b[0m\u001b[1;34m\"kernel\"\u001b[0m\u001b[1;33m]\u001b[0m\u001b[1;33m.\u001b[0m\u001b[0mvalues\u001b[0m\u001b[1;33m[\u001b[0m\u001b[1;36m0\u001b[0m\u001b[1;33m]\u001b[0m\u001b[1;33m)\u001b[0m\u001b[1;33m\u001b[0m\u001b[1;33m\u001b[0m\u001b[0m\n\u001b[0m",
      "\u001b[1;32mC:\\repos\\satellite-images-nso-datascience\\nso_ds_classes\\nso_tif_kernel.py\u001b[0m in \u001b[0;36mplot_kernel\u001b[1;34m(kernel, y)\u001b[0m\n\u001b[0;32m    495\u001b[0m             \u001b[0mrasterio\u001b[0m\u001b[1;33m.\u001b[0m\u001b[0mplot\u001b[0m\u001b[1;33m.\u001b[0m\u001b[0mshow\u001b[0m\u001b[1;33m(\u001b[0m\u001b[0mnp\u001b[0m\u001b[1;33m.\u001b[0m\u001b[0mclip\u001b[0m\u001b[1;33m(\u001b[0m\u001b[0mself\u001b[0m\u001b[1;33m.\u001b[0m\u001b[0mget_kernel_for_x_y\u001b[0m\u001b[1;33m(\u001b[0m\u001b[0mkernel\u001b[0m\u001b[1;33m,\u001b[0m\u001b[0my\u001b[0m\u001b[1;33m)\u001b[0m\u001b[1;33m[\u001b[0m\u001b[1;36m2\u001b[0m\u001b[1;33m:\u001b[0m\u001b[1;33m:\u001b[0m\u001b[1;33m-\u001b[0m\u001b[1;36m1\u001b[0m\u001b[1;33m]\u001b[0m\u001b[1;33m,\u001b[0m\u001b[1;36m0\u001b[0m\u001b[1;33m,\u001b[0m\u001b[1;36m2200\u001b[0m\u001b[1;33m)\u001b[0m\u001b[1;33m/\u001b[0m\u001b[1;36m2200\u001b[0m\u001b[1;33m)\u001b[0m\u001b[1;33m\u001b[0m\u001b[1;33m\u001b[0m\u001b[0m\n\u001b[0;32m    496\u001b[0m         \u001b[1;32melse\u001b[0m\u001b[1;33m:\u001b[0m\u001b[1;33m\u001b[0m\u001b[1;33m\u001b[0m\u001b[0m\n\u001b[1;32m--> 497\u001b[1;33m             \u001b[0mrasterio\u001b[0m\u001b[1;33m.\u001b[0m\u001b[0mplot\u001b[0m\u001b[1;33m.\u001b[0m\u001b[0mshow\u001b[0m\u001b[1;33m(\u001b[0m\u001b[0mnp\u001b[0m\u001b[1;33m.\u001b[0m\u001b[0mclip\u001b[0m\u001b[1;33m(\u001b[0m\u001b[0mkernel\u001b[0m\u001b[1;33m[\u001b[0m\u001b[1;36m2\u001b[0m\u001b[1;33m:\u001b[0m\u001b[1;33m:\u001b[0m\u001b[1;33m-\u001b[0m\u001b[1;36m1\u001b[0m\u001b[1;33m]\u001b[0m\u001b[1;33m,\u001b[0m\u001b[1;36m0\u001b[0m\u001b[1;33m,\u001b[0m\u001b[1;36m2200\u001b[0m\u001b[1;33m)\u001b[0m\u001b[1;33m/\u001b[0m\u001b[1;36m2200\u001b[0m\u001b[1;33m)\u001b[0m\u001b[1;33m\u001b[0m\u001b[1;33m\u001b[0m\u001b[0m\n\u001b[0m\u001b[0;32m    498\u001b[0m \u001b[1;33m\u001b[0m\u001b[0m\n\u001b[0;32m    499\u001b[0m \u001b[1;32mdef\u001b[0m \u001b[0mfunc_cor_square\u001b[0m\u001b[1;33m(\u001b[0m\u001b[0minput_x_y\u001b[0m\u001b[1;33m)\u001b[0m\u001b[1;33m:\u001b[0m\u001b[1;33m\u001b[0m\u001b[1;33m\u001b[0m\u001b[0m\n",
      "\u001b[1;32mC:\\ProgramData\\Anaconda3\\lib\\site-packages\\rasterio\\plot.py\u001b[0m in \u001b[0;36mshow\u001b[1;34m(source, with_bounds, contour, contour_label_kws, ax, title, transform, adjust, **kwargs)\u001b[0m\n\u001b[0;32m    145\u001b[0m             \u001b[0max\u001b[0m\u001b[1;33m.\u001b[0m\u001b[0mclabel\u001b[0m\u001b[1;33m(\u001b[0m\u001b[0mC\u001b[0m\u001b[1;33m,\u001b[0m \u001b[1;33m**\u001b[0m\u001b[0mcontour_label_kws\u001b[0m\u001b[1;33m)\u001b[0m\u001b[1;33m\u001b[0m\u001b[1;33m\u001b[0m\u001b[0m\n\u001b[0;32m    146\u001b[0m     \u001b[1;32melse\u001b[0m\u001b[1;33m:\u001b[0m\u001b[1;33m\u001b[0m\u001b[1;33m\u001b[0m\u001b[0m\n\u001b[1;32m--> 147\u001b[1;33m         \u001b[0max\u001b[0m\u001b[1;33m.\u001b[0m\u001b[0mimshow\u001b[0m\u001b[1;33m(\u001b[0m\u001b[0marr\u001b[0m\u001b[1;33m,\u001b[0m \u001b[1;33m**\u001b[0m\u001b[0mkwargs\u001b[0m\u001b[1;33m)\u001b[0m\u001b[1;33m\u001b[0m\u001b[1;33m\u001b[0m\u001b[0m\n\u001b[0m\u001b[0;32m    148\u001b[0m     \u001b[1;32mif\u001b[0m \u001b[0mtitle\u001b[0m\u001b[1;33m:\u001b[0m\u001b[1;33m\u001b[0m\u001b[1;33m\u001b[0m\u001b[0m\n\u001b[0;32m    149\u001b[0m         \u001b[0max\u001b[0m\u001b[1;33m.\u001b[0m\u001b[0mset_title\u001b[0m\u001b[1;33m(\u001b[0m\u001b[0mtitle\u001b[0m\u001b[1;33m,\u001b[0m \u001b[0mfontweight\u001b[0m\u001b[1;33m=\u001b[0m\u001b[1;34m'bold'\u001b[0m\u001b[1;33m)\u001b[0m\u001b[1;33m\u001b[0m\u001b[1;33m\u001b[0m\u001b[0m\n",
      "\u001b[1;32mC:\\ProgramData\\Anaconda3\\lib\\site-packages\\matplotlib\\__init__.py\u001b[0m in \u001b[0;36minner\u001b[1;34m(ax, data, *args, **kwargs)\u001b[0m\n\u001b[0;32m   1808\u001b[0m                         \u001b[1;34m\"the Matplotlib list!)\"\u001b[0m \u001b[1;33m%\u001b[0m \u001b[1;33m(\u001b[0m\u001b[0mlabel_namer\u001b[0m\u001b[1;33m,\u001b[0m \u001b[0mfunc\u001b[0m\u001b[1;33m.\u001b[0m\u001b[0m__name__\u001b[0m\u001b[1;33m)\u001b[0m\u001b[1;33m,\u001b[0m\u001b[1;33m\u001b[0m\u001b[1;33m\u001b[0m\u001b[0m\n\u001b[0;32m   1809\u001b[0m                         RuntimeWarning, stacklevel=2)\n\u001b[1;32m-> 1810\u001b[1;33m             \u001b[1;32mreturn\u001b[0m \u001b[0mfunc\u001b[0m\u001b[1;33m(\u001b[0m\u001b[0max\u001b[0m\u001b[1;33m,\u001b[0m \u001b[1;33m*\u001b[0m\u001b[0margs\u001b[0m\u001b[1;33m,\u001b[0m \u001b[1;33m**\u001b[0m\u001b[0mkwargs\u001b[0m\u001b[1;33m)\u001b[0m\u001b[1;33m\u001b[0m\u001b[1;33m\u001b[0m\u001b[0m\n\u001b[0m\u001b[0;32m   1811\u001b[0m \u001b[1;33m\u001b[0m\u001b[0m\n\u001b[0;32m   1812\u001b[0m         inner.__doc__ = _add_data_doc(inner.__doc__,\n",
      "\u001b[1;32mC:\\ProgramData\\Anaconda3\\lib\\site-packages\\matplotlib\\axes\\_axes.py\u001b[0m in \u001b[0;36mimshow\u001b[1;34m(self, X, cmap, norm, aspect, interpolation, alpha, vmin, vmax, origin, extent, shape, filternorm, filterrad, imlim, resample, url, **kwargs)\u001b[0m\n\u001b[0;32m   5492\u001b[0m                               resample=resample, **kwargs)\n\u001b[0;32m   5493\u001b[0m \u001b[1;33m\u001b[0m\u001b[0m\n\u001b[1;32m-> 5494\u001b[1;33m         \u001b[0mim\u001b[0m\u001b[1;33m.\u001b[0m\u001b[0mset_data\u001b[0m\u001b[1;33m(\u001b[0m\u001b[0mX\u001b[0m\u001b[1;33m)\u001b[0m\u001b[1;33m\u001b[0m\u001b[1;33m\u001b[0m\u001b[0m\n\u001b[0m\u001b[0;32m   5495\u001b[0m         \u001b[0mim\u001b[0m\u001b[1;33m.\u001b[0m\u001b[0mset_alpha\u001b[0m\u001b[1;33m(\u001b[0m\u001b[0malpha\u001b[0m\u001b[1;33m)\u001b[0m\u001b[1;33m\u001b[0m\u001b[1;33m\u001b[0m\u001b[0m\n\u001b[0;32m   5496\u001b[0m         \u001b[1;32mif\u001b[0m \u001b[0mim\u001b[0m\u001b[1;33m.\u001b[0m\u001b[0mget_clip_path\u001b[0m\u001b[1;33m(\u001b[0m\u001b[1;33m)\u001b[0m \u001b[1;32mis\u001b[0m \u001b[1;32mNone\u001b[0m\u001b[1;33m:\u001b[0m\u001b[1;33m\u001b[0m\u001b[1;33m\u001b[0m\u001b[0m\n",
      "\u001b[1;32mC:\\ProgramData\\Anaconda3\\lib\\site-packages\\matplotlib\\image.py\u001b[0m in \u001b[0;36mset_data\u001b[1;34m(self, A)\u001b[0m\n\u001b[0;32m    636\u001b[0m         if not (self._A.ndim == 2\n\u001b[0;32m    637\u001b[0m                 or self._A.ndim == 3 and self._A.shape[-1] in [3, 4]):\n\u001b[1;32m--> 638\u001b[1;33m             \u001b[1;32mraise\u001b[0m \u001b[0mTypeError\u001b[0m\u001b[1;33m(\u001b[0m\u001b[1;34m\"Invalid dimensions for image data\"\u001b[0m\u001b[1;33m)\u001b[0m\u001b[1;33m\u001b[0m\u001b[1;33m\u001b[0m\u001b[0m\n\u001b[0m\u001b[0;32m    639\u001b[0m \u001b[1;33m\u001b[0m\u001b[0m\n\u001b[0;32m    640\u001b[0m         \u001b[1;32mif\u001b[0m \u001b[0mself\u001b[0m\u001b[1;33m.\u001b[0m\u001b[0m_A\u001b[0m\u001b[1;33m.\u001b[0m\u001b[0mndim\u001b[0m \u001b[1;33m==\u001b[0m \u001b[1;36m3\u001b[0m\u001b[1;33m:\u001b[0m\u001b[1;33m\u001b[0m\u001b[1;33m\u001b[0m\u001b[0m\n",
      "\u001b[1;31mTypeError\u001b[0m: Invalid dimensions for image data"
     ]
    },
    {
     "data": {
      "image/png": "[encoded data removed]",
      "text/plain": [
       "<Figure size 432x288 with 1 Axes>"
      ]
     },
     "metadata": {
      "needs_background": "light"
     },
     "output_type": "display_data"
    }
   ],
   "source": [
    "nso_tif_kernel.plot_kernel(annotations[annotations['label'] == \"Water, Overig\"][14:15][\"kernel\"].values[0])"
   ]
  },
  {
   "cell_type": "code",
   "execution_count": 77,
   "metadata": {
    "collapsed": true
   },
   "outputs": [
    {
     "data": {
      "text/plain": [
       "array([[[117. , 117.5, 119. , ...,  93.5,  97. ,  96. ],\n",
       "        [117.5, 118.5, 120. , ...,  90. ,  93.5,  92.5],\n",
       "        [116.5, 118. , 121. , ...,  86. ,  74.5,  74. ],\n",
       "        ...,\n",
       "        [ 41.5,  38.5,  36. , ...,  43.5,  56.5,  56.5],\n",
       "        [ 40. ,  37.5,  34.5, ...,  42.5,  44. ,  44. ],\n",
       "        [ 38.5,  37. ,  35. , ...,  41. ,  42. ,  42.5]],\n",
       "\n",
       "       [[116.5, 118. , 121. , ...,  86. ,  74.5,  74. ],\n",
       "        [117.5, 119. , 122.5, ...,  82. ,  70. ,  69.5],\n",
       "        [121.5, 123. , 123.5, ...,  64. ,  43. ,  42.5],\n",
       "        ...,\n",
       "        [ 38.5,  37. ,  35. , ...,  41. ,  42. ,  42.5],\n",
       "        [ 35.5,  35. ,  34.5, ...,  40. ,  41.5,  42. ],\n",
       "        [ 32. ,  32. ,  33. , ...,  40. ,  41.5,  42. ]]])"
      ]
     },
     "execution_count": 77,
     "metadata": {},
     "output_type": "execute_result"
    }
   ],
   "source": [
    "np.median([annotations[annotations['label'] == \"Mos\"]['kernel'].values[0],annotations[annotations['label'] == \"Mos\"]['kernel'].values[1]], axis=1)"
   ]
  },
  {
   "cell_type": "code",
   "execution_count": 305,
   "metadata": {
    "scrolled": false
   },
   "outputs": [
    {
     "name": "stdout",
     "output_type": "stream",
     "text": [
      "Mos\n",
      "25676\n"
     ]
    },
    {
     "name": "stderr",
     "output_type": "stream",
     "text": [
      "C:\\ProgramData\\Anaconda3\\lib\\site-packages\\ipykernel_launcher.py:14: VisibleDeprecationWarning: Creating an ndarray from ragged nested sequences (which is a list-or-tuple of lists-or-tuples-or ndarrays with different lengths or shapes) is deprecated. If you meant to do this, you must specify 'dtype=object' when creating the ndarray.\n",
      "  \n"
     ]
    },
    {
     "name": "stdout",
     "output_type": "stream",
     "text": [
      "Open laag struweel\n",
      "Faulty shape format\n",
      "Faulty shape format\n",
      "25748\n",
      "Zand\n",
      "26579\n",
      "Open Duindoorn\n",
      "25455\n",
      "Dicht Duindoorn\n",
      "24900\n",
      "Lage kruiden-gras\n",
      "Faulty shape format\n",
      "Faulty shape format\n",
      "24775\n",
      "Hoge kruiden-gras\n",
      "25684\n",
      "Dicht laag struweel\n",
      "Faulty shape format\n",
      "Faulty shape format\n",
      "25343\n",
      "Open Hoog Struweel\n",
      "25417\n",
      "Dicht Hoog Struweel\n",
      "24745\n",
      "Naaldbos\n",
      "25068\n",
      "Loofbos\n",
      "Faulty shape format\n",
      "Faulty shape format\n",
      "Faulty shape format\n",
      "Faulty shape format\n",
      "25055\n",
      "Adelaarsvaren\n",
      "Faulty shape format\n",
      "Faulty shape format\n",
      "Faulty shape format\n",
      "Faulty shape format\n",
      "Faulty shape format\n",
      "Faulty shape format\n",
      "Faulty shape format\n",
      "Faulty shape format\n",
      "Faulty shape format\n",
      "Faulty shape format\n",
      "26076\n",
      "Heide\n",
      "Faulty shape format\n",
      "Faulty shape format\n",
      "Faulty shape format\n",
      "Faulty shape format\n",
      "Faulty shape format\n",
      "Faulty shape format\n",
      "Faulty shape format\n",
      "Faulty shape format\n",
      "Faulty shape format\n",
      "Faulty shape format\n",
      "Faulty shape format\n",
      "Faulty shape format\n",
      "Faulty shape format\n",
      "Faulty shape format\n",
      "Faulty shape format\n",
      "Faulty shape format\n",
      "Faulty shape format\n",
      "Faulty shape format\n",
      "Faulty shape format\n",
      "Faulty shape format\n",
      "Faulty shape format\n",
      "Faulty shape format\n",
      "Faulty shape format\n",
      "Faulty shape format\n",
      "Faulty shape format\n",
      "Faulty shape format\n",
      "Faulty shape format\n",
      "Faulty shape format\n",
      "Faulty shape format\n",
      "Faulty shape format\n",
      "Faulty shape format\n",
      "Faulty shape format\n",
      "Faulty shape format\n",
      "Faulty shape format\n",
      "Faulty shape format\n",
      "Faulty shape format\n",
      "Faulty shape format\n",
      "Faulty shape format\n",
      "Faulty shape format\n",
      "Faulty shape format\n",
      "Faulty shape format\n",
      "Faulty shape format\n",
      "Faulty shape format\n",
      "Faulty shape format\n",
      "Faulty shape format\n",
      "Faulty shape format\n",
      "Faulty shape format\n",
      "Faulty shape format\n",
      "Faulty shape format\n",
      "Faulty shape format\n",
      "Faulty shape format\n",
      "Faulty shape format\n",
      "Faulty shape format\n",
      "Faulty shape format\n",
      "Faulty shape format\n",
      "Faulty shape format\n",
      "Faulty shape format\n",
      "Faulty shape format\n",
      "Faulty shape format\n",
      "Faulty shape format\n",
      "Faulty shape format\n",
      "Faulty shape format\n",
      "Faulty shape format\n",
      "Faulty shape format\n",
      "Faulty shape format\n",
      "Faulty shape format\n",
      "Faulty shape format\n",
      "Faulty shape format\n",
      "Faulty shape format\n",
      "Faulty shape format\n",
      "Faulty shape format\n",
      "Faulty shape format\n",
      "Faulty shape format\n",
      "Faulty shape format\n",
      "Faulty shape format\n",
      "Faulty shape format\n",
      "Faulty shape format\n",
      "Faulty shape format\n",
      "Faulty shape format\n",
      "Faulty shape format\n",
      "Faulty shape format\n",
      "Faulty shape format\n",
      "Faulty shape format\n",
      "Faulty shape format\n",
      "Faulty shape format\n",
      "Faulty shape format\n",
      "Faulty shape format\n",
      "Faulty shape format\n",
      "Faulty shape format\n",
      "Faulty shape format\n",
      "Faulty shape format\n",
      "Faulty shape format\n",
      "Faulty shape format\n",
      "Faulty shape format\n",
      "Faulty shape format\n",
      "Faulty shape format\n",
      "Faulty shape format\n",
      "Faulty shape format\n",
      "Faulty shape format\n",
      "Faulty shape format\n",
      "Faulty shape format\n",
      "Faulty shape format\n",
      "Faulty shape format\n",
      "Faulty shape format\n",
      "Faulty shape format\n",
      "Faulty shape format\n",
      "Faulty shape format\n",
      "Faulty shape format\n",
      "Faulty shape format\n",
      "Faulty shape format\n",
      "Faulty shape format\n",
      "Faulty shape format\n",
      "Faulty shape format\n",
      "Faulty shape format\n",
      "Faulty shape format\n",
      "Faulty shape format\n",
      "Faulty shape format\n",
      "Faulty shape format\n",
      "Faulty shape format\n",
      "Faulty shape format\n",
      "Faulty shape format\n",
      "Faulty shape format\n",
      "Faulty shape format\n",
      "Faulty shape format\n",
      "Faulty shape format\n",
      "Faulty shape format\n",
      "Faulty shape format\n",
      "Faulty shape format\n",
      "Faulty shape format\n",
      "Faulty shape format\n",
      "Faulty shape format\n",
      "Faulty shape format\n",
      "Faulty shape format\n",
      "Faulty shape format\n",
      "Faulty shape format\n",
      "Faulty shape format\n",
      "Faulty shape format\n",
      "Faulty shape format\n",
      "Faulty shape format\n",
      "Faulty shape format\n",
      "Faulty shape format\n",
      "Faulty shape format\n",
      "Faulty shape format\n",
      "Faulty shape format\n",
      "Faulty shape format\n",
      "Faulty shape format\n",
      "Faulty shape format\n",
      "Faulty shape format\n",
      "Faulty shape format\n",
      "Faulty shape format\n",
      "Faulty shape format\n",
      "Faulty shape format\n",
      "Faulty shape format\n",
      "Faulty shape format\n",
      "Faulty shape format\n",
      "Faulty shape format\n",
      "Faulty shape format\n",
      "Faulty shape format\n",
      "Faulty shape format\n",
      "Faulty shape format\n",
      "Faulty shape format\n",
      "Faulty shape format\n",
      "Faulty shape format\n",
      "Faulty shape format\n",
      "Faulty shape format\n",
      "Faulty shape format\n",
      "Faulty shape format\n",
      "Faulty shape format\n",
      "Faulty shape format\n",
      "Faulty shape format\n",
      "Faulty shape format\n",
      "Faulty shape format\n",
      "Faulty shape format\n",
      "Faulty shape format\n",
      "Faulty shape format\n",
      "Faulty shape format\n",
      "Faulty shape format\n",
      "Faulty shape format\n",
      "Faulty shape format\n",
      "Faulty shape format\n",
      "Faulty shape format\n",
      "Faulty shape format\n",
      "Faulty shape format\n",
      "Faulty shape format\n",
      "Faulty shape format\n",
      "Faulty shape format\n",
      "Faulty shape format\n",
      "Faulty shape format\n",
      "Faulty shape format\n",
      "Faulty shape format\n",
      "Faulty shape format\n",
      "Faulty shape format\n",
      "Faulty shape format\n",
      "Faulty shape format\n",
      "Faulty shape format\n",
      "Faulty shape format\n",
      "Faulty shape format\n",
      "Faulty shape format\n",
      "Faulty shape format\n",
      "Faulty shape format\n",
      "Faulty shape format\n",
      "Faulty shape format\n",
      "Faulty shape format\n",
      "Faulty shape format\n",
      "Faulty shape format\n",
      "Faulty shape format\n",
      "Faulty shape format\n",
      "Faulty shape format\n",
      "Faulty shape format\n",
      "Faulty shape format\n",
      "Faulty shape format\n",
      "Faulty shape format\n",
      "Faulty shape format\n",
      "Faulty shape format\n",
      "Faulty shape format\n",
      "Faulty shape format\n",
      "Faulty shape format\n",
      "Faulty shape format\n",
      "Faulty shape format\n",
      "Faulty shape format\n",
      "Faulty shape format\n",
      "Faulty shape format\n",
      "Faulty shape format\n",
      "Faulty shape format\n",
      "Faulty shape format\n",
      "Faulty shape format\n",
      "Faulty shape format\n",
      "Faulty shape format\n",
      "Faulty shape format\n",
      "Faulty shape format\n",
      "Faulty shape format\n",
      "Faulty shape format\n",
      "Faulty shape format\n",
      "Faulty shape format\n",
      "Faulty shape format\n",
      "Faulty shape format\n",
      "Faulty shape format\n",
      "Faulty shape format\n",
      "Faulty shape format\n",
      "Faulty shape format\n",
      "Faulty shape format\n",
      "Faulty shape format\n",
      "Faulty shape format\n",
      "Faulty shape format\n",
      "Faulty shape format\n",
      "Faulty shape format\n",
      "Faulty shape format\n",
      "Faulty shape format\n",
      "Faulty shape format\n",
      "Faulty shape format\n",
      "Faulty shape format\n",
      "Faulty shape format\n",
      "Faulty shape format\n",
      "Faulty shape format\n",
      "Faulty shape format\n",
      "Faulty shape format\n",
      "Faulty shape format\n",
      "Faulty shape format\n",
      "Faulty shape format\n",
      "Faulty shape format\n",
      "Faulty shape format\n",
      "Faulty shape format\n",
      "Faulty shape format\n",
      "Faulty shape format\n",
      "Faulty shape format\n",
      "Faulty shape format\n",
      "Faulty shape format\n",
      "Faulty shape format\n",
      "Faulty shape format\n",
      "Faulty shape format\n",
      "Faulty shape format\n",
      "Faulty shape format\n",
      "Faulty shape format\n",
      "Faulty shape format\n",
      "Faulty shape format\n",
      "Faulty shape format\n",
      "Faulty shape format\n",
      "Faulty shape format\n",
      "Faulty shape format\n",
      "Faulty shape format\n",
      "Faulty shape format\n",
      "14478\n",
      "Water, Overig\n",
      "Faulty shape format\n",
      "Faulty shape format\n",
      "Faulty shape format\n",
      "Faulty shape format\n",
      "Faulty shape format\n",
      "Faulty shape format\n",
      "Faulty shape format\n",
      "Faulty shape format\n",
      "Faulty shape format\n",
      "Faulty shape format\n",
      "Faulty shape format\n",
      "Faulty shape format\n",
      "Faulty shape format\n",
      "Faulty shape format\n",
      "Faulty shape format\n",
      "Faulty shape format\n",
      "Faulty shape format\n",
      "Faulty shape format\n",
      "Faulty shape format\n",
      "Faulty shape format\n",
      "Faulty shape format\n",
      "Faulty shape format\n",
      "Faulty shape format\n",
      "Faulty shape format\n",
      "Faulty shape format\n",
      "Faulty shape format\n",
      "Faulty shape format\n",
      "Faulty shape format\n",
      "Faulty shape format\n",
      "Faulty shape format\n",
      "Faulty shape format\n",
      "Faulty shape format\n",
      "Faulty shape format\n",
      "Faulty shape format\n",
      "Faulty shape format\n",
      "Faulty shape format\n",
      "Faulty shape format\n",
      "Faulty shape format\n",
      "Faulty shape format\n",
      "Faulty shape format\n",
      "Faulty shape format\n",
      "Faulty shape format\n",
      "Faulty shape format\n",
      "Faulty shape format\n",
      "Faulty shape format\n",
      "Faulty shape format\n",
      "Faulty shape format\n",
      "Faulty shape format\n",
      "Faulty shape format\n",
      "Faulty shape format\n",
      "Faulty shape format\n",
      "Faulty shape format\n",
      "Faulty shape format\n",
      "Faulty shape format\n",
      "Faulty shape format\n",
      "Faulty shape format\n",
      "Faulty shape format\n",
      "Faulty shape format\n",
      "Faulty shape format\n",
      "Faulty shape format\n",
      "Faulty shape format\n",
      "Faulty shape format\n",
      "Faulty shape format\n",
      "Faulty shape format\n",
      "Faulty shape format\n",
      "Faulty shape format\n",
      "Faulty shape format\n",
      "Faulty shape format\n",
      "Faulty shape format\n",
      "Faulty shape format\n",
      "Faulty shape format\n",
      "Faulty shape format\n",
      "Faulty shape format\n",
      "Faulty shape format\n",
      "Faulty shape format\n",
      "Faulty shape format\n",
      "Faulty shape format\n",
      "Faulty shape format\n",
      "Faulty shape format\n",
      "Faulty shape format\n",
      "Faulty shape format\n",
      "Faulty shape format\n",
      "22958\n",
      "Riet\n",
      "Faulty shape format\n",
      "Faulty shape format\n",
      "24039\n"
     ]
    }
   ],
   "source": [
    "np_array_median_annotation = np.array([])\n",
    "for label in annotations['label'].unique():\n",
    "    print(label)\n",
    "    anno_shapes = []\n",
    "    for shape in annotations[annotations['label'] == str(label)]['kernel'].values:\n",
    "        try:\n",
    "            if shape.shape == (2,32,32):\n",
    "               anno_shapes.append(shape) \n",
    "        except:\n",
    "            print(\"Faulty shape format\")\n",
    "        \n",
    "    print(len(anno_shapes))\n",
    "    \n",
    "    np_array_median_annotation = np.append(np_array_median_annotation, np.array([label, np.median(np.array(anno_shapes), axis=0)]) )\n",
    "  "
   ]
  },
  {
   "cell_type": "code",
   "execution_count": 306,
   "metadata": {},
   "outputs": [],
   "source": [
    "np_array_median_annotation = np_array_median_annotation.reshape(16,2)"
   ]
  },
  {
   "cell_type": "code",
   "execution_count": 307,
   "metadata": {},
   "outputs": [
    {
     "name": "stdout",
     "output_type": "stream",
     "text": [
      "---\n",
      "Mos\n",
      " NDVI:\n",
      "77730.0\n",
      " AHN:\n",
      "2190.5\n",
      "---\n",
      "Open laag struweel\n",
      " NDVI:\n",
      "88481.0\n",
      " AHN:\n",
      "25539.5\n",
      "---\n",
      "Zand\n",
      " NDVI:\n",
      "61835.0\n",
      " AHN:\n",
      "19576.0\n",
      "---\n",
      "Open Duindoorn\n",
      " NDVI:\n",
      "105946.0\n",
      " AHN:\n",
      "36583.0\n",
      "---\n",
      "Dicht Duindoorn\n",
      " NDVI:\n",
      "122700.5\n",
      " AHN:\n",
      "60027.5\n",
      "---\n",
      "Lage kruiden-gras\n",
      " NDVI:\n",
      "93366.0\n",
      " AHN:\n",
      "21111.0\n",
      "---\n",
      "Hoge kruiden-gras\n",
      " NDVI:\n",
      "100201.5\n",
      " AHN:\n",
      "28125.5\n",
      "---\n",
      "Dicht laag struweel\n",
      " NDVI:\n",
      "96590.0\n",
      " AHN:\n",
      "34981.0\n",
      "---\n",
      "Open Hoog Struweel\n",
      " NDVI:\n",
      "111628.0\n",
      " AHN:\n",
      "68177.0\n",
      "---\n",
      "Dicht Hoog Struweel\n",
      " NDVI:\n",
      "121592.0\n",
      " AHN:\n",
      "76266.0\n",
      "---\n",
      "Naaldbos\n",
      " NDVI:\n",
      "124332.5\n",
      " AHN:\n",
      "188949.0\n",
      "---\n",
      "Loofbos\n",
      " NDVI:\n",
      "140254.0\n",
      " AHN:\n",
      "150633.0\n",
      "---\n",
      "Adelaarsvaren\n",
      " NDVI:\n",
      "176570.0\n",
      " AHN:\n",
      "17886.5\n",
      "---\n",
      "Heide\n",
      " NDVI:\n",
      "106851.5\n",
      " AHN:\n",
      "1578.0\n",
      "---\n",
      "Water, Overig\n",
      " NDVI:\n",
      "101519.5\n",
      " AHN:\n",
      "44929.5\n",
      "---\n",
      "Riet\n",
      " NDVI:\n",
      "151600.0\n",
      " AHN:\n",
      "68513.0\n"
     ]
    }
   ],
   "source": [
    "for label in np_array_median_annotation:\n",
    "    print(\"---\")\n",
    "    print(label[0])\n",
    "    print(\" NDVI:\")\n",
    "    print(sum(sum(label[1][0])))\n",
    "    print(\" AHN:\")\n",
    "    print(sum(sum(label[1][1])))"
   ]
  },
  {
   "cell_type": "code",
   "execution_count": 308,
   "metadata": {},
   "outputs": [],
   "source": [
    "np.save(\"median_annotation.npy\",np_array_median_annotation)"
   ]
  },
  {
   "cell_type": "code",
   "execution_count": 96,
   "metadata": {
    "collapsed": true
   },
   "outputs": [
    {
     "data": {
      "text/plain": [
       "array([['Mos',\n",
       "        array([[[117. , 117.5, 119. , ...,  93.5,  97. ,  96. ],\n",
       "                [117.5, 118.5, 120. , ...,  90. ,  93.5,  92.5],\n",
       "                [116.5, 118. , 121. , ...,  86. ,  74.5,  74. ],\n",
       "                ...,\n",
       "                [ 41.5,  38.5,  36. , ...,  43.5,  56.5,  56.5],\n",
       "                [ 40. ,  37.5,  34.5, ...,  42.5,  44. ,  44. ],\n",
       "                [ 38.5,  37. ,  35. , ...,  41. ,  42. ,  42.5]],\n",
       "\n",
       "               [[116.5, 118. , 121. , ...,  86. ,  74.5,  74. ],\n",
       "                [117.5, 119. , 122.5, ...,  82. ,  70. ,  69.5],\n",
       "                [121.5, 123. , 123.5, ...,  64. ,  43. ,  42.5],\n",
       "                ...,\n",
       "                [ 38.5,  37. ,  35. , ...,  41. ,  42. ,  42.5],\n",
       "                [ 35.5,  35. ,  34.5, ...,  40. ,  41.5,  42. ],\n",
       "                [ 32. ,  32. ,  33. , ...,  40. ,  41.5,  42. ]]]),\n",
       "        'Open laag struweel',\n",
       "        array([[[73. , 72.5, 45.5, ..., 35. , 36.5, 39.5],\n",
       "                [72.5, 72. , 46. , ..., 33. , 33.5, 36.5],\n",
       "                [74. , 74. , 58. , ..., 33. , 34. , 36. ],\n",
       "                ...,\n",
       "                [63.5, 64.5, 60. , ..., 47.5, 48.5, 50. ],\n",
       "                [59.5, 60. , 60.5, ..., 35.5, 35.5, 36. ],\n",
       "                [60. , 59.5, 60. , ..., 38. , 37.5, 38.5]],\n",
       "\n",
       "               [[72.5, 72. , 46. , ..., 33. , 33.5, 36.5],\n",
       "                [74. , 74. , 58. , ..., 33. , 34. , 36. ],\n",
       "                [74. , 74.5, 59. , ..., 34. , 35. , 36.5],\n",
       "                ...,\n",
       "                [59.5, 60. , 60.5, ..., 35.5, 35.5, 36. ],\n",
       "                [60. , 59.5, 60. , ..., 38. , 37.5, 38.5],\n",
       "                [60.5, 60. , 47. , ..., 39.5, 39. , 39. ]]]), 'Zand',\n",
       "        array([[[50. , 50. , 69. , ..., 53. , 69.5, 71. ],\n",
       "                [49.5, 49.5, 68.5, ..., 53.5, 69.5, 70.5],\n",
       "                [49. , 49. , 65. , ..., 67.5, 70. , 70.5],\n",
       "                ...,\n",
       "                [25.5, 26. , 24.5, ..., 35. , 37. , 38.5],\n",
       "                [26. , 27.5, 27. , ..., 32. , 53.5, 55. ],\n",
       "                [27. , 28. , 28.5, ..., 29. , 49. , 49.5]],\n",
       "\n",
       "               [[69. , 69. , 63.5, ..., 71. , 96. , 96.5],\n",
       "                [68.5, 68.5, 63. , ..., 70.5, 95.5, 96. ],\n",
       "                [65. , 65. , 62.5, ..., 70.5, 70.5, 71. ],\n",
       "                ...,\n",
       "                [24.5, 22.5, 37.5, ..., 38.5, 39.5, 40.5],\n",
       "                [27. , 23. , 20.5, ..., 55. , 36.5, 38. ],\n",
       "                [28.5, 27. , 24.5, ..., 49.5, 30.5, 33.5]]]),\n",
       "        'Open Duindoorn',\n",
       "        array([[[87. , 85.5, 84. , ..., 66.5, 53. , 52.5],\n",
       "                [84. , 83. , 81. , ..., 65.5, 52. , 51.5],\n",
       "                [76.5, 75. , 76. , ..., 51.5, 51. , 50.5],\n",
       "                ...,\n",
       "                [83. , 82. , 79.5, ..., 54. , 54.5, 54.5],\n",
       "                [81. , 81. , 69.5, ..., 53.5, 54. , 54.5],\n",
       "                [82. , 82.5, 70. , ..., 53.5, 54. , 54.5]],\n",
       "\n",
       "               [[76.5, 75. , 76. , ..., 51.5, 51. , 50.5],\n",
       "                [74.5, 71.5, 74. , ..., 50.5, 50.5, 50. ],\n",
       "                [69.5, 67. , 69.5, ..., 50. , 49.5, 49.5],\n",
       "                ...,\n",
       "                [82. , 82.5, 70. , ..., 53.5, 54. , 54.5],\n",
       "                [82. , 82.5, 78.5, ..., 53. , 54. , 55. ],\n",
       "                [80. , 80.5, 77. , ..., 53. , 54. , 55. ]]]),\n",
       "        'Dicht Duindoorn',\n",
       "        array([[[65.5, 66.5, 71.5, ..., 50. , 51.5, 51.5],\n",
       "                [68.5, 69. , 73. , ..., 49.5, 51.5, 52. ],\n",
       "                [66.5, 66.5, 66.5, ..., 51.5, 57.5, 58. ],\n",
       "                ...,\n",
       "                [35. , 37. , 53.5, ..., 70.5, 48.5, 47. ],\n",
       "                [34.5, 36. , 37.5, ..., 68. , 76. , 74.5],\n",
       "                [33. , 34. , 36.5, ..., 69. , 76.5, 75. ]],\n",
       "\n",
       "               [[66.5, 66.5, 66.5, ..., 51.5, 57.5, 58. ],\n",
       "                [64.5, 65. , 65.5, ..., 53.5, 59. , 59. ],\n",
       "                [56.5, 57. , 64. , ..., 41. , 41. , 41. ],\n",
       "                ...,\n",
       "                [33. , 34. , 36.5, ..., 69. , 76.5, 75. ],\n",
       "                [31. , 31.5, 34.5, ..., 78.5, 78. , 76. ],\n",
       "                [29. , 30. , 33. , ..., 80.5, 80.5, 79.5]]]),\n",
       "        'Lage kruiden-gras',\n",
       "        array([[[29.5, 33. , 37.5, ..., 86.5, 85. , 86. ],\n",
       "                [30. , 32.5, 36. , ..., 86.5, 84. , 85.5],\n",
       "                [65. , 66.5, 34. , ..., 88. , 29.5, 31.5],\n",
       "                ...,\n",
       "                [74.5, 75.5, 80.5, ..., 91. , 95.5, 96.5],\n",
       "                [73. , 74.5, 89.5, ..., 96.5, 96. , 95. ],\n",
       "                [74. , 75. , 90. , ..., 98. , 95. , 93.5]],\n",
       "\n",
       "               [[65. , 66.5, 34. , ..., 88. , 29.5, 31.5],\n",
       "                [65. , 66.5, 33. , ..., 87.5, 28. , 30. ],\n",
       "                [62. , 64. , 59.5, ..., 81. , 84. , 85. ],\n",
       "                ...,\n",
       "                [74. , 75. , 90. , ..., 98. , 95. , 93.5],\n",
       "                [83.5, 84.5, 42.5, ..., 97. , 93. , 91. ],\n",
       "                [83.5, 84. , 41. , ..., 98. , 94.5, 93. ]]]),\n",
       "        'Hoge kruiden-gras',\n",
       "        array([[[102.5, 101. , 101. , ...,  42.5,  44.5,  49. ],\n",
       "                [101.5,  99.5,  99.5, ...,  43. ,  45.5,  50. ],\n",
       "                [ 82. ,  79.5,  79. , ...,  42.5,  45.5,  50.5],\n",
       "                ...,\n",
       "                [ 40. ,  42.5,  76.5, ...,  61. ,  61. ,  59. ],\n",
       "                [ 40. ,  43. ,  74. , ...,  69.5,  50.5,  51. ],\n",
       "                [ 39.5,  41.5,  72.5, ...,  69. ,  51. ,  53. ]],\n",
       "\n",
       "               [[ 82. ,  79.5,  79. , ...,  42.5,  45.5,  50.5],\n",
       "                [ 79. ,  76.5,  75.5, ...,  41. ,  45. ,  49.5],\n",
       "                [ 63. ,  60.5,  46.5, ...,  38.5,  52. ,  57. ],\n",
       "                ...,\n",
       "                [ 39.5,  41.5,  72.5, ...,  69. ,  51. ,  53. ],\n",
       "                [ 58. ,  60. ,  70. , ...,  66.5,  51. ,  53.5],\n",
       "                [ 58.5,  60.5,  70. , ...,  65. ,  50. ,  53.5]]]),\n",
       "        'Dicht laag struweel',\n",
       "        array([[[52. , 51.5, 39.5, ..., 46. , 60. , 58.5],\n",
       "                [51. , 51. , 39.5, ..., 45.5, 59.5, 59. ],\n",
       "                [39.5, 39.5, 53. , ..., 45.5, 45.5, 45. ],\n",
       "                ...,\n",
       "                [43. , 44. , 56.5, ..., 53.5, 61.5, 61.5],\n",
       "                [56.5, 57.5, 76.5, ..., 60. , 63. , 63.5],\n",
       "                [56.5, 57. , 76.5, ..., 59. , 62.5, 62.5]],\n",
       "\n",
       "               [[39.5, 39.5, 53. , ..., 45.5, 45.5, 45. ],\n",
       "                [40.5, 40.5, 53.5, ..., 45.5, 45.5, 45. ],\n",
       "                [54. , 54.5, 41. , ..., 44.5, 45. , 44.5],\n",
       "                ...,\n",
       "                [56.5, 57. , 76.5, ..., 59. , 62.5, 62.5],\n",
       "                [74.5, 75. , 78.5, ..., 64. , 63. , 63.5],\n",
       "                [73. , 74. , 78.5, ..., 64. , 63. , 63.5]]])],\n",
       "       ['Open Hoog Struweel',\n",
       "        array([[[118. , 120. , 120.5, ..., 139. , 140.5, 139.5],\n",
       "                [119. , 120.5, 121. , ..., 136.5, 137.5, 137.5],\n",
       "                [121. , 122.5, 119.5, ..., 133.5, 132.5, 133. ],\n",
       "                ...,\n",
       "                [105.5, 106. , 119.5, ..., 113.5, 128. , 129. ],\n",
       "                [114.5, 115. , 118.5, ..., 125.5, 131.5, 133. ],\n",
       "                [115.5, 116. , 119.5, ..., 126.5, 132.5, 134.5]],\n",
       "\n",
       "               [[121. , 122.5, 119.5, ..., 133.5, 132.5, 133. ],\n",
       "                [121.5, 123. , 120.5, ..., 134. , 132.5, 132.5],\n",
       "                [105.5, 107. , 125.5, ..., 130. , 112.5, 112.5],\n",
       "                ...,\n",
       "                [115.5, 116. , 119.5, ..., 126.5, 132.5, 134.5],\n",
       "                [112. , 112.5, 119. , ..., 125. , 129. , 130. ],\n",
       "                [112.5, 113. , 119.5, ..., 125.5, 130. , 131.5]]]),\n",
       "        'Dicht Hoog Struweel',\n",
       "        array([[[151.5, 149. , 115. , ..., 153. , 154. , 156. ],\n",
       "                [149. , 148.5, 115.5, ..., 154.5, 158. , 159.5],\n",
       "                [114. , 114. , 115.5, ..., 154. , 156.5, 156. ],\n",
       "                ...,\n",
       "                [127. , 126. , 123.5, ...,  89. ,  81.5,  84. ],\n",
       "                [119.5, 119. , 124. , ...,  68.5,  71.5,  74.5],\n",
       "                [119.5, 120. , 124.5, ...,  63.5,  65. ,  68.5]],\n",
       "\n",
       "               [[114. , 114. , 115.5, ..., 154. , 156.5, 156. ],\n",
       "                [114.5, 115.5, 117. , ..., 154.5, 155. , 152.5],\n",
       "                [113.5, 115. , 122. , ..., 156.5, 153.5, 150.5],\n",
       "                ...,\n",
       "                [119.5, 120. , 124.5, ...,  63.5,  65. ,  68.5],\n",
       "                [114.5, 115.5, 117. , ...,  70.5,  62. ,  65. ],\n",
       "                [113.5, 114. , 116. , ...,  69. ,  60.5,  62.5]]]),\n",
       "        'Naaldbos',\n",
       "        array([[[ 68. ,  66. ,  65.5, ..., 149. , 151.5, 151. ],\n",
       "                [ 65.5,  63.5,  63.5, ..., 149. , 151. , 150.5],\n",
       "                [ 63.5,  61.5,  56. , ..., 151. , 152.5, 152.5],\n",
       "                ...,\n",
       "                [131. , 132. , 134.5, ..., 163. , 172. , 172.5],\n",
       "                [135.5, 136. , 137.5, ..., 168. , 172. , 169.5],\n",
       "                [138.5, 139.5, 141. , ..., 175.5, 173. , 168.5]],\n",
       "\n",
       "               [[ 44.5,  43.5,  42.5, ..., 151. , 153. , 154. ],\n",
       "                [ 39.5,  39. ,  40.5, ..., 152.5, 154. , 155. ],\n",
       "                [ 37. ,  39.5,  40.5, ..., 152.5, 154.5, 156. ],\n",
       "                ...,\n",
       "                [143. , 144. , 146. , ..., 156.5, 166. , 167. ],\n",
       "                [138.5, 140. , 148.5, ..., 153. , 146.5, 148. ],\n",
       "                [141. , 142. , 150. , ..., 152. , 144.5, 146. ]]]),\n",
       "        'Loofbos', array([[[76. , 76. , 78. , ..., 35. , 35. , 35. ],\n",
       "                           [76. , 76. , 78. , ..., 35. , 35. , 35. ],\n",
       "                           [71. , 71. , 72.5, ...,  0.5, 26. , 26. ],\n",
       "                           ...,\n",
       "                           [23.5, 23.5, 76.5, ..., 70.5, 69. , 69. ],\n",
       "                           [70.5, 70.5, 80. , ..., 70.5, 68. , 68. ],\n",
       "                           [70.5, 70.5, 80. , ..., 70.5, 68. , 68. ]],\n",
       "\n",
       "                          [[71. , 71. , 72.5, ...,  0.5, 26. , 26. ],\n",
       "                           [71. , 71. , 72.5, ...,  0.5, 26. , 26. ],\n",
       "                           [84. , 84. , 69. , ..., 12.5, 14. , 14. ],\n",
       "                           ...,\n",
       "                           [70.5, 70.5, 80. , ..., 70.5, 68. , 68. ],\n",
       "                           [78.5, 78.5, 68.5, ...,  0.5, 34.5, 34.5],\n",
       "                           [78.5, 78.5, 68.5, ...,  0.5, 34.5, 34.5]]]),\n",
       "        'Adelaarsvaren',\n",
       "        array([[[ 92. ,  92. , 120. , ..., 148.5, 143.5, 141.5],\n",
       "                [ 89.5,  91.5, 121. , ..., 149. , 145. , 143.5],\n",
       "                [ 91. ,  96. , 129.5, ..., 146.5, 145.5, 147. ],\n",
       "                ...,\n",
       "                [144.5, 145. , 151. , ..., 152. , 153.5, 152. ],\n",
       "                [144.5, 143.5, 146.5, ..., 151.5, 152.5, 151. ],\n",
       "                [149. , 147. , 145. , ..., 144. , 149. , 148. ]],\n",
       "\n",
       "               [[ 89.5,  91.5, 121. , ..., 149. , 145. , 143.5],\n",
       "                [ 91. ,  96. , 129.5, ..., 146.5, 145.5, 147. ],\n",
       "                [ 98. , 104.5, 137.5, ..., 155. , 146. , 148.5],\n",
       "                ...,\n",
       "                [144.5, 143.5, 146.5, ..., 151.5, 152.5, 151. ],\n",
       "                [149. , 147. , 145. , ..., 144. , 149. , 148. ],\n",
       "                [149.5, 148.5, 145. , ..., 145.5, 148.5, 147. ]]]),\n",
       "        'Heide',\n",
       "        array([[[ 46.5,  45. ,  45. , ..., 123.5, 116. , 114. ],\n",
       "                [ 47. ,  46. ,  45.5, ..., 123.5, 116. , 113.5],\n",
       "                [ 47. ,  46. ,  45. , ..., 124.5, 122. , 119.5],\n",
       "                ...,\n",
       "                [ 48.5,  48. ,  47.5, ...,  54.5,  54. ,  53. ],\n",
       "                [ 49. ,  49. ,  48.5, ...,  52. ,  51.5,  51.5],\n",
       "                [ 50. ,  49.5,  49. , ...,  50. ,  50.5,  50.5]],\n",
       "\n",
       "               [[ 47. ,  46. ,  45. , ..., 124.5, 122. , 119.5],\n",
       "                [ 47. ,  46. ,  45. , ..., 124.5, 122.5, 119. ],\n",
       "                [ 47. ,  46.5,  96. , ..., 127.5, 123.5, 119. ],\n",
       "                ...,\n",
       "                [ 50. ,  49.5,  49. , ...,  50. ,  50.5,  50.5],\n",
       "                [ 50.5,  50. ,  49.5, ...,  49. ,  49.5,  50. ],\n",
       "                [ 51.5,  51. ,  50.5, ...,  49. ,  49.5,  50. ]]]),\n",
       "        'Water, Overig',\n",
       "        array([[[110.5, 109. , 110.5, ...,  78.5,  82. ,  81.5],\n",
       "                [108.5, 108. , 110. , ...,  79.5,  82.5,  83. ],\n",
       "                [107. , 107. , 110.5, ...,  65. , 108.5, 110.5],\n",
       "                ...,\n",
       "                [ 21. ,  21. ,  19.5, ...,  24.5,  27.5,  27. ],\n",
       "                [ 18. ,  20. ,  22. , ...,  19.5,  23.5,  24. ],\n",
       "                [ 22. ,  22. ,  22.5, ...,  19.5,  21.5,  22.5]],\n",
       "\n",
       "               [[114. , 114. , 110.5, ...,  84.5,  77. ,  78.5],\n",
       "                [111.5, 110.5, 108.5, ...,  87. ,  78.5,  79.5],\n",
       "                [107.5, 107. , 107. , ...,  77.5,  66. ,  65. ],\n",
       "                ...,\n",
       "                [ 21.5,  21.5,  21. , ...,  23. ,  24. ,  24.5],\n",
       "                [ 21. ,  18. ,  18. , ...,  24. ,  21. ,  19.5],\n",
       "                [ 22. ,  22. ,  22. , ...,  24. ,  21. ,  19.5]]]),\n",
       "        'Riet', array([[[17.5, 17.5, 19. , ..., 75. , 98. , 96. ],\n",
       "                        [21. , 21. , 21.5, ..., 74.5, 97.5, 96.5],\n",
       "                        [18.5, 19. , 19. , ..., 61.5, 74.5, 73.5],\n",
       "                        ...,\n",
       "                        [19. , 19. , 17.5, ..., 92. , 55.5, 55. ],\n",
       "                        [19. , 17. , 15.5, ..., 95.5, 68. , 67. ],\n",
       "                        [19. , 17. , 15. , ..., 95. , 67.5, 66.5]],\n",
       "\n",
       "                       [[18.5, 19. , 19. , ..., 61.5, 74.5, 73.5],\n",
       "                        [13.5, 15. , 14. , ..., 60. , 73.5, 73. ],\n",
       "                        [14.5, 15. , 12. , ..., 58.5, 90. , 89.5],\n",
       "                        ...,\n",
       "                        [19. , 17. , 15. , ..., 95. , 67.5, 66.5],\n",
       "                        [19. , 17.5, 15.5, ..., 69. , 54.5, 53. ],\n",
       "                        [19.5, 18.5, 17. , ..., 68. , 53.5, 51.5]]])]],\n",
       "      dtype=object)"
      ]
     },
     "execution_count": 96,
     "metadata": {},
     "output_type": "execute_result"
    }
   ],
   "source": [
    "np.load(\"median_annotation.npy\",allow_pickle=True)"
   ]
  },
  {
   "cell_type": "code",
   "execution_count": 309,
   "metadata": {
    "collapsed": true
   },
   "outputs": [
    {
     "data": {
      "text/plain": [
       "array([['Mos', array([[[77., 77., 77., ..., 78., 78., 78.],\n",
       "                       [77., 77., 77., ..., 78., 78., 78.],\n",
       "                       [77., 77., 77., ..., 77., 77., 77.],\n",
       "                       ...,\n",
       "                       [73., 73., 73., ..., 76., 76., 76.],\n",
       "                       [74., 74., 74., ..., 76., 76., 76.],\n",
       "                       [74., 74., 74., ..., 76., 76., 77.]],\n",
       "\n",
       "                      [[ 1.,  1.,  1., ...,  1.,  1.,  1.],\n",
       "                       [ 1.,  1.,  1., ...,  1.,  1.,  1.],\n",
       "                       [ 1.,  1.,  1., ...,  1.,  1.,  1.],\n",
       "                       ...,\n",
       "                       [ 1.,  1.,  1., ...,  1.,  1.,  1.],\n",
       "                       [ 1.,  1.,  1., ...,  1.,  1.,  1.],\n",
       "                       [ 1.,  1.,  1., ...,  1.,  1.,  1.]]])],\n",
       "       ['Open laag struweel',\n",
       "        array([[[84., 84., 84., ..., 85., 84., 85.],\n",
       "                [84., 85., 85., ..., 85., 85., 85.],\n",
       "                [85., 85., 85., ..., 85., 85., 85.],\n",
       "                ...,\n",
       "                [85., 85., 86., ..., 85., 85., 85.],\n",
       "                [85., 85., 85., ..., 85., 85., 84.],\n",
       "                [85., 85., 85., ..., 84., 84., 84.]],\n",
       "\n",
       "               [[21., 21., 21., ..., 21., 21., 21.],\n",
       "                [21., 21., 21., ..., 21., 21., 21.],\n",
       "                [22., 22., 22., ..., 22., 22., 22.],\n",
       "                ...,\n",
       "                [22., 22., 23., ..., 22., 21., 21.],\n",
       "                [22., 22., 22., ..., 21., 21., 21.],\n",
       "                [22., 22., 22., ..., 21., 21., 21.]]])],\n",
       "       ['Zand', array([[[61., 61., 61., ..., 66., 66., 67.],\n",
       "                        [60., 60., 60., ..., 66., 66., 67.],\n",
       "                        [60., 60., 60., ..., 65., 66., 66.],\n",
       "                        ...,\n",
       "                        [55., 55., 55., ..., 67., 68., 68.],\n",
       "                        [55., 55., 55., ..., 68., 68., 69.],\n",
       "                        [56., 56., 56., ..., 68., 69., 69.]],\n",
       "\n",
       "                       [[15., 15., 16., ..., 21., 21., 21.],\n",
       "                        [15., 15., 16., ..., 21., 21., 21.],\n",
       "                        [16., 16., 16., ..., 21., 21., 21.],\n",
       "                        ...,\n",
       "                        [15., 15., 16., ..., 20., 21., 21.],\n",
       "                        [16., 16., 16., ..., 20., 21., 21.],\n",
       "                        [16., 16., 16., ..., 21., 21., 21.]]])],\n",
       "       ['Open Duindoorn',\n",
       "        array([[[ 99.,  99., 100., ..., 100., 100., 100.],\n",
       "                [100., 100., 100., ..., 100., 100., 100.],\n",
       "                [100., 100., 100., ..., 101., 100., 100.],\n",
       "                ...,\n",
       "                [103., 103., 103., ..., 101., 101., 101.],\n",
       "                [103., 103., 103., ..., 101., 101., 101.],\n",
       "                [103., 103., 103., ..., 101., 101., 100.]],\n",
       "\n",
       "               [[ 30.,  30.,  31., ...,  32.,  32.,  32.],\n",
       "                [ 30.,  30.,  31., ...,  32.,  32.,  32.],\n",
       "                [ 31.,  31.,  31., ...,  33.,  32.,  32.],\n",
       "                ...,\n",
       "                [ 34.,  34.,  34., ...,  33.,  32.,  32.],\n",
       "                [ 33.,  33.,  34., ...,  32.,  31.,  31.],\n",
       "                [ 33.,  33.,  34., ...,  32.,  31.,  32.]]])],\n",
       "       ['Dicht Duindoorn',\n",
       "        array([[[115., 115., 116., ..., 116., 115., 115.],\n",
       "                [115., 116., 116., ..., 116., 116., 115.],\n",
       "                [116., 116., 116., ..., 116., 116., 116.],\n",
       "                ...,\n",
       "                [121., 121., 121., ..., 117., 116., 116.],\n",
       "                [120., 120., 121., ..., 117., 116., 116.],\n",
       "                [120., 120., 120., ..., 116., 116., 116.]],\n",
       "\n",
       "               [[ 54.,  54.,  55., ...,  56.,  56.,  56.],\n",
       "                [ 54.,  54.,  55., ...,  56.,  56.,  56.],\n",
       "                [ 55.,  55.,  56., ...,  56.,  56.,  56.],\n",
       "                ...,\n",
       "                [ 58.,  58.,  58., ...,  56.,  56.,  56.],\n",
       "                [ 57.,  57.,  58., ...,  56.,  55.,  55.],\n",
       "                [ 57.,  57.,  58., ...,  56.,  55.,  55.]]])],\n",
       "       ['Lage kruiden-gras',\n",
       "        array([[[91., 91., 91., ..., 91., 91., 91.],\n",
       "                [91., 91., 91., ..., 91., 91., 91.],\n",
       "                [91., 91., 91., ..., 91., 91., 91.],\n",
       "                ...,\n",
       "                [91., 91., 91., ..., 91., 91., 91.],\n",
       "                [91., 91., 91., ..., 91., 91., 91.],\n",
       "                [91., 91., 91., ..., 91., 91., 91.]],\n",
       "\n",
       "               [[19., 19., 20., ..., 20., 20., 20.],\n",
       "                [19., 19., 20., ..., 20., 20., 20.],\n",
       "                [19., 19., 20., ..., 20., 20., 20.],\n",
       "                ...,\n",
       "                [ 1.,  1., 10., ..., 18., 17., 17.],\n",
       "                [ 1.,  1., 12., ..., 15., 16., 16.],\n",
       "                [ 1.,  1., 13., ..., 15., 17., 17.]]])],\n",
       "       ['Hoge kruiden-gras',\n",
       "        array([[[97., 97., 97., ..., 97., 97., 97.],\n",
       "                [97., 97., 97., ..., 97., 97., 97.],\n",
       "                [97., 97., 97., ..., 97., 97., 97.],\n",
       "                ...,\n",
       "                [97., 97., 97., ..., 97., 97., 97.],\n",
       "                [97., 97., 97., ..., 97., 97., 97.],\n",
       "                [97., 97., 97., ..., 97., 97., 97.]],\n",
       "\n",
       "               [[25., 26., 26., ..., 27., 27., 27.],\n",
       "                [26., 26., 26., ..., 27., 27., 27.],\n",
       "                [26., 26., 26., ..., 27., 27., 27.],\n",
       "                ...,\n",
       "                [27., 27., 26., ..., 26., 26., 26.],\n",
       "                [26., 26., 26., ..., 26., 26., 26.],\n",
       "                [26., 26., 26., ..., 26., 26., 26.]]])],\n",
       "       ['Dicht laag struweel',\n",
       "        array([[[90., 90., 90., ..., 91., 90., 90.],\n",
       "                [90., 90., 90., ..., 91., 91., 90.],\n",
       "                [91., 91., 91., ..., 91., 91., 91.],\n",
       "                ...,\n",
       "                [93., 93., 94., ..., 90., 90., 90.],\n",
       "                [93., 93., 93., ..., 90., 90., 89.],\n",
       "                [93., 93., 93., ..., 89., 89., 89.]],\n",
       "\n",
       "               [[28., 28., 28., ..., 30., 29., 29.],\n",
       "                [29., 28., 28., ..., 30., 29., 29.],\n",
       "                [30., 29., 30., ..., 30., 30., 30.],\n",
       "                ...,\n",
       "                [31., 31., 31., ..., 29., 29., 29.],\n",
       "                [30., 30., 30., ..., 28., 28., 28.],\n",
       "                [30., 30., 30., ..., 28., 28., 28.]]])],\n",
       "       ['Open Hoog Struweel',\n",
       "        array([[[105., 105., 105., ..., 105., 105., 105.],\n",
       "                [105., 106., 106., ..., 106., 106., 106.],\n",
       "                [105., 106., 106., ..., 106., 106., 106.],\n",
       "                ...,\n",
       "                [108., 108., 109., ..., 107., 107., 107.],\n",
       "                [108., 108., 108., ..., 107., 107., 107.],\n",
       "                [108., 108., 108., ..., 107., 106., 106.]],\n",
       "\n",
       "               [[ 51.,  51.,  53., ...,  55.,  56.,  56.],\n",
       "                [ 52.,  52.,  53., ...,  55.,  56.,  56.],\n",
       "                [ 55.,  55.,  55., ...,  59.,  58.,  58.],\n",
       "                ...,\n",
       "                [ 59.,  59.,  61., ...,  58.,  55.,  55.],\n",
       "                [ 58.,  58.,  59., ...,  56.,  53.,  53.],\n",
       "                [ 58.,  58.,  59., ...,  56.,  53.,  53.]]])],\n",
       "       ['Dicht Hoog Struweel',\n",
       "        array([[[114., 114., 114., ..., 114., 114., 114.],\n",
       "                [114., 114., 114., ..., 114., 114., 114.],\n",
       "                [114., 115., 115., ..., 115., 114., 114.],\n",
       "                ...,\n",
       "                [119., 119., 119., ..., 116., 116., 115.],\n",
       "                [119., 119., 119., ..., 116., 115., 115.],\n",
       "                [118., 119., 119., ..., 115., 115., 114.]],\n",
       "\n",
       "               [[ 66.,  66.,  67., ...,  68.,  67.,  67.],\n",
       "                [ 66.,  66.,  67., ...,  68.,  67.,  67.],\n",
       "                [ 67.,  67.,  68., ...,  70.,  69.,  69.],\n",
       "                ...,\n",
       "                [ 71.,  71.,  71., ...,  68.,  67.,  67.],\n",
       "                [ 69.,  69.,  70., ...,  66.,  65.,  65.],\n",
       "                [ 69.,  69.,  70., ...,  66.,  65.,  65.]]])],\n",
       "       ['Naaldbos', array([[[120., 120., 120., ..., 121., 121., 121.],\n",
       "                            [120., 120., 120., ..., 121., 121., 121.],\n",
       "                            [120., 120., 120., ..., 121., 121., 122.],\n",
       "                            ...,\n",
       "                            [122., 121., 121., ..., 122., 123., 122.],\n",
       "                            [122., 122., 122., ..., 122., 122., 122.],\n",
       "                            [122., 122., 122., ..., 122., 122., 122.]],\n",
       "\n",
       "                           [[181., 181., 182., ..., 184., 184., 184.],\n",
       "                            [181., 181., 182., ..., 184., 184., 184.],\n",
       "                            [182., 182., 182., ..., 184., 184., 184.],\n",
       "                            ...,\n",
       "                            [182., 182., 182., ..., 185., 185., 185.],\n",
       "                            [182., 182., 182., ..., 184., 184., 184.],\n",
       "                            [182., 182., 182., ..., 184., 184., 184.]]])],\n",
       "       ['Loofbos', array([[[133., 133., 133., ..., 134., 134., 134.],\n",
       "                           [133., 133., 133., ..., 134., 134., 134.],\n",
       "                           [133., 133., 133., ..., 134., 134., 134.],\n",
       "                           ...,\n",
       "                           [137., 137., 137., ..., 137., 137., 137.],\n",
       "                           [137., 137., 137., ..., 137., 137., 137.],\n",
       "                           [137., 137., 137., ..., 137., 137., 137.]],\n",
       "\n",
       "                          [[139., 139., 141., ..., 143., 143., 143.],\n",
       "                           [139., 139., 141., ..., 143., 143., 143.],\n",
       "                           [141., 140., 142., ..., 145., 144., 144.],\n",
       "                           ...,\n",
       "                           [144., 144., 144., ..., 144., 143., 143.],\n",
       "                           [143., 143., 143., ..., 143., 142., 142.],\n",
       "                           [143., 143., 143., ..., 143., 142., 142.]]])],\n",
       "       ['Adelaarsvaren',\n",
       "        array([[[170. , 170. , 170. , ..., 171. , 170. , 170. ],\n",
       "                [170. , 171. , 171. , ..., 171. , 170. , 170. ],\n",
       "                [170. , 171. , 171. , ..., 171. , 170. , 170. ],\n",
       "                ...,\n",
       "                [172. , 172. , 172. , ..., 170. , 170. , 170. ],\n",
       "                [172. , 172. , 172. , ..., 170. , 170. , 169. ],\n",
       "                [172. , 172. , 172. , ..., 169. , 169. , 169. ]],\n",
       "\n",
       "               [[  1. ,   1. ,   1. , ...,   1. ,   1. ,   1. ],\n",
       "                [  1. ,   1. ,   1. , ...,   1. ,   1. ,   1. ],\n",
       "                [  1. ,   1. ,   1. , ...,   1. ,  15.5,  16. ],\n",
       "                ...,\n",
       "                [  1. ,   1. ,   1. , ...,  18. ,  18. ,  18. ],\n",
       "                [  1. ,   1. ,   1. , ...,  17. ,  18. ,  18. ],\n",
       "                [  1. ,   1. ,   1. , ...,  17. ,  18. ,  17. ]]])],\n",
       "       ['Heide', array([[[100., 100., 100., ...,  99.,  99.,  99.],\n",
       "                         [100., 100., 100., ...,  99.,  99.,  99.],\n",
       "                         [100., 100., 100., ..., 100.,  99.,  99.],\n",
       "                         ...,\n",
       "                         [101., 102., 102., ..., 100., 100., 100.],\n",
       "                         [101., 102., 102., ..., 100., 100., 100.],\n",
       "                         [101., 101., 102., ..., 100., 100., 100.]],\n",
       "\n",
       "                        [[  1.,   1.,   1., ...,   1.,   1.,   1.],\n",
       "                         [  1.,   1.,   1., ...,   1.,   1.,   1.],\n",
       "                         [  1.,   1.,   1., ...,   1.,   1.,   1.],\n",
       "                         ...,\n",
       "                         [  1.,   1.,   1., ...,   1.,   1.,   1.],\n",
       "                         [  1.,   1.,   1., ...,   1.,   1.,   1.],\n",
       "                         [  1.,   1.,   1., ...,   1.,   1.,   1.]]])],\n",
       "       ['Water, Overig',\n",
       "        array([[[106., 106., 107., ..., 106., 106., 106.],\n",
       "                [106., 106., 106., ..., 107., 106., 106.],\n",
       "                [105., 105., 106., ..., 106., 106., 106.],\n",
       "                ...,\n",
       "                [ 92.,  91.,  90., ...,  96.,  96.,  97.],\n",
       "                [ 92.,  91.,  90., ...,  96.,  96.,  96.],\n",
       "                [ 92.,  91.,  91., ...,  95.,  96.,  96.]],\n",
       "\n",
       "               [[ 51.,  51.,  52., ...,  58.,  57.,  58.],\n",
       "                [ 50.,  51.,  52., ...,  58.,  57.,  57.],\n",
       "                [ 50.,  51.,  52., ...,  59.,  57.,  57.],\n",
       "                ...,\n",
       "                [ 37.,  37.,  34., ...,  30.,  30.,  31.],\n",
       "                [ 36.,  35.,  33., ...,  29.,  30.,  30.],\n",
       "                [ 36.,  36.,  34., ...,  29.,  30.,  30.]]])],\n",
       "       ['Riet', array([[[133., 134., 135., ..., 147., 147., 146.],\n",
       "                        [134., 135., 136., ..., 147., 147., 146.],\n",
       "                        [135., 136., 137., ..., 148., 147., 146.],\n",
       "                        ...,\n",
       "                        [149., 150., 151., ..., 138., 137., 136.],\n",
       "                        [149., 150., 151., ..., 137., 136., 136.],\n",
       "                        [149., 150., 151., ..., 136., 136., 135.]],\n",
       "\n",
       "                       [[ 54.,  54.,  56., ...,  68.,  68.,  68.],\n",
       "                        [ 54.,  54.,  56., ...,  68.,  68.,  68.],\n",
       "                        [ 55.,  55.,  57., ...,  68.,  68.,  68.],\n",
       "                        ...,\n",
       "                        [ 66.,  66.,  67., ...,  62.,  62.,  62.],\n",
       "                        [ 67.,  67.,  67., ...,  62.,  61.,  61.],\n",
       "                        [ 67.,  67.,  67., ...,  62.,  61.,  61.]]])]],\n",
       "      dtype=object)"
      ]
     },
     "execution_count": 309,
     "metadata": {},
     "output_type": "execute_result"
    }
   ],
   "source": [
    "np_array_median_annotation"
   ]
  },
  {
   "cell_type": "code",
   "execution_count": 310,
   "metadata": {},
   "outputs": [
    {
     "data": {
      "text/plain": [
       "'Riet'"
      ]
     },
     "execution_count": 310,
     "metadata": {},
     "output_type": "execute_result"
    }
   ],
   "source": [
    "predict(tif_kernel_generator.get_kernel_for_x_y(9351,6671),np_array_median_annotation)"
   ]
  },
  {
   "cell_type": "code",
   "execution_count": 311,
   "metadata": {},
   "outputs": [],
   "source": [
    "def euclidean_distance_kernels(kernel_x, kernel_y):\n",
    "    return np.sum(np.abs(kernel_x - kernel_y))"
   ]
  },
  {
   "cell_type": "code",
   "execution_count": 318,
   "metadata": {},
   "outputs": [],
   "source": [
    "def predict(kernel,annotations, fade = True):\n",
    "    \n",
    "    if fade == True:\n",
    "        return annotations[np.argmin([euclidean_distance_kernels(tif_kernel_generator.fadify_kernel(label[1]),\\\n",
    "                                                                 tif_kernel_generator.fadify_kernel(kernel))\\\n",
    "               for label in annotations])][0]\n",
    "    elif fade == False:\n",
    "        return annotations[np.argmin([euclidean_distance_kernels(label[1],\\\n",
    "                                                                 kernel)\\\n",
    "                   for label in annotations])][0]"
   ]
  },
  {
   "cell_type": "code",
   "execution_count": 313,
   "metadata": {},
   "outputs": [],
   "source": [
    "tif_kernel_generator.set_fade_kernel(bands=2)"
   ]
  },
  {
   "cell_type": "code",
   "execution_count": 319,
   "metadata": {},
   "outputs": [],
   "source": [
    "annotations['predict'] = annotations.apply(lambda x: predict(x['kernel'],np_array_median_annotation, False), axis=1)"
   ]
  },
  {
   "cell_type": "code",
   "execution_count": 321,
   "metadata": {},
   "outputs": [
    {
     "data": {
      "text/plain": [
       "0.35729558770684616"
      ]
     },
     "execution_count": 321,
     "metadata": {},
     "output_type": "execute_result"
    }
   ],
   "source": [
    "len(annotations[annotations['label'] == annotations['predict']])/len(annotations)"
   ]
  },
  {
   "cell_type": "code",
   "execution_count": 336,
   "metadata": {},
   "outputs": [],
   "source": [
    "from sklearn.metrics import confusion_matrix\n",
    "from matplotlib.pyplot import figure\n",
    "def plot_confusion_matrix(cm, title='Confusion matrix', cmap=plt.cm.Blues):\n",
    "    figure(figsize=(10, 6), dpi=80)\n",
    "    plt.imshow(cm, interpolation='nearest', cmap=cmap)\n",
    "    plt.title(title)\n",
    "    plt.colorbar()\n",
    "    tick_marks = np.arange(len(annotations['label'].unique()))\n",
    "    plt.xticks(tick_marks, annotations['label'].unique(), rotation=45)\n",
    "    plt.yticks(tick_marks, annotations['label'].unique())\n",
    "    plt.tight_layout()\n",
    "    plt.ylabel('True label')\n",
    "    plt.xlabel('Predicted label')\n"
   ]
  },
  {
   "cell_type": "code",
   "execution_count": 326,
   "metadata": {},
   "outputs": [
    {
     "data": {
      "text/plain": [
       "array(['Mos', 'Open laag struweel', 'Zand', 'Open Duindoorn',\n",
       "       'Dicht Duindoorn', 'Lage kruiden-gras', 'Hoge kruiden-gras',\n",
       "       'Dicht laag struweel', 'Open Hoog Struweel', 'Dicht Hoog Struweel',\n",
       "       'Naaldbos', 'Loofbos', 'Adelaarsvaren', 'Heide', 'Water, Overig',\n",
       "       'Riet'], dtype=object)"
      ]
     },
     "execution_count": 326,
     "metadata": {},
     "output_type": "execute_result"
    }
   ],
   "source": [
    "annotations['label'].unique()"
   ]
  },
  {
   "cell_type": "code",
   "execution_count": 337,
   "metadata": {},
   "outputs": [
    {
     "data": {
      "image/png": "[encoded data removed]",
      "text/plain": [
       "<Figure size 800x480 with 2 Axes>"
      ]
     },
     "metadata": {
      "needs_background": "light"
     },
     "output_type": "display_data"
    }
   ],
   "source": [
    "plot_confusion_matrix(confusion_matrix(annotations['label'],annotations['predict'], labels = annotations['label'].unique()))"
   ]
  },
  {
   "cell_type": "code",
   "execution_count": 186,
   "metadata": {},
   "outputs": [],
   "source": [
    "def sum_sum_ndvi(x):\n",
    "    try:\n",
    "        sum(sum(x[\"kernel\"]))\n",
    "    except:\n",
    "        return 0"
   ]
  },
  {
   "cell_type": "code",
   "execution_count": 198,
   "metadata": {
    "collapsed": true
   },
   "outputs": [
    {
     "ename": "TypeError",
     "evalue": "'int' object is not subscriptable",
     "output_type": "error",
     "traceback": [
      "\u001b[1;31m---------------------------------------------------------------------------\u001b[0m",
      "\u001b[1;31mTypeError\u001b[0m                                 Traceback (most recent call last)",
      "\u001b[1;32m<ipython-input-198-2657ec8e1adc>\u001b[0m in \u001b[0;36m<module>\u001b[1;34m\u001b[0m\n\u001b[1;32m----> 1\u001b[1;33m \u001b[0mannotations\u001b[0m\u001b[1;33m.\u001b[0m\u001b[0mapply\u001b[0m\u001b[1;33m(\u001b[0m\u001b[1;32mlambda\u001b[0m \u001b[0mx\u001b[0m\u001b[1;33m:\u001b[0m\u001b[0msum_sum_ndvi\u001b[0m\u001b[1;33m(\u001b[0m\u001b[0mx\u001b[0m\u001b[1;33m[\u001b[0m\u001b[1;34m'kernel'\u001b[0m\u001b[1;33m]\u001b[0m\u001b[1;33m[\u001b[0m\u001b[1;36m0\u001b[0m\u001b[1;33m]\u001b[0m\u001b[1;33m[\u001b[0m\u001b[1;36m0\u001b[0m\u001b[1;33m]\u001b[0m\u001b[1;33m)\u001b[0m\u001b[1;33m,\u001b[0m \u001b[0maxis\u001b[0m\u001b[1;33m=\u001b[0m\u001b[1;36m1\u001b[0m\u001b[1;33m)\u001b[0m\u001b[1;33m\u001b[0m\u001b[1;33m\u001b[0m\u001b[0m\n\u001b[0m",
      "\u001b[1;32mC:\\ProgramData\\Anaconda3\\lib\\site-packages\\pandas\\core\\frame.py\u001b[0m in \u001b[0;36mapply\u001b[1;34m(self, func, axis, raw, result_type, args, **kwargs)\u001b[0m\n\u001b[0;32m   8738\u001b[0m             \u001b[0mkwargs\u001b[0m\u001b[1;33m=\u001b[0m\u001b[0mkwargs\u001b[0m\u001b[1;33m,\u001b[0m\u001b[1;33m\u001b[0m\u001b[1;33m\u001b[0m\u001b[0m\n\u001b[0;32m   8739\u001b[0m         )\n\u001b[1;32m-> 8740\u001b[1;33m         \u001b[1;32mreturn\u001b[0m \u001b[0mop\u001b[0m\u001b[1;33m.\u001b[0m\u001b[0mapply\u001b[0m\u001b[1;33m(\u001b[0m\u001b[1;33m)\u001b[0m\u001b[1;33m\u001b[0m\u001b[1;33m\u001b[0m\u001b[0m\n\u001b[0m\u001b[0;32m   8741\u001b[0m \u001b[1;33m\u001b[0m\u001b[0m\n\u001b[0;32m   8742\u001b[0m     def applymap(\n",
      "\u001b[1;32mC:\\ProgramData\\Anaconda3\\lib\\site-packages\\pandas\\core\\apply.py\u001b[0m in \u001b[0;36mapply\u001b[1;34m(self)\u001b[0m\n\u001b[0;32m    686\u001b[0m             \u001b[1;32mreturn\u001b[0m \u001b[0mself\u001b[0m\u001b[1;33m.\u001b[0m\u001b[0mapply_raw\u001b[0m\u001b[1;33m(\u001b[0m\u001b[1;33m)\u001b[0m\u001b[1;33m\u001b[0m\u001b[1;33m\u001b[0m\u001b[0m\n\u001b[0;32m    687\u001b[0m \u001b[1;33m\u001b[0m\u001b[0m\n\u001b[1;32m--> 688\u001b[1;33m         \u001b[1;32mreturn\u001b[0m \u001b[0mself\u001b[0m\u001b[1;33m.\u001b[0m\u001b[0mapply_standard\u001b[0m\u001b[1;33m(\u001b[0m\u001b[1;33m)\u001b[0m\u001b[1;33m\u001b[0m\u001b[1;33m\u001b[0m\u001b[0m\n\u001b[0m\u001b[0;32m    689\u001b[0m \u001b[1;33m\u001b[0m\u001b[0m\n\u001b[0;32m    690\u001b[0m     \u001b[1;32mdef\u001b[0m \u001b[0magg\u001b[0m\u001b[1;33m(\u001b[0m\u001b[0mself\u001b[0m\u001b[1;33m)\u001b[0m\u001b[1;33m:\u001b[0m\u001b[1;33m\u001b[0m\u001b[1;33m\u001b[0m\u001b[0m\n",
      "\u001b[1;32mC:\\ProgramData\\Anaconda3\\lib\\site-packages\\pandas\\core\\apply.py\u001b[0m in \u001b[0;36mapply_standard\u001b[1;34m(self)\u001b[0m\n\u001b[0;32m    810\u001b[0m \u001b[1;33m\u001b[0m\u001b[0m\n\u001b[0;32m    811\u001b[0m     \u001b[1;32mdef\u001b[0m \u001b[0mapply_standard\u001b[0m\u001b[1;33m(\u001b[0m\u001b[0mself\u001b[0m\u001b[1;33m)\u001b[0m\u001b[1;33m:\u001b[0m\u001b[1;33m\u001b[0m\u001b[1;33m\u001b[0m\u001b[0m\n\u001b[1;32m--> 812\u001b[1;33m         \u001b[0mresults\u001b[0m\u001b[1;33m,\u001b[0m \u001b[0mres_index\u001b[0m \u001b[1;33m=\u001b[0m \u001b[0mself\u001b[0m\u001b[1;33m.\u001b[0m\u001b[0mapply_series_generator\u001b[0m\u001b[1;33m(\u001b[0m\u001b[1;33m)\u001b[0m\u001b[1;33m\u001b[0m\u001b[1;33m\u001b[0m\u001b[0m\n\u001b[0m\u001b[0;32m    813\u001b[0m \u001b[1;33m\u001b[0m\u001b[0m\n\u001b[0;32m    814\u001b[0m         \u001b[1;31m# wrap results\u001b[0m\u001b[1;33m\u001b[0m\u001b[1;33m\u001b[0m\u001b[1;33m\u001b[0m\u001b[0m\n",
      "\u001b[1;32mC:\\ProgramData\\Anaconda3\\lib\\site-packages\\pandas\\core\\apply.py\u001b[0m in \u001b[0;36mapply_series_generator\u001b[1;34m(self)\u001b[0m\n\u001b[0;32m    826\u001b[0m             \u001b[1;32mfor\u001b[0m \u001b[0mi\u001b[0m\u001b[1;33m,\u001b[0m \u001b[0mv\u001b[0m \u001b[1;32min\u001b[0m \u001b[0menumerate\u001b[0m\u001b[1;33m(\u001b[0m\u001b[0mseries_gen\u001b[0m\u001b[1;33m)\u001b[0m\u001b[1;33m:\u001b[0m\u001b[1;33m\u001b[0m\u001b[1;33m\u001b[0m\u001b[0m\n\u001b[0;32m    827\u001b[0m                 \u001b[1;31m# ignore SettingWithCopy here in case the user mutates\u001b[0m\u001b[1;33m\u001b[0m\u001b[1;33m\u001b[0m\u001b[1;33m\u001b[0m\u001b[0m\n\u001b[1;32m--> 828\u001b[1;33m                 \u001b[0mresults\u001b[0m\u001b[1;33m[\u001b[0m\u001b[0mi\u001b[0m\u001b[1;33m]\u001b[0m \u001b[1;33m=\u001b[0m \u001b[0mself\u001b[0m\u001b[1;33m.\u001b[0m\u001b[0mf\u001b[0m\u001b[1;33m(\u001b[0m\u001b[0mv\u001b[0m\u001b[1;33m)\u001b[0m\u001b[1;33m\u001b[0m\u001b[1;33m\u001b[0m\u001b[0m\n\u001b[0m\u001b[0;32m    829\u001b[0m                 \u001b[1;32mif\u001b[0m \u001b[0misinstance\u001b[0m\u001b[1;33m(\u001b[0m\u001b[0mresults\u001b[0m\u001b[1;33m[\u001b[0m\u001b[0mi\u001b[0m\u001b[1;33m]\u001b[0m\u001b[1;33m,\u001b[0m \u001b[0mABCSeries\u001b[0m\u001b[1;33m)\u001b[0m\u001b[1;33m:\u001b[0m\u001b[1;33m\u001b[0m\u001b[1;33m\u001b[0m\u001b[0m\n\u001b[0;32m    830\u001b[0m                     \u001b[1;31m# If we have a view on v, we need to make a copy because\u001b[0m\u001b[1;33m\u001b[0m\u001b[1;33m\u001b[0m\u001b[1;33m\u001b[0m\u001b[0m\n",
      "\u001b[1;32m<ipython-input-198-2657ec8e1adc>\u001b[0m in \u001b[0;36m<lambda>\u001b[1;34m(x)\u001b[0m\n\u001b[1;32m----> 1\u001b[1;33m \u001b[0mannotations\u001b[0m\u001b[1;33m.\u001b[0m\u001b[0mapply\u001b[0m\u001b[1;33m(\u001b[0m\u001b[1;32mlambda\u001b[0m \u001b[0mx\u001b[0m\u001b[1;33m:\u001b[0m\u001b[0msum_sum_ndvi\u001b[0m\u001b[1;33m(\u001b[0m\u001b[0mx\u001b[0m\u001b[1;33m[\u001b[0m\u001b[1;34m'kernel'\u001b[0m\u001b[1;33m]\u001b[0m\u001b[1;33m[\u001b[0m\u001b[1;36m0\u001b[0m\u001b[1;33m]\u001b[0m\u001b[1;33m[\u001b[0m\u001b[1;36m0\u001b[0m\u001b[1;33m]\u001b[0m\u001b[1;33m)\u001b[0m\u001b[1;33m,\u001b[0m \u001b[0maxis\u001b[0m\u001b[1;33m=\u001b[0m\u001b[1;36m1\u001b[0m\u001b[1;33m)\u001b[0m\u001b[1;33m\u001b[0m\u001b[1;33m\u001b[0m\u001b[0m\n\u001b[0m",
      "\u001b[1;31mTypeError\u001b[0m: 'int' object is not subscriptable"
     ]
    }
   ],
   "source": [
    "annotations.apply(lambda x:sum_sum_ndvi(x['kernel'][0][0]), axis=1)"
   ]
  },
  {
   "cell_type": "code",
   "execution_count": null,
   "metadata": {},
   "outputs": [],
   "source": [
    "bx= 0"
   ]
  },
  {
   "cell_type": "code",
   "execution_count": 203,
   "metadata": {},
   "outputs": [],
   "source": [
    "ndvi_array = []\n",
    "for id,row in annotations.iterrows():\n",
    "    try:\n",
    "        ndvi_array.append(sum(sum(row['kernel'][0])))\n",
    "    except:\n",
    "        ndvi_array.append(0)"
   ]
  },
  {
   "cell_type": "code",
   "execution_count": 205,
   "metadata": {},
   "outputs": [],
   "source": [
    "annotations['ndvi_sum'] = ndvi_array"
   ]
  },
  {
   "cell_type": "code",
   "execution_count": 206,
   "metadata": {},
   "outputs": [],
   "source": [
    "\n",
    "ahn_array = []\n",
    "for id,row in annotations.iterrows():\n",
    "    try:\n",
    "        ahn_array.append(sum(sum(row['kernel'][1])))\n",
    "    except:\n",
    "        ahn_array.append(0)"
   ]
  },
  {
   "cell_type": "code",
   "execution_count": 207,
   "metadata": {},
   "outputs": [],
   "source": [
    "annotations['ahn_sum'] = ahn_array"
   ]
  },
  {
   "cell_type": "code",
   "execution_count": 213,
   "metadata": {},
   "outputs": [
    {
     "data": {
      "text/html": [
       "<div>\n",
       "<style scoped>\n",
       "    .dataframe tbody tr th:only-of-type {\n",
       "        vertical-align: middle;\n",
       "    }\n",
       "\n",
       "    .dataframe tbody tr th {\n",
       "        vertical-align: top;\n",
       "    }\n",
       "\n",
       "    .dataframe thead th {\n",
       "        text-align: right;\n",
       "    }\n",
       "</style>\n",
       "<table border=\"1\" class=\"dataframe\">\n",
       "  <thead>\n",
       "    <tr style=\"text-align: right;\">\n",
       "      <th></th>\n",
       "      <th>label</th>\n",
       "      <th>x</th>\n",
       "      <th>y</th>\n",
       "      <th>cor_x</th>\n",
       "      <th>cor_y</th>\n",
       "      <th>kernel</th>\n",
       "      <th>predict</th>\n",
       "      <th>ndvi_sum</th>\n",
       "      <th>ahn_sum</th>\n",
       "    </tr>\n",
       "  </thead>\n",
       "  <tbody>\n",
       "    <tr>\n",
       "      <th>0</th>\n",
       "      <td>Mos</td>\n",
       "      <td>93927.25</td>\n",
       "      <td>479552.75</td>\n",
       "      <td>14979</td>\n",
       "      <td>2643</td>\n",
       "      <td>[[[117, 118, 118, 118, 122, 129, 129, 129, 129...</td>\n",
       "      <td>Mos</td>\n",
       "      <td>93726</td>\n",
       "      <td>42608</td>\n",
       "    </tr>\n",
       "    <tr>\n",
       "      <th>1</th>\n",
       "      <td>Mos</td>\n",
       "      <td>93927.25</td>\n",
       "      <td>479551.75</td>\n",
       "      <td>14981</td>\n",
       "      <td>2643</td>\n",
       "      <td>[[[118, 121, 123, 124, 128, 131, 130, 130, 133...</td>\n",
       "      <td>Mos</td>\n",
       "      <td>89697</td>\n",
       "      <td>35952</td>\n",
       "    </tr>\n",
       "    <tr>\n",
       "      <th>2</th>\n",
       "      <td>Mos</td>\n",
       "      <td>93928.25</td>\n",
       "      <td>479551.75</td>\n",
       "      <td>14981</td>\n",
       "      <td>2645</td>\n",
       "      <td>[[[123, 124, 128, 131, 130, 130, 133, 135, 135...</td>\n",
       "      <td>Mos</td>\n",
       "      <td>87347</td>\n",
       "      <td>32960</td>\n",
       "    </tr>\n",
       "    <tr>\n",
       "      <th>3</th>\n",
       "      <td>Mos</td>\n",
       "      <td>93928.25</td>\n",
       "      <td>479552.75</td>\n",
       "      <td>14979</td>\n",
       "      <td>2645</td>\n",
       "      <td>[[[118, 118, 122, 129, 129, 129, 129, 128, 128...</td>\n",
       "      <td>Mos</td>\n",
       "      <td>91264</td>\n",
       "      <td>39420</td>\n",
       "    </tr>\n",
       "    <tr>\n",
       "      <th>4</th>\n",
       "      <td>Mos</td>\n",
       "      <td>93927.25</td>\n",
       "      <td>479552.75</td>\n",
       "      <td>14979</td>\n",
       "      <td>2643</td>\n",
       "      <td>[[[117, 118, 118, 118, 122, 129, 129, 129, 129...</td>\n",
       "      <td>Mos</td>\n",
       "      <td>93726</td>\n",
       "      <td>42608</td>\n",
       "    </tr>\n",
       "    <tr>\n",
       "      <th>...</th>\n",
       "      <td>...</td>\n",
       "      <td>...</td>\n",
       "      <td>...</td>\n",
       "      <td>...</td>\n",
       "      <td>...</td>\n",
       "      <td>...</td>\n",
       "      <td>...</td>\n",
       "      <td>...</td>\n",
       "      <td>...</td>\n",
       "    </tr>\n",
       "    <tr>\n",
       "      <th>392376</th>\n",
       "      <td>Riet</td>\n",
       "      <td>95940.25</td>\n",
       "      <td>482367.75</td>\n",
       "      <td>9349</td>\n",
       "      <td>6669</td>\n",
       "      <td>[[[86, 112, 136, 143, 148, 155, 163, 168, 168,...</td>\n",
       "      <td>Heide</td>\n",
       "      <td>130482</td>\n",
       "      <td>77192</td>\n",
       "    </tr>\n",
       "    <tr>\n",
       "      <th>392377</th>\n",
       "      <td>Riet</td>\n",
       "      <td>95940.25</td>\n",
       "      <td>482366.75</td>\n",
       "      <td>9351</td>\n",
       "      <td>6669</td>\n",
       "      <td>[[[75, 95, 119, 137, 145, 150, 156, 160, 163, ...</td>\n",
       "      <td>Heide</td>\n",
       "      <td>129831</td>\n",
       "      <td>74804</td>\n",
       "    </tr>\n",
       "    <tr>\n",
       "      <th>392378</th>\n",
       "      <td>Riet</td>\n",
       "      <td>95941.25</td>\n",
       "      <td>482366.75</td>\n",
       "      <td>9351</td>\n",
       "      <td>6671</td>\n",
       "      <td>[[[119, 137, 145, 150, 156, 160, 163, 167, 167...</td>\n",
       "      <td>Heide</td>\n",
       "      <td>134741</td>\n",
       "      <td>84280</td>\n",
       "    </tr>\n",
       "    <tr>\n",
       "      <th>392379</th>\n",
       "      <td>Riet</td>\n",
       "      <td>95941.25</td>\n",
       "      <td>482367.75</td>\n",
       "      <td>9349</td>\n",
       "      <td>6671</td>\n",
       "      <td>[[[136, 143, 148, 155, 163, 168, 168, 169, 168...</td>\n",
       "      <td>Heide</td>\n",
       "      <td>135069</td>\n",
       "      <td>86736</td>\n",
       "    </tr>\n",
       "    <tr>\n",
       "      <th>392380</th>\n",
       "      <td>Riet</td>\n",
       "      <td>95940.25</td>\n",
       "      <td>482367.75</td>\n",
       "      <td>9349</td>\n",
       "      <td>6669</td>\n",
       "      <td>[[[86, 112, 136, 143, 148, 155, 163, 168, 168,...</td>\n",
       "      <td>Heide</td>\n",
       "      <td>130482</td>\n",
       "      <td>77192</td>\n",
       "    </tr>\n",
       "  </tbody>\n",
       "</table>\n",
       "<p>392381 rows × 9 columns</p>\n",
       "</div>"
      ],
      "text/plain": [
       "       label         x          y  cor_x  cor_y  \\\n",
       "0        Mos  93927.25  479552.75  14979   2643   \n",
       "1        Mos  93927.25  479551.75  14981   2643   \n",
       "2        Mos  93928.25  479551.75  14981   2645   \n",
       "3        Mos  93928.25  479552.75  14979   2645   \n",
       "4        Mos  93927.25  479552.75  14979   2643   \n",
       "...      ...       ...        ...    ...    ...   \n",
       "392376  Riet  95940.25  482367.75   9349   6669   \n",
       "392377  Riet  95940.25  482366.75   9351   6669   \n",
       "392378  Riet  95941.25  482366.75   9351   6671   \n",
       "392379  Riet  95941.25  482367.75   9349   6671   \n",
       "392380  Riet  95940.25  482367.75   9349   6669   \n",
       "\n",
       "                                                   kernel predict  ndvi_sum  \\\n",
       "0       [[[117, 118, 118, 118, 122, 129, 129, 129, 129...     Mos     93726   \n",
       "1       [[[118, 121, 123, 124, 128, 131, 130, 130, 133...     Mos     89697   \n",
       "2       [[[123, 124, 128, 131, 130, 130, 133, 135, 135...     Mos     87347   \n",
       "3       [[[118, 118, 122, 129, 129, 129, 129, 128, 128...     Mos     91264   \n",
       "4       [[[117, 118, 118, 118, 122, 129, 129, 129, 129...     Mos     93726   \n",
       "...                                                   ...     ...       ...   \n",
       "392376  [[[86, 112, 136, 143, 148, 155, 163, 168, 168,...   Heide    130482   \n",
       "392377  [[[75, 95, 119, 137, 145, 150, 156, 160, 163, ...   Heide    129831   \n",
       "392378  [[[119, 137, 145, 150, 156, 160, 163, 167, 167...   Heide    134741   \n",
       "392379  [[[136, 143, 148, 155, 163, 168, 168, 169, 168...   Heide    135069   \n",
       "392380  [[[86, 112, 136, 143, 148, 155, 163, 168, 168,...   Heide    130482   \n",
       "\n",
       "        ahn_sum  \n",
       "0         42608  \n",
       "1         35952  \n",
       "2         32960  \n",
       "3         39420  \n",
       "4         42608  \n",
       "...         ...  \n",
       "392376    77192  \n",
       "392377    74804  \n",
       "392378    84280  \n",
       "392379    86736  \n",
       "392380    77192  \n",
       "\n",
       "[392381 rows x 9 columns]"
      ]
     },
     "execution_count": 213,
     "metadata": {},
     "output_type": "execute_result"
    }
   ],
   "source": [
    "annotations"
   ]
  },
  {
   "cell_type": "code",
   "execution_count": 212,
   "metadata": {},
   "outputs": [
    {
     "name": "stdout",
     "output_type": "stream",
     "text": [
      "--------\n",
      "Mos\n",
      "78382.7533104845\n",
      "77112.0\n",
      "19558.322752765227\n",
      "16184.0\n",
      "--------\n",
      "Open laag struweel\n",
      "86857.28493203883\n",
      "87369.0\n",
      "25973.28100970874\n",
      "24610.0\n",
      "--------\n",
      "Zand\n",
      "65303.36645471989\n",
      "65280.0\n",
      "37074.01346928026\n",
      "20824.0\n",
      "--------\n",
      "Open Duindoorn\n",
      "102338.7270870163\n",
      "105694.0\n",
      "39428.90567668434\n",
      "37340.0\n",
      "--------\n",
      "Dicht Duindoorn\n",
      "108595.89485943776\n",
      "121372.0\n",
      "55606.455341365465\n",
      "56042.0\n",
      "--------\n",
      "Lage kruiden-gras\n",
      "90983.93380958146\n",
      "94085.0\n",
      "36320.949832505954\n",
      "26440.0\n",
      "--------\n",
      "Hoge kruiden-gras\n",
      "99901.18291543373\n",
      "100949.0\n",
      "36881.6638374085\n",
      "30898.0\n",
      "--------\n",
      "Dicht laag struweel\n",
      "94851.17001380943\n",
      "94850.0\n",
      "34907.89536397711\n",
      "32628.0\n",
      "--------\n",
      "Open Hoog Struweel\n",
      "112164.11952630129\n",
      "111090.0\n",
      "64929.332612031314\n",
      "61648.0\n",
      "--------\n",
      "Dicht Hoog Struweel\n",
      "116038.69412002424\n",
      "120396.0\n",
      "72284.68332996564\n",
      "71200.0\n",
      "--------\n",
      "Naaldbos\n",
      "104549.8426280517\n",
      "124770.0\n",
      "168538.55864049785\n",
      "176204.0\n",
      "--------\n",
      "Loofbos\n",
      "128568.14206472725\n",
      "137759.0\n",
      "132762.4496188994\n",
      "132880.0\n",
      "--------\n",
      "Adelaarsvaren\n",
      "170199.3132331519\n",
      "173697.0\n",
      "29290.241470520585\n",
      "20900.0\n",
      "--------\n",
      "Heide\n",
      "110378.24385120944\n",
      "113730.0\n",
      "36117.7353479233\n",
      "37376.0\n",
      "--------\n",
      "Water, Overig\n",
      "93492.77565104167\n",
      "98141.5\n",
      "69229.81918402777\n",
      "50150.0\n",
      "--------\n",
      "Riet\n",
      "138653.97807911484\n",
      "144374.0\n",
      "59105.63641279481\n",
      "59572.0\n"
     ]
    }
   ],
   "source": [
    "for label in annotations['label'].unique():\n",
    "    print(\"--------\")\n",
    "    print(label)\n",
    "    annotations_cur = annotations[annotations['label'] == str(label)]\n",
    "    \n",
    "    print(annotations_cur['ndvi_sum'].mean())\n",
    "    print(annotations_cur['ndvi_sum'].median())\n",
    "    \n",
    "    print(annotations_cur['ahn_sum'].mean())\n",
    "    print(annotations_cur['ahn_sum'].median())"
   ]
  }
 ],
 "metadata": {
  "kernelspec": {
   "display_name": "Python 3",
   "language": "python",
   "name": "python3"
  },
  "language_info": {
   "codemirror_mode": {
    "name": "ipython",
    "version": 3
   },
   "file_extension": ".py",
   "mimetype": "text/x-python",
   "name": "python",
   "nbconvert_exporter": "python",
   "pygments_lexer": "ipython3",
   "version": "3.7.3"
  }
 },
 "nbformat": 4,
 "nbformat_minor": 2
}
