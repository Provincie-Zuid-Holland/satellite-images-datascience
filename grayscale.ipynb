{
 "cells": [
  {
   "cell_type": "code",
   "execution_count": 1,
   "metadata": {},
   "outputs": [
    {
     "name": "stderr",
     "output_type": "stream",
     "text": [
      "C:\\ProgramData\\Anaconda3\\lib\\site-packages\\geopandas\\_compat.py:115: UserWarning: The Shapely GEOS version (3.4.3-CAPI-1.8.3 r4285) is incompatible with the GEOS version PyGEOS was compiled with (3.10.0-CAPI-1.16.0). Conversions between both will be slow.\n",
      "  shapely_geos_version, geos_capi_version_string\n"
     ]
    }
   ],
   "source": [
    "import rasterio\n",
    "import geopandas as gpd\n",
    "import pandas as pd\n",
    "import numpy as np"
   ]
  },
  {
   "cell_type": "code",
   "execution_count": 2,
   "metadata": {},
   "outputs": [],
   "source": [
    "tif_file = \"E:/data/coepelduynen/20200625_112015_SV1-03_SV_RD_11bit_RGBI_50cm_Rijnsburg_natura2000_coepelduynen_cropped_ndvi_height.tif\""
   ]
  },
  {
   "cell_type": "code",
   "execution_count": 7,
   "metadata": {},
   "outputs": [],
   "source": [
    "def rgb2gray(rgb):\n",
    "    r, g, b = rgb.read(1), rgb.read(2), rgb.read(3) #Index starts at 1 for image.read(index)\n",
    "    gray = 0.2989 * r + 0.5870 * g + 0.1140 * b\n",
    "    return gray\n",
    "\n",
    "def NormalizeData(data):\n",
    "    return (data - np.min(data)) / (np.max(data) - np.min(data))\n",
    "\n",
    "def remove_channel(image):\n",
    "    #Input : image.read()\n",
    "    #Output : Image with the removed channels\n",
    "\n",
    "    removed_channel = []\n",
    "    for x in image[2:]: #Removes NDVI & AHN\n",
    "        removed_channel.append(x)\n",
    "    removed_channel = np.array(removed_channel)\n",
    "    return removed_channel"
   ]
  },
  {
   "cell_type": "code",
   "execution_count": 45,
   "metadata": {},
   "outputs": [
    {
     "data": {
      "text/plain": [
       "6"
      ]
     },
     "execution_count": 45,
     "metadata": {},
     "output_type": "execute_result"
    }
   ],
   "source": [
    "src.read().shape[0]"
   ]
  },
  {
   "cell_type": "code",
   "execution_count": 41,
   "metadata": {},
   "outputs": [],
   "source": [
    "\n",
    "src = rasterio.open(tif_file)\n",
    "\n",
    "gray_im = rgb2gray(src)\n",
    "gray_im = np.reshape(gray_im, (1, gray_im.shape[0], gray_im.shape[1]))\n",
    "\n",
    "normalized_gray = NormalizeData(gray_im)*255\n",
    "\n",
    "final_im = [0,1,2,3]\n",
    "final_im[0] = normalized_gray.reshape(normalized_gray.shape[1],normalized_gray.shape[2]) #Greyscale\n",
    "final_im[1] = src.read(4)    #Near Infra-red\n",
    "final_im[2] = src.read(5)   #NDVI\n",
    "final_im[3] = src.read(6)   #AHN"
   ]
  },
  {
   "cell_type": "code",
   "execution_count": 42,
   "metadata": {},
   "outputs": [],
   "source": [
    "final_im = np.array(final_im)"
   ]
  },
  {
   "cell_type": "code",
   "execution_count": 43,
   "metadata": {},
   "outputs": [],
   "source": [
    "file_name = \"E:/data/coepelduynen/20200625_112015_SV1-03_SV_RD_11bit_RGBI_50cm_Rijnsburg_natura2000_coepelduynen_cropped_ndvi_height_gray_scale.tif\"\n",
    "with rasterio.open(tif_file) as inds:\n",
    "    meta = inds.profile.copy()\n",
    "    #Number of bands\n",
    "    meta[\"count\"] = 4 \n",
    "    with rasterio.open(file_name, \"w\", **meta) as outimg:\n",
    "        outimg.write(final_im)"
   ]
  }
 ],
 "metadata": {
  "interpreter": {
   "hash": "916dbcbb3f70747c44a77c7bcd40155683ae19c65e1c03b4aa3499c5328201f1"
  },
  "kernelspec": {
   "display_name": "Python 3.8.10 64-bit",
   "language": "python",
   "name": "python3"
  },
  "language_info": {
   "codemirror_mode": {
    "name": "ipython",
    "version": 3
   },
   "file_extension": ".py",
   "mimetype": "text/x-python",
   "name": "python",
   "nbconvert_exporter": "python",
   "pygments_lexer": "ipython3",
   "version": "3.7.3"
  },
  "orig_nbformat": 4
 },
 "nbformat": 4,
 "nbformat_minor": 2
}
