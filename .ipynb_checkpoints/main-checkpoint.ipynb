{
 "cells": [
  {
   "cell_type": "code",
   "execution_count": 9,
   "metadata": {},
   "outputs": [
    {
     "name": "stderr",
     "output_type": "stream",
     "text": [
      "C:\\ProgramData\\Anaconda3\\lib\\site-packages\\pandas\\compat\\_optional.py:138: UserWarning: Pandas requires version '2.7.0' or newer of 'numexpr' (version '2.6.9' currently installed).\n",
      "  warnings.warn(msg, UserWarning)\n"
     ]
    }
   ],
   "source": [
    "import nso_ds_classes.nso_tif_kernel as nso_tif_kernel\n",
    "import nso_ds_classes.nso_ds_models as nso_ds_models\n",
    "import numpy as np\n",
    "import pandas as pd"
   ]
  },
  {
   "cell_type": "code",
   "execution_count": 29,
   "metadata": {},
   "outputs": [],
   "source": [
    "annotations = pd.read_csv(\"./annotations/coepelduynen_annotations.csv\")"
   ]
  },
  {
   "cell_type": "code",
   "execution_count": 21,
   "metadata": {},
   "outputs": [
    {
     "data": {
      "text/plain": [
       "Index(['label', 'x_cor', 'y_cor', ' date'], dtype='object')"
      ]
     },
     "execution_count": 21,
     "metadata": {},
     "output_type": "execute_result"
    }
   ],
   "source": [
    "annotations.columns"
   ]
  },
  {
   "cell_type": "code",
   "execution_count": null,
   "metadata": {},
   "outputs": [],
   "source": [
    "class_annotations = {}\n",
    "class_annotations[\"gras_hoog\"] = tif_kernel_generator.get_kernel_for_x_y(class_cor[0][0], class_cor[0][1]) \n",
    "class_annotations[\"bos\"]  = tif_kernel_generator.get_kernel_for_x_y(class_cor[1][0], class_cor[1][1]) \n",
    "class_annotations[\"zand_hoog\"]  = tif_kernel_generator.get_kernel_for_x_y(class_cor[2][0], class_cor[2][1]) \n",
    "class_annotations[\"gras_laag\"] = tif_kernel_generator.get_kernel_for_x_y(class_cor[3][0], class_cor[3][1]) \n",
    "class_annotations[\"zand_laag\"] =  tif_kernel_generator.get_kernel_for_x_y(class_cor[4][0], class_cor[4][1])  "
   ]
  },
  {
   "cell_type": "code",
   "execution_count": 23,
   "metadata": {},
   "outputs": [],
   "source": [
    "annotations['rd_x_y']= annotations.apply(lambda x: tif_kernel_generator.get_x_y(x['x_cor'], x['y_cor'] ),axis=1 )"
   ]
  },
  {
   "cell_type": "code",
   "execution_count": 26,
   "metadata": {},
   "outputs": [],
   "source": [
    "annotations['kernel'] = annotations.apply(lambda x: tif_kernel_generator.get_kernel_for_x_y(x['rd_x_y'][0],x['rd_x_y'][1]), axis=1)"
   ]
  },
  {
   "cell_type": "code",
   "execution_count": 28,
   "metadata": {
    "collapsed": true
   },
   "outputs": [
    {
     "data": {
      "text/plain": [
       "array([[[402, 400, 395, ..., 402, 398, 405],\n",
       "        [401, 399, 396, ..., 405, 401, 406],\n",
       "        [399, 403, 403, ..., 407, 397, 394],\n",
       "        ...,\n",
       "        [416, 407, 407, ..., 412, 412, 403],\n",
       "        [414, 406, 401, ..., 412, 415, 405],\n",
       "        [397, 408, 399, ..., 407, 411, 401]],\n",
       "\n",
       "       [[371, 368, 360, ..., 364, 360, 371],\n",
       "        [370, 367, 362, ..., 369, 365, 373],\n",
       "        [366, 371, 371, ..., 373, 362, 358],\n",
       "        ...,\n",
       "        [380, 368, 368, ..., 374, 376, 366],\n",
       "        [379, 369, 362, ..., 376, 382, 371],\n",
       "        [360, 372, 360, ..., 371, 380, 370]],\n",
       "\n",
       "       [[300, 297, 288, ..., 289, 285, 297],\n",
       "        [299, 295, 290, ..., 296, 291, 300],\n",
       "        [294, 300, 300, ..., 301, 288, 283],\n",
       "        ...,\n",
       "        [306, 293, 294, ..., 303, 304, 292],\n",
       "        [306, 295, 288, ..., 305, 311, 297],\n",
       "        [285, 300, 287, ..., 299, 308, 295]],\n",
       "\n",
       "       [[465, 459, 443, ..., 449, 442, 464],\n",
       "        [461, 454, 444, ..., 460, 452, 468],\n",
       "        [450, 460, 461, ..., 465, 444, 436],\n",
       "        ...,\n",
       "        [477, 453, 451, ..., 454, 457, 434],\n",
       "        [474, 454, 437, ..., 461, 471, 445],\n",
       "        [434, 458, 433, ..., 453, 467, 444]]])"
      ]
     },
     "execution_count": 28,
     "metadata": {},
     "output_type": "execute_result"
    }
   ],
   "source": [
    "annotations['kernel'][0]"
   ]
  },
  {
   "cell_type": "code",
   "execution_count": 43,
   "metadata": {},
   "outputs": [],
   "source": [
    "# Set a kernel generator.\n",
    "x_kernel_width = 32\n",
    "y_kernel_height = 32\n",
    "\n",
    "\n",
    "path_to_tif_file = \"E:/data/coepelduynen/20190308_111644_SV1-01_50cm_RD_11bit_RGBI_Oegstgeest_natura2000_coepelduynen_cropped.tif\"\n",
    "tif_kernel_generator = nso_tif_kernel.nso_tif_kernel_generator(path_to_tif_file, x_kernel_width , y_kernel_height)"
   ]
  },
  {
   "cell_type": "code",
   "execution_count": 8,
   "metadata": {},
   "outputs": [],
   "source": [
    "# location of the annotations and labels as variable names.\n",
    "gras_hoog = 88344.58, 470583.41\n",
    "bos = 88400.32, 470192.25\n",
    "zand_hoog = 88201.79, 470359.72\n",
    "gras_laag = 88069.32, 470126.55\n",
    "zand_laag = 87639.78, 469946.24\n",
    "\n",
    "class_cor = [gras_hoog,bos ,zand_hoog, gras_laag, zand_laag ]\n",
    "# Convert to the positions in the matrix.\n",
    "class_cor = [tif_kernel_generator.get_x_y(cor[0],cor[1]) for cor in class_cor]\n",
    "\n",
    "# Set the annotations as a dictionary.\n",
    "class_annotations = {}\n",
    "class_annotations[\"gras_hoog\"] = tif_kernel_generator.get_kernel_for_x_y(class_cor[0][0], class_cor[0][1]) \n",
    "class_annotations[\"bos\"]  = tif_kernel_generator.get_kernel_for_x_y(class_cor[1][0], class_cor[1][1]) \n",
    "class_annotations[\"zand_hoog\"]  = tif_kernel_generator.get_kernel_for_x_y(class_cor[2][0], class_cor[2][1]) \n",
    "class_annotations[\"gras_laag\"] = tif_kernel_generator.get_kernel_for_x_y(class_cor[3][0], class_cor[3][1]) \n",
    "class_annotations[\"zand_laag\"] =  tif_kernel_generator.get_kernel_for_x_y(class_cor[4][0], class_cor[4][1])  "
   ]
  },
  {
   "cell_type": "code",
   "execution_count": 6,
   "metadata": {},
   "outputs": [],
   "source": [
    "x_row = 16\n",
    "y_row = 4757\n",
    "kernel = tif_kernel_generator.get_kernel_for_x_y(x_row,y_row )"
   ]
  },
  {
   "cell_type": "code",
   "execution_count": 49,
   "metadata": {
    "collapsed": true
   },
   "outputs": [
    {
     "data": {
      "image/png": "[encoded data removed]",
      "text/plain": [
       "<Figure size 432x288 with 1 Axes>"
      ]
     },
     "metadata": {
      "needs_background": "light"
     },
     "output_type": "display_data"
    }
   ],
   "source": [
    "nso_tif_kernel.plot_kernel(tif_kernel_generator.get_kernel_for_x_y(67,4757))"
   ]
  }
 ],
 "metadata": {
  "kernelspec": {
   "display_name": "Python 3",
   "language": "python",
   "name": "python3"
  },
  "language_info": {
   "codemirror_mode": {
    "name": "ipython",
    "version": 3
   },
   "file_extension": ".py",
   "mimetype": "text/x-python",
   "name": "python",
   "nbconvert_exporter": "python",
   "pygments_lexer": "ipython3",
   "version": "3.7.3"
  }
 },
 "nbformat": 4,
 "nbformat_minor": 2
}
