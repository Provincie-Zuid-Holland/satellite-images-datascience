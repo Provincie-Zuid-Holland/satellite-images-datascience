{
 "cells": [
  {
   "cell_type": "code",
   "execution_count": 56,
   "metadata": {},
   "outputs": [],
   "source": [
    "import pandas as pd\n",
    "import imblearn"
   ]
  },
  {
   "cell_type": "code",
   "execution_count": 57,
   "metadata": {},
   "outputs": [],
   "source": [
    "df = pd.read_csv(\"annotaties_coepelduynen_to_pixel.csv\").drop(columns=\"Unnamed: 0\")"
   ]
  },
  {
   "cell_type": "code",
   "execution_count": 62,
   "metadata": {},
   "outputs": [],
   "source": [
    "X = df[[\"r\", \"g\", \"b\", \"i\", \"ndvi\", \"height\"]]\n",
    "y = df[\"label\"]"
   ]
  },
  {
   "cell_type": "code",
   "execution_count": 77,
   "metadata": {},
   "outputs": [
    {
     "data": {
      "text/plain": [
       "Gras                   333740\n",
       "Laag Gras              289562\n",
       "Bos                    111919\n",
       "Zand                   110791\n",
       "vochtige duinvallei     99000\n",
       "Struweel                36835\n",
       "Asfalt                  10858\n",
       "Schaduw                  2980\n",
       "Wandelpad                1068\n",
       "Name: label, dtype: int64"
      ]
     },
     "execution_count": 77,
     "metadata": {},
     "output_type": "execute_result"
    }
   ],
   "source": [
    "y.value_counts()"
   ]
  },
  {
   "cell_type": "code",
   "execution_count": 60,
   "metadata": {},
   "outputs": [],
   "source": [
    "oversample = imblearn.over_sampling.SMOTE()\n",
    "X_new, y_new = oversample.fit_resample(X, y)"
   ]
  },
  {
   "cell_type": "code",
   "execution_count": 65,
   "metadata": {},
   "outputs": [],
   "source": [
    "X_new[\"label\"] = y_new\n",
    "X_new = X_new.loc[X_new[\"label\"] == \"Asfalt\"].drop_duplicates()"
   ]
  },
  {
   "cell_type": "code",
   "execution_count": 71,
   "metadata": {},
   "outputs": [
    {
     "data": {
      "text/plain": [
       "(145175, 996753)"
      ]
     },
     "execution_count": 71,
     "metadata": {},
     "output_type": "execute_result"
    }
   ],
   "source": [
    "len(X_new), len(df)"
   ]
  },
  {
   "cell_type": "code",
   "execution_count": 74,
   "metadata": {},
   "outputs": [],
   "source": [
    "asfalt_upsampled = df.merge(X_new.merge(df, how=\"left\"), how=\"outer\")"
   ]
  },
  {
   "cell_type": "code",
   "execution_count": 75,
   "metadata": {},
   "outputs": [
    {
     "data": {
      "text/html": [
       "<div>\n",
       "<style scoped>\n",
       "    .dataframe tbody tr th:only-of-type {\n",
       "        vertical-align: middle;\n",
       "    }\n",
       "\n",
       "    .dataframe tbody tr th {\n",
       "        vertical-align: top;\n",
       "    }\n",
       "\n",
       "    .dataframe thead th {\n",
       "        text-align: right;\n",
       "    }\n",
       "</style>\n",
       "<table border=\"1\" class=\"dataframe\">\n",
       "  <thead>\n",
       "    <tr style=\"text-align: right;\">\n",
       "      <th></th>\n",
       "      <th>r</th>\n",
       "      <th>g</th>\n",
       "      <th>b</th>\n",
       "      <th>i</th>\n",
       "      <th>ndvi</th>\n",
       "      <th>height</th>\n",
       "      <th>label</th>\n",
       "      <th>image</th>\n",
       "      <th>date</th>\n",
       "    </tr>\n",
       "  </thead>\n",
       "  <tbody>\n",
       "    <tr>\n",
       "      <th>0</th>\n",
       "      <td>589</td>\n",
       "      <td>612</td>\n",
       "      <td>476</td>\n",
       "      <td>1171</td>\n",
       "      <td>133</td>\n",
       "      <td>101</td>\n",
       "      <td>Gras</td>\n",
       "      <td>20190601_105844_SV1-04_50cm_RD_11bit_RGBI_Katw...</td>\n",
       "      <td>20190601.0</td>\n",
       "    </tr>\n",
       "    <tr>\n",
       "      <th>1</th>\n",
       "      <td>592</td>\n",
       "      <td>614</td>\n",
       "      <td>480</td>\n",
       "      <td>1153</td>\n",
       "      <td>132</td>\n",
       "      <td>1</td>\n",
       "      <td>Gras</td>\n",
       "      <td>20190601_105844_SV1-04_50cm_RD_11bit_RGBI_Katw...</td>\n",
       "      <td>20190601.0</td>\n",
       "    </tr>\n",
       "    <tr>\n",
       "      <th>2</th>\n",
       "      <td>591</td>\n",
       "      <td>614</td>\n",
       "      <td>479</td>\n",
       "      <td>1145</td>\n",
       "      <td>131</td>\n",
       "      <td>1</td>\n",
       "      <td>Gras</td>\n",
       "      <td>20190601_105844_SV1-04_50cm_RD_11bit_RGBI_Katw...</td>\n",
       "      <td>20190601.0</td>\n",
       "    </tr>\n",
       "    <tr>\n",
       "      <th>3</th>\n",
       "      <td>592</td>\n",
       "      <td>616</td>\n",
       "      <td>479</td>\n",
       "      <td>1146</td>\n",
       "      <td>131</td>\n",
       "      <td>81</td>\n",
       "      <td>Gras</td>\n",
       "      <td>20190601_105844_SV1-04_50cm_RD_11bit_RGBI_Katw...</td>\n",
       "      <td>20190601.0</td>\n",
       "    </tr>\n",
       "    <tr>\n",
       "      <th>4</th>\n",
       "      <td>598</td>\n",
       "      <td>624</td>\n",
       "      <td>488</td>\n",
       "      <td>1174</td>\n",
       "      <td>132</td>\n",
       "      <td>81</td>\n",
       "      <td>Gras</td>\n",
       "      <td>20190601_105844_SV1-04_50cm_RD_11bit_RGBI_Katw...</td>\n",
       "      <td>20190601.0</td>\n",
       "    </tr>\n",
       "    <tr>\n",
       "      <th>...</th>\n",
       "      <td>...</td>\n",
       "      <td>...</td>\n",
       "      <td>...</td>\n",
       "      <td>...</td>\n",
       "      <td>...</td>\n",
       "      <td>...</td>\n",
       "      <td>...</td>\n",
       "      <td>...</td>\n",
       "      <td>...</td>\n",
       "    </tr>\n",
       "    <tr>\n",
       "      <th>1132742</th>\n",
       "      <td>606</td>\n",
       "      <td>668</td>\n",
       "      <td>492</td>\n",
       "      <td>668</td>\n",
       "      <td>104</td>\n",
       "      <td>1</td>\n",
       "      <td>Asfalt</td>\n",
       "      <td>NaN</td>\n",
       "      <td>NaN</td>\n",
       "    </tr>\n",
       "    <tr>\n",
       "      <th>1132743</th>\n",
       "      <td>408</td>\n",
       "      <td>352</td>\n",
       "      <td>268</td>\n",
       "      <td>524</td>\n",
       "      <td>112</td>\n",
       "      <td>1</td>\n",
       "      <td>Asfalt</td>\n",
       "      <td>NaN</td>\n",
       "      <td>NaN</td>\n",
       "    </tr>\n",
       "    <tr>\n",
       "      <th>1132744</th>\n",
       "      <td>465</td>\n",
       "      <td>417</td>\n",
       "      <td>347</td>\n",
       "      <td>499</td>\n",
       "      <td>103</td>\n",
       "      <td>6</td>\n",
       "      <td>Asfalt</td>\n",
       "      <td>NaN</td>\n",
       "      <td>NaN</td>\n",
       "    </tr>\n",
       "    <tr>\n",
       "      <th>1132745</th>\n",
       "      <td>628</td>\n",
       "      <td>612</td>\n",
       "      <td>524</td>\n",
       "      <td>660</td>\n",
       "      <td>102</td>\n",
       "      <td>1</td>\n",
       "      <td>Asfalt</td>\n",
       "      <td>NaN</td>\n",
       "      <td>NaN</td>\n",
       "    </tr>\n",
       "    <tr>\n",
       "      <th>1132746</th>\n",
       "      <td>1373</td>\n",
       "      <td>1061</td>\n",
       "      <td>1094</td>\n",
       "      <td>788</td>\n",
       "      <td>72</td>\n",
       "      <td>1</td>\n",
       "      <td>Asfalt</td>\n",
       "      <td>NaN</td>\n",
       "      <td>NaN</td>\n",
       "    </tr>\n",
       "  </tbody>\n",
       "</table>\n",
       "<p>1132747 rows × 9 columns</p>\n",
       "</div>"
      ],
      "text/plain": [
       "            r     g     b     i  ndvi  height   label  \\\n",
       "0         589   612   476  1171   133     101    Gras   \n",
       "1         592   614   480  1153   132       1    Gras   \n",
       "2         591   614   479  1145   131       1    Gras   \n",
       "3         592   616   479  1146   131      81    Gras   \n",
       "4         598   624   488  1174   132      81    Gras   \n",
       "...       ...   ...   ...   ...   ...     ...     ...   \n",
       "1132742   606   668   492   668   104       1  Asfalt   \n",
       "1132743   408   352   268   524   112       1  Asfalt   \n",
       "1132744   465   417   347   499   103       6  Asfalt   \n",
       "1132745   628   612   524   660   102       1  Asfalt   \n",
       "1132746  1373  1061  1094   788    72       1  Asfalt   \n",
       "\n",
       "                                                     image        date  \n",
       "0        20190601_105844_SV1-04_50cm_RD_11bit_RGBI_Katw...  20190601.0  \n",
       "1        20190601_105844_SV1-04_50cm_RD_11bit_RGBI_Katw...  20190601.0  \n",
       "2        20190601_105844_SV1-04_50cm_RD_11bit_RGBI_Katw...  20190601.0  \n",
       "3        20190601_105844_SV1-04_50cm_RD_11bit_RGBI_Katw...  20190601.0  \n",
       "4        20190601_105844_SV1-04_50cm_RD_11bit_RGBI_Katw...  20190601.0  \n",
       "...                                                    ...         ...  \n",
       "1132742                                                NaN         NaN  \n",
       "1132743                                                NaN         NaN  \n",
       "1132744                                                NaN         NaN  \n",
       "1132745                                                NaN         NaN  \n",
       "1132746                                                NaN         NaN  \n",
       "\n",
       "[1132747 rows x 9 columns]"
      ]
     },
     "execution_count": 75,
     "metadata": {},
     "output_type": "execute_result"
    }
   ],
   "source": [
    "asfalt_upsampled"
   ]
  }
 ],
 "metadata": {
  "kernelspec": {
   "display_name": "Python 3.7.3 ('base')",
   "language": "python",
   "name": "python3"
  },
  "language_info": {
   "codemirror_mode": {
    "name": "ipython",
    "version": 3
   },
   "file_extension": ".py",
   "mimetype": "text/x-python",
   "name": "python",
   "nbconvert_exporter": "python",
   "pygments_lexer": "ipython3",
   "version": "3.7.3"
  },
  "orig_nbformat": 4,
  "vscode": {
   "interpreter": {
    "hash": "ad2bdc8ecc057115af97d19610ffacc2b4e99fae6737bb82f5d7fb13d2f2c186"
   }
  }
 },
 "nbformat": 4,
 "nbformat_minor": 2
}
