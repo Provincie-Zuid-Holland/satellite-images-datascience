{
 "cells": [
  {
   "cell_type": "code",
   "execution_count": 1,
   "metadata": {},
   "outputs": [],
   "source": [
    "%matplotlib notebook\n",
    "import pandas as pd\n",
    "import pickle\n",
    "from sklearn.ensemble import RandomForestClassifier\n",
    "from sklearn.model_selection import train_test_split\n",
    "from sklearn import metrics\n",
    "import matplotlib.pyplot as plt\n",
    "from sklearn.model_selection import cross_val_score\n",
    "from sklearn.model_selection import RandomizedSearchCV\n",
    "import numpy as np\n",
    "import imblearn\n",
    "import json"
   ]
  },
  {
   "cell_type": "code",
   "execution_count": 3,
   "metadata": {},
   "outputs": [],
   "source": [
    "# Read in the premade data, see the data preparation plotting notebook\n",
    "df = pd.read_csv(\"../../../data/annotations/annotations_pixel_dataframes/annotaties_coepelduynen_to_pixel_2023.csv\").drop(['Unnamed: 0'],axis=1)"
   ]
  },
  {
   "cell_type": "code",
   "execution_count": 4,
   "metadata": {},
   "outputs": [
    {
     "data": {
      "text/html": [
       "<div>\n",
       "<style scoped>\n",
       "    .dataframe tbody tr th:only-of-type {\n",
       "        vertical-align: middle;\n",
       "    }\n",
       "\n",
       "    .dataframe tbody tr th {\n",
       "        vertical-align: top;\n",
       "    }\n",
       "\n",
       "    .dataframe thead th {\n",
       "        text-align: right;\n",
       "    }\n",
       "</style>\n",
       "<table border=\"1\" class=\"dataframe\">\n",
       "  <thead>\n",
       "    <tr style=\"text-align: right;\">\n",
       "      <th></th>\n",
       "      <th>r</th>\n",
       "      <th>g</th>\n",
       "      <th>b</th>\n",
       "      <th>n</th>\n",
       "      <th>e</th>\n",
       "      <th>d</th>\n",
       "      <th>ndvi</th>\n",
       "      <th>re_ndvi</th>\n",
       "      <th>label</th>\n",
       "      <th>image</th>\n",
       "    </tr>\n",
       "  </thead>\n",
       "  <tbody>\n",
       "    <tr>\n",
       "      <th>0</th>\n",
       "      <td>807</td>\n",
       "      <td>710</td>\n",
       "      <td>621</td>\n",
       "      <td>1013</td>\n",
       "      <td>965</td>\n",
       "      <td>675</td>\n",
       "      <td>111</td>\n",
       "      <td>108</td>\n",
       "      <td>Zand</td>\n",
       "      <td>coepelduynen\\20230402_105321_PNEO-03_1_49_30cm...</td>\n",
       "    </tr>\n",
       "    <tr>\n",
       "      <th>1</th>\n",
       "      <td>807</td>\n",
       "      <td>713</td>\n",
       "      <td>625</td>\n",
       "      <td>1023</td>\n",
       "      <td>967</td>\n",
       "      <td>678</td>\n",
       "      <td>111</td>\n",
       "      <td>109</td>\n",
       "      <td>Zand</td>\n",
       "      <td>coepelduynen\\20230402_105321_PNEO-03_1_49_30cm...</td>\n",
       "    </tr>\n",
       "    <tr>\n",
       "      <th>2</th>\n",
       "      <td>792</td>\n",
       "      <td>703</td>\n",
       "      <td>620</td>\n",
       "      <td>1003</td>\n",
       "      <td>950</td>\n",
       "      <td>673</td>\n",
       "      <td>111</td>\n",
       "      <td>109</td>\n",
       "      <td>Zand</td>\n",
       "      <td>coepelduynen\\20230402_105321_PNEO-03_1_49_30cm...</td>\n",
       "    </tr>\n",
       "    <tr>\n",
       "      <th>3</th>\n",
       "      <td>784</td>\n",
       "      <td>697</td>\n",
       "      <td>618</td>\n",
       "      <td>992</td>\n",
       "      <td>941</td>\n",
       "      <td>671</td>\n",
       "      <td>111</td>\n",
       "      <td>109</td>\n",
       "      <td>Zand</td>\n",
       "      <td>coepelduynen\\20230402_105321_PNEO-03_1_49_30cm...</td>\n",
       "    </tr>\n",
       "    <tr>\n",
       "      <th>4</th>\n",
       "      <td>861</td>\n",
       "      <td>752</td>\n",
       "      <td>647</td>\n",
       "      <td>1071</td>\n",
       "      <td>1036</td>\n",
       "      <td>685</td>\n",
       "      <td>110</td>\n",
       "      <td>109</td>\n",
       "      <td>Zand</td>\n",
       "      <td>coepelduynen\\20230402_105321_PNEO-03_1_49_30cm...</td>\n",
       "    </tr>\n",
       "    <tr>\n",
       "      <th>...</th>\n",
       "      <td>...</td>\n",
       "      <td>...</td>\n",
       "      <td>...</td>\n",
       "      <td>...</td>\n",
       "      <td>...</td>\n",
       "      <td>...</td>\n",
       "      <td>...</td>\n",
       "      <td>...</td>\n",
       "      <td>...</td>\n",
       "      <td>...</td>\n",
       "    </tr>\n",
       "    <tr>\n",
       "      <th>35785</th>\n",
       "      <td>337</td>\n",
       "      <td>406</td>\n",
       "      <td>486</td>\n",
       "      <td>798</td>\n",
       "      <td>546</td>\n",
       "      <td>656</td>\n",
       "      <td>140</td>\n",
       "      <td>123</td>\n",
       "      <td>Vegetation</td>\n",
       "      <td>coepelduynen\\20230910_105008_PNEO-03_1_1_30cm_...</td>\n",
       "    </tr>\n",
       "    <tr>\n",
       "      <th>35786</th>\n",
       "      <td>339</td>\n",
       "      <td>409</td>\n",
       "      <td>486</td>\n",
       "      <td>805</td>\n",
       "      <td>550</td>\n",
       "      <td>659</td>\n",
       "      <td>140</td>\n",
       "      <td>123</td>\n",
       "      <td>Vegetation</td>\n",
       "      <td>coepelduynen\\20230910_105008_PNEO-03_1_1_30cm_...</td>\n",
       "    </tr>\n",
       "    <tr>\n",
       "      <th>35787</th>\n",
       "      <td>340</td>\n",
       "      <td>411</td>\n",
       "      <td>485</td>\n",
       "      <td>808</td>\n",
       "      <td>553</td>\n",
       "      <td>660</td>\n",
       "      <td>140</td>\n",
       "      <td>123</td>\n",
       "      <td>Vegetation</td>\n",
       "      <td>coepelduynen\\20230910_105008_PNEO-03_1_1_30cm_...</td>\n",
       "    </tr>\n",
       "    <tr>\n",
       "      <th>35788</th>\n",
       "      <td>335</td>\n",
       "      <td>406</td>\n",
       "      <td>485</td>\n",
       "      <td>794</td>\n",
       "      <td>543</td>\n",
       "      <td>655</td>\n",
       "      <td>140</td>\n",
       "      <td>123</td>\n",
       "      <td>Vegetation</td>\n",
       "      <td>coepelduynen\\20230910_105008_PNEO-03_1_1_30cm_...</td>\n",
       "    </tr>\n",
       "    <tr>\n",
       "      <th>35789</th>\n",
       "      <td>336</td>\n",
       "      <td>408</td>\n",
       "      <td>485</td>\n",
       "      <td>798</td>\n",
       "      <td>546</td>\n",
       "      <td>658</td>\n",
       "      <td>140</td>\n",
       "      <td>123</td>\n",
       "      <td>Vegetation</td>\n",
       "      <td>coepelduynen\\20230910_105008_PNEO-03_1_1_30cm_...</td>\n",
       "    </tr>\n",
       "  </tbody>\n",
       "</table>\n",
       "<p>35790 rows × 10 columns</p>\n",
       "</div>"
      ],
      "text/plain": [
       "         r    g    b     n     e    d  ndvi  re_ndvi       label   \n",
       "0      807  710  621  1013   965  675   111      108        Zand  \\\n",
       "1      807  713  625  1023   967  678   111      109        Zand   \n",
       "2      792  703  620  1003   950  673   111      109        Zand   \n",
       "3      784  697  618   992   941  671   111      109        Zand   \n",
       "4      861  752  647  1071  1036  685   110      109        Zand   \n",
       "...    ...  ...  ...   ...   ...  ...   ...      ...         ...   \n",
       "35785  337  406  486   798   546  656   140      123  Vegetation   \n",
       "35786  339  409  486   805   550  659   140      123  Vegetation   \n",
       "35787  340  411  485   808   553  660   140      123  Vegetation   \n",
       "35788  335  406  485   794   543  655   140      123  Vegetation   \n",
       "35789  336  408  485   798   546  658   140      123  Vegetation   \n",
       "\n",
       "                                                   image  \n",
       "0      coepelduynen\\20230402_105321_PNEO-03_1_49_30cm...  \n",
       "1      coepelduynen\\20230402_105321_PNEO-03_1_49_30cm...  \n",
       "2      coepelduynen\\20230402_105321_PNEO-03_1_49_30cm...  \n",
       "3      coepelduynen\\20230402_105321_PNEO-03_1_49_30cm...  \n",
       "4      coepelduynen\\20230402_105321_PNEO-03_1_49_30cm...  \n",
       "...                                                  ...  \n",
       "35785  coepelduynen\\20230910_105008_PNEO-03_1_1_30cm_...  \n",
       "35786  coepelduynen\\20230910_105008_PNEO-03_1_1_30cm_...  \n",
       "35787  coepelduynen\\20230910_105008_PNEO-03_1_1_30cm_...  \n",
       "35788  coepelduynen\\20230910_105008_PNEO-03_1_1_30cm_...  \n",
       "35789  coepelduynen\\20230910_105008_PNEO-03_1_1_30cm_...  \n",
       "\n",
       "[35790 rows x 10 columns]"
      ]
     },
     "execution_count": 4,
     "metadata": {},
     "output_type": "execute_result"
    }
   ],
   "source": [
    "df"
   ]
  },
  {
   "cell_type": "code",
   "execution_count": 6,
   "metadata": {},
   "outputs": [],
   "source": [
    "X_train, X_test, y_train, y_test = train_test_split(df[['r','g','b','n','e','d','ndvi','re_ndvi']].values, df['label'].values,test_size=0.3)"
   ]
  },
  {
   "cell_type": "code",
   "execution_count": 8,
   "metadata": {},
   "outputs": [
    {
     "data": {
      "text/plain": [
       "array(['Vegetation', 'Vegetation', 'Vegetation', ..., 'Zand', 'Zand',\n",
       "       'Vegetation'], dtype=object)"
      ]
     },
     "execution_count": 8,
     "metadata": {},
     "output_type": "execute_result"
    }
   ],
   "source": [
    "y_train"
   ]
  },
  {
   "cell_type": "code",
   "execution_count": 9,
   "metadata": {},
   "outputs": [
    {
     "name": "stderr",
     "output_type": "stream",
     "text": [
      "c:\\ProgramData\\Anaconda3\\envs\\py310\\lib\\site-packages\\sklearn\\ensemble\\_forest.py:427: FutureWarning: `max_features='auto'` has been deprecated in 1.1 and will be removed in 1.3. To keep the past behaviour, explicitly set `max_features='sqrt'` or remove this parameter as it is also the default value for RandomForestClassifiers and ExtraTreesClassifiers.\n",
      "  warn(\n"
     ]
    }
   ],
   "source": [
    "model = RandomForestClassifier(n_estimators=10, min_samples_split=5, min_samples_leaf=1, max_features='auto', bootstrap=False)\n",
    "model = model.fit(X_train, y_train)"
   ]
  },
  {
   "cell_type": "code",
   "execution_count": 10,
   "metadata": {},
   "outputs": [
    {
     "name": "stdout",
     "output_type": "stream",
     "text": [
      "              precision    recall  f1-score   support\n",
      "\n",
      "  Vegetation       1.00      1.00      1.00      7246\n",
      "        Zand       1.00      1.00      1.00      3491\n",
      "\n",
      "    accuracy                           1.00     10737\n",
      "   macro avg       1.00      1.00      1.00     10737\n",
      "weighted avg       1.00      1.00      1.00     10737\n",
      "\n"
     ]
    }
   ],
   "source": [
    "# Small width random forest\n",
    "print(metrics.classification_report(y_test,model.predict(X_test)))"
   ]
  },
  {
   "cell_type": "code",
   "execution_count": 11,
   "metadata": {},
   "outputs": [
    {
     "name": "stderr",
     "output_type": "stream",
     "text": [
      "c:\\ProgramData\\Anaconda3\\envs\\py310\\lib\\site-packages\\sklearn\\ensemble\\_forest.py:427: FutureWarning: `max_features='auto'` has been deprecated in 1.1 and will be removed in 1.3. To keep the past behaviour, explicitly set `max_features='sqrt'` or remove this parameter as it is also the default value for RandomForestClassifiers and ExtraTreesClassifiers.\n",
      "  warn(\n"
     ]
    }
   ],
   "source": [
    "model = RandomForestClassifier(n_estimators=10, min_samples_split=5, min_samples_leaf=1, max_features='auto', bootstrap=False)\n",
    "model = model.fit(df[['r','g','b','n','e','d','ndvi','re_ndvi']].values, df['label'].values)"
   ]
  },
  {
   "cell_type": "code",
   "execution_count": 14,
   "metadata": {},
   "outputs": [],
   "source": [
    "filename = 'C:/repos/satellite-images-nso-datascience/saved_models/randomforest_classifier_coepelduynen_annotations_2023.sav'\n",
    "pickle.dump(model, open(filename, 'wb'))"
   ]
  }
 ],
 "metadata": {
  "kernelspec": {
   "display_name": "base",
   "language": "python",
   "name": "python3"
  },
  "language_info": {
   "codemirror_mode": {
    "name": "ipython",
    "version": 3
   },
   "file_extension": ".py",
   "mimetype": "text/x-python",
   "name": "python",
   "nbconvert_exporter": "python",
   "pygments_lexer": "ipython3",
   "version": "3.9.13"
  }
 },
 "nbformat": 4,
 "nbformat_minor": 2
}
