{
 "cells": [
  {
   "cell_type": "markdown",
   "metadata": {},
   "source": [
    "# Train model and score on annotations\n",
    "\n",
    "### This notebook uses annotations to make a pandas dataframe to train and validate a model on."
   ]
  },
  {
   "cell_type": "code",
   "execution_count": 11,
   "metadata": {},
   "outputs": [],
   "source": [
    "%matplotlib notebook\n",
    "import pandas as pd\n",
    "import pickle\n",
    "from sklearn.ensemble import RandomForestClassifier\n",
    "from sklearn.model_selection import train_test_split\n",
    "from sklearn import metrics\n",
    "import matplotlib.pyplot as plt\n",
    "from sklearn.model_selection import cross_val_score\n",
    "from sklearn.model_selection import RandomizedSearchCV\n",
    "import numpy as np\n",
    "import imblearn\n",
    "import json"
   ]
  },
  {
   "cell_type": "code",
   "execution_count": 12,
   "metadata": {},
   "outputs": [],
   "source": [
    "# Read in the premade data, see the data preparation plotting notebook\n",
    "df_scaled = pd.read_csv(\"../../../data/annotations/annotations_pixel_dataframes/annotaties_coepelduynen_to_pixel_scaled.csv\").drop(['Unnamed: 0'],axis=1)"
   ]
  },
  {
   "cell_type": "code",
   "execution_count": 13,
   "metadata": {},
   "outputs": [
    {
     "data": {
      "text/html": [
       "<div>\n",
       "<style scoped>\n",
       "    .dataframe tbody tr th:only-of-type {\n",
       "        vertical-align: middle;\n",
       "    }\n",
       "\n",
       "    .dataframe tbody tr th {\n",
       "        vertical-align: top;\n",
       "    }\n",
       "\n",
       "    .dataframe thead th {\n",
       "        text-align: right;\n",
       "    }\n",
       "</style>\n",
       "<table border=\"1\" class=\"dataframe\">\n",
       "  <thead>\n",
       "    <tr style=\"text-align: right;\">\n",
       "      <th></th>\n",
       "      <th>r</th>\n",
       "      <th>g</th>\n",
       "      <th>b</th>\n",
       "      <th>i</th>\n",
       "      <th>ndvi</th>\n",
       "      <th>height</th>\n",
       "    </tr>\n",
       "  </thead>\n",
       "  <tbody>\n",
       "    <tr>\n",
       "      <th>r</th>\n",
       "      <td>1.000000</td>\n",
       "      <td>0.977106</td>\n",
       "      <td>0.921585</td>\n",
       "      <td>0.547124</td>\n",
       "      <td>-0.481963</td>\n",
       "      <td>-0.175939</td>\n",
       "    </tr>\n",
       "    <tr>\n",
       "      <th>g</th>\n",
       "      <td>0.977106</td>\n",
       "      <td>1.000000</td>\n",
       "      <td>0.964362</td>\n",
       "      <td>0.604075</td>\n",
       "      <td>-0.438349</td>\n",
       "      <td>-0.239864</td>\n",
       "    </tr>\n",
       "    <tr>\n",
       "      <th>b</th>\n",
       "      <td>0.921585</td>\n",
       "      <td>0.964362</td>\n",
       "      <td>1.000000</td>\n",
       "      <td>0.523078</td>\n",
       "      <td>-0.490099</td>\n",
       "      <td>-0.269986</td>\n",
       "    </tr>\n",
       "    <tr>\n",
       "      <th>i</th>\n",
       "      <td>0.547124</td>\n",
       "      <td>0.604075</td>\n",
       "      <td>0.523078</td>\n",
       "      <td>1.000000</td>\n",
       "      <td>0.363079</td>\n",
       "      <td>-0.074711</td>\n",
       "    </tr>\n",
       "    <tr>\n",
       "      <th>ndvi</th>\n",
       "      <td>-0.481963</td>\n",
       "      <td>-0.438349</td>\n",
       "      <td>-0.490099</td>\n",
       "      <td>0.363079</td>\n",
       "      <td>1.000000</td>\n",
       "      <td>0.170164</td>\n",
       "    </tr>\n",
       "    <tr>\n",
       "      <th>height</th>\n",
       "      <td>-0.175939</td>\n",
       "      <td>-0.239864</td>\n",
       "      <td>-0.269986</td>\n",
       "      <td>-0.074711</td>\n",
       "      <td>0.170164</td>\n",
       "      <td>1.000000</td>\n",
       "    </tr>\n",
       "  </tbody>\n",
       "</table>\n",
       "</div>"
      ],
      "text/plain": [
       "               r         g         b         i      ndvi    height\n",
       "r       1.000000  0.977106  0.921585  0.547124 -0.481963 -0.175939\n",
       "g       0.977106  1.000000  0.964362  0.604075 -0.438349 -0.239864\n",
       "b       0.921585  0.964362  1.000000  0.523078 -0.490099 -0.269986\n",
       "i       0.547124  0.604075  0.523078  1.000000  0.363079 -0.074711\n",
       "ndvi   -0.481963 -0.438349 -0.490099  0.363079  1.000000  0.170164\n",
       "height -0.175939 -0.239864 -0.269986 -0.074711  0.170164  1.000000"
      ]
     },
     "execution_count": 13,
     "metadata": {},
     "output_type": "execute_result"
    }
   ],
   "source": [
    "# Check for colinearity\n",
    "df_scaled[['r','g','b','i','ndvi','height']].corr()\n",
    "# This indicates that we will filter r and g"
   ]
  },
  {
   "cell_type": "code",
   "execution_count": 14,
   "metadata": {},
   "outputs": [
    {
     "data": {
      "text/html": [
       "<div>\n",
       "<style scoped>\n",
       "    .dataframe tbody tr th:only-of-type {\n",
       "        vertical-align: middle;\n",
       "    }\n",
       "\n",
       "    .dataframe tbody tr th {\n",
       "        vertical-align: top;\n",
       "    }\n",
       "\n",
       "    .dataframe thead th {\n",
       "        text-align: right;\n",
       "    }\n",
       "</style>\n",
       "<table border=\"1\" class=\"dataframe\">\n",
       "  <thead>\n",
       "    <tr style=\"text-align: right;\">\n",
       "      <th></th>\n",
       "      <th>r</th>\n",
       "      <th>g</th>\n",
       "      <th>b</th>\n",
       "      <th>i</th>\n",
       "      <th>ndvi</th>\n",
       "      <th>height</th>\n",
       "      <th>date</th>\n",
       "    </tr>\n",
       "    <tr>\n",
       "      <th>label</th>\n",
       "      <th></th>\n",
       "      <th></th>\n",
       "      <th></th>\n",
       "      <th></th>\n",
       "      <th></th>\n",
       "      <th></th>\n",
       "      <th></th>\n",
       "    </tr>\n",
       "  </thead>\n",
       "  <tbody>\n",
       "    <tr>\n",
       "      <th>Asfalt</th>\n",
       "      <td>0.399773</td>\n",
       "      <td>0.334474</td>\n",
       "      <td>0.283990</td>\n",
       "      <td>0.165628</td>\n",
       "      <td>0.651612</td>\n",
       "      <td>0.025310</td>\n",
       "      <td>2.020708e+07</td>\n",
       "    </tr>\n",
       "    <tr>\n",
       "      <th>Bos</th>\n",
       "      <td>0.282251</td>\n",
       "      <td>0.202853</td>\n",
       "      <td>0.146965</td>\n",
       "      <td>0.212731</td>\n",
       "      <td>0.831874</td>\n",
       "      <td>0.563899</td>\n",
       "      <td>2.020325e+07</td>\n",
       "    </tr>\n",
       "    <tr>\n",
       "      <th>Gras</th>\n",
       "      <td>0.303406</td>\n",
       "      <td>0.246729</td>\n",
       "      <td>0.200362</td>\n",
       "      <td>0.222265</td>\n",
       "      <td>0.814862</td>\n",
       "      <td>0.007948</td>\n",
       "      <td>2.020546e+07</td>\n",
       "    </tr>\n",
       "    <tr>\n",
       "      <th>Schaduw</th>\n",
       "      <td>0.350915</td>\n",
       "      <td>0.247807</td>\n",
       "      <td>0.183875</td>\n",
       "      <td>0.122517</td>\n",
       "      <td>0.576594</td>\n",
       "      <td>0.088708</td>\n",
       "      <td>2.020960e+07</td>\n",
       "    </tr>\n",
       "    <tr>\n",
       "      <th>Struweel</th>\n",
       "      <td>0.301044</td>\n",
       "      <td>0.221487</td>\n",
       "      <td>0.159558</td>\n",
       "      <td>0.217912</td>\n",
       "      <td>0.824665</td>\n",
       "      <td>0.241186</td>\n",
       "      <td>2.020399e+07</td>\n",
       "    </tr>\n",
       "    <tr>\n",
       "      <th>Vochtige duinvallei</th>\n",
       "      <td>0.308156</td>\n",
       "      <td>0.248914</td>\n",
       "      <td>0.191650</td>\n",
       "      <td>0.207573</td>\n",
       "      <td>0.799614</td>\n",
       "      <td>0.000000</td>\n",
       "      <td>2.020713e+07</td>\n",
       "    </tr>\n",
       "    <tr>\n",
       "      <th>Zand</th>\n",
       "      <td>0.504575</td>\n",
       "      <td>0.493844</td>\n",
       "      <td>0.484533</td>\n",
       "      <td>0.273364</td>\n",
       "      <td>0.730527</td>\n",
       "      <td>0.008013</td>\n",
       "      <td>2.020794e+07</td>\n",
       "    </tr>\n",
       "  </tbody>\n",
       "</table>\n",
       "</div>"
      ],
      "text/plain": [
       "                            r         g         b         i      ndvi  \\\n",
       "label                                                                   \n",
       "Asfalt               0.399773  0.334474  0.283990  0.165628  0.651612   \n",
       "Bos                  0.282251  0.202853  0.146965  0.212731  0.831874   \n",
       "Gras                 0.303406  0.246729  0.200362  0.222265  0.814862   \n",
       "Schaduw              0.350915  0.247807  0.183875  0.122517  0.576594   \n",
       "Struweel             0.301044  0.221487  0.159558  0.217912  0.824665   \n",
       "Vochtige duinvallei  0.308156  0.248914  0.191650  0.207573  0.799614   \n",
       "Zand                 0.504575  0.493844  0.484533  0.273364  0.730527   \n",
       "\n",
       "                       height          date  \n",
       "label                                        \n",
       "Asfalt               0.025310  2.020708e+07  \n",
       "Bos                  0.563899  2.020325e+07  \n",
       "Gras                 0.007948  2.020546e+07  \n",
       "Schaduw              0.088708  2.020960e+07  \n",
       "Struweel             0.241186  2.020399e+07  \n",
       "Vochtige duinvallei  0.000000  2.020713e+07  \n",
       "Zand                 0.008013  2.020794e+07  "
      ]
     },
     "execution_count": 14,
     "metadata": {},
     "output_type": "execute_result"
    }
   ],
   "source": [
    "df_scaled.groupby(['label']).mean()"
   ]
  },
  {
   "cell_type": "code",
   "execution_count": 11,
   "metadata": {},
   "outputs": [],
   "source": [
    "sample_dates = df_scaled['date'].unique()"
   ]
  },
  {
   "cell_type": "code",
   "execution_count": 12,
   "metadata": {},
   "outputs": [
    {
     "data": {
      "text/plain": [
       "array([20190601, 20200625, 20200731, 20200915, 20210709, 20210815,\n",
       "       20210907, 20220515, 20220922], dtype=int64)"
      ]
     },
     "execution_count": 12,
     "metadata": {},
     "output_type": "execute_result"
    }
   ],
   "source": [
    "sample_dates"
   ]
  },
  {
   "cell_type": "markdown",
   "metadata": {},
   "source": [
    "### Make a test set based on the date sampling instead of random sampling\n",
    "\n",
    "We do this because we see a difference in model performance if a model has already seen a annotated satellite image, it makes it easier to predict it even if it is sampled.\n",
    "\n",
    "With random sampling we will get samples from all the annotated satellite images yet in a production environment the model has to predict images which has not yet been annotated.\n",
    "\n",
    "Each satellite image has it's own unique rgb values, because of atmospheric influence, thus the model needs to handle these unique values.\n",
    "Thus it is a better a idea to make a test set by sampling dates instead of random sampling.\n",
    "\n",
    "\n",
    "Currently we have 12 images we each around 120937 pixels, so we have a large amount of pixels but we need more across dates than in one satellite image.\n",
    "\n",
    "Synthetic data might be the solution for this."
   ]
  },
  {
   "cell_type": "code",
   "execution_count": 15,
   "metadata": {},
   "outputs": [
    {
     "data": {
      "text/plain": [
       "120936.33333333333"
      ]
     },
     "execution_count": 15,
     "metadata": {},
     "output_type": "execute_result"
    }
   ],
   "source": [
    "df_scaled['date'].value_counts().mean()"
   ]
  },
  {
   "cell_type": "code",
   "execution_count": 16,
   "metadata": {},
   "outputs": [
    {
     "data": {
      "text/plain": [
       "array([20190601, 20200625, 20200731, 20200915, 20210709, 20210815,\n",
       "       20210907, 20220515, 20220922], dtype=int64)"
      ]
     },
     "execution_count": 16,
     "metadata": {},
     "output_type": "execute_result"
    }
   ],
   "source": [
    "df_scaled['date'].unique()"
   ]
  },
  {
   "cell_type": "code",
   "execution_count": 17,
   "metadata": {},
   "outputs": [],
   "source": [
    "def cross_validation_balance_on_date(data, model, cv, no_images_to_remove = 2):\n",
    "    \"\"\"\n",
    "    This method does cross validation based on dates instead of sampling.\n",
    "        \n",
    "    @param data: pandas DataFrame with a date column.\n",
    "    @param model: a model with making predictions.\n",
    "    @param cv: The number of folds.\n",
    "    \"\"\"\n",
    "\n",
    "    results = []\n",
    "\n",
    "    # sample values for the folds\n",
    "    sample_dates = pd.Series(data['date'].unique()).sample(cv*no_images_to_remove).values\n",
    "\n",
    "    sample_dates = [(sample_dates[i], sample_dates[i+1]) for i in range(0, len(sample_dates)-1, no_images_to_remove)]\n",
    "\n",
    "    for fold in range(0, cv):\n",
    "        print(\"---------fold: \"+ str(fold+1))\n",
    "\n",
    "        \n",
    "        print(\"Picked dates: \")\n",
    "        print(sample_dates[fold][0])\n",
    "        print(sample_dates[fold][1])\n",
    "\n",
    "        # Use a dates to make a test set.\n",
    "        df_scaled_training = data[ (data['date'] != sample_dates[fold][0]) & (data['date'] != sample_dates[fold][1])]\n",
    "        df_scaled_test = data[(data['date'] == sample_dates[fold][0]) | (data['date'] == sample_dates[fold][1])]\n",
    "\n",
    "        print(\"Rebalanced dataset\")\n",
    "        # Rebalance dataset.\n",
    "        oversample = imblearn.over_sampling.SMOTE()\n",
    "        X_new, y_new = oversample.fit_resample(df_scaled_training[['r','g','b','i','ndvi','height']], df_scaled_training['label'])\n",
    "        X_new['label'] = y_new\n",
    "        df_scaled_balanced = X_new\n",
    "\n",
    "        print(\"Fitting model\")\n",
    "        model.fit(df_scaled_balanced[['b','i','ndvi','height']].values, df_scaled_balanced['label'].values)\n",
    "\n",
    "        print(\"Results for fold: \"+str(fold+1))\n",
    "        #print(\"-----------------Training set---------------\")\n",
    "        train =  metrics.classification_report(df_scaled_balanced['label'].values, model.predict(df_scaled_balanced[['b','i','ndvi','height']].values), output_dict=True)\n",
    "        #print(\"-----------------Test set---------------\")\n",
    "        test = metrics.classification_report(df_scaled_test['label'].values,model.predict(df_scaled_test[['b','i','ndvi','height']].values), output_dict=True) \n",
    "        results.append([fold+1,{\"train\": train},{\"test\":  test}])\n",
    "    \n",
    "    return results\n",
    "        "
   ]
  },
  {
   "cell_type": "code",
   "execution_count": 18,
   "metadata": {},
   "outputs": [],
   "source": [
    "sample_dates = df_scaled['date'].sample(2).values"
   ]
  },
  {
   "cell_type": "code",
   "execution_count": 19,
   "metadata": {},
   "outputs": [
    {
     "name": "stdout",
     "output_type": "stream",
     "text": [
      "{'n_estimators': [10, 20, 100, 200, 300], 'max_features': ['auto', 'sqrt'], 'max_depth': [10, 20, None, None], 'min_samples_split': [2, 5, 10], 'min_samples_leaf': [1, 2, 4], 'bootstrap': [True, False]}\n",
      "Fitting 3 folds for each of 100 candidates, totalling 300 fits\n"
     ]
    },
    {
     "name": "stderr",
     "output_type": "stream",
     "text": [
      "c:\\ProgramData\\Anaconda3\\envs\\py310\\lib\\site-packages\\sklearn\\ensemble\\_forest.py:427: FutureWarning: `max_features='auto'` has been deprecated in 1.1 and will be removed in 1.3. To keep the past behaviour, explicitly set `max_features='sqrt'` or remove this parameter as it is also the default value for RandomForestClassifiers and ExtraTreesClassifiers.\n",
      "  warn(\n"
     ]
    }
   ],
   "source": [
    "# Gridsearch parameters, this section can be skipped the optimal parameters are below\n",
    "\n",
    "#Pick a date to be removed.\n",
    "df_scaled_training = df_scaled[ (df_scaled['date'] != sample_dates[0]) & (df_scaled['date'] != sample_dates[1])]\n",
    "df_scaled_test = df_scaled[(df_scaled['date'] == sample_dates[0]) | (df_scaled['date'] == sample_dates[1])]\n",
    "\n",
    "# Oversample        \n",
    "oversample = imblearn.over_sampling.SMOTE()\n",
    "X_new, y_new = oversample.fit_resample(df_scaled_training[['r','g','b','i','ndvi','height']], df_scaled_training['label'])\n",
    "X_new['label'] = y_new\n",
    "df_scaled_balanced = X_new\n",
    "\n",
    "# Number of trees in random forest\n",
    "n_estimators = [10,20,100,200,300]\n",
    "# Number of features to consider at every split\n",
    "max_features = ['auto', 'sqrt']\n",
    "# Maximum number of levels in tree\n",
    "max_depth = [10,20,None]\n",
    "max_depth.append(None)\n",
    "# Minimum number of samples required to split a node\n",
    "min_samples_split = [2, 5, 10]\n",
    "# Minimum number of samples required at each leaf node\n",
    "min_samples_leaf = [1, 2, 4]\n",
    "# Method of selecting samples for training each tree\n",
    "bootstrap = [True,False]\n",
    "criterion = ['gini','entropy', 'log_loss']\n",
    "\n",
    "random_grid = {'n_estimators': n_estimators,\n",
    "               'max_features': max_features,\n",
    "               'max_depth': max_depth,\n",
    "               'min_samples_split': min_samples_split,\n",
    "               'min_samples_leaf': min_samples_leaf,\n",
    "               'bootstrap': bootstrap}\n",
    "print(random_grid)\n",
    "\n",
    "# First create the base model to tune\n",
    "rf = RandomForestClassifier()\n",
    "# Random search of parameters, using 3 fold cross validation, \n",
    "# search across 100 different combinations, and use all available cores\n",
    "rf_random = RandomizedSearchCV(estimator = rf, param_distributions = random_grid, n_iter = 100, cv = 3, verbose=2, random_state=42, n_jobs = -1)\n",
    "# Fit the random search model\n",
    "rf_random.fit(df_scaled_balanced[['b','i','ndvi','height']].values, df_scaled_balanced['label'].values)\n",
    "json = json.dumps(rf_random.best_params_)\n",
    "f = open(\"best_params.json\",\"w\")\n",
    "# write json object to file\n",
    "f.write(json)\n",
    "\n",
    "# close file\n",
    "f.close()"
   ]
  },
  {
   "cell_type": "code",
   "execution_count": 20,
   "metadata": {},
   "outputs": [],
   "source": [
    "#Best parameters found after cross validation.\n",
    "model = RandomForestClassifier(n_estimators=20, min_samples_split=2, min_samples_leaf=4, max_features='auto', bootstrap=False, max_depth=None)"
   ]
  },
  {
   "cell_type": "code",
   "execution_count": 21,
   "metadata": {},
   "outputs": [],
   "source": [
    "# Final parameters, final parameters which the best implementation performance vs model performance.\n",
    "model = RandomForestClassifier(n_estimators=10, min_samples_split=5, min_samples_leaf=1, max_features='sqrt', bootstrap=True)"
   ]
  },
  {
   "cell_type": "code",
   "execution_count": 21,
   "metadata": {},
   "outputs": [
    {
     "data": {
      "text/html": [
       "<div>\n",
       "<style scoped>\n",
       "    .dataframe tbody tr th:only-of-type {\n",
       "        vertical-align: middle;\n",
       "    }\n",
       "\n",
       "    .dataframe tbody tr th {\n",
       "        vertical-align: top;\n",
       "    }\n",
       "\n",
       "    .dataframe thead th {\n",
       "        text-align: right;\n",
       "    }\n",
       "</style>\n",
       "<table border=\"1\" class=\"dataframe\">\n",
       "  <thead>\n",
       "    <tr style=\"text-align: right;\">\n",
       "      <th></th>\n",
       "      <th>r</th>\n",
       "      <th>g</th>\n",
       "      <th>b</th>\n",
       "      <th>i</th>\n",
       "      <th>ndvi</th>\n",
       "      <th>height</th>\n",
       "      <th>label</th>\n",
       "      <th>image</th>\n",
       "      <th>date</th>\n",
       "    </tr>\n",
       "  </thead>\n",
       "  <tbody>\n",
       "    <tr>\n",
       "      <th>0</th>\n",
       "      <td>0.316497</td>\n",
       "      <td>0.275428</td>\n",
       "      <td>0.255914</td>\n",
       "      <td>0.249149</td>\n",
       "      <td>0.852564</td>\n",
       "      <td>0.396078</td>\n",
       "      <td>Gras</td>\n",
       "      <td>20190601_105844_SV1-04_50cm_RD_11bit_RGBI_Katw...</td>\n",
       "      <td>20190601</td>\n",
       "    </tr>\n",
       "    <tr>\n",
       "      <th>1</th>\n",
       "      <td>0.318109</td>\n",
       "      <td>0.276328</td>\n",
       "      <td>0.258065</td>\n",
       "      <td>0.245319</td>\n",
       "      <td>0.846154</td>\n",
       "      <td>0.003922</td>\n",
       "      <td>Gras</td>\n",
       "      <td>20190601_105844_SV1-04_50cm_RD_11bit_RGBI_Katw...</td>\n",
       "      <td>20190601</td>\n",
       "    </tr>\n",
       "    <tr>\n",
       "      <th>2</th>\n",
       "      <td>0.317571</td>\n",
       "      <td>0.276328</td>\n",
       "      <td>0.257527</td>\n",
       "      <td>0.243617</td>\n",
       "      <td>0.839744</td>\n",
       "      <td>0.003922</td>\n",
       "      <td>Gras</td>\n",
       "      <td>20190601_105844_SV1-04_50cm_RD_11bit_RGBI_Katw...</td>\n",
       "      <td>20190601</td>\n",
       "    </tr>\n",
       "    <tr>\n",
       "      <th>3</th>\n",
       "      <td>0.318109</td>\n",
       "      <td>0.277228</td>\n",
       "      <td>0.257527</td>\n",
       "      <td>0.243830</td>\n",
       "      <td>0.839744</td>\n",
       "      <td>0.317647</td>\n",
       "      <td>Gras</td>\n",
       "      <td>20190601_105844_SV1-04_50cm_RD_11bit_RGBI_Katw...</td>\n",
       "      <td>20190601</td>\n",
       "    </tr>\n",
       "    <tr>\n",
       "      <th>4</th>\n",
       "      <td>0.321333</td>\n",
       "      <td>0.280828</td>\n",
       "      <td>0.262366</td>\n",
       "      <td>0.249787</td>\n",
       "      <td>0.846154</td>\n",
       "      <td>0.317647</td>\n",
       "      <td>Gras</td>\n",
       "      <td>20190601_105844_SV1-04_50cm_RD_11bit_RGBI_Katw...</td>\n",
       "      <td>20190601</td>\n",
       "    </tr>\n",
       "    <tr>\n",
       "      <th>...</th>\n",
       "      <td>...</td>\n",
       "      <td>...</td>\n",
       "      <td>...</td>\n",
       "      <td>...</td>\n",
       "      <td>...</td>\n",
       "      <td>...</td>\n",
       "      <td>...</td>\n",
       "      <td>...</td>\n",
       "      <td>...</td>\n",
       "    </tr>\n",
       "    <tr>\n",
       "      <th>1088422</th>\n",
       "      <td>0.503863</td>\n",
       "      <td>0.455155</td>\n",
       "      <td>0.383097</td>\n",
       "      <td>0.276638</td>\n",
       "      <td>0.709402</td>\n",
       "      <td>0.000000</td>\n",
       "      <td>Vochtige duinvallei</td>\n",
       "      <td>20220922_110546_SV2-01_SV_RD_11bit_RGBI_50cm_V...</td>\n",
       "      <td>20220922</td>\n",
       "    </tr>\n",
       "    <tr>\n",
       "      <th>1088423</th>\n",
       "      <td>0.503004</td>\n",
       "      <td>0.454124</td>\n",
       "      <td>0.382668</td>\n",
       "      <td>0.275645</td>\n",
       "      <td>0.709402</td>\n",
       "      <td>0.000000</td>\n",
       "      <td>Vochtige duinvallei</td>\n",
       "      <td>20220922_110546_SV2-01_SV_RD_11bit_RGBI_50cm_V...</td>\n",
       "      <td>20220922</td>\n",
       "    </tr>\n",
       "    <tr>\n",
       "      <th>1088424</th>\n",
       "      <td>0.497425</td>\n",
       "      <td>0.446392</td>\n",
       "      <td>0.374517</td>\n",
       "      <td>0.265056</td>\n",
       "      <td>0.692308</td>\n",
       "      <td>0.000000</td>\n",
       "      <td>Vochtige duinvallei</td>\n",
       "      <td>20220922_110546_SV2-01_SV_RD_11bit_RGBI_50cm_V...</td>\n",
       "      <td>20220922</td>\n",
       "    </tr>\n",
       "    <tr>\n",
       "      <th>1088425</th>\n",
       "      <td>0.494421</td>\n",
       "      <td>0.442268</td>\n",
       "      <td>0.367653</td>\n",
       "      <td>0.257445</td>\n",
       "      <td>0.683761</td>\n",
       "      <td>0.000000</td>\n",
       "      <td>Vochtige duinvallei</td>\n",
       "      <td>20220922_110546_SV2-01_SV_RD_11bit_RGBI_50cm_V...</td>\n",
       "      <td>20220922</td>\n",
       "    </tr>\n",
       "    <tr>\n",
       "      <th>1088426</th>\n",
       "      <td>0.502575</td>\n",
       "      <td>0.452062</td>\n",
       "      <td>0.380952</td>\n",
       "      <td>0.272005</td>\n",
       "      <td>0.700855</td>\n",
       "      <td>0.000000</td>\n",
       "      <td>Vochtige duinvallei</td>\n",
       "      <td>20220922_110546_SV2-01_SV_RD_11bit_RGBI_50cm_V...</td>\n",
       "      <td>20220922</td>\n",
       "    </tr>\n",
       "  </tbody>\n",
       "</table>\n",
       "<p>1088427 rows × 9 columns</p>\n",
       "</div>"
      ],
      "text/plain": [
       "                r         g         b         i      ndvi    height  \\\n",
       "0        0.316497  0.275428  0.255914  0.249149  0.852564  0.396078   \n",
       "1        0.318109  0.276328  0.258065  0.245319  0.846154  0.003922   \n",
       "2        0.317571  0.276328  0.257527  0.243617  0.839744  0.003922   \n",
       "3        0.318109  0.277228  0.257527  0.243830  0.839744  0.317647   \n",
       "4        0.321333  0.280828  0.262366  0.249787  0.846154  0.317647   \n",
       "...           ...       ...       ...       ...       ...       ...   \n",
       "1088422  0.503863  0.455155  0.383097  0.276638  0.709402  0.000000   \n",
       "1088423  0.503004  0.454124  0.382668  0.275645  0.709402  0.000000   \n",
       "1088424  0.497425  0.446392  0.374517  0.265056  0.692308  0.000000   \n",
       "1088425  0.494421  0.442268  0.367653  0.257445  0.683761  0.000000   \n",
       "1088426  0.502575  0.452062  0.380952  0.272005  0.700855  0.000000   \n",
       "\n",
       "                       label  \\\n",
       "0                       Gras   \n",
       "1                       Gras   \n",
       "2                       Gras   \n",
       "3                       Gras   \n",
       "4                       Gras   \n",
       "...                      ...   \n",
       "1088422  Vochtige duinvallei   \n",
       "1088423  Vochtige duinvallei   \n",
       "1088424  Vochtige duinvallei   \n",
       "1088425  Vochtige duinvallei   \n",
       "1088426  Vochtige duinvallei   \n",
       "\n",
       "                                                     image      date  \n",
       "0        20190601_105844_SV1-04_50cm_RD_11bit_RGBI_Katw...  20190601  \n",
       "1        20190601_105844_SV1-04_50cm_RD_11bit_RGBI_Katw...  20190601  \n",
       "2        20190601_105844_SV1-04_50cm_RD_11bit_RGBI_Katw...  20190601  \n",
       "3        20190601_105844_SV1-04_50cm_RD_11bit_RGBI_Katw...  20190601  \n",
       "4        20190601_105844_SV1-04_50cm_RD_11bit_RGBI_Katw...  20190601  \n",
       "...                                                    ...       ...  \n",
       "1088422  20220922_110546_SV2-01_SV_RD_11bit_RGBI_50cm_V...  20220922  \n",
       "1088423  20220922_110546_SV2-01_SV_RD_11bit_RGBI_50cm_V...  20220922  \n",
       "1088424  20220922_110546_SV2-01_SV_RD_11bit_RGBI_50cm_V...  20220922  \n",
       "1088425  20220922_110546_SV2-01_SV_RD_11bit_RGBI_50cm_V...  20220922  \n",
       "1088426  20220922_110546_SV2-01_SV_RD_11bit_RGBI_50cm_V...  20220922  \n",
       "\n",
       "[1088427 rows x 9 columns]"
      ]
     },
     "execution_count": 21,
     "metadata": {},
     "output_type": "execute_result"
    }
   ],
   "source": [
    "df_scaled"
   ]
  },
  {
   "cell_type": "code",
   "execution_count": 22,
   "metadata": {},
   "outputs": [
    {
     "name": "stdout",
     "output_type": "stream",
     "text": [
      "---------fold: 1\n",
      "Picked dates: \n",
      "20190601\n",
      "20210815\n",
      "Rebalanced dataset\n",
      "Fitting model\n"
     ]
    },
    {
     "name": "stderr",
     "output_type": "stream",
     "text": [
      "c:\\ProgramData\\Anaconda3\\envs\\py310\\lib\\site-packages\\sklearn\\ensemble\\_forest.py:427: FutureWarning: `max_features='auto'` has been deprecated in 1.1 and will be removed in 1.3. To keep the past behaviour, explicitly set `max_features='sqrt'` or remove this parameter as it is also the default value for RandomForestClassifiers and ExtraTreesClassifiers.\n",
      "  warn(\n"
     ]
    },
    {
     "name": "stdout",
     "output_type": "stream",
     "text": [
      "Results for fold: 1\n",
      "---------fold: 2\n",
      "Picked dates: \n",
      "20210709\n",
      "20190601\n",
      "Rebalanced dataset\n",
      "Fitting model\n"
     ]
    },
    {
     "name": "stderr",
     "output_type": "stream",
     "text": [
      "c:\\ProgramData\\Anaconda3\\envs\\py310\\lib\\site-packages\\sklearn\\ensemble\\_forest.py:427: FutureWarning: `max_features='auto'` has been deprecated in 1.1 and will be removed in 1.3. To keep the past behaviour, explicitly set `max_features='sqrt'` or remove this parameter as it is also the default value for RandomForestClassifiers and ExtraTreesClassifiers.\n",
      "  warn(\n"
     ]
    },
    {
     "name": "stdout",
     "output_type": "stream",
     "text": [
      "Results for fold: 2\n",
      "---------fold: 3\n",
      "Picked dates: \n",
      "20210815\n",
      "20200915\n",
      "Rebalanced dataset\n",
      "Fitting model\n"
     ]
    },
    {
     "name": "stderr",
     "output_type": "stream",
     "text": [
      "c:\\ProgramData\\Anaconda3\\envs\\py310\\lib\\site-packages\\sklearn\\ensemble\\_forest.py:427: FutureWarning: `max_features='auto'` has been deprecated in 1.1 and will be removed in 1.3. To keep the past behaviour, explicitly set `max_features='sqrt'` or remove this parameter as it is also the default value for RandomForestClassifiers and ExtraTreesClassifiers.\n",
      "  warn(\n"
     ]
    },
    {
     "name": "stdout",
     "output_type": "stream",
     "text": [
      "Results for fold: 3\n",
      "---------fold: 4\n",
      "Picked dates: \n",
      "20190601\n",
      "20220515\n",
      "Rebalanced dataset\n",
      "Fitting model\n"
     ]
    },
    {
     "name": "stderr",
     "output_type": "stream",
     "text": [
      "c:\\ProgramData\\Anaconda3\\envs\\py310\\lib\\site-packages\\sklearn\\ensemble\\_forest.py:427: FutureWarning: `max_features='auto'` has been deprecated in 1.1 and will be removed in 1.3. To keep the past behaviour, explicitly set `max_features='sqrt'` or remove this parameter as it is also the default value for RandomForestClassifiers and ExtraTreesClassifiers.\n",
      "  warn(\n"
     ]
    },
    {
     "name": "stdout",
     "output_type": "stream",
     "text": [
      "Results for fold: 4\n"
     ]
    }
   ],
   "source": [
    "results = cross_validation_balance_on_date(df_scaled, model, 4)"
   ]
  },
  {
   "cell_type": "code",
   "execution_count": 91,
   "metadata": {},
   "outputs": [
    {
     "name": "stdout",
     "output_type": "stream",
     "text": [
      "Asfalt\n",
      "{'precision': 0.30230889134957917, 'recall': 0.5969436207400559, 'f1-score': 0.39548733540969083, 'support': 8254.0}\n",
      "Bos\n",
      "{'precision': 0.9187299848347934, 'recall': 0.8278336901511142, 'f1-score': 0.8686328856664004, 'support': 45733.75}\n",
      "Gras\n",
      "{'precision': 0.9840236499685466, 'recall': 0.8995279767120067, 'f1-score': 0.9388400307229717, 'support': 180641.5}\n",
      "Schaduw\n",
      "{'precision': 0.06049545046814816, 'recall': 0.041587821809609085, 'f1-score': 0.04612147686267638, 'support': 1432.25}\n",
      "Struweel\n",
      "{'precision': 0.5098833007374699, 'recall': 0.6922744110710222, 'f1-score': 0.5781478650721434, 'support': 15469.0}\n",
      "Vochtige duinvallei\n",
      "{'precision': 1.0, 'recall': 1.0, 'f1-score': 1.0, 'support': 13011.5}\n",
      "Zand\n",
      "{'precision': 0.9140217890182544, 'recall': 0.9547989950296234, 'f1-score': 0.9322872906771277, 'support': 36280.0}\n",
      "accuracy\n",
      "'float' object has no attribute 'keys'\n",
      "{'precision': 0.9140217890182544, 'recall': 0.9547989950296234, 'f1-score': 0.9322872906771277, 'support': 36280.0}\n",
      "macro avg\n",
      "{'precision': 0.6699232951966845, 'recall': 0.7161380736447759, 'f1-score': 0.6799309834872873, 'support': 300822.0}\n",
      "weighted avg\n",
      "{'precision': 0.9189353587868361, 'recall': 0.8852082451182475, 'f1-score': 0.8966428477658368, 'support': 300822.0}\n"
     ]
    }
   ],
   "source": [
    "# Summarize the cross validation on the none grid search parameters\n",
    "for big_keys  in results[0][2]['test'].keys():\n",
    "    print(big_keys)\n",
    "\n",
    "    try:\n",
    "        avg_keys = {key:0 for key in results[x][2]['test'][big_keys].keys()}\n",
    "\n",
    "        for x in range(0,4):\n",
    "            for key in avg_keys.keys():\n",
    "                avg_keys[key] = avg_keys[key]+results[x][2]['test'][big_keys][key] \n",
    "\n",
    "        for key in avg_keys.keys():\n",
    "            avg_keys[key] = avg_keys[key]/4\n",
    "    except Exception as e:\n",
    "        print(e)\n",
    "\n",
    "    print(avg_keys)"
   ]
  },
  {
   "cell_type": "code",
   "execution_count": 33,
   "metadata": {},
   "outputs": [
    {
     "name": "stdout",
     "output_type": "stream",
     "text": [
      "Asfalt\n",
      "{'precision': 0.996524694227594, 'recall': 0.9964799681978912, 'f1-score': 0.9965023307108829, 'support': 311929.0}\n",
      "Bos\n",
      "{'precision': 0.9991440752956319, 'recall': 0.9954476820045587, 'f1-score': 0.9972924535573884, 'support': 311929.0}\n",
      "Gras\n",
      "{'precision': 0.9990909966916134, 'recall': 0.9971724334704372, 'f1-score': 0.9981307931373634, 'support': 311929.0}\n",
      "Schaduw\n",
      "{'precision': 0.9994232377510117, 'recall': 0.9999294711296481, 'f1-score': 0.9996762903515294, 'support': 311929.0}\n",
      "Struweel\n",
      "{'precision': 0.9951585294192791, 'recall': 0.9989837430953838, 'f1-score': 0.9970674674469688, 'support': 311929.0}\n",
      "Vochtige duinvallei\n",
      "{'precision': 1.0, 'recall': 1.0, 'f1-score': 1.0, 'support': 311929.0}\n",
      "Zand\n",
      "{'precision': 0.9955433039101745, 'recall': 0.9968518476961103, 'f1-score': 0.9961971460975093, 'support': 311929.0}\n",
      "accuracy\n",
      "'float' object has no attribute 'keys'\n",
      "{'precision': 0.9955433039101745, 'recall': 0.9968518476961103, 'f1-score': 0.9961971460975093, 'support': 311929.0}\n",
      "macro avg\n",
      "{'precision': 0.9978406910421864, 'recall': 0.9978378779420041, 'f1-score': 0.9978380687573775, 'support': 2183503.0}\n",
      "weighted avg\n",
      "{'precision': 0.9978406910421864, 'recall': 0.9978378779420042, 'f1-score': 0.9978380687573775, 'support': 2183503.0}\n"
     ]
    }
   ],
   "source": [
    "# Summarize the cross validation on the grid search parameters on the train set.\n",
    "for big_keys  in results[0][1]['train'].keys():\n",
    "    print(big_keys)\n",
    "\n",
    "    try:\n",
    "        avg_keys = {key:0 for key in results[0][1]['train'][big_keys].keys()}\n",
    "\n",
    "        for x in range(0,4):\n",
    "            for key in avg_keys.keys():\n",
    "                avg_keys[key] = avg_keys[key]+results[0][1]['train'][big_keys][key] \n",
    "\n",
    "        for key in avg_keys.keys():\n",
    "            avg_keys[key] = avg_keys[key]/4\n",
    "    except Exception as e:\n",
    "        print(e)\n",
    "\n",
    "    print(avg_keys)"
   ]
  },
  {
   "cell_type": "code",
   "execution_count": 26,
   "metadata": {},
   "outputs": [
    {
     "name": "stdout",
     "output_type": "stream",
     "text": [
      "Asfalt\n",
      "{'precision': 0.3432880191214793, 'recall': 0.4752155196069843, 'f1-score': 0.3907049020449952, 'support': 5274.75}\n",
      "Bos\n",
      "{'precision': 0.8486721310536662, 'recall': 0.9187249989323708, 'f1-score': 0.8816467593316644, 'support': 37101.75}\n",
      "Gras\n",
      "{'precision': 0.9911619851846193, 'recall': 0.9724602814351372, 'f1-score': 0.98166567171887, 'support': 306133.5}\n",
      "Schaduw\n",
      "{'precision': 0.048837708785181566, 'recall': 0.07247725392886684, 'f1-score': 0.05676587358126265, 'support': 477.0}\n",
      "Struweel\n",
      "{'precision': 0.5555030013002247, 'recall': 0.56776793980361, 'f1-score': 0.5555622775534989, 'support': 14561.75}\n",
      "Vochtige duinvallei\n",
      "{'precision': 1.0, 'recall': 1.0, 'f1-score': 1.0, 'support': 10222.75}\n",
      "Zand\n",
      "{'precision': 0.9560495100746687, 'recall': 0.9323920512337888, 'f1-score': 0.9439110333377736, 'support': 32221.75}\n",
      "accuracy\n",
      "'float' object has no attribute 'keys'\n",
      "{'precision': 0.9560495100746687, 'recall': 0.9323920512337888, 'f1-score': 0.9439110333377736, 'support': 32221.75}\n",
      "macro avg\n",
      "{'precision': 0.67764462221712, 'recall': 0.7055768635629653, 'f1-score': 0.6871795025097236, 'support': 405993.25}\n",
      "weighted avg\n",
      "{'precision': 0.9510888390436506, 'recall': 0.9438128620407248, 'f1-score': 0.9467092235422809, 'support': 405993.25}\n"
     ]
    }
   ],
   "source": [
    "# Summarize the cross validation on the grid search parameters on the test set\n",
    "for big_keys  in results[0][2]['test'].keys():\n",
    "    print(big_keys)\n",
    "\n",
    "    try:\n",
    "        avg_keys = {key:0 for key in results[0][2]['test'][big_keys].keys()}\n",
    "\n",
    "        for x in range(0,4):\n",
    "            for key in avg_keys.keys():\n",
    "                avg_keys[key] = avg_keys[key]+results[x][2]['test'][big_keys][key] \n",
    "\n",
    "        for key in avg_keys.keys():\n",
    "            avg_keys[key] = avg_keys[key]/4\n",
    "    except Exception as e:\n",
    "        print(e)\n",
    "\n",
    "    print(avg_keys)"
   ]
  },
  {
   "cell_type": "markdown",
   "metadata": {},
   "source": [
    "### Test set with random sampling"
   ]
  },
  {
   "cell_type": "code",
   "execution_count": 61,
   "metadata": {},
   "outputs": [],
   "source": [
    "X_train, X_test, y_train, y_test = train_test_split(df_scaled[['b','i','ndvi','height']].values, df_scaled['label'].values,test_size=0.3)"
   ]
  },
  {
   "cell_type": "code",
   "execution_count": 62,
   "metadata": {},
   "outputs": [
    {
     "data": {
      "text/plain": [
       "array([[0.13256484, 0.15542245, 0.77124183, 0.24705882],\n",
       "       [0.129683  , 0.20554855, 0.85620915, 0.00392157],\n",
       "       [0.17167669, 0.23324742, 0.83333333, 0.00392157],\n",
       "       ...,\n",
       "       [0.13894456, 0.1810567 , 0.78846154, 0.00392157],\n",
       "       [0.41282565, 0.25869845, 0.71794872, 0.00392157],\n",
       "       [0.23972603, 0.22368421, 0.80519481, 0.00392157]])"
      ]
     },
     "execution_count": 62,
     "metadata": {},
     "output_type": "execute_result"
    }
   ],
   "source": [
    "X_test"
   ]
  },
  {
   "cell_type": "code",
   "execution_count": 64,
   "metadata": {},
   "outputs": [
    {
     "data": {
      "text/plain": [
       "array([[0.13256484, 0.15542245, 0.77124183, 0.24705882],\n",
       "       [0.129683  , 0.20554855, 0.85620915, 0.00392157],\n",
       "       [0.17167669, 0.23324742, 0.83333333, 0.00392157],\n",
       "       ...,\n",
       "       [0.13894456, 0.1810567 , 0.78846154, 0.00392157],\n",
       "       [0.41282565, 0.25869845, 0.71794872, 0.00392157],\n",
       "       [0.23972603, 0.22368421, 0.80519481, 0.00392157]])"
      ]
     },
     "execution_count": 64,
     "metadata": {},
     "output_type": "execute_result"
    }
   ],
   "source": [
    "X_test"
   ]
  },
  {
   "cell_type": "code",
   "execution_count": 65,
   "metadata": {},
   "outputs": [
    {
     "name": "stdout",
     "output_type": "stream",
     "text": [
      "                     precision    recall  f1-score   support\n",
      "\n",
      "             Asfalt       0.60      0.91      0.72      6904\n",
      "                Bos       0.93      0.96      0.94     35389\n",
      "               Gras       1.00      0.97      0.98    210898\n",
      "            Schaduw       0.64      0.58      0.61      1196\n",
      "           Struweel       0.79      0.85      0.82     14112\n",
      "Vochtige duinvallei       1.00      1.00      1.00     16208\n",
      "               Zand       0.98      0.99      0.99     41822\n",
      "\n",
      "           accuracy                           0.97    326529\n",
      "          macro avg       0.85      0.89      0.87    326529\n",
      "       weighted avg       0.97      0.97      0.97    326529\n",
      "\n"
     ]
    }
   ],
   "source": [
    "# Small width random forest\n",
    "print(metrics.classification_report(y_test,model.predict(X_test)))"
   ]
  },
  {
   "cell_type": "code",
   "execution_count": null,
   "metadata": {},
   "outputs": [],
   "source": [
    "print(metrics.classification_report(y_test,rf_random.predict(X_test)))"
   ]
  },
  {
   "cell_type": "code",
   "execution_count": 35,
   "metadata": {},
   "outputs": [
    {
     "data": {
      "text/plain": [
       "array(['Gras'], dtype=object)"
      ]
     },
     "execution_count": 35,
     "metadata": {},
     "output_type": "execute_result"
    }
   ],
   "source": [
    "model.predict([df_scaled[['r','g','b','i','ndvi','height']].values[0]])"
   ]
  },
  {
   "cell_type": "code",
   "execution_count": 33,
   "metadata": {},
   "outputs": [
    {
     "name": "stdout",
     "output_type": "stream",
     "text": [
      "                     precision    recall  f1-score   support\n",
      "\n",
      "             Asfalt       0.97      0.93      0.95      3263\n",
      "                Bos       0.99      0.98      0.98     33580\n",
      "               Gras       0.99      0.99      0.99     99654\n",
      "          Laag Gras       0.99      0.99      0.99     87005\n",
      "            Schaduw       0.98      0.96      0.97       906\n",
      "           Struweel       0.93      0.95      0.94     11268\n",
      "               Zand       0.99      0.99      0.99     33614\n",
      "vochtige duinvallei       0.99      0.98      0.98     29736\n",
      "\n",
      "           accuracy                           0.99    299026\n",
      "          macro avg       0.98      0.97      0.98    299026\n",
      "       weighted avg       0.99      0.99      0.99    299026\n",
      "\n"
     ]
    }
   ],
   "source": [
    "print(metrics.classification_report(y_test,model.predict(X_test)))"
   ]
  },
  {
   "cell_type": "code",
   "execution_count": 36,
   "metadata": {},
   "outputs": [
    {
     "name": "stderr",
     "output_type": "stream",
     "text": [
      "c:\\ProgramData\\Anaconda3\\lib\\site-packages\\sklearn\\base.py:444: UserWarning: X has feature names, but RandomForestClassifier was fitted without feature names\n",
      "  f\"X has feature names, but {self.__class__.__name__} was fitted without\"\n"
     ]
    },
    {
     "data": {
      "text/plain": [
       "996753"
      ]
     },
     "execution_count": 36,
     "metadata": {},
     "output_type": "execute_result"
    }
   ],
   "source": [
    "len(model.predict(df_scaled[['r','g','b','i','ndvi','height']]))"
   ]
  },
  {
   "cell_type": "code",
   "execution_count": 37,
   "metadata": {},
   "outputs": [
    {
     "data": {
      "application/javascript": "/* Put everything inside the global mpl namespace */\n/* global mpl */\nwindow.mpl = {};\n\nmpl.get_websocket_type = function () {\n    if (typeof WebSocket !== 'undefined') {\n        return WebSocket;\n    } else if (typeof MozWebSocket !== 'undefined') {\n        return MozWebSocket;\n    } else {\n        alert(\n            'Your browser does not have WebSocket support. ' +\n                'Please try Chrome, Safari or Firefox ≥ 6. ' +\n                'Firefox 4 and 5 are also supported but you ' +\n                'have to enable WebSockets in about:config.'\n        );\n    }\n};\n\nmpl.figure = function (figure_id, websocket, ondownload, parent_element) {\n    this.id = figure_id;\n\n    this.ws = websocket;\n\n    this.supports_binary = this.ws.binaryType !== undefined;\n\n    if (!this.supports_binary) {\n        var warnings = document.getElementById('mpl-warnings');\n        if (warnings) {\n            warnings.style.display = 'block';\n            warnings.textContent =\n                'This browser does not support binary websocket messages. ' +\n                'Performance may be slow.';\n        }\n    }\n\n    this.imageObj = new Image();\n\n    this.context = undefined;\n    this.message = undefined;\n    this.canvas = undefined;\n    this.rubberband_canvas = undefined;\n    this.rubberband_context = undefined;\n    this.format_dropdown = undefined;\n\n    this.image_mode = 'full';\n\n    this.root = document.createElement('div');\n    this.root.setAttribute('style', 'display: inline-block');\n    this._root_extra_style(this.root);\n\n    parent_element.appendChild(this.root);\n\n    this._init_header(this);\n    this._init_canvas(this);\n    this._init_toolbar(this);\n\n    var fig = this;\n\n    this.waiting = false;\n\n    this.ws.onopen = function () {\n        fig.send_message('supports_binary', { value: fig.supports_binary });\n        fig.send_message('send_image_mode', {});\n        if (fig.ratio !== 1) {\n            fig.send_message('set_device_pixel_ratio', {\n                device_pixel_ratio: fig.ratio,\n            });\n        }\n        fig.send_message('refresh', {});\n    };\n\n    this.imageObj.onload = function () {\n        if (fig.image_mode === 'full') {\n            // Full images could contain transparency (where diff images\n            // almost always do), so we need to clear the canvas so that\n            // there is no ghosting.\n            fig.context.clearRect(0, 0, fig.canvas.width, fig.canvas.height);\n        }\n        fig.context.drawImage(fig.imageObj, 0, 0);\n    };\n\n    this.imageObj.onunload = function () {\n        fig.ws.close();\n    };\n\n    this.ws.onmessage = this._make_on_message_function(this);\n\n    this.ondownload = ondownload;\n};\n\nmpl.figure.prototype._init_header = function () {\n    var titlebar = document.createElement('div');\n    titlebar.classList =\n        'ui-dialog-titlebar ui-widget-header ui-corner-all ui-helper-clearfix';\n    var titletext = document.createElement('div');\n    titletext.classList = 'ui-dialog-title';\n    titletext.setAttribute(\n        'style',\n        'width: 100%; text-align: center; padding: 3px;'\n    );\n    titlebar.appendChild(titletext);\n    this.root.appendChild(titlebar);\n    this.header = titletext;\n};\n\nmpl.figure.prototype._canvas_extra_style = function (_canvas_div) {};\n\nmpl.figure.prototype._root_extra_style = function (_canvas_div) {};\n\nmpl.figure.prototype._init_canvas = function () {\n    var fig = this;\n\n    var canvas_div = (this.canvas_div = document.createElement('div'));\n    canvas_div.setAttribute(\n        'style',\n        'border: 1px solid #ddd;' +\n            'box-sizing: content-box;' +\n            'clear: both;' +\n            'min-height: 1px;' +\n            'min-width: 1px;' +\n            'outline: 0;' +\n            'overflow: hidden;' +\n            'position: relative;' +\n            'resize: both;'\n    );\n\n    function on_keyboard_event_closure(name) {\n        return function (event) {\n            return fig.key_event(event, name);\n        };\n    }\n\n    canvas_div.addEventListener(\n        'keydown',\n        on_keyboard_event_closure('key_press')\n    );\n    canvas_div.addEventListener(\n        'keyup',\n        on_keyboard_event_closure('key_release')\n    );\n\n    this._canvas_extra_style(canvas_div);\n    this.root.appendChild(canvas_div);\n\n    var canvas = (this.canvas = document.createElement('canvas'));\n    canvas.classList.add('mpl-canvas');\n    canvas.setAttribute('style', 'box-sizing: content-box;');\n\n    this.context = canvas.getContext('2d');\n\n    var backingStore =\n        this.context.backingStorePixelRatio ||\n        this.context.webkitBackingStorePixelRatio ||\n        this.context.mozBackingStorePixelRatio ||\n        this.context.msBackingStorePixelRatio ||\n        this.context.oBackingStorePixelRatio ||\n        this.context.backingStorePixelRatio ||\n        1;\n\n    this.ratio = (window.devicePixelRatio || 1) / backingStore;\n\n    var rubberband_canvas = (this.rubberband_canvas = document.createElement(\n        'canvas'\n    ));\n    rubberband_canvas.setAttribute(\n        'style',\n        'box-sizing: content-box; position: absolute; left: 0; top: 0; z-index: 1;'\n    );\n\n    // Apply a ponyfill if ResizeObserver is not implemented by browser.\n    if (this.ResizeObserver === undefined) {\n        if (window.ResizeObserver !== undefined) {\n            this.ResizeObserver = window.ResizeObserver;\n        } else {\n            var obs = _JSXTOOLS_RESIZE_OBSERVER({});\n            this.ResizeObserver = obs.ResizeObserver;\n        }\n    }\n\n    this.resizeObserverInstance = new this.ResizeObserver(function (entries) {\n        var nentries = entries.length;\n        for (var i = 0; i < nentries; i++) {\n            var entry = entries[i];\n            var width, height;\n            if (entry.contentBoxSize) {\n                if (entry.contentBoxSize instanceof Array) {\n                    // Chrome 84 implements new version of spec.\n                    width = entry.contentBoxSize[0].inlineSize;\n                    height = entry.contentBoxSize[0].blockSize;\n                } else {\n                    // Firefox implements old version of spec.\n                    width = entry.contentBoxSize.inlineSize;\n                    height = entry.contentBoxSize.blockSize;\n                }\n            } else {\n                // Chrome <84 implements even older version of spec.\n                width = entry.contentRect.width;\n                height = entry.contentRect.height;\n            }\n\n            // Keep the size of the canvas and rubber band canvas in sync with\n            // the canvas container.\n            if (entry.devicePixelContentBoxSize) {\n                // Chrome 84 implements new version of spec.\n                canvas.setAttribute(\n                    'width',\n                    entry.devicePixelContentBoxSize[0].inlineSize\n                );\n                canvas.setAttribute(\n                    'height',\n                    entry.devicePixelContentBoxSize[0].blockSize\n                );\n            } else {\n                canvas.setAttribute('width', width * fig.ratio);\n                canvas.setAttribute('height', height * fig.ratio);\n            }\n            canvas.setAttribute(\n                'style',\n                'width: ' + width + 'px; height: ' + height + 'px;'\n            );\n\n            rubberband_canvas.setAttribute('width', width);\n            rubberband_canvas.setAttribute('height', height);\n\n            // And update the size in Python. We ignore the initial 0/0 size\n            // that occurs as the element is placed into the DOM, which should\n            // otherwise not happen due to the minimum size styling.\n            if (fig.ws.readyState == 1 && width != 0 && height != 0) {\n                fig.request_resize(width, height);\n            }\n        }\n    });\n    this.resizeObserverInstance.observe(canvas_div);\n\n    function on_mouse_event_closure(name) {\n        return function (event) {\n            return fig.mouse_event(event, name);\n        };\n    }\n\n    rubberband_canvas.addEventListener(\n        'mousedown',\n        on_mouse_event_closure('button_press')\n    );\n    rubberband_canvas.addEventListener(\n        'mouseup',\n        on_mouse_event_closure('button_release')\n    );\n    rubberband_canvas.addEventListener(\n        'dblclick',\n        on_mouse_event_closure('dblclick')\n    );\n    // Throttle sequential mouse events to 1 every 20ms.\n    rubberband_canvas.addEventListener(\n        'mousemove',\n        on_mouse_event_closure('motion_notify')\n    );\n\n    rubberband_canvas.addEventListener(\n        'mouseenter',\n        on_mouse_event_closure('figure_enter')\n    );\n    rubberband_canvas.addEventListener(\n        'mouseleave',\n        on_mouse_event_closure('figure_leave')\n    );\n\n    canvas_div.addEventListener('wheel', function (event) {\n        if (event.deltaY < 0) {\n            event.step = 1;\n        } else {\n            event.step = -1;\n        }\n        on_mouse_event_closure('scroll')(event);\n    });\n\n    canvas_div.appendChild(canvas);\n    canvas_div.appendChild(rubberband_canvas);\n\n    this.rubberband_context = rubberband_canvas.getContext('2d');\n    this.rubberband_context.strokeStyle = '#000000';\n\n    this._resize_canvas = function (width, height, forward) {\n        if (forward) {\n            canvas_div.style.width = width + 'px';\n            canvas_div.style.height = height + 'px';\n        }\n    };\n\n    // Disable right mouse context menu.\n    this.rubberband_canvas.addEventListener('contextmenu', function (_e) {\n        event.preventDefault();\n        return false;\n    });\n\n    function set_focus() {\n        canvas.focus();\n        canvas_div.focus();\n    }\n\n    window.setTimeout(set_focus, 100);\n};\n\nmpl.figure.prototype._init_toolbar = function () {\n    var fig = this;\n\n    var toolbar = document.createElement('div');\n    toolbar.classList = 'mpl-toolbar';\n    this.root.appendChild(toolbar);\n\n    function on_click_closure(name) {\n        return function (_event) {\n            return fig.toolbar_button_onclick(name);\n        };\n    }\n\n    function on_mouseover_closure(tooltip) {\n        return function (event) {\n            if (!event.currentTarget.disabled) {\n                return fig.toolbar_button_onmouseover(tooltip);\n            }\n        };\n    }\n\n    fig.buttons = {};\n    var buttonGroup = document.createElement('div');\n    buttonGroup.classList = 'mpl-button-group';\n    for (var toolbar_ind in mpl.toolbar_items) {\n        var name = mpl.toolbar_items[toolbar_ind][0];\n        var tooltip = mpl.toolbar_items[toolbar_ind][1];\n        var image = mpl.toolbar_items[toolbar_ind][2];\n        var method_name = mpl.toolbar_items[toolbar_ind][3];\n\n        if (!name) {\n            /* Instead of a spacer, we start a new button group. */\n            if (buttonGroup.hasChildNodes()) {\n                toolbar.appendChild(buttonGroup);\n            }\n            buttonGroup = document.createElement('div');\n            buttonGroup.classList = 'mpl-button-group';\n            continue;\n        }\n\n        var button = (fig.buttons[name] = document.createElement('button'));\n        button.classList = 'mpl-widget';\n        button.setAttribute('role', 'button');\n        button.setAttribute('aria-disabled', 'false');\n        button.addEventListener('click', on_click_closure(method_name));\n        button.addEventListener('mouseover', on_mouseover_closure(tooltip));\n\n        var icon_img = document.createElement('img');\n        icon_img.src = '_images/' + image + '.png';\n        icon_img.srcset = '_images/' + image + '_large.png 2x';\n        icon_img.alt = tooltip;\n        button.appendChild(icon_img);\n\n        buttonGroup.appendChild(button);\n    }\n\n    if (buttonGroup.hasChildNodes()) {\n        toolbar.appendChild(buttonGroup);\n    }\n\n    var fmt_picker = document.createElement('select');\n    fmt_picker.classList = 'mpl-widget';\n    toolbar.appendChild(fmt_picker);\n    this.format_dropdown = fmt_picker;\n\n    for (var ind in mpl.extensions) {\n        var fmt = mpl.extensions[ind];\n        var option = document.createElement('option');\n        option.selected = fmt === mpl.default_extension;\n        option.innerHTML = fmt;\n        fmt_picker.appendChild(option);\n    }\n\n    var status_bar = document.createElement('span');\n    status_bar.classList = 'mpl-message';\n    toolbar.appendChild(status_bar);\n    this.message = status_bar;\n};\n\nmpl.figure.prototype.request_resize = function (x_pixels, y_pixels) {\n    // Request matplotlib to resize the figure. Matplotlib will then trigger a resize in the client,\n    // which will in turn request a refresh of the image.\n    this.send_message('resize', { width: x_pixels, height: y_pixels });\n};\n\nmpl.figure.prototype.send_message = function (type, properties) {\n    properties['type'] = type;\n    properties['figure_id'] = this.id;\n    this.ws.send(JSON.stringify(properties));\n};\n\nmpl.figure.prototype.send_draw_message = function () {\n    if (!this.waiting) {\n        this.waiting = true;\n        this.ws.send(JSON.stringify({ type: 'draw', figure_id: this.id }));\n    }\n};\n\nmpl.figure.prototype.handle_save = function (fig, _msg) {\n    var format_dropdown = fig.format_dropdown;\n    var format = format_dropdown.options[format_dropdown.selectedIndex].value;\n    fig.ondownload(fig, format);\n};\n\nmpl.figure.prototype.handle_resize = function (fig, msg) {\n    var size = msg['size'];\n    if (size[0] !== fig.canvas.width || size[1] !== fig.canvas.height) {\n        fig._resize_canvas(size[0], size[1], msg['forward']);\n        fig.send_message('refresh', {});\n    }\n};\n\nmpl.figure.prototype.handle_rubberband = function (fig, msg) {\n    var x0 = msg['x0'] / fig.ratio;\n    var y0 = (fig.canvas.height - msg['y0']) / fig.ratio;\n    var x1 = msg['x1'] / fig.ratio;\n    var y1 = (fig.canvas.height - msg['y1']) / fig.ratio;\n    x0 = Math.floor(x0) + 0.5;\n    y0 = Math.floor(y0) + 0.5;\n    x1 = Math.floor(x1) + 0.5;\n    y1 = Math.floor(y1) + 0.5;\n    var min_x = Math.min(x0, x1);\n    var min_y = Math.min(y0, y1);\n    var width = Math.abs(x1 - x0);\n    var height = Math.abs(y1 - y0);\n\n    fig.rubberband_context.clearRect(\n        0,\n        0,\n        fig.canvas.width / fig.ratio,\n        fig.canvas.height / fig.ratio\n    );\n\n    fig.rubberband_context.strokeRect(min_x, min_y, width, height);\n};\n\nmpl.figure.prototype.handle_figure_label = function (fig, msg) {\n    // Updates the figure title.\n    fig.header.textContent = msg['label'];\n};\n\nmpl.figure.prototype.handle_cursor = function (fig, msg) {\n    fig.rubberband_canvas.style.cursor = msg['cursor'];\n};\n\nmpl.figure.prototype.handle_message = function (fig, msg) {\n    fig.message.textContent = msg['message'];\n};\n\nmpl.figure.prototype.handle_draw = function (fig, _msg) {\n    // Request the server to send over a new figure.\n    fig.send_draw_message();\n};\n\nmpl.figure.prototype.handle_image_mode = function (fig, msg) {\n    fig.image_mode = msg['mode'];\n};\n\nmpl.figure.prototype.handle_history_buttons = function (fig, msg) {\n    for (var key in msg) {\n        if (!(key in fig.buttons)) {\n            continue;\n        }\n        fig.buttons[key].disabled = !msg[key];\n        fig.buttons[key].setAttribute('aria-disabled', !msg[key]);\n    }\n};\n\nmpl.figure.prototype.handle_navigate_mode = function (fig, msg) {\n    if (msg['mode'] === 'PAN') {\n        fig.buttons['Pan'].classList.add('active');\n        fig.buttons['Zoom'].classList.remove('active');\n    } else if (msg['mode'] === 'ZOOM') {\n        fig.buttons['Pan'].classList.remove('active');\n        fig.buttons['Zoom'].classList.add('active');\n    } else {\n        fig.buttons['Pan'].classList.remove('active');\n        fig.buttons['Zoom'].classList.remove('active');\n    }\n};\n\nmpl.figure.prototype.updated_canvas_event = function () {\n    // Called whenever the canvas gets updated.\n    this.send_message('ack', {});\n};\n\n// A function to construct a web socket function for onmessage handling.\n// Called in the figure constructor.\nmpl.figure.prototype._make_on_message_function = function (fig) {\n    return function socket_on_message(evt) {\n        if (evt.data instanceof Blob) {\n            var img = evt.data;\n            if (img.type !== 'image/png') {\n                /* FIXME: We get \"Resource interpreted as Image but\n                 * transferred with MIME type text/plain:\" errors on\n                 * Chrome.  But how to set the MIME type?  It doesn't seem\n                 * to be part of the websocket stream */\n                img.type = 'image/png';\n            }\n\n            /* Free the memory for the previous frames */\n            if (fig.imageObj.src) {\n                (window.URL || window.webkitURL).revokeObjectURL(\n                    fig.imageObj.src\n                );\n            }\n\n            fig.imageObj.src = (window.URL || window.webkitURL).createObjectURL(\n                img\n            );\n            fig.updated_canvas_event();\n            fig.waiting = false;\n            return;\n        } else if (\n            typeof evt.data === 'string' &&\n            evt.data.slice(0, 21) === 'data:image/png;base64'\n        ) {\n            fig.imageObj.src = evt.data;\n            fig.updated_canvas_event();\n            fig.waiting = false;\n            return;\n        }\n\n        var msg = JSON.parse(evt.data);\n        var msg_type = msg['type'];\n\n        // Call the  \"handle_{type}\" callback, which takes\n        // the figure and JSON message as its only arguments.\n        try {\n            var callback = fig['handle_' + msg_type];\n        } catch (e) {\n            console.log(\n                \"No handler for the '\" + msg_type + \"' message type: \",\n                msg\n            );\n            return;\n        }\n\n        if (callback) {\n            try {\n                // console.log(\"Handling '\" + msg_type + \"' message: \", msg);\n                callback(fig, msg);\n            } catch (e) {\n                console.log(\n                    \"Exception inside the 'handler_\" + msg_type + \"' callback:\",\n                    e,\n                    e.stack,\n                    msg\n                );\n            }\n        }\n    };\n};\n\n// from https://stackoverflow.com/questions/1114465/getting-mouse-location-in-canvas\nmpl.findpos = function (e) {\n    //this section is from http://www.quirksmode.org/js/events_properties.html\n    var targ;\n    if (!e) {\n        e = window.event;\n    }\n    if (e.target) {\n        targ = e.target;\n    } else if (e.srcElement) {\n        targ = e.srcElement;\n    }\n    if (targ.nodeType === 3) {\n        // defeat Safari bug\n        targ = targ.parentNode;\n    }\n\n    // pageX,Y are the mouse positions relative to the document\n    var boundingRect = targ.getBoundingClientRect();\n    var x = e.pageX - (boundingRect.left + document.body.scrollLeft);\n    var y = e.pageY - (boundingRect.top + document.body.scrollTop);\n\n    return { x: x, y: y };\n};\n\n/*\n * return a copy of an object with only non-object keys\n * we need this to avoid circular references\n * https://stackoverflow.com/a/24161582/3208463\n */\nfunction simpleKeys(original) {\n    return Object.keys(original).reduce(function (obj, key) {\n        if (typeof original[key] !== 'object') {\n            obj[key] = original[key];\n        }\n        return obj;\n    }, {});\n}\n\nmpl.figure.prototype.mouse_event = function (event, name) {\n    var canvas_pos = mpl.findpos(event);\n\n    if (name === 'button_press') {\n        this.canvas.focus();\n        this.canvas_div.focus();\n    }\n\n    var x = canvas_pos.x * this.ratio;\n    var y = canvas_pos.y * this.ratio;\n\n    this.send_message(name, {\n        x: x,\n        y: y,\n        button: event.button,\n        step: event.step,\n        guiEvent: simpleKeys(event),\n    });\n\n    /* This prevents the web browser from automatically changing to\n     * the text insertion cursor when the button is pressed.  We want\n     * to control all of the cursor setting manually through the\n     * 'cursor' event from matplotlib */\n    event.preventDefault();\n    return false;\n};\n\nmpl.figure.prototype._key_event_extra = function (_event, _name) {\n    // Handle any extra behaviour associated with a key event\n};\n\nmpl.figure.prototype.key_event = function (event, name) {\n    // Prevent repeat events\n    if (name === 'key_press') {\n        if (event.key === this._key) {\n            return;\n        } else {\n            this._key = event.key;\n        }\n    }\n    if (name === 'key_release') {\n        this._key = null;\n    }\n\n    var value = '';\n    if (event.ctrlKey && event.key !== 'Control') {\n        value += 'ctrl+';\n    }\n    else if (event.altKey && event.key !== 'Alt') {\n        value += 'alt+';\n    }\n    else if (event.shiftKey && event.key !== 'Shift') {\n        value += 'shift+';\n    }\n\n    value += 'k' + event.key;\n\n    this._key_event_extra(event, name);\n\n    this.send_message(name, { key: value, guiEvent: simpleKeys(event) });\n    return false;\n};\n\nmpl.figure.prototype.toolbar_button_onclick = function (name) {\n    if (name === 'download') {\n        this.handle_save(this, null);\n    } else {\n        this.send_message('toolbar_button', { name: name });\n    }\n};\n\nmpl.figure.prototype.toolbar_button_onmouseover = function (tooltip) {\n    this.message.textContent = tooltip;\n};\n\n///////////////// REMAINING CONTENT GENERATED BY embed_js.py /////////////////\n// prettier-ignore\nvar _JSXTOOLS_RESIZE_OBSERVER=function(A){var t,i=new WeakMap,n=new WeakMap,a=new WeakMap,r=new WeakMap,o=new Set;function s(e){if(!(this instanceof s))throw new TypeError(\"Constructor requires 'new' operator\");i.set(this,e)}function h(){throw new TypeError(\"Function is not a constructor\")}function c(e,t,i,n){e=0 in arguments?Number(arguments[0]):0,t=1 in arguments?Number(arguments[1]):0,i=2 in arguments?Number(arguments[2]):0,n=3 in arguments?Number(arguments[3]):0,this.right=(this.x=this.left=e)+(this.width=i),this.bottom=(this.y=this.top=t)+(this.height=n),Object.freeze(this)}function d(){t=requestAnimationFrame(d);var s=new WeakMap,p=new Set;o.forEach((function(t){r.get(t).forEach((function(i){var r=t instanceof window.SVGElement,o=a.get(t),d=r?0:parseFloat(o.paddingTop),f=r?0:parseFloat(o.paddingRight),l=r?0:parseFloat(o.paddingBottom),u=r?0:parseFloat(o.paddingLeft),g=r?0:parseFloat(o.borderTopWidth),m=r?0:parseFloat(o.borderRightWidth),w=r?0:parseFloat(o.borderBottomWidth),b=u+f,F=d+l,v=(r?0:parseFloat(o.borderLeftWidth))+m,W=g+w,y=r?0:t.offsetHeight-W-t.clientHeight,E=r?0:t.offsetWidth-v-t.clientWidth,R=b+v,z=F+W,M=r?t.width:parseFloat(o.width)-R-E,O=r?t.height:parseFloat(o.height)-z-y;if(n.has(t)){var k=n.get(t);if(k[0]===M&&k[1]===O)return}n.set(t,[M,O]);var S=Object.create(h.prototype);S.target=t,S.contentRect=new c(u,d,M,O),s.has(i)||(s.set(i,[]),p.add(i)),s.get(i).push(S)}))})),p.forEach((function(e){i.get(e).call(e,s.get(e),e)}))}return s.prototype.observe=function(i){if(i instanceof window.Element){r.has(i)||(r.set(i,new Set),o.add(i),a.set(i,window.getComputedStyle(i)));var n=r.get(i);n.has(this)||n.add(this),cancelAnimationFrame(t),t=requestAnimationFrame(d)}},s.prototype.unobserve=function(i){if(i instanceof window.Element&&r.has(i)){var n=r.get(i);n.has(this)&&(n.delete(this),n.size||(r.delete(i),o.delete(i))),n.size||r.delete(i),o.size||cancelAnimationFrame(t)}},A.DOMRectReadOnly=c,A.ResizeObserver=s,A.ResizeObserverEntry=h,A}; // eslint-disable-line\nmpl.toolbar_items = [[\"Home\", \"Reset original view\", \"fa fa-home icon-home\", \"home\"], [\"Back\", \"Back to previous view\", \"fa fa-arrow-left icon-arrow-left\", \"back\"], [\"Forward\", \"Forward to next view\", \"fa fa-arrow-right icon-arrow-right\", \"forward\"], [\"\", \"\", \"\", \"\"], [\"Pan\", \"Left button pans, Right button zooms\\nx/y fixes axis, CTRL fixes aspect\", \"fa fa-arrows icon-move\", \"pan\"], [\"Zoom\", \"Zoom to rectangle\\nx/y fixes axis\", \"fa fa-square-o icon-check-empty\", \"zoom\"], [\"\", \"\", \"\", \"\"], [\"Download\", \"Download plot\", \"fa fa-floppy-o icon-save\", \"download\"]];\n\nmpl.extensions = [\"eps\", \"jpeg\", \"pgf\", \"pdf\", \"png\", \"ps\", \"raw\", \"svg\", \"tif\"];\n\nmpl.default_extension = \"png\";/* global mpl */\n\nvar comm_websocket_adapter = function (comm) {\n    // Create a \"websocket\"-like object which calls the given IPython comm\n    // object with the appropriate methods. Currently this is a non binary\n    // socket, so there is still some room for performance tuning.\n    var ws = {};\n\n    ws.binaryType = comm.kernel.ws.binaryType;\n    ws.readyState = comm.kernel.ws.readyState;\n    function updateReadyState(_event) {\n        if (comm.kernel.ws) {\n            ws.readyState = comm.kernel.ws.readyState;\n        } else {\n            ws.readyState = 3; // Closed state.\n        }\n    }\n    comm.kernel.ws.addEventListener('open', updateReadyState);\n    comm.kernel.ws.addEventListener('close', updateReadyState);\n    comm.kernel.ws.addEventListener('error', updateReadyState);\n\n    ws.close = function () {\n        comm.close();\n    };\n    ws.send = function (m) {\n        //console.log('sending', m);\n        comm.send(m);\n    };\n    // Register the callback with on_msg.\n    comm.on_msg(function (msg) {\n        //console.log('receiving', msg['content']['data'], msg);\n        var data = msg['content']['data'];\n        if (data['blob'] !== undefined) {\n            data = {\n                data: new Blob(msg['buffers'], { type: data['blob'] }),\n            };\n        }\n        // Pass the mpl event to the overridden (by mpl) onmessage function.\n        ws.onmessage(data);\n    });\n    return ws;\n};\n\nmpl.mpl_figure_comm = function (comm, msg) {\n    // This is the function which gets called when the mpl process\n    // starts-up an IPython Comm through the \"matplotlib\" channel.\n\n    var id = msg.content.data.id;\n    // Get hold of the div created by the display call when the Comm\n    // socket was opened in Python.\n    var element = document.getElementById(id);\n    var ws_proxy = comm_websocket_adapter(comm);\n\n    function ondownload(figure, _format) {\n        window.open(figure.canvas.toDataURL());\n    }\n\n    var fig = new mpl.figure(id, ws_proxy, ondownload, element);\n\n    // Call onopen now - mpl needs it, as it is assuming we've passed it a real\n    // web socket which is closed, not our websocket->open comm proxy.\n    ws_proxy.onopen();\n\n    fig.parent_element = element;\n    fig.cell_info = mpl.find_output_cell(\"<div id='\" + id + \"'></div>\");\n    if (!fig.cell_info) {\n        console.error('Failed to find cell for figure', id, fig);\n        return;\n    }\n    fig.cell_info[0].output_area.element.on(\n        'cleared',\n        { fig: fig },\n        fig._remove_fig_handler\n    );\n};\n\nmpl.figure.prototype.handle_close = function (fig, msg) {\n    var width = fig.canvas.width / fig.ratio;\n    fig.cell_info[0].output_area.element.off(\n        'cleared',\n        fig._remove_fig_handler\n    );\n    fig.resizeObserverInstance.unobserve(fig.canvas_div);\n\n    // Update the output cell to use the data from the current canvas.\n    fig.push_to_output();\n    var dataURL = fig.canvas.toDataURL();\n    // Re-enable the keyboard manager in IPython - without this line, in FF,\n    // the notebook keyboard shortcuts fail.\n    IPython.keyboard_manager.enable();\n    fig.parent_element.innerHTML =\n        '<img src=\"' + dataURL + '\" width=\"' + width + '\">';\n    fig.close_ws(fig, msg);\n};\n\nmpl.figure.prototype.close_ws = function (fig, msg) {\n    fig.send_message('closing', msg);\n    // fig.ws.close()\n};\n\nmpl.figure.prototype.push_to_output = function (_remove_interactive) {\n    // Turn the data on the canvas into data in the output cell.\n    var width = this.canvas.width / this.ratio;\n    var dataURL = this.canvas.toDataURL();\n    this.cell_info[1]['text/html'] =\n        '<img src=\"' + dataURL + '\" width=\"' + width + '\">';\n};\n\nmpl.figure.prototype.updated_canvas_event = function () {\n    // Tell IPython that the notebook contents must change.\n    IPython.notebook.set_dirty(true);\n    this.send_message('ack', {});\n    var fig = this;\n    // Wait a second, then push the new image to the DOM so\n    // that it is saved nicely (might be nice to debounce this).\n    setTimeout(function () {\n        fig.push_to_output();\n    }, 1000);\n};\n\nmpl.figure.prototype._init_toolbar = function () {\n    var fig = this;\n\n    var toolbar = document.createElement('div');\n    toolbar.classList = 'btn-toolbar';\n    this.root.appendChild(toolbar);\n\n    function on_click_closure(name) {\n        return function (_event) {\n            return fig.toolbar_button_onclick(name);\n        };\n    }\n\n    function on_mouseover_closure(tooltip) {\n        return function (event) {\n            if (!event.currentTarget.disabled) {\n                return fig.toolbar_button_onmouseover(tooltip);\n            }\n        };\n    }\n\n    fig.buttons = {};\n    var buttonGroup = document.createElement('div');\n    buttonGroup.classList = 'btn-group';\n    var button;\n    for (var toolbar_ind in mpl.toolbar_items) {\n        var name = mpl.toolbar_items[toolbar_ind][0];\n        var tooltip = mpl.toolbar_items[toolbar_ind][1];\n        var image = mpl.toolbar_items[toolbar_ind][2];\n        var method_name = mpl.toolbar_items[toolbar_ind][3];\n\n        if (!name) {\n            /* Instead of a spacer, we start a new button group. */\n            if (buttonGroup.hasChildNodes()) {\n                toolbar.appendChild(buttonGroup);\n            }\n            buttonGroup = document.createElement('div');\n            buttonGroup.classList = 'btn-group';\n            continue;\n        }\n\n        button = fig.buttons[name] = document.createElement('button');\n        button.classList = 'btn btn-default';\n        button.href = '#';\n        button.title = name;\n        button.innerHTML = '<i class=\"fa ' + image + ' fa-lg\"></i>';\n        button.addEventListener('click', on_click_closure(method_name));\n        button.addEventListener('mouseover', on_mouseover_closure(tooltip));\n        buttonGroup.appendChild(button);\n    }\n\n    if (buttonGroup.hasChildNodes()) {\n        toolbar.appendChild(buttonGroup);\n    }\n\n    // Add the status bar.\n    var status_bar = document.createElement('span');\n    status_bar.classList = 'mpl-message pull-right';\n    toolbar.appendChild(status_bar);\n    this.message = status_bar;\n\n    // Add the close button to the window.\n    var buttongrp = document.createElement('div');\n    buttongrp.classList = 'btn-group inline pull-right';\n    button = document.createElement('button');\n    button.classList = 'btn btn-mini btn-primary';\n    button.href = '#';\n    button.title = 'Stop Interaction';\n    button.innerHTML = '<i class=\"fa fa-power-off icon-remove icon-large\"></i>';\n    button.addEventListener('click', function (_evt) {\n        fig.handle_close(fig, {});\n    });\n    button.addEventListener(\n        'mouseover',\n        on_mouseover_closure('Stop Interaction')\n    );\n    buttongrp.appendChild(button);\n    var titlebar = this.root.querySelector('.ui-dialog-titlebar');\n    titlebar.insertBefore(buttongrp, titlebar.firstChild);\n};\n\nmpl.figure.prototype._remove_fig_handler = function (event) {\n    var fig = event.data.fig;\n    if (event.target !== this) {\n        // Ignore bubbled events from children.\n        return;\n    }\n    fig.close_ws(fig, {});\n};\n\nmpl.figure.prototype._root_extra_style = function (el) {\n    el.style.boxSizing = 'content-box'; // override notebook setting of border-box.\n};\n\nmpl.figure.prototype._canvas_extra_style = function (el) {\n    // this is important to make the div 'focusable\n    el.setAttribute('tabindex', 0);\n    // reach out to IPython and tell the keyboard manager to turn it's self\n    // off when our div gets focus\n\n    // location in version 3\n    if (IPython.notebook.keyboard_manager) {\n        IPython.notebook.keyboard_manager.register_events(el);\n    } else {\n        // location in version 2\n        IPython.keyboard_manager.register_events(el);\n    }\n};\n\nmpl.figure.prototype._key_event_extra = function (event, _name) {\n    // Check for shift+enter\n    if (event.shiftKey && event.which === 13) {\n        this.canvas_div.blur();\n        // select the cell after this one\n        var index = IPython.notebook.find_cell_index(this.cell_info[0]);\n        IPython.notebook.select(index + 1);\n    }\n};\n\nmpl.figure.prototype.handle_save = function (fig, _msg) {\n    fig.ondownload(fig, null);\n};\n\nmpl.find_output_cell = function (html_output) {\n    // Return the cell and output element which can be found *uniquely* in the notebook.\n    // Note - this is a bit hacky, but it is done because the \"notebook_saving.Notebook\"\n    // IPython event is triggered only after the cells have been serialised, which for\n    // our purposes (turning an active figure into a static one), is too late.\n    var cells = IPython.notebook.get_cells();\n    var ncells = cells.length;\n    for (var i = 0; i < ncells; i++) {\n        var cell = cells[i];\n        if (cell.cell_type === 'code') {\n            for (var j = 0; j < cell.output_area.outputs.length; j++) {\n                var data = cell.output_area.outputs[j];\n                if (data.data) {\n                    // IPython >= 3 moved mimebundle to data attribute of output\n                    data = data.data;\n                }\n                if (data['text/html'] === html_output) {\n                    return [cell, data, j];\n                }\n            }\n        }\n    }\n};\n\n// Register the function which deals with the matplotlib target/channel.\n// The kernel may be null if the page has been refreshed.\nif (IPython.notebook.kernel !== null) {\n    IPython.notebook.kernel.comm_manager.register_target(\n        'matplotlib',\n        mpl.mpl_figure_comm\n    );\n}\n",
      "text/plain": [
       "<IPython.core.display.Javascript object>"
      ]
     },
     "metadata": {},
     "output_type": "display_data"
    },
    {
     "data": {
      "text/html": [
       "<div id='f4975e51-40c8-4cfe-8980-28d9068d13b1'></div>"
      ],
      "text/plain": [
       "<IPython.core.display.HTML object>"
      ]
     },
     "metadata": {},
     "output_type": "display_data"
    }
   ],
   "source": [
    "confusion_matrix = metrics.confusion_matrix(model.predict(X_test), y_test)\n",
    "cm_display = metrics.ConfusionMatrixDisplay(confusion_matrix = confusion_matrix, display_labels = model.classes_)\n",
    "\n",
    "cm_display.plot()\n",
    "plt.savefig('confusion_matrix.pdf')"
   ]
  },
  {
   "cell_type": "code",
   "execution_count": 19,
   "metadata": {},
   "outputs": [
    {
     "name": "stderr",
     "output_type": "stream",
     "text": [
      "c:\\ProgramData\\Anaconda3\\envs\\py310\\lib\\site-packages\\sklearn\\ensemble\\_forest.py:427: FutureWarning: `max_features='auto'` has been deprecated in 1.1 and will be removed in 1.3. To keep the past behaviour, explicitly set `max_features='sqrt'` or remove this parameter as it is also the default value for RandomForestClassifiers and ExtraTreesClassifiers.\n",
      "  warn(\n",
      "c:\\ProgramData\\Anaconda3\\envs\\py310\\lib\\site-packages\\sklearn\\ensemble\\_forest.py:427: FutureWarning: `max_features='auto'` has been deprecated in 1.1 and will be removed in 1.3. To keep the past behaviour, explicitly set `max_features='sqrt'` or remove this parameter as it is also the default value for RandomForestClassifiers and ExtraTreesClassifiers.\n",
      "  warn(\n",
      "c:\\ProgramData\\Anaconda3\\envs\\py310\\lib\\site-packages\\sklearn\\ensemble\\_forest.py:427: FutureWarning: `max_features='auto'` has been deprecated in 1.1 and will be removed in 1.3. To keep the past behaviour, explicitly set `max_features='sqrt'` or remove this parameter as it is also the default value for RandomForestClassifiers and ExtraTreesClassifiers.\n",
      "  warn(\n",
      "c:\\ProgramData\\Anaconda3\\envs\\py310\\lib\\site-packages\\sklearn\\ensemble\\_forest.py:427: FutureWarning: `max_features='auto'` has been deprecated in 1.1 and will be removed in 1.3. To keep the past behaviour, explicitly set `max_features='sqrt'` or remove this parameter as it is also the default value for RandomForestClassifiers and ExtraTreesClassifiers.\n",
      "  warn(\n"
     ]
    },
    {
     "name": "stdout",
     "output_type": "stream",
     "text": [
      "[0.68343912 0.9536825  0.83569978 0.6163491 ]\n"
     ]
    }
   ],
   "source": [
    "#model = RandomForestClassifier(criterion=\"entropy\", max_features=3)\n",
    "print(cross_val_score(model,df_scaled[['r','g','b','i','ndvi','height']].values,df_scaled['label'].values, cv=4))\n",
    "#model = model.fit(X_train,y_train)"
   ]
  },
  {
   "cell_type": "markdown",
   "metadata": {},
   "source": [
    "# Export Random Forest model."
   ]
  },
  {
   "cell_type": "code",
   "execution_count": 38,
   "metadata": {},
   "outputs": [],
   "source": [
    "filename = './models/randomforest_classifier_coepelduynen_contrast_annotations_2019_2022.sav'\n",
    "pickle.dump(model, open(filename, 'wb'))"
   ]
  },
  {
   "cell_type": "code",
   "execution_count": null,
   "metadata": {},
   "outputs": [],
   "source": [
    "filename = './models/randomforest_classifier_coepelduynen_contrast_annotations_grid_search_2019_2022.sav'\n",
    "pickle.dump(rf_random, open(filename, 'wb'))"
   ]
  },
  {
   "cell_type": "code",
   "execution_count": null,
   "metadata": {},
   "outputs": [],
   "source": [
    "oversample = imblearn.over_sampling.SMOTE()\n",
    "X_new, y_new = oversample.fit_resample(df_scaled[['r','g','b','i','ndvi','height']], df_scaled['label'])\n",
    "X_new['label'] = y_new\n",
    "df_scaled_balanced = X_new"
   ]
  },
  {
   "cell_type": "code",
   "execution_count": 38,
   "metadata": {},
   "outputs": [
    {
     "name": "stderr",
     "output_type": "stream",
     "text": [
      "c:\\ProgramData\\Anaconda3\\envs\\py310\\lib\\site-packages\\sklearn\\ensemble\\_forest.py:427: FutureWarning: `max_features='auto'` has been deprecated in 1.1 and will be removed in 1.3. To keep the past behaviour, explicitly set `max_features='sqrt'` or remove this parameter as it is also the default value for RandomForestClassifiers and ExtraTreesClassifiers.\n",
      "  warn(\n"
     ]
    }
   ],
   "source": [
    "# Train the model on the whole balanced dataset and export the model.\n",
    "model = RandomForestClassifier(n_estimators=10, min_samples_split=5, min_samples_leaf=1, max_features='auto', bootstrap=False)\n",
    "model = model.fit(df_scaled_balanced[['r','g','b','i','ndvi','height']].values, df_scaled_balanced['label'].values)\n",
    "\n",
    "filename = './models/randomforest_classifier_coepelduynen_contrast_annotations_grid_search_all_data_2019_2022_small_balanced_v1.3.sav'\n",
    "pickle.dump(model, open(filename, 'wb'))"
   ]
  },
  {
   "cell_type": "code",
   "execution_count": null,
   "metadata": {},
   "outputs": [],
   "source": [
    "# Train the model on the whole dataset and export the model.\n",
    "model = RandomForestClassifier(n_estimators=400, min_samples_split=5, min_samples_leaf=1, max_features='sqrt', bootstrap=False)\n",
    "model = model.fit(df_scaled[['r','g','b','i','ndvi','height']].values, df_scaled['label'].values)\n",
    "\n",
    "filename = './models/randomforest_classifier_coepelduynen_contrast_annotations_grid_search_all_data_2019_2022.sav'\n",
    "pickle.dump(model, open(filename, 'wb'))"
   ]
  },
  {
   "cell_type": "markdown",
   "metadata": {},
   "source": [
    "# Deep Learning model"
   ]
  },
  {
   "cell_type": "code",
   "execution_count": 47,
   "metadata": {},
   "outputs": [],
   "source": [
    "import tensorflow as tf\n",
    "from tensorflow import keras\n",
    "from tensorflow.keras import layers\n",
    "from sklearn.preprocessing import LabelEncoder\n",
    "label_encoder = LabelEncoder()"
   ]
  },
  {
   "cell_type": "code",
   "execution_count": 82,
   "metadata": {},
   "outputs": [],
   "source": [
    "def cross_validation_balance_on_date_keras(data,cv=4,no_images_to_remove=2):\n",
    "\n",
    "    \"\"\"\n",
    "    This method does cross validation based on dates instead of sampling.\n",
    "        \n",
    "    @param data: pandas DataFrame with a date column.\n",
    "    @param model: a model with making predictions.\n",
    "    @param cv: The number of folds.\n",
    "    \"\"\"\n",
    "\n",
    "    results = []\n",
    "\n",
    "    # sample values for the folds\n",
    "    sample_dates = pd.Series(data['date'].unique()).sample(cv*no_images_to_remove).values\n",
    "\n",
    "    sample_dates = [(sample_dates[i], sample_dates[i+1]) for i in range(0, len(sample_dates)-1, no_images_to_remove)]\n",
    "\n",
    "    for fold in range(0, cv):\n",
    "        print(\"---------fold: \"+ str(fold+1))\n",
    "\n",
    "        \n",
    "        print(\"Picked dates: \")\n",
    "        print(sample_dates[fold][0])\n",
    "        print(sample_dates[fold][1])\n",
    "\n",
    "        # Use a dates to make a test set.\n",
    "        df_scaled_training = data[ (data['date'] != sample_dates[fold][0]) & (data['date'] != sample_dates[fold][1])]\n",
    "        df_scaled_test = data[(data['date'] == sample_dates[fold][0]) | (data['date'] == sample_dates[fold][1])]\n",
    "        df_scaled_test['label_num'] = label_encoder.fit_transform(df_scaled_test['label'])\n",
    "\n",
    "        print(\"Rebalanced dataset\")\n",
    "        # Rebalance dataset.\n",
    "        oversample = imblearn.over_sampling.SMOTE()\n",
    "        X_new, y_new = oversample.fit_resample(df_scaled_training[['r','g','b','i','ndvi','height']], df_scaled_training['label'])\n",
    "        X_new['label'] = y_new\n",
    "        df_scaled_balanced = X_new\n",
    "\n",
    "        df_scaled_balanced['label_num'] = label_encoder.fit_transform(df_scaled_balanced['label'])\n",
    "        label_encoder_fitted = label_encoder.fit(df_scaled_balanced['label'] )\n",
    "\n",
    "        model = get_model()\n",
    "\n",
    "        print(\"Fitting model\")\n",
    "        \n",
    "\n",
    "        history = model.fit(df_scaled_balanced[['b','i','ndvi','height']].values.reshape(len(df_scaled_balanced),1,1,4), df_scaled_balanced['label_num'].values,\\\n",
    "                            epochs=10,\\\n",
    "                            validation_data=(df_scaled_test[['b','i','ndvi','height']].values.reshape(len(df_scaled_test),1,1,4), df_scaled_test['label_num'].values))\n",
    "\n",
    "        print(\"Predicting test\")\n",
    "        predictions =[ np.argmax(prediction) for prediction in model.predict(df_scaled_test[['b','i','ndvi','height']].values.reshape(len(df_scaled_test),1,1,4))]\n",
    "\n",
    "        print(\"Results for fold: \"+str(fold+1))\n",
    "        #print(\"-----------------Training set---------------\")\n",
    "        #train =  metrics.classification_report(df_scaled_balanced['label'].values, model.predict(df_scaled_balanced[['b','i','ndvi','height']].values), output_dict=True)\n",
    "        #print(\"-----------------Test set---------------\")\n",
    "        test = metrics.classification_report(label_encoder_fitted.inverse_transform(df_scaled_test['label_num'].values), label_encoder_fitted.inverse_transform(predictions), output_dict=True)\n",
    "        results.append([fold+1,{\"test\":  test}])\n",
    "    \n",
    "    return results"
   ]
  },
  {
   "cell_type": "code",
   "execution_count": 84,
   "metadata": {},
   "outputs": [],
   "source": [
    "def get_model():\n",
    "\n",
    "    model = keras.models.Sequential()\n",
    "    model.add(layers.Conv2D(4, (1, 1), activation='relu', input_shape=(1,1,4)))\n",
    "    model.add(layers.MaxPooling2D((1, 1)))\n",
    "    model.add(layers.Conv2D(12, (1, 1), activation='relu'))\n",
    "    model.add(layers.MaxPooling2D((1, 1)))\n",
    "    model.add(layers.Conv2D(12, (1, 1), activation='relu'))\n",
    "    model.add(layers.Flatten())\n",
    "    model.add(layers.Dense(12, activation='relu'))\n",
    "    model.add(layers.Dense(len(df_scaled['label'].unique())))\n",
    "    model.compile(optimizer='adam',\n",
    "              loss=tf.keras.losses.SparseCategoricalCrossentropy(from_logits=True),\n",
    "              metrics=[\"accuracy\"])\n",
    "    return model"
   ]
  },
  {
   "cell_type": "code",
   "execution_count": 85,
   "metadata": {},
   "outputs": [
    {
     "name": "stdout",
     "output_type": "stream",
     "text": [
      "---------fold: 1\n",
      "Picked dates: \n",
      "20220922\n",
      "20200915\n",
      "Rebalanced dataset\n"
     ]
    },
    {
     "name": "stderr",
     "output_type": "stream",
     "text": [
      "C:\\Users\\pzhadmin\\AppData\\Local\\Temp\\2\\ipykernel_9564\\1761646509.py:29: SettingWithCopyWarning: \n",
      "A value is trying to be set on a copy of a slice from a DataFrame.\n",
      "Try using .loc[row_indexer,col_indexer] = value instead\n",
      "\n",
      "See the caveats in the documentation: https://pandas.pydata.org/pandas-docs/stable/user_guide/indexing.html#returning-a-view-versus-a-copy\n",
      "  df_scaled_test['label_num'] = label_encoder.fit_transform(df_scaled_test['label'])\n"
     ]
    },
    {
     "name": "stdout",
     "output_type": "stream",
     "text": [
      "Fitting model\n",
      "Epoch 1/10\n",
      "120886/136160 [=========================>....] - ETA: 31s - loss: 0.2941 - accuracy: 0.9037"
     ]
    }
   ],
   "source": [
    "results = cross_validation_balance_on_date_keras(df_scaled)"
   ]
  },
  {
   "cell_type": "code",
   "execution_count": 65,
   "metadata": {},
   "outputs": [
    {
     "name": "stdout",
     "output_type": "stream",
     "text": [
      "10205/10205 [==============================] - 17s 2ms/step\n"
     ]
    }
   ],
   "source": [
    "predictions =[ np.argmax(prediction) for prediction in model.predict(X_test.reshape(X_test.shape[0],1,1,4))]"
   ]
  },
  {
   "cell_type": "code",
   "execution_count": 69,
   "metadata": {},
   "outputs": [
    {
     "data": {
      "text/plain": [
       "'                     precision    recall  f1-score   support\\n\\n             Asfalt       0.76      0.64      0.70      6750\\n                Bos       0.97      0.92      0.94     35464\\n               Gras       0.99      0.99      0.99    210964\\n            Schaduw       0.56      0.39      0.46      1133\\n           Struweel       0.77      0.85      0.81     14039\\nVochtige duinvallei       1.00      1.00      1.00     16445\\n               Zand       0.97      0.98      0.98     41734\\n\\n           accuracy                           0.97    326529\\n          macro avg       0.86      0.83      0.84    326529\\n       weighted avg       0.97      0.97      0.97    326529\\n'"
      ]
     },
     "execution_count": 69,
     "metadata": {},
     "output_type": "execute_result"
    }
   ],
   "source": [
    "metrics.classification_report(label_encoder_fitted.inverse_transform(y_test), label_encoder_fitted.inverse_transform(predictions))"
   ]
  },
  {
   "cell_type": "code",
   "execution_count": null,
   "metadata": {},
   "outputs": [],
   "source": [
    "model = tf.Sequential()\n",
    "model.add(Conv2D(32, kernel_size=(3, 3), activation='relu',input_shape=input_shape))\n",
    "model.add(Conv2D(64, (3, 3), activation='relu'))\n",
    "model.add(Conv2D(128, (3, 3), activation='relu'))\n",
    "model.add(MaxPooling2D(pool_size=(2, 2)))\n",
    "model.add(Dropout(0.25))\n",
    "model.add(Flatten())\n",
    "model.add(Dense(128, activation='relu'))\n",
    "model.add(Dropout(0.5))\n",
    "model.add(Dense(num_classes, activation=Activation(tf.nn.softmax)))"
   ]
  },
  {
   "cell_type": "markdown",
   "metadata": {},
   "source": [
    "# Check contrast model."
   ]
  },
  {
   "cell_type": "code",
   "execution_count": 32,
   "metadata": {},
   "outputs": [],
   "source": [
    "from nso_ds_classes.nso_ds_models import cluster_scaler_BNDVIH_model\n",
    "from sklearn import metrics\n",
    "import matplotlib.pyplot as plt\n",
    "from sklearn.model_selection import cross_val_score"
   ]
  },
  {
   "cell_type": "code",
   "execution_count": null,
   "metadata": {},
   "outputs": [],
   "source": [
    "confusion_matrix = metrics.confusion_matrix(df_scaled[df_scaled['label'] != \"Pad\"]['label'].values, df_scaled[df_scaled['label'] != \"Pad\"]['predict'].values)\n",
    "cm_display = metrics.ConfusionMatrixDisplay(confusion_matrix = confusion_matrix, display_labels=df_scaled[df_scaled['label'] != \"Pad\"]['predict'].unique())\n",
    "\n",
    "cm_display.plot()\n",
    "plt.show()"
   ]
  },
  {
   "cell_type": "code",
   "execution_count": 34,
   "metadata": {},
   "outputs": [],
   "source": [
    "cluster_centers_file = \"./cluster_centers/normalized_5_BHNDVI_cluster_centers_dunes.csv\""
   ]
  },
  {
   "cell_type": "code",
   "execution_count": 35,
   "metadata": {},
   "outputs": [],
   "source": [
    "a_cluster_annotations_stats_model = cluster_scaler_BNDVIH_model(cluster_centers_file)"
   ]
  },
  {
   "cell_type": "code",
   "execution_count": 36,
   "metadata": {},
   "outputs": [
    {
     "data": {
      "text/plain": [
       "'Bos'"
      ]
     },
     "execution_count": 36,
     "metadata": {},
     "output_type": "execute_result"
    }
   ],
   "source": [
    "a_cluster_annotations_stats_model.get_class_label(a_cluster_annotations_stats_model.predict([df[['r','g','b','i','ndvi','height']].values[0]]))"
   ]
  },
  {
   "cell_type": "code",
   "execution_count": 27,
   "metadata": {},
   "outputs": [
    {
     "data": {
      "text/html": [
       "<div>\n",
       "<style scoped>\n",
       "    .dataframe tbody tr th:only-of-type {\n",
       "        vertical-align: middle;\n",
       "    }\n",
       "\n",
       "    .dataframe tbody tr th {\n",
       "        vertical-align: top;\n",
       "    }\n",
       "\n",
       "    .dataframe thead th {\n",
       "        text-align: right;\n",
       "    }\n",
       "</style>\n",
       "<table border=\"1\" class=\"dataframe\">\n",
       "  <thead>\n",
       "    <tr style=\"text-align: right;\">\n",
       "      <th></th>\n",
       "      <th>r</th>\n",
       "      <th>g</th>\n",
       "      <th>b</th>\n",
       "      <th>i</th>\n",
       "      <th>ndvi</th>\n",
       "      <th>height</th>\n",
       "      <th>label</th>\n",
       "      <th>image</th>\n",
       "      <th>date</th>\n",
       "    </tr>\n",
       "  </thead>\n",
       "  <tbody>\n",
       "    <tr>\n",
       "      <th>0</th>\n",
       "      <td>0.316497</td>\n",
       "      <td>0.275428</td>\n",
       "      <td>0.255914</td>\n",
       "      <td>0.249149</td>\n",
       "      <td>0.852564</td>\n",
       "      <td>0.396078</td>\n",
       "      <td>Gras</td>\n",
       "      <td>20190601_105844_SV1-04_50cm_RD_11bit_RGBI_Katw...</td>\n",
       "      <td>20190601</td>\n",
       "    </tr>\n",
       "    <tr>\n",
       "      <th>1</th>\n",
       "      <td>0.318109</td>\n",
       "      <td>0.276328</td>\n",
       "      <td>0.258065</td>\n",
       "      <td>0.245319</td>\n",
       "      <td>0.846154</td>\n",
       "      <td>0.003922</td>\n",
       "      <td>Gras</td>\n",
       "      <td>20190601_105844_SV1-04_50cm_RD_11bit_RGBI_Katw...</td>\n",
       "      <td>20190601</td>\n",
       "    </tr>\n",
       "    <tr>\n",
       "      <th>2</th>\n",
       "      <td>0.317571</td>\n",
       "      <td>0.276328</td>\n",
       "      <td>0.257527</td>\n",
       "      <td>0.243617</td>\n",
       "      <td>0.839744</td>\n",
       "      <td>0.003922</td>\n",
       "      <td>Gras</td>\n",
       "      <td>20190601_105844_SV1-04_50cm_RD_11bit_RGBI_Katw...</td>\n",
       "      <td>20190601</td>\n",
       "    </tr>\n",
       "    <tr>\n",
       "      <th>3</th>\n",
       "      <td>0.318109</td>\n",
       "      <td>0.277228</td>\n",
       "      <td>0.257527</td>\n",
       "      <td>0.243830</td>\n",
       "      <td>0.839744</td>\n",
       "      <td>0.317647</td>\n",
       "      <td>Gras</td>\n",
       "      <td>20190601_105844_SV1-04_50cm_RD_11bit_RGBI_Katw...</td>\n",
       "      <td>20190601</td>\n",
       "    </tr>\n",
       "    <tr>\n",
       "      <th>4</th>\n",
       "      <td>0.321333</td>\n",
       "      <td>0.280828</td>\n",
       "      <td>0.262366</td>\n",
       "      <td>0.249787</td>\n",
       "      <td>0.846154</td>\n",
       "      <td>0.317647</td>\n",
       "      <td>Gras</td>\n",
       "      <td>20190601_105844_SV1-04_50cm_RD_11bit_RGBI_Katw...</td>\n",
       "      <td>20190601</td>\n",
       "    </tr>\n",
       "    <tr>\n",
       "      <th>...</th>\n",
       "      <td>...</td>\n",
       "      <td>...</td>\n",
       "      <td>...</td>\n",
       "      <td>...</td>\n",
       "      <td>...</td>\n",
       "      <td>...</td>\n",
       "      <td>...</td>\n",
       "      <td>...</td>\n",
       "      <td>...</td>\n",
       "    </tr>\n",
       "    <tr>\n",
       "      <th>1047980</th>\n",
       "      <td>0.720601</td>\n",
       "      <td>0.726804</td>\n",
       "      <td>0.682969</td>\n",
       "      <td>0.375248</td>\n",
       "      <td>0.683761</td>\n",
       "      <td>0.003922</td>\n",
       "      <td>Zand</td>\n",
       "      <td>20220922_110546_SV2-01_SV_RD_11bit_RGBI_50cm_V...</td>\n",
       "      <td>20220922</td>\n",
       "    </tr>\n",
       "    <tr>\n",
       "      <th>1047981</th>\n",
       "      <td>0.730901</td>\n",
       "      <td>0.738144</td>\n",
       "      <td>0.696268</td>\n",
       "      <td>0.390470</td>\n",
       "      <td>0.692308</td>\n",
       "      <td>0.003922</td>\n",
       "      <td>Zand</td>\n",
       "      <td>20220922_110546_SV2-01_SV_RD_11bit_RGBI_50cm_V...</td>\n",
       "      <td>20220922</td>\n",
       "    </tr>\n",
       "    <tr>\n",
       "      <th>1047982</th>\n",
       "      <td>0.736910</td>\n",
       "      <td>0.743814</td>\n",
       "      <td>0.702703</td>\n",
       "      <td>0.399404</td>\n",
       "      <td>0.700855</td>\n",
       "      <td>0.003922</td>\n",
       "      <td>Zand</td>\n",
       "      <td>20220922_110546_SV2-01_SV_RD_11bit_RGBI_50cm_V...</td>\n",
       "      <td>20220922</td>\n",
       "    </tr>\n",
       "    <tr>\n",
       "      <th>1047983</th>\n",
       "      <td>0.724034</td>\n",
       "      <td>0.726804</td>\n",
       "      <td>0.682969</td>\n",
       "      <td>0.382859</td>\n",
       "      <td>0.692308</td>\n",
       "      <td>0.003922</td>\n",
       "      <td>Zand</td>\n",
       "      <td>20220922_110546_SV2-01_SV_RD_11bit_RGBI_50cm_V...</td>\n",
       "      <td>20220922</td>\n",
       "    </tr>\n",
       "    <tr>\n",
       "      <th>1047984</th>\n",
       "      <td>0.725751</td>\n",
       "      <td>0.726289</td>\n",
       "      <td>0.682540</td>\n",
       "      <td>0.388815</td>\n",
       "      <td>0.692308</td>\n",
       "      <td>0.007843</td>\n",
       "      <td>Zand</td>\n",
       "      <td>20220922_110546_SV2-01_SV_RD_11bit_RGBI_50cm_V...</td>\n",
       "      <td>20220922</td>\n",
       "    </tr>\n",
       "  </tbody>\n",
       "</table>\n",
       "<p>1047985 rows × 9 columns</p>\n",
       "</div>"
      ],
      "text/plain": [
       "                r         g         b         i      ndvi    height label  \\\n",
       "0        0.316497  0.275428  0.255914  0.249149  0.852564  0.396078  Gras   \n",
       "1        0.318109  0.276328  0.258065  0.245319  0.846154  0.003922  Gras   \n",
       "2        0.317571  0.276328  0.257527  0.243617  0.839744  0.003922  Gras   \n",
       "3        0.318109  0.277228  0.257527  0.243830  0.839744  0.317647  Gras   \n",
       "4        0.321333  0.280828  0.262366  0.249787  0.846154  0.317647  Gras   \n",
       "...           ...       ...       ...       ...       ...       ...   ...   \n",
       "1047980  0.720601  0.726804  0.682969  0.375248  0.683761  0.003922  Zand   \n",
       "1047981  0.730901  0.738144  0.696268  0.390470  0.692308  0.003922  Zand   \n",
       "1047982  0.736910  0.743814  0.702703  0.399404  0.700855  0.003922  Zand   \n",
       "1047983  0.724034  0.726804  0.682969  0.382859  0.692308  0.003922  Zand   \n",
       "1047984  0.725751  0.726289  0.682540  0.388815  0.692308  0.007843  Zand   \n",
       "\n",
       "                                                     image      date  \n",
       "0        20190601_105844_SV1-04_50cm_RD_11bit_RGBI_Katw...  20190601  \n",
       "1        20190601_105844_SV1-04_50cm_RD_11bit_RGBI_Katw...  20190601  \n",
       "2        20190601_105844_SV1-04_50cm_RD_11bit_RGBI_Katw...  20190601  \n",
       "3        20190601_105844_SV1-04_50cm_RD_11bit_RGBI_Katw...  20190601  \n",
       "4        20190601_105844_SV1-04_50cm_RD_11bit_RGBI_Katw...  20190601  \n",
       "...                                                    ...       ...  \n",
       "1047980  20220922_110546_SV2-01_SV_RD_11bit_RGBI_50cm_V...  20220922  \n",
       "1047981  20220922_110546_SV2-01_SV_RD_11bit_RGBI_50cm_V...  20220922  \n",
       "1047982  20220922_110546_SV2-01_SV_RD_11bit_RGBI_50cm_V...  20220922  \n",
       "1047983  20220922_110546_SV2-01_SV_RD_11bit_RGBI_50cm_V...  20220922  \n",
       "1047984  20220922_110546_SV2-01_SV_RD_11bit_RGBI_50cm_V...  20220922  \n",
       "\n",
       "[1047985 rows x 9 columns]"
      ]
     },
     "execution_count": 27,
     "metadata": {},
     "output_type": "execute_result"
    }
   ],
   "source": [
    "df_scaled"
   ]
  },
  {
   "cell_type": "code",
   "execution_count": 37,
   "metadata": {},
   "outputs": [],
   "source": [
    "df_scaled['predict'] = df_scaled.apply(lambda x: a_cluster_annotations_stats_model.get_class_label(a_cluster_annotations_stats_model.predict([x[['r','g','b','i','ndvi','height']]])), axis=1)"
   ]
  },
  {
   "cell_type": "code",
   "execution_count": 38,
   "metadata": {},
   "outputs": [
    {
     "data": {
      "text/plain": [
       "array(['Bos', 'Gras', 'Struweel', 'Laag gras', 'Asfalt', 'Zand'],\n",
       "      dtype=object)"
      ]
     },
     "execution_count": 38,
     "metadata": {},
     "output_type": "execute_result"
    }
   ],
   "source": [
    "df_scaled['predict'].unique()"
   ]
  },
  {
   "cell_type": "code",
   "execution_count": 39,
   "metadata": {},
   "outputs": [
    {
     "name": "stderr",
     "output_type": "stream",
     "text": [
      "c:\\ProgramData\\Anaconda3\\envs\\py310\\lib\\site-packages\\sklearn\\metrics\\_classification.py:1334: UndefinedMetricWarning: Precision and F-score are ill-defined and being set to 0.0 in labels with no predicted samples. Use `zero_division` parameter to control this behavior.\n",
      "  _warn_prf(average, modifier, msg_start, len(result))\n",
      "c:\\ProgramData\\Anaconda3\\envs\\py310\\lib\\site-packages\\sklearn\\metrics\\_classification.py:1334: UndefinedMetricWarning: Recall and F-score are ill-defined and being set to 0.0 in labels with no true samples. Use `zero_division` parameter to control this behavior.\n",
      "  _warn_prf(average, modifier, msg_start, len(result))\n",
      "c:\\ProgramData\\Anaconda3\\envs\\py310\\lib\\site-packages\\sklearn\\metrics\\_classification.py:1334: UndefinedMetricWarning: Precision and F-score are ill-defined and being set to 0.0 in labels with no predicted samples. Use `zero_division` parameter to control this behavior.\n",
      "  _warn_prf(average, modifier, msg_start, len(result))\n",
      "c:\\ProgramData\\Anaconda3\\envs\\py310\\lib\\site-packages\\sklearn\\metrics\\_classification.py:1334: UndefinedMetricWarning: Recall and F-score are ill-defined and being set to 0.0 in labels with no true samples. Use `zero_division` parameter to control this behavior.\n",
      "  _warn_prf(average, modifier, msg_start, len(result))\n"
     ]
    },
    {
     "name": "stdout",
     "output_type": "stream",
     "text": [
      "                     precision    recall  f1-score   support\n",
      "\n",
      "             Asfalt       0.35      0.70      0.47     18263\n",
      "                Bos       1.00      0.81      0.90    111919\n",
      "               Gras       0.82      0.90      0.86    335515\n",
      "          Laag Gras       0.00      0.00      0.00    312840\n",
      "          Laag gras       0.00      0.00      0.00         0\n",
      "            Schaduw       0.00      0.00      0.00      3866\n",
      "           Struweel       0.56      0.87      0.68     39586\n",
      "               Zand       0.84      0.96      0.89    126996\n",
      "vochtige duinvallei       0.00      0.00      0.00     99000\n",
      "\n",
      "           accuracy                           0.54   1047985\n",
      "          macro avg       0.40      0.47      0.42   1047985\n",
      "       weighted avg       0.50      0.54      0.51   1047985\n",
      "\n"
     ]
    },
    {
     "name": "stderr",
     "output_type": "stream",
     "text": [
      "c:\\ProgramData\\Anaconda3\\envs\\py310\\lib\\site-packages\\sklearn\\metrics\\_classification.py:1334: UndefinedMetricWarning: Precision and F-score are ill-defined and being set to 0.0 in labels with no predicted samples. Use `zero_division` parameter to control this behavior.\n",
      "  _warn_prf(average, modifier, msg_start, len(result))\n",
      "c:\\ProgramData\\Anaconda3\\envs\\py310\\lib\\site-packages\\sklearn\\metrics\\_classification.py:1334: UndefinedMetricWarning: Recall and F-score are ill-defined and being set to 0.0 in labels with no true samples. Use `zero_division` parameter to control this behavior.\n",
      "  _warn_prf(average, modifier, msg_start, len(result))\n"
     ]
    }
   ],
   "source": [
    "print(metrics.classification_report(df_scaled['label'], df_scaled['predict']))"
   ]
  }
 ],
 "metadata": {
  "kernelspec": {
   "display_name": "Python 3.9.13 ('py310')",
   "language": "python",
   "name": "python3"
  },
  "language_info": {
   "codemirror_mode": {
    "name": "ipython",
    "version": 3
   },
   "file_extension": ".py",
   "mimetype": "text/x-python",
   "name": "python",
   "nbconvert_exporter": "python",
   "pygments_lexer": "ipython3",
   "version": "3.9.13"
  },
  "vscode": {
   "interpreter": {
    "hash": "67395a7eb8a935452fa20e0b395ee9a62415ad9a4d24c55126a2521c0eaca680"
   }
  }
 },
 "nbformat": 4,
 "nbformat_minor": 2
}
