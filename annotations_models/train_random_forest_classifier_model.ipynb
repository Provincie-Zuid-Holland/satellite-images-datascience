{
 "cells": [
  {
   "cell_type": "markdown",
   "metadata": {},
   "source": [
    "# Train Pixel Level Annotation Model\n",
    "\n",
    "### This notebook uses pixel level annotations to train a Random Forest Classifier to predict labels\n",
    "\n",
    "We assume Pixel level annotations are available, as produced by the \"../data/annotations/transform_polygon_annotations_to_pixels.ipynb\" notebook. Feature selection and grid_search for optimal parameters has been done in a separate notebook (\"Coepelduynen/make_train_model_on_annotations_coepelduynen.ipynb\") and those outcomes are taken as given in this notebook.\n",
    "\n",
    "Change the set Variables cell below as desired and then run the entire notebook to get cross_validation results as well as a final model trained on all data.\n",
    "\n",
    "Date: 2024-01-12\\\n",
    "Author: Pieter Kouyzer"
   ]
  },
  {
   "cell_type": "code",
   "execution_count": null,
   "metadata": {},
   "outputs": [],
   "source": [
    "%load_ext autoreload\n",
    "%autoreload 2"
   ]
  },
  {
   "cell_type": "code",
   "execution_count": null,
   "metadata": {},
   "outputs": [],
   "source": [
    "%matplotlib notebook\n",
    "import pandas as pd\n",
    "import pickle\n",
    "from sklearn.ensemble import RandomForestClassifier\n",
    "import pprint\n",
    "\n",
    "from training.train import train_imbalanced_model, cross_validation_balance_on_date\n",
    "from training.utils import get_cross_validation_results_filepath, get_model_filepath\n",
    "from training.metric_calculation import calculate_average_metrics, get_metrics"
   ]
  },
  {
   "cell_type": "code",
   "execution_count": null,
   "metadata": {},
   "outputs": [],
   "source": [
    "# Set Variables\n",
    "location = \"Voornes Duin\"\n",
    "satellite_constellation = \"SuperView\"\n",
    "annotated_scaled_pixels_filepath = \"C:/Users/pzhadmin/Data/remote-sensing/annotations/Voornes Duin_gecorrigeerd_100124_3_labels_pixel_annotations_scaled.parquet\"\n"
   ]
  },
  {
   "cell_type": "code",
   "execution_count": null,
   "metadata": {},
   "outputs": [],
   "source": [
    "# Optimal parameters and features\n",
    "selected_features = ['b','i','ndvi','height']\n",
    "optimal_parameters = {\n",
    "    \"n_estimators\": 10, \n",
    "    \"min_samples_split\": 5, \n",
    "    \"min_samples_leaf\": 1,\n",
    "    \"max_features\": 'auto', \n",
    "    \"bootstrap\": False\n",
    "}"
   ]
  },
  {
   "cell_type": "code",
   "execution_count": null,
   "metadata": {},
   "outputs": [],
   "source": [
    "df_scaled = pd.read_parquet(annotated_scaled_pixels_filepath)\n",
    "df_scaled"
   ]
  },
  {
   "cell_type": "code",
   "execution_count": null,
   "metadata": {},
   "outputs": [],
   "source": [
    "# This is to give an indication of the amount of data points per image\n",
    "df_scaled['date'].value_counts()"
   ]
  },
  {
   "cell_type": "markdown",
   "metadata": {},
   "source": [
    "### Cross Validation\n",
    "\n",
    "We do cross-validation, where the folds are decided by the 'date' column. This is to avoid pixels from the same image from ending up in both the train and test datasets. We display the metrics averaged over the folds and write the results to a pickle."
   ]
  },
  {
   "cell_type": "code",
   "execution_count": null,
   "metadata": {},
   "outputs": [],
   "source": [
    "model = RandomForestClassifier(**optimal_parameters)"
   ]
  },
  {
   "cell_type": "code",
   "execution_count": null,
   "metadata": {},
   "outputs": [],
   "source": [
    "results = cross_validation_balance_on_date(data=df_scaled, model=model, cv=4, features=selected_features, random_state=1337, sampling_type_boundary=100000)"
   ]
  },
  {
   "cell_type": "code",
   "execution_count": null,
   "metadata": {},
   "outputs": [],
   "source": [
    "calculate_average_metrics(results=results)"
   ]
  },
  {
   "cell_type": "code",
   "execution_count": null,
   "metadata": {},
   "outputs": [],
   "source": [
    "cross_validation_results_filepath = get_cross_validation_results_filepath(location=location, satellite_constellation=satellite_constellation, df=df_scaled)\n",
    "print(f\"Saving to {cross_validation_results_filepath}\")\n",
    "with open(cross_validation_results_filepath, \"wb\") as file:\n",
    "    pickle.dump(results, file)"
   ]
  },
  {
   "cell_type": "markdown",
   "metadata": {},
   "source": [
    "### Export Definitive model.\n",
    "\n",
    "Trains a Random Forest Classifier model on all data and writes it to a pickle file for later use. This is the definitive model output by this notebook."
   ]
  },
  {
   "cell_type": "code",
   "execution_count": null,
   "metadata": {},
   "outputs": [],
   "source": [
    "final_model = RandomForestClassifier(**optimal_parameters)\n",
    "train_imbalanced_model(\n",
    "    X_train=df_scaled[selected_features], \n",
    "    y_train=df_scaled[\"label\"], \n",
    "    model=final_model, \n",
    "    random_state=42, \n",
    "    sampling_type_boundary=100000\n",
    ")\n",
    "pprint.pprint(get_metrics(y=df_scaled[\"label\"], X=df_scaled[selected_features], model=final_model))"
   ]
  },
  {
   "cell_type": "code",
   "execution_count": null,
   "metadata": {},
   "outputs": [],
   "source": [
    "final_model_filepath = get_model_filepath(location=location, satellite_constellation=satellite_constellation, df=df_scaled)\n",
    "print(f\"Saving to {final_model_filepath}\")\n",
    "with open(final_model_filepath, \"wb\") as file:\n",
    "    pickle.dump(final_model, file)"
   ]
  }
 ],
 "metadata": {
  "kernelspec": {
   "display_name": "Python 3 (ipykernel)",
   "language": "python",
   "name": "python3"
  },
  "language_info": {
   "codemirror_mode": {
    "name": "ipython",
    "version": 3
   },
   "file_extension": ".py",
   "mimetype": "text/x-python",
   "name": "python",
   "nbconvert_exporter": "python",
   "pygments_lexer": "ipython3",
   "version": "3.9.18"
  },
  "vscode": {
   "interpreter": {
    "hash": "67395a7eb8a935452fa20e0b395ee9a62415ad9a4d24c55126a2521c0eaca680"
   }
  }
 },
 "nbformat": 4,
 "nbformat_minor": 2
}
