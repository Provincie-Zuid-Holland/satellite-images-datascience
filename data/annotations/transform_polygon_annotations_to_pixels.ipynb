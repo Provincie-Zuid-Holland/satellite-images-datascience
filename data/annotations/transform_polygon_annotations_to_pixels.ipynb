{
  "cells": [
    {
      "cell_type": "code",
      "execution_count": null,
      "metadata": {},
      "outputs": [],
      "source": [
        "%load_ext autoreload\n",
        "%autoreload 2"
      ]
    },
    {
      "cell_type": "code",
      "execution_count": 2,
      "metadata": {},
      "outputs": [],
      "source": [
        "import glob\n",
        "import pandas as pd\n",
        "import geopandas as gpd\n",
        "import rasterio\n",
        "from nso_ds_classes.nso_ds_normalize_scaler import scaler_class_all\n",
        "from annotations.data_preparation import extract_dataframe_pixels_values_from_tif_and_polygons\n",
        "from annotations.utils import get_scaler_filepath\n",
        "from annotations.data_loader import load_annotations_polygons, load_annotations_polygons_gpkg\n",
        "from azure.storage.blob import BlobServiceClient, BlobClient, ContainerClient\n",
        "import os\n",
        "import settings_blob"
      ]
    },
    {
      "cell_type": "code",
      "execution_count": null,
      "metadata": {},
      "outputs": [],
      "source": [
        "\n",
        "def upload_to_blob(apath):\n",
        "\n",
        "    container_name = \"satellite-images-nso\"\n",
        "    blob_name = os.path.basename(apath) \n",
        "\n",
        "\n",
        "    blob_service_client = BlobServiceClient.from_connection_string(settings_blob.connection_string)\n",
        "    container_client = blob_service_client.get_container_client(container_name)\n"
      ]
    },
    {
      "cell_type": "markdown",
      "metadata": {},
      "source": [
        "## Transform Polygon Annotations to Pixel Annotation Parquet files\n",
        "\n",
        "This script is intended to transform given polygon annotations in geojson (made in i.e. QGis) into pixel level annotations, with scaled band values. The pixel level annotations are written to parquet files.\n",
        "Change the variables below to match the situation on your device.\n",
        "Note that these transformations are quite quickly very memory intensive.\n",
        "\n",
        "Date: 2024-01-11 \\\n",
        "Author: Pieter Kouyzer\n"
      ]
    },
    {
      "cell_type": "code",
      "execution_count": 31,
      "metadata": {},
      "outputs": [],
      "source": [
        "# Set variables\n",
        "location = \"Voornes_Duin\"\n",
        "\n",
        "if location == \"Voornes_Duin\":\n",
        "    satellite = \"PNEO\"\n",
        "    images_folder = \"E:/Data/remote_sensing/satellite-images/PNEO_30CM/Voornes Duincv /\"\n",
        "    regex = \"*_height_asphalt_crop.tif\"\n",
        "    annotations_folder = \"C:/Users/pzhadmin/Data/remote-sensing/annotations/\"\n",
        "    annotations_polygon_filename_regex = \"Voornes Duin PNEO_30CM Annotations_2024-01-19.geojson\"\n",
        "    scaler_folder_path = \"../../scalers/\"\n",
        "    col_names = [\"r\", \"g\", \"b\", \"n\", \"e\", \"d\", \"ndvi\", \"re_ndvi\", \"height\"]\n",
        "    pixel_filepath = os.path.join(annotations_folder, f\"{location}_{satellite}_pixel_annotations.parquet\")\n",
        "    pixel_scaled_filepath = os.path.join(annotations_folder, f\"{location}_{satellite}_pixel_annotations_scaled.parquet\")\n",
        "\n",
        "elif location == \"Coepelduynen\":\n",
        "   \n",
        "    images_folder = \"E:/data/\"\n",
        "    regex = f\"{location}/2023*re*asphalt_crop.tif\"\n",
        "    annotations_path = \"C:/repos/satellite-images-nso-datascience/data/annotations/Coepelduynen/Annotations_Coepelduynen_2023.gpkg\"\n"
      ]
    },
    {
      "cell_type": "markdown",
      "metadata": {},
      "source": [
        "### Prepare data"
      ]
    },
    {
      "cell_type": "code",
      "execution_count": 32,
      "metadata": {},
      "outputs": [
        {
          "ename": "ValueError",
          "evalue": "No objects to concatenate",
          "output_type": "error",
          "traceback": [
            "\u001b[1;31m---------------------------------------------------------------------------\u001b[0m",
            "\u001b[1;31mValueError\u001b[0m                                Traceback (most recent call last)",
            "Cell \u001b[1;32mIn[32], line 2\u001b[0m\n\u001b[0;32m      1\u001b[0m \u001b[38;5;28;01mif\u001b[39;00m location \u001b[38;5;241m==\u001b[39m \u001b[38;5;124m\"\u001b[39m\u001b[38;5;124mVoornes_Duin\u001b[39m\u001b[38;5;124m\"\u001b[39m:\n\u001b[1;32m----> 2\u001b[0m     annotations_polygons_gdf \u001b[38;5;241m=\u001b[39m \u001b[43mload_annotations_polygons\u001b[49m\u001b[43m(\u001b[49m\u001b[43mannotations_folder\u001b[49m\u001b[43m,\u001b[49m\u001b[43m \u001b[49m\u001b[43mannotations_polygon_filename_regex\u001b[49m\u001b[43m,\u001b[49m\u001b[43m \u001b[49m\u001b[43mregex\u001b[49m\u001b[43m,\u001b[49m\u001b[43m \u001b[49m\u001b[43mimages_folder\u001b[49m\u001b[43m)\u001b[49m\n\u001b[0;32m      4\u001b[0m \u001b[38;5;28;01melif\u001b[39;00m location \u001b[38;5;241m==\u001b[39m \u001b[38;5;124m\"\u001b[39m\u001b[38;5;124mCoepelduynen\u001b[39m\u001b[38;5;124m\"\u001b[39m:\n\u001b[0;32m      5\u001b[0m     annotations_polygons_gdf \u001b[38;5;241m=\u001b[39m load_annotations_polygons_gpkg(\u001b[38;5;124m\"\u001b[39m\u001b[38;5;124mC:/repos/satellite-images-nso-datascience/data/annotations/Coepelduynen/Annotations_Coepelduynen_2023.gpkg\u001b[39m\u001b[38;5;124m\"\u001b[39m)\n",
            "File \u001b[1;32mc:\\ProgramData\\Anaconda3\\envs\\py310\\envs\\py312\\Lib\\site-packages\\annotations\\data_loader.py:55\u001b[0m, in \u001b[0;36mload_annotations_polygons\u001b[1;34m(annotations_folder, annotations_polygon_filename_regex, images_folder, image_regex)\u001b[0m\n\u001b[0;32m     52\u001b[0m         df[\u001b[38;5;124m\"\u001b[39m\u001b[38;5;124mname\u001b[39m\u001b[38;5;124m\"\u001b[39m] \u001b[38;5;241m=\u001b[39m image_filename_without_extension\n\u001b[0;32m     54\u001b[0m     dfs \u001b[38;5;241m+\u001b[39m\u001b[38;5;241m=\u001b[39m [df]\n\u001b[1;32m---> 55\u001b[0m \u001b[38;5;28;01mreturn\u001b[39;00m \u001b[43mpd\u001b[49m\u001b[38;5;241;43m.\u001b[39;49m\u001b[43mconcat\u001b[49m\u001b[43m(\u001b[49m\u001b[43mdfs\u001b[49m\u001b[43m)\u001b[49m\n",
            "File \u001b[1;32mc:\\ProgramData\\Anaconda3\\envs\\py310\\envs\\py312\\Lib\\site-packages\\pandas\\core\\reshape\\concat.py:380\u001b[0m, in \u001b[0;36mconcat\u001b[1;34m(objs, axis, join, ignore_index, keys, levels, names, verify_integrity, sort, copy)\u001b[0m\n\u001b[0;32m    377\u001b[0m \u001b[38;5;28;01melif\u001b[39;00m copy \u001b[38;5;129;01mand\u001b[39;00m using_copy_on_write():\n\u001b[0;32m    378\u001b[0m     copy \u001b[38;5;241m=\u001b[39m \u001b[38;5;28;01mFalse\u001b[39;00m\n\u001b[1;32m--> 380\u001b[0m op \u001b[38;5;241m=\u001b[39m \u001b[43m_Concatenator\u001b[49m\u001b[43m(\u001b[49m\n\u001b[0;32m    381\u001b[0m \u001b[43m    \u001b[49m\u001b[43mobjs\u001b[49m\u001b[43m,\u001b[49m\n\u001b[0;32m    382\u001b[0m \u001b[43m    \u001b[49m\u001b[43maxis\u001b[49m\u001b[38;5;241;43m=\u001b[39;49m\u001b[43maxis\u001b[49m\u001b[43m,\u001b[49m\n\u001b[0;32m    383\u001b[0m \u001b[43m    \u001b[49m\u001b[43mignore_index\u001b[49m\u001b[38;5;241;43m=\u001b[39;49m\u001b[43mignore_index\u001b[49m\u001b[43m,\u001b[49m\n\u001b[0;32m    384\u001b[0m \u001b[43m    \u001b[49m\u001b[43mjoin\u001b[49m\u001b[38;5;241;43m=\u001b[39;49m\u001b[43mjoin\u001b[49m\u001b[43m,\u001b[49m\n\u001b[0;32m    385\u001b[0m \u001b[43m    \u001b[49m\u001b[43mkeys\u001b[49m\u001b[38;5;241;43m=\u001b[39;49m\u001b[43mkeys\u001b[49m\u001b[43m,\u001b[49m\n\u001b[0;32m    386\u001b[0m \u001b[43m    \u001b[49m\u001b[43mlevels\u001b[49m\u001b[38;5;241;43m=\u001b[39;49m\u001b[43mlevels\u001b[49m\u001b[43m,\u001b[49m\n\u001b[0;32m    387\u001b[0m \u001b[43m    \u001b[49m\u001b[43mnames\u001b[49m\u001b[38;5;241;43m=\u001b[39;49m\u001b[43mnames\u001b[49m\u001b[43m,\u001b[49m\n\u001b[0;32m    388\u001b[0m \u001b[43m    \u001b[49m\u001b[43mverify_integrity\u001b[49m\u001b[38;5;241;43m=\u001b[39;49m\u001b[43mverify_integrity\u001b[49m\u001b[43m,\u001b[49m\n\u001b[0;32m    389\u001b[0m \u001b[43m    \u001b[49m\u001b[43mcopy\u001b[49m\u001b[38;5;241;43m=\u001b[39;49m\u001b[43mcopy\u001b[49m\u001b[43m,\u001b[49m\n\u001b[0;32m    390\u001b[0m \u001b[43m    \u001b[49m\u001b[43msort\u001b[49m\u001b[38;5;241;43m=\u001b[39;49m\u001b[43msort\u001b[49m\u001b[43m,\u001b[49m\n\u001b[0;32m    391\u001b[0m \u001b[43m\u001b[49m\u001b[43m)\u001b[49m\n\u001b[0;32m    393\u001b[0m \u001b[38;5;28;01mreturn\u001b[39;00m op\u001b[38;5;241m.\u001b[39mget_result()\n",
            "File \u001b[1;32mc:\\ProgramData\\Anaconda3\\envs\\py310\\envs\\py312\\Lib\\site-packages\\pandas\\core\\reshape\\concat.py:443\u001b[0m, in \u001b[0;36m_Concatenator.__init__\u001b[1;34m(self, objs, axis, join, keys, levels, names, ignore_index, verify_integrity, copy, sort)\u001b[0m\n\u001b[0;32m    440\u001b[0m \u001b[38;5;28mself\u001b[39m\u001b[38;5;241m.\u001b[39mverify_integrity \u001b[38;5;241m=\u001b[39m verify_integrity\n\u001b[0;32m    441\u001b[0m \u001b[38;5;28mself\u001b[39m\u001b[38;5;241m.\u001b[39mcopy \u001b[38;5;241m=\u001b[39m copy\n\u001b[1;32m--> 443\u001b[0m objs, keys \u001b[38;5;241m=\u001b[39m \u001b[38;5;28;43mself\u001b[39;49m\u001b[38;5;241;43m.\u001b[39;49m\u001b[43m_clean_keys_and_objs\u001b[49m\u001b[43m(\u001b[49m\u001b[43mobjs\u001b[49m\u001b[43m,\u001b[49m\u001b[43m \u001b[49m\u001b[43mkeys\u001b[49m\u001b[43m)\u001b[49m\n\u001b[0;32m    445\u001b[0m \u001b[38;5;66;03m# figure out what our result ndim is going to be\u001b[39;00m\n\u001b[0;32m    446\u001b[0m ndims \u001b[38;5;241m=\u001b[39m \u001b[38;5;28mself\u001b[39m\u001b[38;5;241m.\u001b[39m_get_ndims(objs)\n",
            "File \u001b[1;32mc:\\ProgramData\\Anaconda3\\envs\\py310\\envs\\py312\\Lib\\site-packages\\pandas\\core\\reshape\\concat.py:505\u001b[0m, in \u001b[0;36m_Concatenator._clean_keys_and_objs\u001b[1;34m(self, objs, keys)\u001b[0m\n\u001b[0;32m    502\u001b[0m     objs_list \u001b[38;5;241m=\u001b[39m \u001b[38;5;28mlist\u001b[39m(objs)\n\u001b[0;32m    504\u001b[0m \u001b[38;5;28;01mif\u001b[39;00m \u001b[38;5;28mlen\u001b[39m(objs_list) \u001b[38;5;241m==\u001b[39m \u001b[38;5;241m0\u001b[39m:\n\u001b[1;32m--> 505\u001b[0m     \u001b[38;5;28;01mraise\u001b[39;00m \u001b[38;5;167;01mValueError\u001b[39;00m(\u001b[38;5;124m\"\u001b[39m\u001b[38;5;124mNo objects to concatenate\u001b[39m\u001b[38;5;124m\"\u001b[39m)\n\u001b[0;32m    507\u001b[0m \u001b[38;5;28;01mif\u001b[39;00m keys \u001b[38;5;129;01mis\u001b[39;00m \u001b[38;5;28;01mNone\u001b[39;00m:\n\u001b[0;32m    508\u001b[0m     objs_list \u001b[38;5;241m=\u001b[39m \u001b[38;5;28mlist\u001b[39m(com\u001b[38;5;241m.\u001b[39mnot_none(\u001b[38;5;241m*\u001b[39mobjs_list))\n",
            "\u001b[1;31mValueError\u001b[0m: No objects to concatenate"
          ]
        }
      ],
      "source": [
        "if location == \"Voornes_Duin\":\n",
        "    annotations_polygons_gdf = load_annotations_polygons(annotations_folder, annotations_polygon_filename_regex, regex, images_folder)\n",
        "\n",
        "elif location == \"Coepelduynen\":\n",
        "    annotations_polygons_gdf = load_annotations_polygons_gpkg(\"C:/repos/satellite-images-nso-datascience/data/annotations/Coepelduynen/Annotations_Coepelduynen_2023.gpkg\")\n",
        "    annotations_polygons_gdf = annotations_polygons_gdf.reset_index(drop=True)\n",
        "    # Custom actions to set data straight.\n",
        "    annotations_polygons_gdf.loc[annotations_polygons_gdf[\"name\"] != \"Annotations_Coepelduynen_2023\",\"label\"] = annotations_polygons_gdf[annotations_polygons_gdf[\"name\"] != \"Annotations_Coepelduynen_2023\"][\"Label_name\"]\n",
        "    annotations_polygons_gdf = annotations_polygons_gdf.drop([\"Label_name\"], axis=1)\n",
        "    annotations_polygons_gdf['label'] = annotations_polygons_gdf['label'].str.replace(\"\\nAsphalt\",\"Asphalt\")\n",
        "    annotations_polygons_gdf[\"Label\"] = annotations_polygons_gdf[\"label\"]\n",
        "    annotations_polygons_gdf = annotations_polygons_gdf.drop([\"label\"], axis=1)"
      ]
    },
    {
      "cell_type": "code",
      "execution_count": null,
      "metadata": {},
      "outputs": [],
      "source": [
        "if location == \"Voornes_Duin\":\n",
        "    if os.path.isfile(pixel_filepath):\n",
        "        df = pd.read_parquet(pixel_filepath)\n",
        "    else:\n",
        "        dfs = []\n",
        "        for tif_file in glob.glob(os.path.join(images_folder, regex)):\n",
        "            tif_file = tif_file.replace(\"\\\\\",\"/\")\n",
        "            print(tif_file)\n",
        "            name_tif_file = tif_file.split(\"/\")[-1].split(\".\")[0]\n",
        "            with rasterio.open(tif_file) as dataset:\n",
        "                dfs += [\n",
        "                    extract_dataframe_pixels_values_from_tif_and_polygons(\n",
        "                        tif_dataset=dataset, polygon_gdf=annotations_polygons_gdf,name_tif_file=name_tif_file\n",
        "                    )\n",
        "                ]\n",
        "            \n",
        "        df = pd.concat(dfs)\n",
        "        df.to_parquet(pixel_filepath)\n",
        "\n",
        "elif location == \"Coepelduynen\":\n",
        "    #Custom aggregation for annnotations across all satellite images\n",
        "    dfs = []\n",
        "    for tif_file in glob.glob(os.path.join(images_folder, regex)):\n",
        "            tif_file = tif_file.replace(\"\\\\\",\"/\")\n",
        "            print(tif_file)\n",
        "            name_tif_file = tif_file.split(\"/\")[-1].split(\".\")[0]\n",
        "            with rasterio.open(tif_file) as dataset:\n",
        "                dfs += [\n",
        "                extract_dataframe_pixels_values_from_tif_and_polygons(\n",
        "                            tif_dataset=dataset,\n",
        "                            polygon_gdf=annotations_polygons_gdf[\n",
        "                                annotations_polygons_gdf[\"name\"] == \"Annotations_Coepelduynen_2023\"\n",
        "                            ],\n",
        "                            name_tif_file=tif_file.split(\"/\")[-1],\n",
        "                            name_annotations=\"Annotations_Coepelduynen_2023\",\n",
        "                        )          \n",
        "                ]\n",
        "            \n",
        "    df = pd.concat(dfs)\n",
        "\n",
        "    # Annotations for specific satellite images\n",
        "    dfs = []\n",
        "    for tif_file in glob.glob(os.path.join(images_folder, regex)):\n",
        "        tif_file = tif_file.replace(\"\\\\\",\"/\")\n",
        "        print(tif_file)\n",
        "        name_tif_file = tif_file.split(\"/\")[-1].split(\".\")[0].split(\"_\")[0]+\"_annotations\"\n",
        "        print(name_tif_file)\n",
        "        with rasterio.open(tif_file) as dataset:\n",
        "                dfs += [\n",
        "                extract_dataframe_pixels_values_from_tif_and_polygons(\n",
        "                            tif_dataset=dataset,\n",
        "                            polygon_gdf=annotations_polygons_gdf[\n",
        "                                annotations_polygons_gdf[\"name\"] == name_tif_file\n",
        "                            ],\n",
        "                            name_tif_file=tif_file.split(\"/\")[-1],\n",
        "                            name_annotations=name_tif_file,\n",
        "                        )          \n",
        "                ]\n",
        "        \n",
        "    \n",
        "    dfs = pd.concat(dfs)\n",
        "    df = pd.concat([dfs,df])\n",
        "    \n",
        "    # Extra check to see if all the correct bands are found\n",
        "    #if \"ndvi\" not in df.columns:\n",
        "\n",
        "    #    if \"n\" in df.columns:\n",
        "    #        df['ndvi'] =df.apply(lambda x:(((x['n'] - x['r']) / (x['n'] + x['r']))*100) + 100, axis =1)\n",
        "    #    if \"i\" in df.columns:\n",
        "    #        df['ndvi'] =df.apply(lambda x:(((x['i'] - x['r']) / (x['i'] + x['r']))*100) + 100, axis =1)\n",
        "    #    else:\n",
        "    #        print(\"No infrared band found for ndvi\")\n",
        "\n",
        "    #if \"ndwi\" not in df.columns:\n",
        "    #    if \"n\" in df.columns:\n",
        "    #        df['ndwi'] = df.apply(lambda x: ((x['g']- x['n'])/(x['n']+x['g'])*100)+100, axis=1 )\n",
        "    #    if \"i\" in df.columns:\n",
        "    #        df['ndwi'] = df.apply(lambda x: ((x['g']- x['i'])/(x['i']+x['g'])*100)+100, axis=1 )\n",
        "    #    else:\n",
        "    #        print(\"No infrared band found for ndwi\")\n",
        "\n",
        "    #if \"re_ndvi\" not in df.columns:\n",
        "    #    if \"e\" in df.columns:\n",
        "    #        df['re_ndvi'] =df.apply(lambda x:(((x['e'] - x['r']) / (x['e'] + x['r']))*100) + 100, axis =1)\n",
        "    #    else:\n",
        "    #        print(\"\")\n",
        "\n",
        "    df.to_parquet(\"annotations_pixel_dataframes/annotaties_coepelduynen_to_pixel_2023.parquet\")"
      ]
    },
    {
      "cell_type": "markdown",
      "metadata": {},
      "source": [
        "# Nieuwkoopse Plassen annotations."
      ]
    },
    {
      "cell_type": "code",
      "execution_count": 1,
      "metadata": {},
      "outputs": [],
      "source": [
        "annotation_folder_path = \"C:/repos/satellite-images-nso-datascience/data/annotations/Schippergat/{to_replace}*.geojson\""
      ]
    },
    {
      "cell_type": "code",
      "execution_count": 34,
      "metadata": {},
      "outputs": [
        {
          "name": "stdout",
          "output_type": "stream",
          "text": [
            "C:/repos/satellite-images-nso-datascience/data/annotations/Schippergat/20230603_waterplants_annotations.geojson\n",
            "E:/data/nieuwkoopse_plassen_schippersgat/20230603_104624_PNEO-03_1_1_30cm_RD_12bit_RGBNED_Uithoorn_Schippersgat_cropped_ndwi_re_ndvi.tif\n",
            "20230603_annotations\n",
            "'class'\n",
            "C:/repos/satellite-images-nso-datascience/data/annotations/Schippergat/20230905_waterplanten_annotations.geojson\n",
            "E:/data/nieuwkoopse_plassen_schippersgat/20230905_105231_PNEO-03_1_1_30cm_RD_12bit_RGBNED_Uithoorn_Schippersgat_cropped_ndwi_re_ndvi.tif\n",
            "20230905_annotations\n"
          ]
        }
      ],
      "source": [
        "# PNEO annotations\n",
        "dfs = []\n",
        "for annotation_file in glob.glob(annotation_folder_path.replace(\"{to_replace}\", \"2023\")):\n",
        "    annotation_file = annotation_file.replace(\"\\\\\",\"/\")\n",
        "    print(annotation_file)\n",
        "\n",
        "    tif_file = glob.glob(\"E:/data/nieuwkoopse_plassen_schippersgat/\"+annotation_file.split(\"/\")[-1].split(\"_\")[0]+\"*\")[0].replace(\"\\\\\",\"/\")\n",
        "    print(tif_file)\n",
        "\n",
        "    name_tif_file = tif_file.split(\"/\")[-1].split(\".\")[0].split(\"_\")[0]+\"_annotations\"\n",
        "    print(name_tif_file)\n",
        "\n",
        "    waterplanten_annotations = gpd.read_file(annotation_file)\n",
        "    waterplanten_annotations[\"name\"] = name_tif_file\n",
        "    try: \n",
        "        waterplanten_annotations[\"Label\"] = waterplanten_annotations[\"class\"]\n",
        "    except Exception as e:\n",
        "        print(e)\n",
        "\n",
        "    waterplanten_annotations  = waterplanten_annotations.to_crs(\"EPSG:28992\")\n",
        "\n",
        "    \n",
        "    with rasterio.open(tif_file) as dataset:\n",
        "         dfs += [extract_dataframe_pixels_values_from_tif_and_polygons(dataset, waterplanten_annotations, tif_file.split(\"/\")[-1], name_tif_file)]\n",
        "\n",
        "df = pd.concat(dfs)\n",
        "# TODO: update the descriptions\n",
        "#df['ndwi'] =df['height']\n",
        "#df = df.drop(['height'], axis=1)\n",
        "df.to_parquet(\"./annotations_pixel_dataframes/PNEO_waterplanten_annotations.parquet\")"
      ]
    },
    {
      "cell_type": "code",
      "execution_count": 13,
      "metadata": {},
      "outputs": [
        {
          "name": "stdout",
          "output_type": "stream",
          "text": [
            "C:/repos/satellite-images-nso-datascience/data/annotations/Schippergat/20220705_waterplant_annotations.geojson\n",
            "E:/data/nieuwkoopse_plassen_schippersgat/20220705_110002_SV2-01_SV_RD_11bit_RGBI_50cm_Woerden_Schippersgat_cropped_ndwi_re_ndvi.tif\n",
            "20220705_annotations\n",
            "'class'\n",
            "C:/repos/satellite-images-nso-datascience/data/annotations/Schippergat/20210617_waterplant_annotations.geojson\n",
            "E:/data/nieuwkoopse_plassen_schippersgat/20210617_111532_SV1-04_SV_RD_11bit_RGBI_50cm_Mijdrecht_Schippersgat_cropped_ndwi_re_ndvi.tif\n",
            "20210617_annotations\n",
            "'class'\n",
            "C:/repos/satellite-images-nso-datascience/data/annotations/Schippergat/20190302_waterplants_annotations.geojson\n",
            "E:/data/nieuwkoopse_plassen_schippersgat/20190302_113613_SV1-02_50cm_RD_11bit_RGBI_Mijdrecht_Schippersgat_cropped_ndwi_re_ndvi.tif\n",
            "20190302_annotations\n",
            "'class'\n",
            "C:/repos/satellite-images-nso-datascience/data/annotations/Schippergat/20190409_waterplant_annotations.geojson\n",
            "E:/data/nieuwkoopse_plassen_schippersgat/20190409_111030_SV1-04_50cm_RD_11bit_RGBI_Mijdrecht_Schippersgat_cropped_ndwi_re_ndvi.tif\n",
            "20190409_annotations\n",
            "'class'\n",
            "C:/repos/satellite-images-nso-datascience/data/annotations/Schippergat/20190416_waterplants_annotations.geojson\n",
            "E:/data/nieuwkoopse_plassen_schippersgat/20190416_113410_SV1-02_50cm_RD_11bit_RGBI_Nieuwveen_Schippersgat_cropped_ndwi_re_ndvi.tif\n",
            "20190416_annotations\n",
            "'class'\n",
            "C:/repos/satellite-images-nso-datascience/data/annotations/Schippergat/20190629_waterplants_annotations.geojson\n",
            "E:/data/nieuwkoopse_plassen_schippersgat/20190629_113712_SV1-02_50cm_RD_11bit_RGBI_Mijdrecht_Schippersgat_cropped_ndwi_re_ndvi.tif\n",
            "20190629_annotations\n",
            "'class'\n"
          ]
        }
      ],
      "source": [
        "# Superview annotations\n",
        "dfs = []\n",
        "for annotation_file in glob.glob(annotation_folder_path.replace(\"{to_replace}\", \"2022\"))+  glob.glob(annotation_folder_path.replace(\"{to_replace}\", \"2021\"))+  glob.glob(annotation_folder_path.replace(\"{to_replace}\", \"2019\")):\n",
        "    annotation_file = annotation_file.replace(\"\\\\\",\"/\")\n",
        "    print(annotation_file)\n",
        "\n",
        "    tif_file = glob.glob(\"E:/data/nieuwkoopse_plassen_schippersgat/\"+annotation_file.split(\"/\")[-1].split(\"_\")[0]+\"*\")[0].replace(\"\\\\\",\"/\")\n",
        "    print(tif_file)\n",
        "\n",
        "    name_tif_file = tif_file.split(\"/\")[-1].split(\".\")[0].split(\"_\")[0]+\"_annotations\"\n",
        "    print(name_tif_file)\n",
        "\n",
        "    waterplanten_annotations = gpd.read_file(annotation_file)\n",
        "    waterplanten_annotations[\"name\"] = name_tif_file\n",
        "\n",
        "    if \"label\" in waterplanten_annotations.columns:\n",
        "        waterplanten_annotations[\"Label\"] = waterplanten_annotations[\"label\"]\n",
        "\n",
        "    try: \n",
        "        waterplanten_annotations[\"Label\"] = waterplanten_annotations[\"class\"]\n",
        "    except Exception as e:\n",
        "        print(e)\n",
        "\n",
        "    waterplanten_annotations  = waterplanten_annotations.to_crs(\"EPSG:28992\")\n",
        "\n",
        "    \n",
        "    with rasterio.open(tif_file) as dataset:\n",
        "         dfs += [extract_dataframe_pixels_values_from_tif_and_polygons(dataset, waterplanten_annotations, tif_file.split(\"/\")[-1], name_tif_file )]"
      ]
    },
    {
      "cell_type": "code",
      "execution_count": 14,
      "metadata": {},
      "outputs": [],
      "source": [
        "df = pd.concat(dfs)\n",
        "#TODO: Height variable name is not correct\n",
        "#df['ndwi'] =df['height']\n",
        "#df = df.drop(['height'], axis=1)"
      ]
    },
    {
      "cell_type": "code",
      "execution_count": 15,
      "metadata": {},
      "outputs": [],
      "source": [
        "df['label'] = df['label'].replace(\"Waterplanten\", \"Waterplants\")"
      ]
    },
    {
      "cell_type": "code",
      "execution_count": 16,
      "metadata": {},
      "outputs": [
        {
          "data": {
            "text/html": [
              "<div>\n",
              "<style scoped>\n",
              "    .dataframe tbody tr th:only-of-type {\n",
              "        vertical-align: middle;\n",
              "    }\n",
              "\n",
              "    .dataframe tbody tr th {\n",
              "        vertical-align: top;\n",
              "    }\n",
              "\n",
              "    .dataframe thead th {\n",
              "        text-align: right;\n",
              "    }\n",
              "</style>\n",
              "<table border=\"1\" class=\"dataframe\">\n",
              "  <thead>\n",
              "    <tr style=\"text-align: right;\">\n",
              "      <th></th>\n",
              "      <th>r</th>\n",
              "      <th>g</th>\n",
              "      <th>b</th>\n",
              "      <th>i</th>\n",
              "      <th>ndvi</th>\n",
              "      <th>height</th>\n",
              "    </tr>\n",
              "    <tr>\n",
              "      <th>label</th>\n",
              "      <th></th>\n",
              "      <th></th>\n",
              "      <th></th>\n",
              "      <th></th>\n",
              "      <th></th>\n",
              "      <th></th>\n",
              "    </tr>\n",
              "  </thead>\n",
              "  <tbody>\n",
              "    <tr>\n",
              "      <th>Ground</th>\n",
              "      <td>563.496146</td>\n",
              "      <td>496.015965</td>\n",
              "      <td>340.449978</td>\n",
              "      <td>1180.063884</td>\n",
              "      <td>65.653176</td>\n",
              "      <td>23.261316</td>\n",
              "    </tr>\n",
              "    <tr>\n",
              "      <th>Water</th>\n",
              "      <td>556.245800</td>\n",
              "      <td>418.649576</td>\n",
              "      <td>299.902278</td>\n",
              "      <td>307.856161</td>\n",
              "      <td>114.530750</td>\n",
              "      <td>37.987589</td>\n",
              "    </tr>\n",
              "    <tr>\n",
              "      <th>Waterplants</th>\n",
              "      <td>814.793401</td>\n",
              "      <td>808.739211</td>\n",
              "      <td>542.881895</td>\n",
              "      <td>1510.309213</td>\n",
              "      <td>66.934411</td>\n",
              "      <td>18.083892</td>\n",
              "    </tr>\n",
              "  </tbody>\n",
              "</table>\n",
              "</div>"
            ],
            "text/plain": [
              "                      r           g           b            i        ndvi  \\\n",
              "label                                                                      \n",
              "Ground       563.496146  496.015965  340.449978  1180.063884   65.653176   \n",
              "Water        556.245800  418.649576  299.902278   307.856161  114.530750   \n",
              "Waterplants  814.793401  808.739211  542.881895  1510.309213   66.934411   \n",
              "\n",
              "                height  \n",
              "label                   \n",
              "Ground       23.261316  \n",
              "Water        37.987589  \n",
              "Waterplants  18.083892  "
            ]
          },
          "execution_count": 16,
          "metadata": {},
          "output_type": "execute_result"
        }
      ],
      "source": [
        "df.drop([\"image\",\"season\",\"annotation_no\", \"date\"], axis=1).groupby([\"label\"]).mean()"
      ]
    },
    {
      "cell_type": "code",
      "execution_count": 12,
      "metadata": {},
      "outputs": [],
      "source": [
        "df.to_parquet(\"./annotations_pixel_dataframes/Superview_waterplanten_annotations.parquet\")"
      ]
    }
  ],
  "metadata": {
    "kernelspec": {
      "display_name": "Python 3.9.12 ('remote_sensing_voorspelingen')",
      "language": "python",
      "name": "python3"
    },
    "language_info": {
      "codemirror_mode": {
        "name": "ipython",
        "version": 3
      },
      "file_extension": ".py",
      "mimetype": "text/x-python",
      "name": "python",
      "nbconvert_exporter": "python",
      "pygments_lexer": "ipython3",
      "version": "3.12.1"
    },
    "orig_nbformat": 4,
    "vscode": {
      "interpreter": {
        "hash": "2cb1ec6dcd5a6ab2905b154621f89ae3ac2e76c5c8088d5b9b78b98be99de6d3"
      }
    }
  },
  "nbformat": 4,
  "nbformat_minor": 2
}
