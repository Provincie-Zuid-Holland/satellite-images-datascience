{
 "cells": [
  {
   "cell_type": "code",
   "execution_count": 4,
   "metadata": {},
   "outputs": [],
   "source": [
    "import geopandas as gpd\n",
    "import glob\n",
    "import pandas as pd\n",
    "import rasterio\n",
    "from rasterio.mask import mask\n",
    "import sys\n",
    "sys.path.insert(0, './satellite-images-nso-datascience/src/nso_ds_classes/')\n",
    "from nso_ds_normalize_scaler import scaler_class_all\n",
    "from statsmodels.stats.outliers_influence import variance_inflation_factor"
   ]
  },
  {
   "cell_type": "markdown",
   "metadata": {},
   "source": [
    "## Voornes Duin"
   ]
  },
  {
   "cell_type": "markdown",
   "metadata": {},
   "source": [
    "### Prepare data"
   ]
  },
  {
   "cell_type": "code",
   "execution_count": 5,
   "metadata": {},
   "outputs": [],
   "source": [
    "def extract_dataframe_pixels_values_from_tif_and_polygons(path_to_tif, path_to_polygons):\n",
    "        geo_file = gpd.read_file(path_to_polygons)\n",
    "        src = rasterio.open(path_to_tif)\n",
    "        df = pd.DataFrame([])   \n",
    "        name_tif = path_to_tif.split(\"/\")[-1].split('.')[0]\n",
    "        \n",
    "        for index, row in geo_file.iterrows():\n",
    "                if geo_file.crs != 'epsg:28992':\n",
    "                        geo_file = geo_file.to_crs(epsg=28992)\n",
    "\n",
    "                if row['name'] == name_tif:\n",
    "                        out_image, out_transform = mask(src,row['geometry'], crop=True)\n",
    "                        out_meta = src.profile.copy()\n",
    "                        out_meta.update({\n",
    "                                        \"height\": out_image.shape[1],\n",
    "                                        \"width\": out_image.shape[2],\n",
    "                                        \"transform\": out_transform})\n",
    "                        \n",
    "                        df_row = pd.DataFrame([band.flatten() for band in out_image]).transpose()\n",
    "                        df_row.columns = [\"r\",\"g\",\"b\",\"i\",\"ndvi\",\"height\"]\n",
    "                        df_row['label'] = row[\"Label\"]\n",
    "                        df_row['image'] = path_to_tif.split(\"/\")[-1]\n",
    "                        df = df.append(df_row)\n",
    "                        \n",
    "        src.close()\n",
    "        df = df[df['r'] != 0].reset_index().drop(['index'],axis=1)\n",
    "        print(len(df))\n",
    "\n",
    "        return df"
   ]
  },
  {
   "cell_type": "code",
   "execution_count": 6,
   "metadata": {},
   "outputs": [],
   "source": [
    "def __get_season_for_month(month):\n",
    "    \"\"\"\n",
    "        This method get the season for a specific month for a number of a month.\n",
    "\n",
    "        @param month: A month in number\n",
    "        @return the season in string format, and the season in string format.\n",
    "    \"\"\"\n",
    "    \n",
    "    season = int(month)%12 // 3 + 1\n",
    "    season_str = \"\"\n",
    "    if season == 1:\n",
    "        season_str = \"Winter\"\n",
    "    if season == 2:\n",
    "        season_str = \"Spring\"\n",
    "    if season == 3:\n",
    "        season_str = \"Summer\"\n",
    "    if season == 4 :\n",
    "        season_str = \"Fall\"\n",
    " \n",
    "    return season_str"
   ]
  },
  {
   "cell_type": "code",
   "execution_count": null,
   "metadata": {},
   "outputs": [],
   "source": [
    "df = pd.DataFrame([])\n",
    "for file in glob.glob(\"./data/Voornes Duin/*/*ndvi_height.tif\"): #path to the satellite image\n",
    "    df_numbers = pd.DataFrame([])\n",
    "    path_to_tif = file.replace(\"\\\\\",\"/\")\n",
    "    print(file)\n",
    "    path_to_polygons = './data/annotations/annotaties_VoornesDuin_polygoon.geojson' #path to the annotations file\n",
    "\n",
    "    df = df.append(extract_dataframe_pixels_values_from_tif_and_polygons(path_to_tif, path_to_polygons))\n",
    "    df.reset_index().drop(['index'],axis=1)"
   ]
  },
  {
   "cell_type": "code",
   "execution_count": null,
   "metadata": {},
   "outputs": [],
   "source": [
    "df.groupby(\"label\").mean()"
   ]
  },
  {
   "cell_type": "code",
   "execution_count": 9,
   "metadata": {},
   "outputs": [],
   "source": [
    "df['label'] =df['label'].str.replace(\"zand\",\"Zand\")\n",
    "df['label'] =df['label'].str.replace(\"struweel\",\"Struweel\")\n",
    "df['label'] =df['label'].str.replace(\"bos\",\"Bos\")\n",
    "df['label'] =df['label'].str.replace(\"duinvallei\",\"Vochtige duinvallei\")\n",
    "df['label'] =df['label'].str.replace(\"laag gras\",\"Laag gras\")\n",
    "df['label'] =df['label'].str.replace(\"water\",\"Water\")\n",
    "df['label'] =df['label'].str.replace(\"struwee\",\"Struweel\")\n",
    "df['label'] =df['label'].str.replace(\"duin vallei\",\"Vochtige duinvallei\")\n",
    "df['label'] =df['label'].str.replace(\"laag vegetatie\",\"Laag gras\")\n",
    "df['label'] =df['label'].str.replace(\"lssg gras\",\"Laag gras\")\n",
    "df['label'] =df['label'].str.replace(\"laag vegatatie\",\"Laag gras\")"
   ]
  },
  {
   "cell_type": "code",
   "execution_count": null,
   "metadata": {},
   "outputs": [],
   "source": [
    "df.groupby(\"label\").mean()"
   ]
  },
  {
   "cell_type": "code",
   "execution_count": 11,
   "metadata": {},
   "outputs": [],
   "source": [
    "df['date'] = df['image'].str[0:15]"
   ]
  },
  {
   "cell_type": "code",
   "execution_count": 12,
   "metadata": {},
   "outputs": [],
   "source": [
    "df['date'] = df['date'].astype(str)"
   ]
  },
  {
   "cell_type": "code",
   "execution_count": null,
   "metadata": {},
   "outputs": [],
   "source": [
    "df['season'] = df['image'].str[4:6].apply(__get_season_for_month)\n",
    "df"
   ]
  },
  {
   "cell_type": "code",
   "execution_count": 15,
   "metadata": {},
   "outputs": [],
   "source": [
    "#save dataframe\n",
    "df.to_pickle(\"VoornesDuin_polyg2pixel_new.pkl\")"
   ]
  },
  {
   "cell_type": "markdown",
   "metadata": {},
   "source": [
    "### Normalise dataframe"
   ]
  },
  {
   "cell_type": "code",
   "execution_count": null,
   "metadata": {},
   "outputs": [],
   "source": [
    "df = pd.read_pickle(\"VoornesDuin_polyg2pixel_new.pkl\")\n",
    "df"
   ]
  },
  {
   "cell_type": "code",
   "execution_count": 16,
   "metadata": {},
   "outputs": [],
   "source": [
    "df_scaled = df.copy()"
   ]
  },
  {
   "cell_type": "code",
   "execution_count": null,
   "metadata": {},
   "outputs": [],
   "source": [
    "for date in df_scaled['date'].unique():\n",
    "    print(date)\n",
    "    \n",
    "    ahn_type = \"./scalers/ahn4.save\"\n",
    "\n",
    "    a_normalize_scaler_class_all = scaler_class_all(scaler_file_band1 = glob.glob(\"./scalers/\"+date.split(\" \")[0]+\"*band1*\")[0].replace(\"\\\\\",\"/\"), \\\n",
    "                                                    scaler_file_band2 = glob.glob(\"./scalers/\"+date.split(\" \")[0]+\"*band2*\")[0].replace(\"\\\\\",\"/\"), \\\n",
    "                                                    scaler_file_band3 = glob.glob(\"./scalers/\"+date.split(\" \")[0]+\"*band3*\")[0].replace(\"\\\\\",\"/\"), \\\n",
    "                                                    scaler_file_band4 = glob.glob(\"./scalers/\"+date.split(\" \")[0]+\"*band4*\")[0].replace(\"\\\\\",\"/\"), \\\n",
    "                                                    scaler_file_band5 = glob.glob(\"./scalers/\"+date.split(\" \")[0]+\"*band5*\")[0].replace(\"\\\\\",\"/\"), \\\n",
    "                                                    scaler_file_band6 = ahn_type)\n",
    "    \n",
    "    df_scaled[df_scaled['date'] == date] = a_normalize_scaler_class_all.transform(df_scaled[df_scaled['date'] == date], col_names=[\"r\",\"g\",\"b\",\"i\",'ndvi','height'])"
   ]
  },
  {
   "cell_type": "code",
   "execution_count": null,
   "metadata": {},
   "outputs": [],
   "source": [
    "df_scaled.groupby(\"label\").median()"
   ]
  },
  {
   "cell_type": "code",
   "execution_count": 22,
   "metadata": {},
   "outputs": [],
   "source": [
    "#save scaled dataframe\n",
    "df_scaled.to_pickle(\"VoornesDuin_polyg2pixel_scaled_new.pkl\")"
   ]
  },
  {
   "cell_type": "markdown",
   "metadata": {},
   "source": [
    "### Check multicollinearity between independent variables"
   ]
  },
  {
   "cell_type": "code",
   "execution_count": null,
   "metadata": {},
   "outputs": [],
   "source": [
    "df_scaled = pd.read_pickle(\"VoornesDuin_polyg2pixel_scaled_new.pkl\")\n",
    "df_scaled\n"
   ]
  },
  {
   "cell_type": "code",
   "execution_count": null,
   "metadata": {},
   "outputs": [],
   "source": [
    "#using correlation coeficient\n",
    "df_scaled[['r','g','b','i','ndvi','height']].corr()"
   ]
  },
  {
   "cell_type": "code",
   "execution_count": null,
   "metadata": {},
   "outputs": [],
   "source": [
    "#correlation with dependent variable\n",
    "data_dummy = pd.get_dummies(df_scaled[['r','g','b','i','ndvi','height','label']], prefix=None, prefix_sep='_', dummy_na=False, columns=None, \n",
    "sparse=False, drop_first=False, dtype=None)\n",
    "data_dummy"
   ]
  },
  {
   "cell_type": "code",
   "execution_count": null,
   "metadata": {},
   "outputs": [],
   "source": [
    "data_dummy.corr()#method='pearson'(default)"
   ]
  },
  {
   "cell_type": "code",
   "execution_count": null,
   "metadata": {},
   "outputs": [],
   "source": [
    "#using variance inflation factor\n",
    "X = df_scaled[['r','g','b','i','ndvi','height']]\n",
    "  \n",
    "# VIF dataframe\n",
    "vif_data = pd.DataFrame()\n",
    "vif_data[\"feature\"] = X.columns\n",
    "  \n",
    "# calculating VIF for each feature\n",
    "vif_data[\"VIF\"] = [variance_inflation_factor(X.values, i)\n",
    "                          for i in range(len(X.columns))]\n",
    "  \n",
    "print(vif_data)"
   ]
  },
  {
   "cell_type": "code",
   "execution_count": null,
   "metadata": {},
   "outputs": [],
   "source": [
    "#test without green\n",
    "X = df_scaled[['r','b','i','ndvi','height']]\n",
    "  \n",
    "# VIF dataframe\n",
    "vif_data = pd.DataFrame()\n",
    "vif_data[\"feature\"] = X.columns\n",
    "  \n",
    "# calculating VIF for each feature\n",
    "vif_data[\"VIF\"] = [variance_inflation_factor(X.values, i)\n",
    "                          for i in range(len(X.columns))]\n",
    "  \n",
    "print(vif_data)"
   ]
  },
  {
   "cell_type": "code",
   "execution_count": null,
   "metadata": {},
   "outputs": [],
   "source": [
    "#test without red\n",
    "X = df_scaled[['b','i','ndvi','height']]\n",
    "  \n",
    "# VIF dataframe\n",
    "vif_data = pd.DataFrame()\n",
    "vif_data[\"feature\"] = X.columns\n",
    "  \n",
    "# calculating VIF for each feature\n",
    "vif_data[\"VIF\"] = [variance_inflation_factor(X.values, i)\n",
    "                          for i in range(len(X.columns))]\n",
    "  \n",
    "print(vif_data)"
   ]
  },
  {
   "cell_type": "code",
   "execution_count": null,
   "metadata": {},
   "outputs": [],
   "source": [
    "#test without infra-red (best results)\n",
    "X = df_scaled[['b','ndvi','height']]\n",
    "  \n",
    "# VIF dataframe\n",
    "vif_data = pd.DataFrame()\n",
    "vif_data[\"feature\"] = X.columns\n",
    "  \n",
    "# calculating VIF for each feature\n",
    "vif_data[\"VIF\"] = [variance_inflation_factor(X.values, i)\n",
    "                          for i in range(len(X.columns))]\n",
    "  \n",
    "print(vif_data)"
   ]
  }
 ],
 "metadata": {
  "kernelspec": {
   "display_name": "Python 3.9.12 ('remote_sensing_voorspelingen')",
   "language": "python",
   "name": "python3"
  },
  "language_info": {
   "codemirror_mode": {
    "name": "ipython",
    "version": 3
   },
   "file_extension": ".py",
   "mimetype": "text/x-python",
   "name": "python",
   "nbconvert_exporter": "python",
   "pygments_lexer": "ipython3",
   "version": "3.9.12"
  },
  "orig_nbformat": 4,
  "vscode": {
   "interpreter": {
    "hash": "2cb1ec6dcd5a6ab2905b154621f89ae3ac2e76c5c8088d5b9b78b98be99de6d3"
   }
  }
 },
 "nbformat": 4,
 "nbformat_minor": 2
}
