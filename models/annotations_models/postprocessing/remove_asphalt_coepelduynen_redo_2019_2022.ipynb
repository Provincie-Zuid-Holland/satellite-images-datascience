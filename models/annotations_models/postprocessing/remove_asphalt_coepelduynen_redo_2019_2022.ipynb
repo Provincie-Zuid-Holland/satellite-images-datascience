{
 "cells": [
  {
   "cell_type": "code",
   "execution_count": 16,
   "metadata": {},
   "outputs": [],
   "source": [
    "import geopandas as gpd\n",
    "import glob\n",
    "import rasterio\n",
    "import matplotlib.pyplot as plt\n",
    "import numpy as np"
   ]
  },
  {
   "cell_type": "code",
   "execution_count": 17,
   "metadata": {},
   "outputs": [
    {
     "name": "stdout",
     "output_type": "stream",
     "text": [
      "E:/output/Coepelduynen_segmentations\\20190302_105726_SV1-01_50cm_RD_11bit_RGBI_Warmond_natura2000_coepelduynen_cropped_ndvi_height_randomforest_classifier_v1_3.shp\n",
      "E:/output/Coepelduynen_segmentations\\20190302_105829_SV1-01_50cm_RD_11bit_RGBI_KatwijkAanZee_natura2000_coepelduynen_cropped_ndvi_height_randomforest_classifier_v1_3.shp\n",
      "E:/output/Coepelduynen_segmentations\\20190308_111644_SV1-01_50cm_RD_11bit_RGBI_Oegstgeest_natura2000_coepelduynen_cropped_ndvi_height_randomforest_classifier_v1_3.shp\n",
      "E:/output/Coepelduynen_segmentations\\20190422_111335_SV1-01_50cm_RD_11bit_RGBI_Oegstgeest_natura2000_coepelduynen_cropped_ndvi_height_randomforest_classifier_v1_3.shp\n",
      "E:/output/Coepelduynen_segmentations\\20190601_105844_SV1-04_50cm_RD_11bit_RGBI_KatwijkAanZee_natura2000_coepelduynen_cropped_ndvi_height_randomforest_classifier_v1_3.shp\n",
      "E:/output/Coepelduynen_segmentations\\20191130_110721_SV1-01_50cm_RD_11bit_RGBI_Rijnsburg_natura2000_coepelduynen_cropped_ndvi_height_randomforest_classifier_v1_3.shp\n",
      "E:/output/Coepelduynen_segmentations\\20191202_110525_SV1-04_50cm_RD_11bit_RGBI_KatwijkAanZee_natura2000_coepelduynen_cropped_ndvi_height_randomforest_classifier_v1_3.shp\n",
      "E:/output/Coepelduynen_segmentations\\20200304_114601_SV1-02_SV_RD_11bit_RGBI_50cm_Oegstgeest_natura2000_coepelduynen_cropped_ndvi_height_randomforest_classifier_v1_3.shp\n",
      "E:/output/Coepelduynen_segmentations\\20200323_112115_SV1-03_SV_RD_11bit_RGBI_50cm_Oegstgeest_natura2000_coepelduynen_cropped_ndvi_height_randomforest_classifier_v1_3.shp\n",
      "E:/output/Coepelduynen_segmentations\\20200326_114323_SV1-02_SV_RD_11bit_RGBI_50cm_Oegstgeest_natura2000_coepelduynen_cropped_ndvi_height_randomforest_classifier_v1_3.shp\n",
      "E:/output/Coepelduynen_segmentations\\20200508_110812_SV1-01_SV_RD_11bit_RGBI_50cm_Rijnsburg_natura2000_coepelduynen_cropped_ndvi_height_randomforest_classifier_v1_3.shp\n",
      "E:/output/Coepelduynen_segmentations\\20200625_112015_SV1-03_SV_RD_11bit_RGBI_50cm_Rijnsburg_natura2000_coepelduynen_cropped_ndvi_height_randomforest_classifier_v1_3.shp\n",
      "E:/output/Coepelduynen_segmentations\\20200731_112003_SV1-03_SV_RD_11bit_RGBI_50cm_Rijnsburg_natura2000_coepelduynen_cropped_ndvi_height_randomforest_classifier_v1_3.shp\n",
      "E:/output/Coepelduynen_segmentations\\20200915_112329_SV1-04_SV_RD_11bit_RGBI_50cm_KatwijkAanZee_natura2000_coepelduynen_cropped_ndvi_height_randomforest_classifier_v1_3.shp\n",
      "E:/output/Coepelduynen_segmentations\\20201231_105943_SV1-01_SV_RD_11bit_RGBI_50cm_KatwijkAanZee_natura2000_coepelduynen_cropped_ndvi_height_randomforest_classifier_v1_3.shp\n",
      "E:/output/Coepelduynen_segmentations\\20210302_111247_SV1-03_SV_RD_11bit_RGBI_50cm_KatwijkAanZee_natura2000_coepelduynen_cropped_ndvi_height_randomforest_classifier_v1_3.shp\n",
      "E:/output/Coepelduynen_segmentations\\20210423_104948_SV1-01_SV_RD_11bit_RGBI_50cm_KatwijkAanZee_natura2000_coepelduynen_cropped_ndvi_height_randomforest_classifier_v1_3.shp\n",
      "E:/output/Coepelduynen_segmentations\\20210709_103835_SV1-01_SV_RD_11bit_RGBI_50cm_KatwijkAanZee_natura2000_coepelduynen_cropped_ndvi_height_randomforest_classifier_v1_3.shp\n",
      "E:/output/Coepelduynen_segmentations\\20210815_111051_SV1-03_SV_RD_11bit_RGBI_50cm_Oegstgeest_natura2000_coepelduynen_cropped_ndvi_height_randomforest_classifier_v1_3.shp\n",
      "E:/output/Coepelduynen_segmentations\\20210907_112017_SV1-04_SV_RD_11bit_RGBI_50cm_KatwijkAanZee_natura2000_coepelduynen_cropped_ndvi_height_randomforest_classifier_v1_3.shp\n",
      "E:/output/Coepelduynen_segmentations\\20220515_113347_SV1-02_SV_RD_11bit_RGBI_50cm_KatwijkAanZee_natura2000_coepelduynen_cropped_ndvi_height_randomforest_classifier_v1_3.shp\n",
      "E:/output/Coepelduynen_segmentations\\20220922_110546_SV2-01_SV_RD_11bit_RGBI_50cm_Voorhout_natura2000_coepelduynen_cropped_ndvi_height_randomforest_classifier_v1_3.shp\n"
     ]
    }
   ],
   "source": [
    "for file in glob.glob(\"E:/output/Coepelduynen_segmentations/*v1_3.shp\"):\n",
    "    print(file)"
   ]
  },
  {
   "cell_type": "code",
   "execution_count": 18,
   "metadata": {},
   "outputs": [],
   "source": [
    "file = \"E:/output/Coepelduynen_segmentations/20190302_105726_SV1-01_50cm_RD_11bit_RGBI_Warmond_natura2000_coepelduynen_cropped_ndvi_height_randomforest_classifier_v1_3.shp\"\n",
    "file = file.replace(\"\\\\\",\"/\")\n"
   ]
  },
  {
   "cell_type": "code",
   "execution_count": 28,
   "metadata": {},
   "outputs": [],
   "source": [
    "adf  = gpd.read_file(file)\n",
    "adf = adf.set_crs(\"EPSG:28992\")"
   ]
  },
  {
   "cell_type": "code",
   "execution_count": 32,
   "metadata": {},
   "outputs": [
    {
     "data": {
      "text/html": [
       "<div>\n",
       "<style scoped>\n",
       "    .dataframe tbody tr th:only-of-type {\n",
       "        vertical-align: middle;\n",
       "    }\n",
       "\n",
       "    .dataframe tbody tr th {\n",
       "        vertical-align: top;\n",
       "    }\n",
       "\n",
       "    .dataframe thead th {\n",
       "        text-align: right;\n",
       "    }\n",
       "</style>\n",
       "<table border=\"1\" class=\"dataframe\">\n",
       "  <thead>\n",
       "    <tr style=\"text-align: right;\">\n",
       "      <th></th>\n",
       "      <th>label</th>\n",
       "      <th>geometry</th>\n",
       "    </tr>\n",
       "  </thead>\n",
       "  <tbody>\n",
       "    <tr>\n",
       "      <th>0</th>\n",
       "      <td>Vegetation</td>\n",
       "      <td>MULTIPOLYGON (((87596.750 469706.250, 87596.75...</td>\n",
       "    </tr>\n",
       "    <tr>\n",
       "      <th>1</th>\n",
       "      <td>Vegetation</td>\n",
       "      <td>MULTIPOLYGON (((87651.250 469614.750, 87651.25...</td>\n",
       "    </tr>\n",
       "    <tr>\n",
       "      <th>2</th>\n",
       "      <td>Vegetation</td>\n",
       "      <td>MULTIPOLYGON (((87574.750 469723.750, 87574.75...</td>\n",
       "    </tr>\n",
       "    <tr>\n",
       "      <th>3</th>\n",
       "      <td>Schaduw</td>\n",
       "      <td>MULTIPOLYGON (((87645.250 469680.750, 87644.75...</td>\n",
       "    </tr>\n",
       "    <tr>\n",
       "      <th>4</th>\n",
       "      <td>Vegetation</td>\n",
       "      <td>MULTIPOLYGON (((87592.750 469711.750, 87592.75...</td>\n",
       "    </tr>\n",
       "    <tr>\n",
       "      <th>5</th>\n",
       "      <td>Water</td>\n",
       "      <td>MULTIPOLYGON (((87979.250 469407.250, 87979.25...</td>\n",
       "    </tr>\n",
       "    <tr>\n",
       "      <th>6</th>\n",
       "      <td>Zand</td>\n",
       "      <td>MULTIPOLYGON (((87633.250 469637.750, 87632.75...</td>\n",
       "    </tr>\n",
       "  </tbody>\n",
       "</table>\n",
       "</div>"
      ],
      "text/plain": [
       "        label                                           geometry\n",
       "0  Vegetation  MULTIPOLYGON (((87596.750 469706.250, 87596.75...\n",
       "1  Vegetation  MULTIPOLYGON (((87651.250 469614.750, 87651.25...\n",
       "2  Vegetation  MULTIPOLYGON (((87574.750 469723.750, 87574.75...\n",
       "3     Schaduw  MULTIPOLYGON (((87645.250 469680.750, 87644.75...\n",
       "4  Vegetation  MULTIPOLYGON (((87592.750 469711.750, 87592.75...\n",
       "5       Water  MULTIPOLYGON (((87979.250 469407.250, 87979.25...\n",
       "6        Zand  MULTIPOLYGON (((87633.250 469637.750, 87632.75..."
      ]
     },
     "execution_count": 32,
     "metadata": {},
     "output_type": "execute_result"
    }
   ],
   "source": [
    "adf"
   ]
  },
  {
   "cell_type": "code",
   "execution_count": 33,
   "metadata": {},
   "outputs": [],
   "source": [
    "adf = adf.replace('Asfalt','Vegetation')\n",
    "adf = adf.replace('Bos','Vegetation')\n",
    "adf = adf.replace('Gras','Vegetation')\n",
    "adf = adf.replace('Struweel','Vegetation')\n",
    "adf = adf.replace('Vochtige duinvallei','Water')"
   ]
  },
  {
   "cell_type": "code",
   "execution_count": 34,
   "metadata": {},
   "outputs": [
    {
     "data": {
      "text/html": [
       "<div>\n",
       "<style scoped>\n",
       "    .dataframe tbody tr th:only-of-type {\n",
       "        vertical-align: middle;\n",
       "    }\n",
       "\n",
       "    .dataframe tbody tr th {\n",
       "        vertical-align: top;\n",
       "    }\n",
       "\n",
       "    .dataframe thead th {\n",
       "        text-align: right;\n",
       "    }\n",
       "</style>\n",
       "<table border=\"1\" class=\"dataframe\">\n",
       "  <thead>\n",
       "    <tr style=\"text-align: right;\">\n",
       "      <th></th>\n",
       "      <th>label</th>\n",
       "      <th>geometry</th>\n",
       "    </tr>\n",
       "  </thead>\n",
       "  <tbody>\n",
       "    <tr>\n",
       "      <th>0</th>\n",
       "      <td>Vegetation</td>\n",
       "      <td>MULTIPOLYGON (((87596.750 469706.250, 87596.75...</td>\n",
       "    </tr>\n",
       "    <tr>\n",
       "      <th>1</th>\n",
       "      <td>Vegetation</td>\n",
       "      <td>MULTIPOLYGON (((87651.250 469614.750, 87651.25...</td>\n",
       "    </tr>\n",
       "    <tr>\n",
       "      <th>2</th>\n",
       "      <td>Vegetation</td>\n",
       "      <td>MULTIPOLYGON (((87574.750 469723.750, 87574.75...</td>\n",
       "    </tr>\n",
       "    <tr>\n",
       "      <th>3</th>\n",
       "      <td>Schaduw</td>\n",
       "      <td>MULTIPOLYGON (((87645.250 469680.750, 87644.75...</td>\n",
       "    </tr>\n",
       "    <tr>\n",
       "      <th>4</th>\n",
       "      <td>Vegetation</td>\n",
       "      <td>MULTIPOLYGON (((87592.750 469711.750, 87592.75...</td>\n",
       "    </tr>\n",
       "    <tr>\n",
       "      <th>5</th>\n",
       "      <td>Water</td>\n",
       "      <td>MULTIPOLYGON (((87979.250 469407.250, 87979.25...</td>\n",
       "    </tr>\n",
       "    <tr>\n",
       "      <th>6</th>\n",
       "      <td>Zand</td>\n",
       "      <td>MULTIPOLYGON (((87633.250 469637.750, 87632.75...</td>\n",
       "    </tr>\n",
       "  </tbody>\n",
       "</table>\n",
       "</div>"
      ],
      "text/plain": [
       "        label                                           geometry\n",
       "0  Vegetation  MULTIPOLYGON (((87596.750 469706.250, 87596.75...\n",
       "1  Vegetation  MULTIPOLYGON (((87651.250 469614.750, 87651.25...\n",
       "2  Vegetation  MULTIPOLYGON (((87574.750 469723.750, 87574.75...\n",
       "3     Schaduw  MULTIPOLYGON (((87645.250 469680.750, 87644.75...\n",
       "4  Vegetation  MULTIPOLYGON (((87592.750 469711.750, 87592.75...\n",
       "5       Water  MULTIPOLYGON (((87979.250 469407.250, 87979.25...\n",
       "6        Zand  MULTIPOLYGON (((87633.250 469637.750, 87632.75..."
      ]
     },
     "execution_count": 34,
     "metadata": {},
     "output_type": "execute_result"
    }
   ],
   "source": [
    "adf"
   ]
  },
  {
   "cell_type": "code",
   "execution_count": 35,
   "metadata": {},
   "outputs": [],
   "source": [
    "coepelduynen_no_ashpalt = gpd.read_file(\"C:/Users/pzhadmin/Documents/natura2000_coepelduynen_no_asphalt.geojson\")"
   ]
  },
  {
   "cell_type": "code",
   "execution_count": 36,
   "metadata": {},
   "outputs": [],
   "source": [
    "adf = adf.dissolve(by='label', as_index=False)"
   ]
  },
  {
   "cell_type": "code",
   "execution_count": 37,
   "metadata": {},
   "outputs": [
    {
     "data": {
      "text/html": [
       "<div>\n",
       "<style scoped>\n",
       "    .dataframe tbody tr th:only-of-type {\n",
       "        vertical-align: middle;\n",
       "    }\n",
       "\n",
       "    .dataframe tbody tr th {\n",
       "        vertical-align: top;\n",
       "    }\n",
       "\n",
       "    .dataframe thead th {\n",
       "        text-align: right;\n",
       "    }\n",
       "</style>\n",
       "<table border=\"1\" class=\"dataframe\">\n",
       "  <thead>\n",
       "    <tr style=\"text-align: right;\">\n",
       "      <th></th>\n",
       "      <th>label</th>\n",
       "      <th>geometry</th>\n",
       "    </tr>\n",
       "  </thead>\n",
       "  <tbody>\n",
       "    <tr>\n",
       "      <th>0</th>\n",
       "      <td>Schaduw</td>\n",
       "      <td>MULTIPOLYGON (((87647.750 469680.750, 87647.25...</td>\n",
       "    </tr>\n",
       "    <tr>\n",
       "      <th>1</th>\n",
       "      <td>Vegetation</td>\n",
       "      <td>MULTIPOLYGON (((87561.250 469731.750, 87561.25...</td>\n",
       "    </tr>\n",
       "    <tr>\n",
       "      <th>2</th>\n",
       "      <td>Water</td>\n",
       "      <td>MULTIPOLYGON (((87978.250 469406.750, 87978.25...</td>\n",
       "    </tr>\n",
       "    <tr>\n",
       "      <th>3</th>\n",
       "      <td>Zand</td>\n",
       "      <td>MULTIPOLYGON (((87632.250 469637.750, 87632.25...</td>\n",
       "    </tr>\n",
       "  </tbody>\n",
       "</table>\n",
       "</div>"
      ],
      "text/plain": [
       "        label                                           geometry\n",
       "0     Schaduw  MULTIPOLYGON (((87647.750 469680.750, 87647.25...\n",
       "1  Vegetation  MULTIPOLYGON (((87561.250 469731.750, 87561.25...\n",
       "2       Water  MULTIPOLYGON (((87978.250 469406.750, 87978.25...\n",
       "3        Zand  MULTIPOLYGON (((87632.250 469637.750, 87632.25..."
      ]
     },
     "execution_count": 37,
     "metadata": {},
     "output_type": "execute_result"
    }
   ],
   "source": [
    "adf"
   ]
  },
  {
   "cell_type": "code",
   "execution_count": 24,
   "metadata": {},
   "outputs": [],
   "source": [
    "adf  = gpd.overlay(adf, coepelduynen_no_ashpalt  , how='intersection')"
   ]
  },
  {
   "cell_type": "code",
   "execution_count": 25,
   "metadata": {},
   "outputs": [
    {
     "data": {
      "text/plain": [
       "<AxesSubplot:>"
      ]
     },
     "execution_count": 25,
     "metadata": {},
     "output_type": "execute_result"
    },
    {
     "data": {
      "image/png": "[encoded data removed]",
      "text/plain": [
       "<Figure size 640x480 with 1 Axes>"
      ]
     },
     "metadata": {},
     "output_type": "display_data"
    }
   ],
   "source": [
    "adf.plot()"
   ]
  },
  {
   "cell_type": "code",
   "execution_count": 26,
   "metadata": {},
   "outputs": [
    {
     "data": {
      "text/html": [
       "<div>\n",
       "<style scoped>\n",
       "    .dataframe tbody tr th:only-of-type {\n",
       "        vertical-align: middle;\n",
       "    }\n",
       "\n",
       "    .dataframe tbody tr th {\n",
       "        vertical-align: top;\n",
       "    }\n",
       "\n",
       "    .dataframe thead th {\n",
       "        text-align: right;\n",
       "    }\n",
       "</style>\n",
       "<table border=\"1\" class=\"dataframe\">\n",
       "  <thead>\n",
       "    <tr style=\"text-align: right;\">\n",
       "      <th></th>\n",
       "      <th>geometry</th>\n",
       "    </tr>\n",
       "  </thead>\n",
       "  <tbody>\n",
       "    <tr>\n",
       "      <th>0</th>\n",
       "      <td>MULTIPOLYGON (((88707.250 470841.250, 88707.75...</td>\n",
       "    </tr>\n",
       "    <tr>\n",
       "      <th>1</th>\n",
       "      <td>MULTIPOLYGON (((88208.750 471000.750, 88208.75...</td>\n",
       "    </tr>\n",
       "    <tr>\n",
       "      <th>2</th>\n",
       "      <td>MULTIPOLYGON (((88541.750 470236.250, 88542.25...</td>\n",
       "    </tr>\n",
       "    <tr>\n",
       "      <th>3</th>\n",
       "      <td>MULTIPOLYGON (((88903.750 470995.750, 88904.25...</td>\n",
       "    </tr>\n",
       "  </tbody>\n",
       "</table>\n",
       "</div>"
      ],
      "text/plain": [
       "                                            geometry\n",
       "0  MULTIPOLYGON (((88707.250 470841.250, 88707.75...\n",
       "1  MULTIPOLYGON (((88208.750 471000.750, 88208.75...\n",
       "2  MULTIPOLYGON (((88541.750 470236.250, 88542.25...\n",
       "3  MULTIPOLYGON (((88903.750 470995.750, 88904.25..."
      ]
     },
     "execution_count": 26,
     "metadata": {},
     "output_type": "execute_result"
    }
   ],
   "source": [
    "adf"
   ]
  },
  {
   "cell_type": "code",
   "execution_count": 38,
   "metadata": {},
   "outputs": [],
   "source": [
    "for file in glob.glob(\"E:/output/Coepelduynen_segmentations/*v1_3.shp\"):\n",
    "    file = file.replace(\"\\\\\",\"/\")\n",
    "    adf = gpd.read_file(file)\n",
    "    adf = adf.set_crs(\"EPSG:28992\") \n",
    "\n",
    "    adf = adf.replace('Asfalt','Vegetation')\n",
    "    adf = adf.replace('Bos','Vegetation')\n",
    "    adf = adf.replace('Gras','Vegetation')\n",
    "    adf = adf.replace('Struweel','Vegetation')\n",
    "    adf = adf.replace('Vochtige duinvallei','Water')\n",
    "\n",
    "    adf = adf.dissolve(by='label', as_index=False)\n",
    "    adf  = gpd.overlay(adf, coepelduynen_no_ashpalt  , how='intersection')\n",
    "    adf.to_file(\"E:/output/Coepelduynen_segmentations_production/\"+file.split(\"/\")[-1].replace(\".shp\",\"_vegetation_sand.shp\"))"
   ]
  },
  {
   "cell_type": "code",
   "execution_count": 15,
   "metadata": {},
   "outputs": [
    {
     "data": {
      "text/html": [
       "<div>\n",
       "<style scoped>\n",
       "    .dataframe tbody tr th:only-of-type {\n",
       "        vertical-align: middle;\n",
       "    }\n",
       "\n",
       "    .dataframe tbody tr th {\n",
       "        vertical-align: top;\n",
       "    }\n",
       "\n",
       "    .dataframe thead th {\n",
       "        text-align: right;\n",
       "    }\n",
       "</style>\n",
       "<table border=\"1\" class=\"dataframe\">\n",
       "  <thead>\n",
       "    <tr style=\"text-align: right;\">\n",
       "      <th></th>\n",
       "      <th>geometry</th>\n",
       "    </tr>\n",
       "  </thead>\n",
       "  <tbody>\n",
       "    <tr>\n",
       "      <th>0</th>\n",
       "      <td>MULTIPOLYGON (((89908.250 472595.250, 89908.25...</td>\n",
       "    </tr>\n",
       "    <tr>\n",
       "      <th>1</th>\n",
       "      <td>MULTIPOLYGON (((88446.750 471021.750, 88446.75...</td>\n",
       "    </tr>\n",
       "    <tr>\n",
       "      <th>2</th>\n",
       "      <td>MULTIPOLYGON (((89888.750 472552.250, 89888.75...</td>\n",
       "    </tr>\n",
       "    <tr>\n",
       "      <th>3</th>\n",
       "      <td>MULTIPOLYGON (((89916.750 472556.750, 89916.75...</td>\n",
       "    </tr>\n",
       "  </tbody>\n",
       "</table>\n",
       "</div>"
      ],
      "text/plain": [
       "                                            geometry\n",
       "0  MULTIPOLYGON (((89908.250 472595.250, 89908.25...\n",
       "1  MULTIPOLYGON (((88446.750 471021.750, 88446.75...\n",
       "2  MULTIPOLYGON (((89888.750 472552.250, 89888.75...\n",
       "3  MULTIPOLYGON (((89916.750 472556.750, 89916.75..."
      ]
     },
     "execution_count": 15,
     "metadata": {},
     "output_type": "execute_result"
    }
   ],
   "source": [
    "adf"
   ]
  }
 ],
 "metadata": {
  "kernelspec": {
   "display_name": "py310",
   "language": "python",
   "name": "python3"
  },
  "language_info": {
   "codemirror_mode": {
    "name": "ipython",
    "version": 3
   },
   "file_extension": ".py",
   "mimetype": "text/x-python",
   "name": "python",
   "nbconvert_exporter": "python",
   "pygments_lexer": "ipython3",
   "version": "3.9.13"
  }
 },
 "nbformat": 4,
 "nbformat_minor": 2
}
