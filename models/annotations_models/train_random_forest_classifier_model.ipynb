{
 "cells": [
  {
   "cell_type": "markdown",
   "metadata": {},
   "source": [
    "# Train Pixel Level Annotation Model\n",
    "\n",
    "### This notebook uses pixel level annotations to train a Random Forest Classifier to predict labels\n",
    "\n",
    "We assume Pixel level annotations are available, as produced by the \"../data/annotations/transform_polygon_annotations_to_pixels.ipynb\" notebook. Feature selection and grid_search for optimal parameters has been done in a separate notebook (\"Coepelduynen/make_train_model_on_annotations_coepelduynen.ipynb\") and those outcomes are taken as given in this notebook.\n",
    "\n",
    "Change the set Variables cell below as desired and then run the entire notebook to get cross_validation results as well as a final model trained on all data.\n",
    "\n",
    "Date: 2024-01-12\\\n",
    "Author: Pieter Kouyzer, Michael de Winter"
   ]
  },
  {
   "cell_type": "code",
   "execution_count": null,
   "metadata": {},
   "outputs": [],
   "source": [
    "%load_ext autoreload\n",
    "%autoreload 2"
   ]
  },
  {
   "cell_type": "code",
   "execution_count": 6,
   "metadata": {},
   "outputs": [
    {
     "name": "stderr",
     "output_type": "stream",
     "text": [
      "2024/08/14 12:55:53 WARNING mlflow.utils.autologging_utils: You are using an unsupported version of sklearn. If you encounter errors during autologging, try upgrading / downgrading sklearn to a supported version, or try upgrading MLflow.\n"
     ]
    }
   ],
   "source": [
    "%matplotlib notebook\n",
    "import pandas as pd\n",
    "import geopandas as gpd\n",
    "import pickle\n",
    "from sklearn.ensemble import RandomForestClassifier\n",
    "from sklearn.preprocessing import StandardScaler\n",
    "import pprint\n",
    "import os\n",
    "from sklearn.model_selection import train_test_split\n",
    "from sklearn.model_selection import KFold, cross_val_score\n",
    "from satellite_images_nso_datascience.training.train import train_imbalanced_model, cross_validation_balance_on_date\n",
    "from satellite_images_nso_datascience.training.utils import get_cross_validation_results_filepath, get_model_filepath\n",
    "from satellite_images_nso_datascience.training.metric_calculation import calculate_average_metrics, get_metrics\n",
    "from sklearn.metrics import f1_score\n",
    "from satellite_images_nso_datascience.other import functions\n",
    "import satellite_images_nso_datascience.model_metrics.custom_model_metrics as custom_model_metrics\n",
    "i\n",
    "\n",
    "data_dir = os.path.abspath(os.path.join(os.getcwd(), '..', '..')).replace(\"\\\\\",\"/\")+\"/data/annotations/annotations_pixel_dataframes/\""
   ]
  },
  {
   "cell_type": "code",
   "execution_count": null,
   "metadata": {},
   "outputs": [],
   "source": [
    "# Set Variables\n",
    "location = \"Nieuwkoopse_plassen\"\n",
    "satellite_constellation = \"PNEO\"\n",
    "\n",
    "if location == \"Voornes Duin\":\n",
    "\n",
    "    if satellite_constellation == \"PNEO\":\n",
    "        # Check if file exists\n",
    "        if not os.path.isfile(data_dir+\"Voornes_Duin_PNEO_2024-01-29_pixel_annotations.parquet\"):\n",
    "            functions.download_file(\"https://e34a505986aa74678a5a0e0f.blob.core.windows.net/satellite-images-nso/Voornes_Duin/annotations_pixel_dataframes/2023_PNEO/Voornes_Duin_PNEO_2024-01-29_pixel_annotations.parquet\", data_dir+\"Voornes_Duin_PNEO_2024-01-29_pixel_annotations.parquet\")\n",
    "\n",
    "        annotated_pixels_filepath = data_dir+\"Voornes_Duin_PNEO_2024-01-29_pixel_annotations.parquet\"\n",
    "\n",
    "    #TODO: Missing Superview here!\n",
    "\n",
    "\n",
    "elif location == \"Coepelduynen\":\n",
    "    if satellite_constellation == \"PNEO\":\n",
    "        # Check if file exists\n",
    "        if not os.path.isfile(data_dir+\"annotaties_coepelduynen_to_pixel_2023.parquet\"):\n",
    "            functions.download_file(\"https://e34a505986aa74678a5a0e0f.blob.core.windows.net/satellite-images-nso/coepelduynen/annotations_pixel_dataframes/annotations_2023_PNEO/annotaties_coepelduynen_to_pixel_2023.parquet\", data_dir+\"annotaties_coepelduynen_to_pixel_2023.parquet\")\n",
    "\n",
    "        annotated_pixels_filepath = data_dir+\"annotaties_coepelduynen_to_pixel_2023.parquet\"\n",
    "        df = pd.read_parquet(annotated_pixels_filepath)\n",
    "\n",
    "    if satellite_constellation == \"Superview\":\n",
    "        # Check if file exists\n",
    "        if not os.path.isfile(data_dir+\"annotaties_coepelduynen_to_pixel.csv\"):\n",
    "            functions.download_file(\"https://e34a505986aa74678a5a0e0f.blob.core.windows.net/satellite-images-nso/coepelduynen/annotations_pixel_dataframes/annotations_2019_2022_Superview/annotaties_coepelduynen_to_pixel.csv\", data_dir+\"annotaties_coepelduynen_to_pixel.csv\")\n",
    "\n",
    "        annotated_pixels_filepath = data_dir+\"annotaties_coepelduynen_to_pixel.csv\"\n",
    "        df = pd.read_parquet(annotated_pixels_filepath)\n",
    "\n",
    "   \n",
    "elif location == \"Schippersgat\":\n",
    "    if satellite_constellation == \"PNEO\":\n",
    "        if not os.path.isfile(data_dir+\"PNEO_waterplanten_annotations.parquet\"):\n",
    "            functions.download_file(\"https://e34a505986aa74678a5a0e0f.blob.core.windows.net/satellite-images-nso/Schippersgat/PNEO_waterplanten_annotations.parquet\", data_dir+\"PNEO_waterplanten_annotations.parquet\")\n",
    "        annotated_pixels_filepath = data_dir+\"PNEO_waterplanten_annotations_schippersgat.parquet\"\n",
    "        df = pd.read_parquet(annotated_pixels_filepath)\n",
    "\n",
    "    if satellite_constellation == \"Superview\":\n",
    "        if not os.path.isfile(data_dir+\"Superview_waterplanten_annotations.parquet\"):\n",
    "            functions.download_file(\"https://e34a505986aa74678a5a0e0f.blob.core.windows.net/satellite-images-nso/Schippersgat/Superview_waterplanten_annotations.parquet\", data_dir+\"Superview_waterplanten_annotations.parquet\")\n",
    "        annotated_pixels_filepath = data_dir+\"Superview_waterplanten_annotations.parquet\"\n",
    "        df = pd.read_parquet(annotated_pixels_filepath)\n",
    "\n",
    "elif location == \"Nieuwkoopse_plassen\":\n",
    "    if satellite_constellation == \"PNEO\":\n",
    "        if not os.path.isfile(data_dir+\"PNEO_waterplanten_annotations.parquet\"):\n",
    "            functions.download_file(\"https://e34a505986aa74678a5a0e0f.blob.core.windows.net/satellite-images-nso/Schippersgat/PNEO_waterplanten_annotations.parquet\", data_dir+\"PNEO_waterplanten_annotations.parquet\")\n",
    "        annotated_pixels_filepath = data_dir+\"PNEO_waterplanten_annotations_schippersgat.parquet\"\n",
    "        df = pd.read_parquet(annotated_pixels_filepath)\n",
    "\n",
    "\n",
    "        df = pd.concat([df, pd.read_parquet(data_dir+\"PNEO_waterplanten_annotations_Nieuwkoopse_Plassen.parquet\")])\n",
    "\n",
    "    if satellite_constellation == \"Superview\":\n",
    "        \n",
    "        if not os.path.isfile(data_dir+\"Superview_waterplanten_annotations.parquet\"):\n",
    "            print(\"Downloading file\")\n",
    "            functions.download_file(\"https://e34a505986aa74678a5a0e0f.blob.core.windows.net/satellite-images-nso/Nieuwkoopse_Plassen/Superview_waterplanten_annotations.parquet\", data_dir+\"Superview_waterplanten_annotations.parquet\")\n",
    "        annotated_pixels_filepath = data_dir+\"Superview_waterplanten_annotations.parquet\"\n",
    "        df = pd.read_parquet(annotated_pixels_filepath)\n",
    "\n",
    "        #TODO: VERY STRANGE REASON THAT NDWI AND NDVI GET FLIPPED WHILE READING IN DATA!!!!!!!!!!!!!!!!!!!!\n",
    "        df = df.rename(columns={'ndvi': 'ndwi', 'ndwi': 'ndvi'})"
   ]
  },
  {
   "cell_type": "code",
   "execution_count": null,
   "metadata": {},
   "outputs": [],
   "source": [
    "# Optimal parameters and features Voornes\n",
    "if location == \"Voornes Duin\":\n",
    "    selected_features = ['r', 'g', 'b', 'n', 'e', 'd', 'ndvi','re_ndvi', 'height']\n",
    "    optimal_parameters = {\n",
    "        \"n_estimators\": 10, \n",
    "        \"min_samples_split\": 5, \n",
    "        \"min_samples_leaf\": 1,\n",
    "        \"max_features\": \"auto\", \n",
    "        \"bootstrap\": False\n",
    "    }\n",
    "\n",
    "elif location == \"Coepelduynen\":\n",
    "    # Optimal parameters and features\n",
    "    selected_features = ['r','g','b','n','e','d','ndvi','re_ndvi']\n",
    "    optimal_parameters = {\n",
    "        \"n_estimators\": 10, \n",
    "        \"min_samples_split\": 5, \n",
    "        \"min_samples_leaf\": 1,\n",
    "        \"bootstrap\": False\n",
    "    }\n",
    "\n",
    "elif location == \"Schippersgat\" and satellite_constellation == \"Superview\":\n",
    "    # Optimal parameters and features\n",
    "    selected_features = ['r', 'g', 'b', 'i', 'ndvi', 'height']\n",
    "    optimal_parameters = {\n",
    "        \"n_estimators\": 10, \n",
    "        \"min_samples_split\": 5, \n",
    "        \"min_samples_leaf\": 1,\n",
    "        \"bootstrap\": False\n",
    "    }\n",
    "\n",
    "elif location == \"Schippersgat\" and satellite_constellation == \"PNEO\":\n",
    "    # Optimal parameters and features\n",
    "    selected_features = ['r', 'g', 'b', 'n', 'e', 'd','ndvi', 're_ndvi']\n",
    "    optimal_parameters = {\n",
    "        \"n_estimators\": 10, \n",
    "        \"min_samples_split\": 5, \n",
    "        \"min_samples_leaf\": 1,\n",
    "        \"bootstrap\": False\n",
    "    }\n",
    "\n",
    "\n",
    "elif location == \"Nieuwkoopse_plassen\" and satellite_constellation == \"PNEO\":\n",
    "    # Optimal parameters and features\n",
    "    selected_features = ['r', 'g', 'b', 'n', 'e', 'd','ndvi', 're_ndvi']\n",
    "    optimal_parameters = {\n",
    "        \"n_estimators\": 1, \n",
    "        \"min_samples_split\": 2, \n",
    "        \"min_samples_leaf\": 1,\n",
    "        \"bootstrap\": False\n",
    "    }\n",
    "\n",
    "elif location == \"Nieuwkoopse_plassen\" and satellite_constellation == \"Superview\":\n",
    "    # Optimal parameters and features\n",
    "    selected_features = ['r', 'g', 'b', 'i', 'ndvi', 'ndwi']\n",
    "    optimal_parameters = {\n",
    "        \"n_estimators\": 1, \n",
    "        \"min_samples_split\": 2, \n",
    "        \"min_samples_leaf\": 1,\n",
    "        \"bootstrap\": True\n",
    "    }"
   ]
  },
  {
   "cell_type": "code",
   "execution_count": null,
   "metadata": {},
   "outputs": [],
   "source": [
    "# This is to give an indication of the amount of data points per label\n",
    "df['label'].value_counts()"
   ]
  },
  {
   "cell_type": "code",
   "execution_count": null,
   "metadata": {},
   "outputs": [],
   "source": [
    "# Experiment to test if downsampling of Water is necessary.\n",
    "#df = pd.concat([df[df[\"label\"] == \"Water\"].sample(1719330, random_state=1), df[df[\"label\"] == \"Ground\"], df[df[\"label\"] == \"Waterplants\"]])"
   ]
  },
  {
   "cell_type": "markdown",
   "metadata": {},
   "source": [
    "### Cross Validation\n",
    "\n",
    "We do cross-validation, where the folds are decided by the 'date' column. This is to avoid pixels from the same image from ending up in both the train and test datasets. We display the metrics averaged over the folds and write the results to a pickle."
   ]
  },
  {
   "cell_type": "code",
   "execution_count": null,
   "metadata": {},
   "outputs": [],
   "source": [
    "model = RandomForestClassifier(**optimal_parameters)\n",
    "scaler = StandardScaler()"
   ]
  },
  {
   "cell_type": "code",
   "execution_count": null,
   "metadata": {},
   "outputs": [],
   "source": [
    "if location == \"Voornes Duin\":\n",
    "    cv =5 \n",
    "    random_state = 1337\n",
    "    sampling_type_boundary = 100000\n",
    "elif location == \"Coepelduynen\":\n",
    "    cv =4 \n",
    "    random_state = 1337\n",
    "    sampling_type_boundary = 898609\n",
    "elif location == \"Schippersgat\":\n",
    "    cv =2\n",
    "    random_state = 1337\n",
    "    sampling_type_boundary = 898609\n",
    "\n",
    "elif location == \"Nieuwkoopse_plassen\":\n",
    "    cv = 7\n",
    "    random_state = 1337\n",
    "    sampling_type_boundary = 898609"
   ]
  },
  {
   "cell_type": "code",
   "execution_count": null,
   "metadata": {},
   "outputs": [],
   "source": [
    "df['date'] = df['date'].str.split('_').str[0]"
   ]
  },
  {
   "cell_type": "code",
   "execution_count": null,
   "metadata": {},
   "outputs": [],
   "source": [
    "results = cross_validation_balance_on_date(data=df, model=model, cv=cv, features=selected_features, random_state=random_state, sampling_type_boundary=sampling_type_boundary , scaler=scaler)"
   ]
  },
  {
   "cell_type": "code",
   "execution_count": null,
   "metadata": {},
   "outputs": [],
   "source": [
    "calculate_average_metrics(results=results)"
   ]
  },
  {
   "cell_type": "code",
   "execution_count": null,
   "metadata": {},
   "outputs": [],
   "source": [
    "cross_validation_results_filepath = get_cross_validation_results_filepath(location=location, satellite_constellation=satellite_constellation, df=df)\n",
    "print(f\"Saving to {cross_validation_results_filepath}\")\n",
    "with open(cross_validation_results_filepath, \"wb\") as file:\n",
    "    pickle.dump(results, file)"
   ]
  },
  {
   "cell_type": "markdown",
   "metadata": {},
   "source": [
    "## Cross validation randomised"
   ]
  },
  {
   "cell_type": "code",
   "execution_count": null,
   "metadata": {},
   "outputs": [],
   "source": [
    "# Initialize KFold\n",
    "kf = KFold(n_splits=4, shuffle=True, random_state=42)\n",
    "\n",
    "scores = cross_val_score(model, df[selected_features], df[\"label\"], cv=kf)"
   ]
  },
  {
   "cell_type": "code",
   "execution_count": null,
   "metadata": {},
   "outputs": [],
   "source": [
    "scores"
   ]
  },
  {
   "cell_type": "markdown",
   "metadata": {},
   "source": [
    "### Try some unbalanced models"
   ]
  },
  {
   "cell_type": "code",
   "execution_count": null,
   "metadata": {},
   "outputs": [],
   "source": [
    "unbalanced_model = RandomForestClassifier(**optimal_parameters)\n",
    "unblanced_final_scaler = StandardScaler()"
   ]
  },
  {
   "cell_type": "code",
   "execution_count": null,
   "metadata": {},
   "outputs": [],
   "source": [
    "unbalanced_model.fit(unblanced_final_scaler.fit_transform(df[selected_features]), df['label'])"
   ]
  },
  {
   "cell_type": "code",
   "execution_count": null,
   "metadata": {},
   "outputs": [],
   "source": [
    "f1_score(unbalanced_model.predict(unblanced_final_scaler.transform(df[selected_features])), df[\"label\"], average=None)"
   ]
  },
  {
   "cell_type": "code",
   "execution_count": null,
   "metadata": {},
   "outputs": [],
   "source": [
    "final_artefact = {\n",
    "    \"model\": unbalanced_model,\n",
    "    \"scaler\": unblanced_final_scaler\n",
    "}"
   ]
  },
  {
   "cell_type": "markdown",
   "metadata": {},
   "source": [
    "### Export Definitive model.\n",
    "\n",
    "Trains a Random Forest Classifier model on all data and writes it to a pickle file for later use. This is the definitive model output by this notebook."
   ]
  },
  {
   "cell_type": "code",
   "execution_count": null,
   "metadata": {},
   "outputs": [],
   "source": [
    "final_model = RandomForestClassifier(**optimal_parameters)\n",
    "final_scaler = StandardScaler()\n",
    "\n",
    "train_imbalanced_model(\n",
    "    X_train=df[selected_features], \n",
    "    y_train=df[\"label\"], \n",
    "    model=final_model, \n",
    "    random_state=1337, \n",
    "    sampling_type_boundary=sampling_type_boundary ,\n",
    "    scaler=final_scaler\n",
    ")\n",
    "pprint.pprint(get_metrics(y=df[\"label\"], X=df[selected_features], model=final_model, scaler=final_scaler))"
   ]
  },
  {
   "cell_type": "code",
   "execution_count": null,
   "metadata": {},
   "outputs": [],
   "source": [
    "final_artefact = {\n",
    "    \"model\": final_model,\n",
    "    \"scaler\": final_scaler\n",
    "}"
   ]
  },
  {
   "cell_type": "code",
   "execution_count": null,
   "metadata": {},
   "outputs": [],
   "source": [
    "final_model_filepath =get_model_filepath(location=location, satellite_constellation=satellite_constellation, df=df).replace(\".sav\",\"_test.sav\").replace(\"..\",\"C:/repos/satellite-images-nso-datascience/\")\n",
    "print(f\"Saving to {final_model_filepath}\")\n",
    "with open(final_model_filepath, \"wb\") as file:\n",
    "    pickle.dump(final_artefact, file)"
   ]
  },
  {
   "cell_type": "markdown",
   "metadata": {},
   "source": [
    "# Custom Model Metrics\n",
    "\n"
   ]
  },
  {
   "cell_type": "code",
   "execution_count": null,
   "metadata": {},
   "outputs": [],
   "source": [
    "final_artefact = pickle.load(open(final_model_filepath, \"rb\"))\n",
    "nk_plassen_metrics = custom_model_metrics.custom_model_metrics(final_artefact['model'], final_artefact['scaler'], \"Nieuwkoopse_plassen\", \"Superview\")"
   ]
  },
  {
   "cell_type": "code",
   "execution_count": 5,
   "metadata": {},
   "outputs": [],
   "source": [
    "nk_plassen_metrics.metric_difficult_pixels()"
   ]
  },
  {
   "cell_type": "code",
   "execution_count": 6,
   "metadata": {},
   "outputs": [
    {
     "data": {
      "text/plain": [
       "'Error'"
      ]
     },
     "execution_count": 6,
     "metadata": {},
     "output_type": "execute_result"
    }
   ],
   "source": []
  },
  {
   "cell_type": "markdown",
   "metadata": {},
   "source": [
    "# NDWI and NDVI do not match, somehow gets twisted, do not forget this!"
   ]
  },
  {
   "cell_type": "code",
   "execution_count": null,
   "metadata": {},
   "outputs": [],
   "source": [
    "df[(df[\"rd_y\"]  == 463906.25) & (df[\"rd_x\"] == 117219.25)][selected_features]"
   ]
  },
  {
   "cell_type": "code",
   "execution_count": null,
   "metadata": {},
   "outputs": [],
   "source": [
    "df_annotated_export_data[(df_annotated_export_data[\"rd_y\"]  == 463906.25) & (df_annotated_export_data[\"rd_x\"] == 117219.25)][selected_features]"
   ]
  },
  {
   "cell_type": "code",
   "execution_count": null,
   "metadata": {},
   "outputs": [],
   "source": [
    "final_model.predict(final_scaler.transform(df_annotated_export_data[(df_annotated_export_data[\"rd_y\"]  == 463906.25) & (df_annotated_export_data[\"rd_x\"] == 117219.25)][selected_features]))"
   ]
  }
 ],
 "metadata": {
  "kernelspec": {
   "display_name": "Python 3 (ipykernel)",
   "language": "python",
   "name": "python3"
  },
  "language_info": {
   "codemirror_mode": {
    "name": "ipython",
    "version": 3
   },
   "file_extension": ".py",
   "mimetype": "text/x-python",
   "name": "python",
   "nbconvert_exporter": "python",
   "pygments_lexer": "ipython3",
   "version": "3.12.1"
  },
  "vscode": {
   "interpreter": {
    "hash": "67395a7eb8a935452fa20e0b395ee9a62415ad9a4d24c55126a2521c0eaca680"
   }
  }
 },
 "nbformat": 4,
 "nbformat_minor": 2
}
