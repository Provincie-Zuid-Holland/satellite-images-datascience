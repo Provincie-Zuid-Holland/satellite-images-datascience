{
 "cells": [
  {
   "cell_type": "code",
   "execution_count": 1,
   "metadata": {},
   "outputs": [],
   "source": [
    "import rasterio\n",
    "from sklearn.preprocessing import StandardScaler\n",
    "import pickle\n",
    "import glob\n",
    "from nso_ds_classes.nso_ds_normalize_scaler import scaler_class_all"
   ]
  },
  {
   "cell_type": "code",
   "execution_count": 2,
   "metadata": {},
   "outputs": [],
   "source": [
    "# Settings Voornesduinen.\n",
    "folder_path = \"E:/Data/remote_sensing/satellite-images/PNEO_30CM/Voornes Duin/\"\n",
    "directory_regex = folder_path + \"*_asphalt_crop.tif\""
   ]
  },
  {
   "cell_type": "code",
   "execution_count": 3,
   "metadata": {},
   "outputs": [],
   "source": [
    "# Setting Coepelduynen.\n",
    "folder_path = \"E:/data/coepelduynen/\"\n",
    "directory_regex = folder_path + \"2023*ndvi*_asphalt_crop.tif\"\n",
    "\n",
    "column_names = \t['r', 'g', 'b', 'n', 'e', 'd', 'ndvi', 're_ndvi']"
   ]
  },
  {
   "cell_type": "code",
   "execution_count": 8,
   "metadata": {},
   "outputs": [
    {
     "name": "stdout",
     "output_type": "stream",
     "text": [
      "E:/data/coepelduynen/20230402_105321_PNEO-03_1_49_30cm_RD_12bit_RGBNED_Zoeterwoude_natura2000_coepelduynen_cropped_ndvi_asphalt_crop.tif\n",
      "1\n",
      "2\n",
      "3\n",
      "4\n",
      "5\n",
      "6\n",
      "7\n",
      "E:/data/coepelduynen/20230402_105321_PNEO-03_1_49_30cm_RD_12bit_RGBNED_Zoeterwoude_natura2000_coepelduynen_cropped_ndvi_re_ndvi_asphalt_crop.tif\n",
      "1\n",
      "2\n",
      "3\n",
      "4\n",
      "5\n",
      "6\n",
      "7\n",
      "8\n",
      "E:/data/coepelduynen/20230513_104139_PNEO-03_1_1_30cm_RD_12bit_RGBNED_NoordwijkAanZee_natura2000_coepelduynen_cropped_ndvi_re_ndvi_asphalt_crop.tif\n",
      "1\n",
      "2\n",
      "3\n",
      "4\n",
      "5\n",
      "6\n",
      "7\n",
      "8\n",
      "E:/data/coepelduynen/20230601_105710_PNEO-04_1_1_30cm_RD_12bit_RGBNED_Rijnsburg_natura2000_coepelduynen_cropped_ndvi_asphalt_crop.tif\n",
      "1\n",
      "2\n",
      "3\n",
      "4\n",
      "5\n",
      "6\n",
      "7\n",
      "E:/data/coepelduynen/20230601_105710_PNEO-04_1_1_30cm_RD_12bit_RGBNED_Rijnsburg_natura2000_coepelduynen_cropped_ndvi_re_ndvi_asphalt_crop.tif\n",
      "1\n",
      "2\n",
      "3\n",
      "4\n",
      "5\n",
      "6\n",
      "7\n",
      "8\n",
      "E:/data/coepelduynen/20230908_110020_PNEO-04_1_1_30cm_RD_12bit_RGBNED_Rijnsburg_natura2000_coepelduynen_cropped_ndvi_asphalt_crop.tif\n",
      "1\n",
      "2\n",
      "3\n",
      "4\n",
      "5\n"
     ]
    }
   ],
   "source": [
    "for file in glob.glob(directory_regex):\n",
    "    filename = file.replace(\"\\\\\",\"/\")\n",
    "\n",
    "    print(filename)\n",
    "    dataset = rasterio.open(filename)\n",
    "    \n",
    "    band_scalers = []\n",
    "    for band in range(1,dataset.count+1):\n",
    "        print(band)\n",
    "        band_scalers += [StandardScaler().fit(dataset.read(band).reshape(-1, 1))]\n",
    "\n",
    "    with open(\"C:/repos/satellite-images-nso-datascience/scalers/\"+filename.split(\"/\")[-1].split(\"_\")[0]+\"_StandardScaler.pkl\", 'wb') as file:\n",
    "        ascaler = scaler_class_all(band_scalers,column_names)\n",
    "        pickle.dump(ascaler, file)"
   ]
  }
 ],
 "metadata": {
  "kernelspec": {
   "display_name": "Python 3 (ipykernel)",
   "language": "python",
   "name": "python3"
  },
  "language_info": {
   "codemirror_mode": {
    "name": "ipython",
    "version": 3
   },
   "file_extension": ".py",
   "mimetype": "text/x-python",
   "name": "python",
   "nbconvert_exporter": "python",
   "pygments_lexer": "ipython3",
   "version": "3.12.1"
  },
  "vscode": {
   "interpreter": {
    "hash": "67395a7eb8a935452fa20e0b395ee9a62415ad9a4d24c55126a2521c0eaca680"
   }
  }
 },
 "nbformat": 4,
 "nbformat_minor": 4
}
