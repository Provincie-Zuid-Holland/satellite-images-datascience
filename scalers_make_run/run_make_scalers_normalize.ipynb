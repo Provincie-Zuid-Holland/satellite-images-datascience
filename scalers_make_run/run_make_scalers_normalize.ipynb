{
 "cells": [
  {
   "cell_type": "code",
   "execution_count": null,
   "metadata": {},
   "outputs": [],
   "source": [
    "import rasterio\n",
    "from sklearn.preprocessing import StandardScaler\n",
    "import joblib\n",
    "import glob"
   ]
  },
  {
   "cell_type": "code",
   "execution_count": null,
   "metadata": {},
   "outputs": [],
   "source": [
    "# Settings.\n",
    "folder_path = \"E:/Data/remote_sensing/satellite-images/PNEO_30CM/Voornes Duin/\"\n",
    "directory_regex = folder_path + \"*_asphalt_crop.tif\""
   ]
  },
  {
   "cell_type": "code",
   "execution_count": null,
   "metadata": {},
   "outputs": [],
   "source": [
    "for file in glob.glob(directory_regex):\n",
    "    filename = file.replace(\"\\\\\",\"/\")\n",
    "\n",
    "    print(filename)\n",
    "    dataset = rasterio.open(filename)\n",
    "    \n",
    "    for band in range(dataset.count,dataset.count+1):\n",
    "        print(band)\n",
    "        band_scaler = StandardScaler().fit(dataset.read(band).reshape(-1, 1))\n",
    "        joblib.dump(band_scaler,\"../scalers/\"+filename.split(\"/\")[-1]+\"_band\"+str(band)+\".save\") "
   ]
  }
 ],
 "metadata": {
  "kernelspec": {
   "display_name": "Python 3 (ipykernel)",
   "language": "python",
   "name": "python3"
  },
  "language_info": {
   "codemirror_mode": {
    "name": "ipython",
    "version": 3
   },
   "file_extension": ".py",
   "mimetype": "text/x-python",
   "name": "python",
   "nbconvert_exporter": "python",
   "pygments_lexer": "ipython3",
   "version": "3.9.18"
  },
  "vscode": {
   "interpreter": {
    "hash": "67395a7eb8a935452fa20e0b395ee9a62415ad9a4d24c55126a2521c0eaca680"
   }
  }
 },
 "nbformat": 4,
 "nbformat_minor": 4
}
