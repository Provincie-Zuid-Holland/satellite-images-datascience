{
 "cells": [
  {
   "cell_type": "code",
   "execution_count": 1,
   "metadata": {},
   "outputs": [],
   "source": [
    "import rasterio\n",
    "from sklearn.preprocessing import MinMaxScaler\n",
    "import joblib\n",
    "import glob"
   ]
  },
  {
   "cell_type": "code",
   "execution_count": 2,
   "metadata": {},
   "outputs": [],
   "source": [
    "# Settings.\n",
    "folder_path = \"../../satellite-images/\"\n",
    "directory_regex = folder_path + \"20*_ndvi_height.tif\""
   ]
  },
  {
   "cell_type": "code",
   "execution_count": 3,
   "metadata": {},
   "outputs": [
    {
     "name": "stdout",
     "output_type": "stream",
     "text": [
      "C:/Users/pzhadmin/Data/remote-sensing/satellite-images-testing/20221111_111014_SV1-04_SV_RD_11bit_RGBI_50cm_Rijnsburg_natura2000_coepelduynen_cropped_ndvi_height.tif\n",
      "1\n",
      "2\n",
      "3\n",
      "4\n",
      "5\n",
      "6\n"
     ]
    }
   ],
   "source": [
    "for file in glob.glob(directory_regex):\n",
    "    filename = file.replace(\"\\\\\",\"/\")\n",
    "\n",
    "    print(filename)\n",
    "    dataset = rasterio.open(filename)\n",
    "    \n",
    "    for band in range(1,dataset.count+1):\n",
    "        print(band)\n",
    "        band_scaler = MinMaxScaler().fit(dataset.read(band).reshape(-1, 1))\n",
    "        joblib.dump(band_scaler,\"../scalers/\"+filename.split(\"/\")[-1]+\"_band\"+str(band)+\".save\") "
   ]
  }
 ],
 "metadata": {
  "kernelspec": {
   "display_name": "Python 3 (ipykernel)",
   "language": "python",
   "name": "python3"
  },
  "language_info": {
   "codemirror_mode": {
    "name": "ipython",
    "version": 3
   },
   "file_extension": ".py",
   "mimetype": "text/x-python",
   "name": "python",
   "nbconvert_exporter": "python",
   "pygments_lexer": "ipython3",
   "version": "3.9.18"
  },
  "vscode": {
   "interpreter": {
    "hash": "67395a7eb8a935452fa20e0b395ee9a62415ad9a4d24c55126a2521c0eaca680"
   }
  }
 },
 "nbformat": 4,
 "nbformat_minor": 4
}
