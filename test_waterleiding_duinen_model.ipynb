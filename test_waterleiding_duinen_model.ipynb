{
 "cells": [
  {
   "cell_type": "code",
   "execution_count": 2,
   "metadata": {},
   "outputs": [
    {
     "name": "stderr",
     "output_type": "stream",
     "text": [
      "C:\\ProgramData\\Anaconda3\\lib\\site-packages\\geopandas\\_compat.py:115: UserWarning: The Shapely GEOS version (3.4.3-CAPI-1.8.3 r4285) is incompatible with the GEOS version PyGEOS was compiled with (3.10.0-CAPI-1.16.0). Conversions between both will be slow.\n",
      "  shapely_geos_version, geos_capi_version_string\n",
      "Using TensorFlow backend.\n"
     ]
    }
   ],
   "source": [
    "import rasterio\n",
    "import geopandas as gpd\n",
    "import pandas as pd\n",
    "from rasterio import mask\n",
    "from shapely.geometry import shape\n",
    "import json\n",
    "import numpy as np\n",
    "from tqdm import tqdm\n",
    "from random import randint\n",
    "import random\n",
    "import nso_ds_classes.nso_tif_kernel as nso_tif_kernel\n",
    "import nso_ds_classes.nso_ds_models as nso_ds_models\n",
    "import glob\n",
    "import geopandas as gpd\n",
    "import os\n",
    "import pandas as pd\n",
    "import numpy as np\n",
    "from timeit import default_timer as timer\n",
    "from sklearn import preprocessing\n",
    "from sklearn.metrics import confusion_matrix\n",
    "from matplotlib.pyplot import figure\n",
    "import matplotlib.pyplot as plt\n",
    "from sklearn.preprocessing import LabelEncoder\n",
    "from keras.models import Sequential\n",
    "from keras import layers\n",
    "from keras.layers.core import Flatten, Dense, Dropout\n",
    "from keras.layers.convolutional import Convolution2D, MaxPooling2D\n",
    "from keras.models import load_model\n",
    "import keras\n",
    "from tensorflow.keras.callbacks import ModelCheckpoint, EarlyStopping"
   ]
  },
  {
   "cell_type": "code",
   "execution_count": 3,
   "metadata": {},
   "outputs": [],
   "source": [
    "def __make_the_crop(load_shape, raster_path, raster_path_cropped):\n",
    "    \"\"\"\n",
    "        This crops the sattelite image with a chosen shape.\n",
    "\n",
    "        TODO: Make this accept a object of geopandas or shapely and crs independant.\n",
    "        @param load_schape: path to a geojson shape file.\n",
    "        @param raster_path_wgs: path to the raster .tiff file.\n",
    "        @param raster_path_cropped: path were the cropped raster will be stored.\n",
    "    \"\"\"\n",
    "    geo_file = gpd.read_file(load_shape)\n",
    "    src = rasterio.open(raster_path)\n",
    "\n",
    "    # Change the crs to rijks driehoek, because all the satelliet images are in rijks driehoek\n",
    "    if geo_file.crs != 'epsg:28992':\n",
    "        geo_file = geo_file.to_crs(epsg=28992)\n",
    "\n",
    "    out_image, out_transform = rasterio.mask.mask(src,geo_file['geometry'], crop=True, filled=True)\n",
    "    out_meta = src.meta\n",
    "\n",
    "    out_meta.update({\"driver\": \"GTiff\",\n",
    "                 \"height\": out_image.shape[1],\n",
    "                 \"width\": out_image.shape[2],\n",
    "                 \"transform\": out_transform})\n",
    "\n",
    "    with rasterio.open(raster_path_cropped, \"w\", **out_meta) as dest:\n",
    "            dest.write(out_image)\n",
    "            dest.close()\n",
    "            \n",
    "def retrieve_kernel(cor_x, cor_y):\n",
    "    try:\n",
    "        return tif_kernel_generator.get_kernel_for_x_y(cor_x, cor_y)\n",
    "    except Exception as e:\n",
    "        print(e)\n",
    "        return None\n",
    "\n",
    "def euclidean_distance_kernels(kernel_x, kernel_y):\n",
    "    return np.sum(np.abs(kernel_x - kernel_y))\n",
    "\n",
    "def predict(kernel,annotations, fade = True):\n",
    "    \n",
    "    if fade == True:\n",
    "        return annotations[np.argmin([euclidean_distance_kernels(tif_kernel_generator.fadify_kernel(label[1]),\\\n",
    "                                                                 tif_kernel_generator.fadify_kernel(kernel))\\\n",
    "               for label in annotations])][0]\n",
    "    elif fade == False:\n",
    "        return annotations[np.argmin([euclidean_distance_kernels(label[1],\\\n",
    "                                                                 kernel)\\\n",
    "                   for label in annotations])][0]\n",
    "\n",
    "\n",
    "def plot_confusion_matrix(cm, title='Confusion matrix', cmap=plt.cm.Blues):\n",
    "    figure(figsize=(10, 6), dpi=80)\n",
    "    plt.imshow(cm, interpolation='nearest', cmap=cmap)\n",
    "    plt.title(title)\n",
    "    plt.colorbar()\n",
    "    tick_marks = np.arange(len(annotations['label'].unique()))\n",
    "    plt.xticks(tick_marks, annotations['label'].unique(), rotation=45)\n",
    "    plt.yticks(tick_marks, annotations['label'].unique())\n",
    "    plt.tight_layout()\n",
    "    plt.ylabel('True label')\n",
    "    plt.xlabel('Predicted label')"
   ]
  },
  {
   "cell_type": "markdown",
   "metadata": {},
   "source": [
    "# Cut .tif image into shapes based on labels to get rd coordinates"
   ]
  },
  {
   "cell_type": "code",
   "execution_count": 13,
   "metadata": {},
   "outputs": [],
   "source": [
    "tif_file = \"E:/data/waterleidingduinen/20190729_111526_SV1-04_50cm_RD_11bit_RGBI_Lisse_waterleidingduin_aaneensluitende_polygon_cropped_rgbi_ndvi_ahn.tif\""
   ]
  },
  {
   "cell_type": "code",
   "execution_count": 14,
   "metadata": {},
   "outputs": [],
   "source": [
    "# Load the annotations.\n",
    "struco_codes = pd.read_csv(\"C:/repos/waterleiding_annotaties/AWD_Struco_codes.csv\", sep=\";\")\n",
    "gdf = gpd.read_file(\"E:/data/waterleidingduinen/AWD_vegetatiekartering_2016_2018_dissolve.shp\")\n",
    "gdf['Struco'] = gdf['Struco'].astype(int)\n",
    "gdf = gdf.merge(struco_codes, on=\"Struco\")"
   ]
  },
  {
   "cell_type": "code",
   "execution_count": 15,
   "metadata": {
    "collapsed": true
   },
   "outputs": [
    {
     "data": {
      "text/html": [
       "<div>\n",
       "<style scoped>\n",
       "    .dataframe tbody tr th:only-of-type {\n",
       "        vertical-align: middle;\n",
       "    }\n",
       "\n",
       "    .dataframe tbody tr th {\n",
       "        vertical-align: top;\n",
       "    }\n",
       "\n",
       "    .dataframe thead th {\n",
       "        text-align: right;\n",
       "    }\n",
       "</style>\n",
       "<table border=\"1\" class=\"dataframe\">\n",
       "  <thead>\n",
       "    <tr style=\"text-align: right;\">\n",
       "      <th></th>\n",
       "      <th>Struco</th>\n",
       "      <th>geometry</th>\n",
       "      <th>Label</th>\n",
       "    </tr>\n",
       "  </thead>\n",
       "  <tbody>\n",
       "    <tr>\n",
       "      <th>0</th>\n",
       "      <td>20</td>\n",
       "      <td>MULTIPOLYGON (((93468.281 477863.716, 93471.58...</td>\n",
       "      <td>Mos</td>\n",
       "    </tr>\n",
       "    <tr>\n",
       "      <th>1</th>\n",
       "      <td>50</td>\n",
       "      <td>MULTIPOLYGON (((93090.931 477908.638, 93092.41...</td>\n",
       "      <td>Open laag struweel</td>\n",
       "    </tr>\n",
       "    <tr>\n",
       "      <th>2</th>\n",
       "      <td>10</td>\n",
       "      <td>MULTIPOLYGON (((93280.478 477754.144, 93283.01...</td>\n",
       "      <td>Zand</td>\n",
       "    </tr>\n",
       "    <tr>\n",
       "      <th>3</th>\n",
       "      <td>60</td>\n",
       "      <td>MULTIPOLYGON (((93342.346 477720.225, 93345.32...</td>\n",
       "      <td>Open Duindoorn</td>\n",
       "    </tr>\n",
       "    <tr>\n",
       "      <th>4</th>\n",
       "      <td>61</td>\n",
       "      <td>MULTIPOLYGON (((93493.644 477825.265, 93493.24...</td>\n",
       "      <td>Dicht Duindoorn</td>\n",
       "    </tr>\n",
       "    <tr>\n",
       "      <th>5</th>\n",
       "      <td>30</td>\n",
       "      <td>MULTIPOLYGON (((93438.025 477696.898, 93440.56...</td>\n",
       "      <td>Lage kruiden-gras</td>\n",
       "    </tr>\n",
       "    <tr>\n",
       "      <th>6</th>\n",
       "      <td>40</td>\n",
       "      <td>MULTIPOLYGON (((93431.139 477658.021, 93426.05...</td>\n",
       "      <td>Hoge kruiden-gras</td>\n",
       "    </tr>\n",
       "    <tr>\n",
       "      <th>7</th>\n",
       "      <td>51</td>\n",
       "      <td>MULTIPOLYGON (((93184.561 478067.038, 93186.09...</td>\n",
       "      <td>Dicht laag struweel</td>\n",
       "    </tr>\n",
       "    <tr>\n",
       "      <th>8</th>\n",
       "      <td>70</td>\n",
       "      <td>MULTIPOLYGON (((93223.830 478065.160, 93220.65...</td>\n",
       "      <td>Open Hoog Struweel</td>\n",
       "    </tr>\n",
       "    <tr>\n",
       "      <th>9</th>\n",
       "      <td>71</td>\n",
       "      <td>MULTIPOLYGON (((92945.727 477985.050, 92946.78...</td>\n",
       "      <td>Dicht Hoog Struweel</td>\n",
       "    </tr>\n",
       "    <tr>\n",
       "      <th>10</th>\n",
       "      <td>120</td>\n",
       "      <td>MULTIPOLYGON (((93593.544 478712.757, 93596.71...</td>\n",
       "      <td>Naaldbos</td>\n",
       "    </tr>\n",
       "    <tr>\n",
       "      <th>11</th>\n",
       "      <td>110</td>\n",
       "      <td>MULTIPOLYGON (((93328.940 477713.346, 93332.11...</td>\n",
       "      <td>Loofbos</td>\n",
       "    </tr>\n",
       "    <tr>\n",
       "      <th>12</th>\n",
       "      <td>130</td>\n",
       "      <td>MULTIPOLYGON (((95843.425 478797.609, 95846.07...</td>\n",
       "      <td>Adelaarsvaren</td>\n",
       "    </tr>\n",
       "    <tr>\n",
       "      <th>13</th>\n",
       "      <td>90</td>\n",
       "      <td>MULTIPOLYGON (((96057.219 478743.373, 96056.02...</td>\n",
       "      <td>Heide</td>\n",
       "    </tr>\n",
       "    <tr>\n",
       "      <th>14</th>\n",
       "      <td>0</td>\n",
       "      <td>MULTIPOLYGON (((93576.041 477845.982, 93572.86...</td>\n",
       "      <td>Water, Overig</td>\n",
       "    </tr>\n",
       "    <tr>\n",
       "      <th>15</th>\n",
       "      <td>140</td>\n",
       "      <td>MULTIPOLYGON (((95243.753 482097.598, 95241.05...</td>\n",
       "      <td>Riet</td>\n",
       "    </tr>\n",
       "  </tbody>\n",
       "</table>\n",
       "</div>"
      ],
      "text/plain": [
       "    Struco                                           geometry  \\\n",
       "0       20  MULTIPOLYGON (((93468.281 477863.716, 93471.58...   \n",
       "1       50  MULTIPOLYGON (((93090.931 477908.638, 93092.41...   \n",
       "2       10  MULTIPOLYGON (((93280.478 477754.144, 93283.01...   \n",
       "3       60  MULTIPOLYGON (((93342.346 477720.225, 93345.32...   \n",
       "4       61  MULTIPOLYGON (((93493.644 477825.265, 93493.24...   \n",
       "5       30  MULTIPOLYGON (((93438.025 477696.898, 93440.56...   \n",
       "6       40  MULTIPOLYGON (((93431.139 477658.021, 93426.05...   \n",
       "7       51  MULTIPOLYGON (((93184.561 478067.038, 93186.09...   \n",
       "8       70  MULTIPOLYGON (((93223.830 478065.160, 93220.65...   \n",
       "9       71  MULTIPOLYGON (((92945.727 477985.050, 92946.78...   \n",
       "10     120  MULTIPOLYGON (((93593.544 478712.757, 93596.71...   \n",
       "11     110  MULTIPOLYGON (((93328.940 477713.346, 93332.11...   \n",
       "12     130  MULTIPOLYGON (((95843.425 478797.609, 95846.07...   \n",
       "13      90  MULTIPOLYGON (((96057.219 478743.373, 96056.02...   \n",
       "14       0  MULTIPOLYGON (((93576.041 477845.982, 93572.86...   \n",
       "15     140  MULTIPOLYGON (((95243.753 482097.598, 95241.05...   \n",
       "\n",
       "                  Label  \n",
       "0                   Mos  \n",
       "1    Open laag struweel  \n",
       "2                  Zand  \n",
       "3        Open Duindoorn  \n",
       "4       Dicht Duindoorn  \n",
       "5     Lage kruiden-gras  \n",
       "6     Hoge kruiden-gras  \n",
       "7   Dicht laag struweel  \n",
       "8    Open Hoog Struweel  \n",
       "9   Dicht Hoog Struweel  \n",
       "10             Naaldbos  \n",
       "11              Loofbos  \n",
       "12        Adelaarsvaren  \n",
       "13                Heide  \n",
       "14        Water, Overig  \n",
       "15                 Riet  "
      ]
     },
     "execution_count": 15,
     "metadata": {},
     "output_type": "execute_result"
    }
   ],
   "source": [
    "gdf"
   ]
  },
  {
   "cell_type": "code",
   "execution_count": 14,
   "metadata": {
    "collapsed": true
   },
   "outputs": [
    {
     "name": "stdout",
     "output_type": "stream",
     "text": [
      "E:/data/waterleidingduinen/20190729_111526_SV1-04_50cm_RD_11bit_RGBI_Lisse_waterleidingduin_aaneensluitende_polygon_cropped_rgbi_ndvi_ahn_Mos.tif\n",
      "E:/data/waterleidingduinen/20190729_111526_SV1-04_50cm_RD_11bit_RGBI_Lisse_waterleidingduin_aaneensluitende_polygon_cropped_rgbi_ndvi_ahn_Open laag struweel.tif\n",
      "E:/data/waterleidingduinen/20190729_111526_SV1-04_50cm_RD_11bit_RGBI_Lisse_waterleidingduin_aaneensluitende_polygon_cropped_rgbi_ndvi_ahn_Zand.tif\n",
      "E:/data/waterleidingduinen/20190729_111526_SV1-04_50cm_RD_11bit_RGBI_Lisse_waterleidingduin_aaneensluitende_polygon_cropped_rgbi_ndvi_ahn_Open Duindoorn.tif\n",
      "E:/data/waterleidingduinen/20190729_111526_SV1-04_50cm_RD_11bit_RGBI_Lisse_waterleidingduin_aaneensluitende_polygon_cropped_rgbi_ndvi_ahn_Dicht Duindoorn.tif\n",
      "E:/data/waterleidingduinen/20190729_111526_SV1-04_50cm_RD_11bit_RGBI_Lisse_waterleidingduin_aaneensluitende_polygon_cropped_rgbi_ndvi_ahn_Lage kruiden-gras.tif\n",
      "E:/data/waterleidingduinen/20190729_111526_SV1-04_50cm_RD_11bit_RGBI_Lisse_waterleidingduin_aaneensluitende_polygon_cropped_rgbi_ndvi_ahn_Hoge kruiden-gras.tif\n",
      "E:/data/waterleidingduinen/20190729_111526_SV1-04_50cm_RD_11bit_RGBI_Lisse_waterleidingduin_aaneensluitende_polygon_cropped_rgbi_ndvi_ahn_Dicht laag struweel.tif\n",
      "E:/data/waterleidingduinen/20190729_111526_SV1-04_50cm_RD_11bit_RGBI_Lisse_waterleidingduin_aaneensluitende_polygon_cropped_rgbi_ndvi_ahn_Open Hoog Struweel.tif\n",
      "E:/data/waterleidingduinen/20190729_111526_SV1-04_50cm_RD_11bit_RGBI_Lisse_waterleidingduin_aaneensluitende_polygon_cropped_rgbi_ndvi_ahn_Dicht Hoog Struweel.tif\n",
      "E:/data/waterleidingduinen/20190729_111526_SV1-04_50cm_RD_11bit_RGBI_Lisse_waterleidingduin_aaneensluitende_polygon_cropped_rgbi_ndvi_ahn_Naaldbos.tif\n",
      "E:/data/waterleidingduinen/20190729_111526_SV1-04_50cm_RD_11bit_RGBI_Lisse_waterleidingduin_aaneensluitende_polygon_cropped_rgbi_ndvi_ahn_Loofbos.tif\n",
      "E:/data/waterleidingduinen/20190729_111526_SV1-04_50cm_RD_11bit_RGBI_Lisse_waterleidingduin_aaneensluitende_polygon_cropped_rgbi_ndvi_ahn_Adelaarsvaren.tif\n",
      "E:/data/waterleidingduinen/20190729_111526_SV1-04_50cm_RD_11bit_RGBI_Lisse_waterleidingduin_aaneensluitende_polygon_cropped_rgbi_ndvi_ahn_Heide.tif\n",
      "E:/data/waterleidingduinen/20190729_111526_SV1-04_50cm_RD_11bit_RGBI_Lisse_waterleidingduin_aaneensluitende_polygon_cropped_rgbi_ndvi_ahn_Water, Overig.tif\n",
      "E:/data/waterleidingduinen/20190729_111526_SV1-04_50cm_RD_11bit_RGBI_Lisse_waterleidingduin_aaneensluitende_polygon_cropped_rgbi_ndvi_ahn_Riet.tif\n"
     ]
    }
   ],
   "source": [
    "src = rasterio.open(tif_file)\n",
    "for xid,row in gdf.iterrows():\n",
    "    \n",
    "    out_image, out_transform = rasterio.mask.mask(src, gdf[gdf['Label'] == \"Open laag struweel\"]['geometry'], crop=True, filled=True)\n",
    "    out_meta = src.meta\n",
    "    \n",
    "    data_src =src.read() \n",
    "    out_meta.update({\"driver\": \"GTiff\",\n",
    "                 \"height\": out_image.shape[1],\n",
    "                 \"width\": out_image.shape[2],\n",
    "                 \"transform\": out_transform})\n",
    "    \n",
    "    print(tif_file.replace(\".tif\",\"_\"+str(row['Label'])+\".tif\"))\n",
    "    with rasterio.open(tif_file.replace(\".tif\",\"_\"+str(row['Label'])+\".tif\"), \"w\", **out_meta) as dest:\n",
    "            dest.write(out_image)\n",
    "            dest.close()"
   ]
  },
  {
   "cell_type": "markdown",
   "metadata": {},
   "source": [
    "## Sample rd coordinates from the labels shapes."
   ]
  },
  {
   "cell_type": "code",
   "execution_count": null,
   "metadata": {},
   "outputs": [
    {
     "name": "stdout",
     "output_type": "stream",
     "text": [
      "------\n",
      "E:/data/waterleidingduinen/20190729_111526_SV1-04_50cm_RD_11bit_RGBI_Lisse_waterleidingduin_aaneensluitende_polygon_cropped_rgbi_ndvi_ahn_Mos.tif\n",
      "Number of shapes:7001\n"
     ]
    },
    {
     "name": "stderr",
     "output_type": "stream",
     "text": [
      " 20%|███████████████▊                                                             | 1025/5000 [00:02<00:11, 356.81it/s]\n"
     ]
    },
    {
     "name": "stdout",
     "output_type": "stream",
     "text": [
      "(15000,)\n",
      "------\n",
      "E:/data/waterleidingduinen/20190729_111526_SV1-04_50cm_RD_11bit_RGBI_Lisse_waterleidingduin_aaneensluitende_polygon_cropped_rgbi_ndvi_ahn_Open laag struweel.tif\n",
      "Number of shapes:7001\n"
     ]
    },
    {
     "name": "stderr",
     "output_type": "stream",
     "text": [
      " 21%|███████████████▉                                                             | 1034/5000 [00:02<00:11, 355.79it/s]\n"
     ]
    },
    {
     "name": "stdout",
     "output_type": "stream",
     "text": [
      "(15000,)\n",
      "------\n",
      "E:/data/waterleidingduinen/20190729_111526_SV1-04_50cm_RD_11bit_RGBI_Lisse_waterleidingduin_aaneensluitende_polygon_cropped_rgbi_ndvi_ahn_Zand.tif\n",
      "Number of shapes:7001\n"
     ]
    },
    {
     "name": "stderr",
     "output_type": "stream",
     "text": [
      " 21%|███████████████▉                                                             | 1032/5000 [00:03<00:12, 310.90it/s]\n"
     ]
    },
    {
     "name": "stdout",
     "output_type": "stream",
     "text": [
      "(15000,)\n",
      "------\n",
      "E:/data/waterleidingduinen/20190729_111526_SV1-04_50cm_RD_11bit_RGBI_Lisse_waterleidingduin_aaneensluitende_polygon_cropped_rgbi_ndvi_ahn_Open Duindoorn.tif\n",
      "Number of shapes:7001\n"
     ]
    },
    {
     "name": "stderr",
     "output_type": "stream",
     "text": [
      " 21%|███████████████▊                                                             | 1028/5000 [00:03<00:14, 279.97it/s]\n"
     ]
    },
    {
     "name": "stdout",
     "output_type": "stream",
     "text": [
      "(15000,)\n",
      "------\n",
      "E:/data/waterleidingduinen/20190729_111526_SV1-04_50cm_RD_11bit_RGBI_Lisse_waterleidingduin_aaneensluitende_polygon_cropped_rgbi_ndvi_ahn_Dicht Duindoorn.tif\n",
      "Number of shapes:7001\n"
     ]
    },
    {
     "name": "stderr",
     "output_type": "stream",
     "text": [
      " 20%|███████████████▋                                                             | 1015/5000 [00:03<00:13, 299.05it/s]\n"
     ]
    },
    {
     "name": "stdout",
     "output_type": "stream",
     "text": [
      "(15000,)\n",
      "------\n",
      "E:/data/waterleidingduinen/20190729_111526_SV1-04_50cm_RD_11bit_RGBI_Lisse_waterleidingduin_aaneensluitende_polygon_cropped_rgbi_ndvi_ahn_Lage kruiden-gras.tif\n"
     ]
    }
   ],
   "source": [
    "annotations = pd.DataFrame([])\n",
    "\n",
    "for xid,row in gdf.iterrows():\n",
    "    annotation_tif = tif_file.replace(\".tif\",\"_\"+str(row['Label'])+\".tif\")\n",
    "    print(\"------\")\n",
    "    print(annotation_tif)\n",
    "    f = rasterio.open(annotation_tif) \n",
    "    data = f.read()\n",
    "    shapes = rasterio.features.shapes(data[1])\n",
    "        \n",
    "    data_shapes = []\n",
    "    for shape in shapes:\n",
    "        if len(data_shapes) <= 7000:\n",
    "            data_shapes.append(shape)\n",
    "    print(\"Number of shapes:\"+str(len(data_shapes)))\n",
    "    \n",
    "    \n",
    "    np_array = np.array([])\n",
    "    \n",
    "    number_of_sample = 5000\n",
    "    \n",
    "    if len(data_shapes) < number_of_sample:\n",
    "        number_of_sample = len(data_shapes)-1\n",
    "    \n",
    " \n",
    "    for x_shape in tqdm(random.sample(range(1, len(data_shapes)), number_of_sample)):\n",
    "\n",
    "        shape = data_shapes[x_shape]\n",
    "\n",
    "\n",
    "        for cors in shape[0]['coordinates'][0]:\n",
    "\n",
    "                if sum([band[int(cors[1])-1][int(cors[0])-1] for band in data]) != 0:\n",
    "                            rd_cors = f.xy(int(cors[1]), int(cors[0]))\n",
    "                            np_array =np.append(np_array, [[str(row['Label']),rd_cors[0],rd_cors[1]]])\n",
    "                if int(np_array.shape[0])/3 >= 5000:\n",
    "                    break  \n",
    "                    \n",
    "        if int(np_array.shape[0])/3 >= 5000:\n",
    "                    break \n",
    "                \n",
    "    print(np_array.shape)        \n",
    "    annotations = annotations.append(\\\n",
    "                                         pd.DataFrame(np_array.reshape(int(np_array.shape[0]/3),3),columns=['label','x','y']) \\\n",
    "                                        )"
   ]
  },
  {
   "cell_type": "code",
   "execution_count": 1,
   "metadata": {
    "collapsed": true
   },
   "outputs": [
    {
     "ename": "NameError",
     "evalue": "name 'annotations' is not defined",
     "output_type": "error",
     "traceback": [
      "\u001b[1;31m---------------------------------------------------------------------------\u001b[0m",
      "\u001b[1;31mNameError\u001b[0m                                 Traceback (most recent call last)",
      "\u001b[1;32m<ipython-input-1-d9a39d69ac0c>\u001b[0m in \u001b[0;36m<module>\u001b[1;34m\u001b[0m\n\u001b[0;32m      1\u001b[0m \u001b[1;31m# Write to file\u001b[0m\u001b[1;33m\u001b[0m\u001b[1;33m\u001b[0m\u001b[1;33m\u001b[0m\u001b[0m\n\u001b[1;32m----> 2\u001b[1;33m \u001b[0mannotations\u001b[0m\u001b[1;33m.\u001b[0m\u001b[0mto_csv\u001b[0m\u001b[1;33m(\u001b[0m\u001b[0mtif_file\u001b[0m\u001b[1;33m.\u001b[0m\u001b[0msplit\u001b[0m\u001b[1;33m(\u001b[0m\u001b[1;34m\"/\"\u001b[0m\u001b[1;33m)\u001b[0m\u001b[1;33m[\u001b[0m\u001b[1;33m-\u001b[0m\u001b[1;36m1\u001b[0m\u001b[1;33m]\u001b[0m\u001b[1;33m+\u001b[0m\u001b[1;34m\"_coordinates_rd_awd.csv\"\u001b[0m\u001b[1;33m)\u001b[0m\u001b[1;33m\u001b[0m\u001b[1;33m\u001b[0m\u001b[0m\n\u001b[0m",
      "\u001b[1;31mNameError\u001b[0m: name 'annotations' is not defined"
     ]
    }
   ],
   "source": [
    "# Write to file\n",
    "annotations.to_csv(tif_file.split(\"/\")[-1]+\"_coordinates_rd_awd.csv\")"
   ]
  },
  {
   "cell_type": "markdown",
   "metadata": {},
   "source": [
    "# Add kernels to annotations."
   ]
  },
  {
   "cell_type": "code",
   "execution_count": 23,
   "metadata": {},
   "outputs": [],
   "source": [
    "annotations = pd.read_csv(\"coordinates_rd_awd.csv\").drop(['Unnamed: 0'],axis=1)"
   ]
  },
  {
   "cell_type": "code",
   "execution_count": 24,
   "metadata": {
    "collapsed": true
   },
   "outputs": [
    {
     "data": {
      "text/html": [
       "<div>\n",
       "<style scoped>\n",
       "    .dataframe tbody tr th:only-of-type {\n",
       "        vertical-align: middle;\n",
       "    }\n",
       "\n",
       "    .dataframe tbody tr th {\n",
       "        vertical-align: top;\n",
       "    }\n",
       "\n",
       "    .dataframe thead th {\n",
       "        text-align: right;\n",
       "    }\n",
       "</style>\n",
       "<table border=\"1\" class=\"dataframe\">\n",
       "  <thead>\n",
       "    <tr style=\"text-align: right;\">\n",
       "      <th></th>\n",
       "      <th>label</th>\n",
       "      <th>x</th>\n",
       "      <th>y</th>\n",
       "      <th>cor_x</th>\n",
       "      <th>cor_y</th>\n",
       "    </tr>\n",
       "  </thead>\n",
       "  <tbody>\n",
       "    <tr>\n",
       "      <th>0</th>\n",
       "      <td>Mos</td>\n",
       "      <td>93927.25</td>\n",
       "      <td>479552.75</td>\n",
       "      <td>14979</td>\n",
       "      <td>2643</td>\n",
       "    </tr>\n",
       "    <tr>\n",
       "      <th>1</th>\n",
       "      <td>Mos</td>\n",
       "      <td>93927.25</td>\n",
       "      <td>479551.75</td>\n",
       "      <td>14981</td>\n",
       "      <td>2643</td>\n",
       "    </tr>\n",
       "    <tr>\n",
       "      <th>2</th>\n",
       "      <td>Mos</td>\n",
       "      <td>93928.25</td>\n",
       "      <td>479551.75</td>\n",
       "      <td>14981</td>\n",
       "      <td>2645</td>\n",
       "    </tr>\n",
       "    <tr>\n",
       "      <th>3</th>\n",
       "      <td>Mos</td>\n",
       "      <td>93928.25</td>\n",
       "      <td>479552.75</td>\n",
       "      <td>14979</td>\n",
       "      <td>2645</td>\n",
       "    </tr>\n",
       "    <tr>\n",
       "      <th>4</th>\n",
       "      <td>Mos</td>\n",
       "      <td>93927.25</td>\n",
       "      <td>479552.75</td>\n",
       "      <td>14979</td>\n",
       "      <td>2643</td>\n",
       "    </tr>\n",
       "    <tr>\n",
       "      <th>...</th>\n",
       "      <td>...</td>\n",
       "      <td>...</td>\n",
       "      <td>...</td>\n",
       "      <td>...</td>\n",
       "      <td>...</td>\n",
       "    </tr>\n",
       "    <tr>\n",
       "      <th>392376</th>\n",
       "      <td>Riet</td>\n",
       "      <td>95940.25</td>\n",
       "      <td>482367.75</td>\n",
       "      <td>9349</td>\n",
       "      <td>6669</td>\n",
       "    </tr>\n",
       "    <tr>\n",
       "      <th>392377</th>\n",
       "      <td>Riet</td>\n",
       "      <td>95940.25</td>\n",
       "      <td>482366.75</td>\n",
       "      <td>9351</td>\n",
       "      <td>6669</td>\n",
       "    </tr>\n",
       "    <tr>\n",
       "      <th>392378</th>\n",
       "      <td>Riet</td>\n",
       "      <td>95941.25</td>\n",
       "      <td>482366.75</td>\n",
       "      <td>9351</td>\n",
       "      <td>6671</td>\n",
       "    </tr>\n",
       "    <tr>\n",
       "      <th>392379</th>\n",
       "      <td>Riet</td>\n",
       "      <td>95941.25</td>\n",
       "      <td>482367.75</td>\n",
       "      <td>9349</td>\n",
       "      <td>6671</td>\n",
       "    </tr>\n",
       "    <tr>\n",
       "      <th>392380</th>\n",
       "      <td>Riet</td>\n",
       "      <td>95940.25</td>\n",
       "      <td>482367.75</td>\n",
       "      <td>9349</td>\n",
       "      <td>6669</td>\n",
       "    </tr>\n",
       "  </tbody>\n",
       "</table>\n",
       "<p>392381 rows × 5 columns</p>\n",
       "</div>"
      ],
      "text/plain": [
       "       label         x          y  cor_x  cor_y\n",
       "0        Mos  93927.25  479552.75  14979   2643\n",
       "1        Mos  93927.25  479551.75  14981   2643\n",
       "2        Mos  93928.25  479551.75  14981   2645\n",
       "3        Mos  93928.25  479552.75  14979   2645\n",
       "4        Mos  93927.25  479552.75  14979   2643\n",
       "...      ...       ...        ...    ...    ...\n",
       "392376  Riet  95940.25  482367.75   9349   6669\n",
       "392377  Riet  95940.25  482366.75   9351   6669\n",
       "392378  Riet  95941.25  482366.75   9351   6671\n",
       "392379  Riet  95941.25  482367.75   9349   6671\n",
       "392380  Riet  95940.25  482367.75   9349   6669\n",
       "\n",
       "[392381 rows x 5 columns]"
      ]
     },
     "execution_count": 24,
     "metadata": {},
     "output_type": "execute_result"
    }
   ],
   "source": [
    "annotations"
   ]
  },
  {
   "cell_type": "code",
   "execution_count": 25,
   "metadata": {},
   "outputs": [],
   "source": [
    "# Set a kernel generator.\n",
    "x_kernel_width = 32\n",
    "y_kernel_height = 32\n",
    "\n",
    "\n",
    "path_to_tif_file = \"E:/data/waterleidingduinen/20190729_111526_SV1-04_50cm_RD_11bit_RGBI_Lisse_waterleidingduin_aaneensluitende_polygon_cropped_rgbi_ndvi_ahn.tif\"\n",
    "tif_kernel_generator = nso_tif_kernel.nso_tif_kernel_iterator_generator(path_to_tif_file, x_kernel_width , y_kernel_height)"
   ]
  },
  {
   "cell_type": "code",
   "execution_count": 7,
   "metadata": {},
   "outputs": [],
   "source": [
    "kernel = tif_kernel_generator.get_kernel_for_x_y(14979,2645 )"
   ]
  },
  {
   "cell_type": "code",
   "execution_count": 11,
   "metadata": {},
   "outputs": [],
   "source": [
    "input = "
   ]
  },
  {
   "cell_type": "code",
   "execution_count": 13,
   "metadata": {},
   "outputs": [
    {
     "data": {
      "text/plain": [
       "409"
      ]
     },
     "execution_count": 13,
     "metadata": {},
     "output_type": "execute_result"
    }
   ],
   "source": [
    "input"
   ]
  },
  {
   "cell_type": "code",
   "execution_count": 5,
   "metadata": {},
   "outputs": [],
   "source": [
    "median_annotations = pd.read_csv(\"C:/repos/waterleiding_annotaties/median_stats_annotations.csv\")"
   ]
  },
  {
   "cell_type": "code",
   "execution_count": 19,
   "metadata": {},
   "outputs": [
    {
     "data": {
      "text/html": [
       "<div>\n",
       "<style scoped>\n",
       "    .dataframe tbody tr th:only-of-type {\n",
       "        vertical-align: middle;\n",
       "    }\n",
       "\n",
       "    .dataframe tbody tr th {\n",
       "        vertical-align: top;\n",
       "    }\n",
       "\n",
       "    .dataframe thead th {\n",
       "        text-align: right;\n",
       "    }\n",
       "</style>\n",
       "<table border=\"1\" class=\"dataframe\">\n",
       "  <thead>\n",
       "    <tr style=\"text-align: right;\">\n",
       "      <th></th>\n",
       "      <th>Unnamed: 0</th>\n",
       "      <th>Label</th>\n",
       "      <th>MEAN_height</th>\n",
       "      <th>MEDIAN_height</th>\n",
       "      <th>MEAN_ndvi</th>\n",
       "      <th>MEDIAN_ndvi</th>\n",
       "      <th>MEAN_band1</th>\n",
       "      <th>MEDIAN_band1</th>\n",
       "      <th>MEAN_band2</th>\n",
       "      <th>MEDIAN_band2</th>\n",
       "      <th>MEAN_band3</th>\n",
       "      <th>MEDIAN_band3</th>\n",
       "      <th>MEAN_band4</th>\n",
       "      <th>MEDIAN_band4</th>\n",
       "    </tr>\n",
       "  </thead>\n",
       "  <tbody>\n",
       "    <tr>\n",
       "      <th>0</th>\n",
       "      <td>6</td>\n",
       "      <td>Water, Overig</td>\n",
       "      <td>33.681119</td>\n",
       "      <td>1</td>\n",
       "      <td>59.542520</td>\n",
       "      <td>43</td>\n",
       "      <td>382.018012</td>\n",
       "      <td>362</td>\n",
       "      <td>338.064206</td>\n",
       "      <td>311</td>\n",
       "      <td>228.930551</td>\n",
       "      <td>191</td>\n",
       "      <td>228.930551</td>\n",
       "      <td>191</td>\n",
       "    </tr>\n",
       "    <tr>\n",
       "      <th>1</th>\n",
       "      <td>2</td>\n",
       "      <td>Zand</td>\n",
       "      <td>13.342271</td>\n",
       "      <td>1</td>\n",
       "      <td>56.084952</td>\n",
       "      <td>51</td>\n",
       "      <td>551.205535</td>\n",
       "      <td>548</td>\n",
       "      <td>588.247318</td>\n",
       "      <td>583</td>\n",
       "      <td>514.976774</td>\n",
       "      <td>513</td>\n",
       "      <td>514.976774</td>\n",
       "      <td>513</td>\n",
       "    </tr>\n",
       "    <tr>\n",
       "      <th>2</th>\n",
       "      <td>1</td>\n",
       "      <td>Mos</td>\n",
       "      <td>9.031527</td>\n",
       "      <td>1</td>\n",
       "      <td>70.439476</td>\n",
       "      <td>70</td>\n",
       "      <td>472.028280</td>\n",
       "      <td>452</td>\n",
       "      <td>465.234426</td>\n",
       "      <td>435</td>\n",
       "      <td>386.487745</td>\n",
       "      <td>354</td>\n",
       "      <td>386.487745</td>\n",
       "      <td>354</td>\n",
       "    </tr>\n",
       "    <tr>\n",
       "      <th>3</th>\n",
       "      <td>5</td>\n",
       "      <td>Open laag struweel</td>\n",
       "      <td>19.814789</td>\n",
       "      <td>1</td>\n",
       "      <td>84.188820</td>\n",
       "      <td>85</td>\n",
       "      <td>439.180951</td>\n",
       "      <td>423</td>\n",
       "      <td>419.085477</td>\n",
       "      <td>395</td>\n",
       "      <td>335.791424</td>\n",
       "      <td>311</td>\n",
       "      <td>335.791424</td>\n",
       "      <td>311</td>\n",
       "    </tr>\n",
       "    <tr>\n",
       "      <th>4</th>\n",
       "      <td>4</td>\n",
       "      <td>Lage kruiden-gras</td>\n",
       "      <td>17.112904</td>\n",
       "      <td>1</td>\n",
       "      <td>89.680283</td>\n",
       "      <td>91</td>\n",
       "      <td>423.178573</td>\n",
       "      <td>412</td>\n",
       "      <td>400.410999</td>\n",
       "      <td>384</td>\n",
       "      <td>318.752655</td>\n",
       "      <td>302</td>\n",
       "      <td>318.752655</td>\n",
       "      <td>302</td>\n",
       "    </tr>\n",
       "    <tr>\n",
       "      <th>5</th>\n",
       "      <td>8</td>\n",
       "      <td>Dicht laag struweel</td>\n",
       "      <td>32.726436</td>\n",
       "      <td>33</td>\n",
       "      <td>96.099444</td>\n",
       "      <td>96</td>\n",
       "      <td>419.657661</td>\n",
       "      <td>412</td>\n",
       "      <td>392.187870</td>\n",
       "      <td>380</td>\n",
       "      <td>302.898087</td>\n",
       "      <td>291</td>\n",
       "      <td>302.898087</td>\n",
       "      <td>291</td>\n",
       "    </tr>\n",
       "    <tr>\n",
       "      <th>6</th>\n",
       "      <td>7</td>\n",
       "      <td>Hoge kruiden-gras</td>\n",
       "      <td>27.232926</td>\n",
       "      <td>21</td>\n",
       "      <td>99.836974</td>\n",
       "      <td>97</td>\n",
       "      <td>412.705271</td>\n",
       "      <td>409</td>\n",
       "      <td>388.424642</td>\n",
       "      <td>382</td>\n",
       "      <td>300.566245</td>\n",
       "      <td>296</td>\n",
       "      <td>300.566245</td>\n",
       "      <td>296</td>\n",
       "    </tr>\n",
       "    <tr>\n",
       "      <th>7</th>\n",
       "      <td>0</td>\n",
       "      <td>Heide</td>\n",
       "      <td>6.553915</td>\n",
       "      <td>1</td>\n",
       "      <td>100.129149</td>\n",
       "      <td>98</td>\n",
       "      <td>404.804143</td>\n",
       "      <td>407</td>\n",
       "      <td>369.751504</td>\n",
       "      <td>372</td>\n",
       "      <td>285.847669</td>\n",
       "      <td>289</td>\n",
       "      <td>285.847669</td>\n",
       "      <td>289</td>\n",
       "    </tr>\n",
       "    <tr>\n",
       "      <th>8</th>\n",
       "      <td>9</td>\n",
       "      <td>Open Duindoorn</td>\n",
       "      <td>37.356660</td>\n",
       "      <td>35</td>\n",
       "      <td>104.661932</td>\n",
       "      <td>104</td>\n",
       "      <td>411.211571</td>\n",
       "      <td>407</td>\n",
       "      <td>383.413253</td>\n",
       "      <td>376</td>\n",
       "      <td>293.139071</td>\n",
       "      <td>287</td>\n",
       "      <td>293.139071</td>\n",
       "      <td>287</td>\n",
       "    </tr>\n",
       "    <tr>\n",
       "      <th>9</th>\n",
       "      <td>11</td>\n",
       "      <td>Open Hoog Struweel</td>\n",
       "      <td>65.137206</td>\n",
       "      <td>71</td>\n",
       "      <td>111.494941</td>\n",
       "      <td>109</td>\n",
       "      <td>389.910388</td>\n",
       "      <td>391</td>\n",
       "      <td>355.641225</td>\n",
       "      <td>358</td>\n",
       "      <td>262.183000</td>\n",
       "      <td>261</td>\n",
       "      <td>262.183000</td>\n",
       "      <td>261</td>\n",
       "    </tr>\n",
       "    <tr>\n",
       "      <th>10</th>\n",
       "      <td>13</td>\n",
       "      <td>Dicht Hoog Struweel</td>\n",
       "      <td>76.153911</td>\n",
       "      <td>81</td>\n",
       "      <td>121.198426</td>\n",
       "      <td>122</td>\n",
       "      <td>382.090855</td>\n",
       "      <td>383</td>\n",
       "      <td>345.404667</td>\n",
       "      <td>348</td>\n",
       "      <td>246.009970</td>\n",
       "      <td>244</td>\n",
       "      <td>246.009970</td>\n",
       "      <td>244</td>\n",
       "    </tr>\n",
       "    <tr>\n",
       "      <th>11</th>\n",
       "      <td>10</td>\n",
       "      <td>Dicht Duindoorn</td>\n",
       "      <td>56.457891</td>\n",
       "      <td>60</td>\n",
       "      <td>122.770465</td>\n",
       "      <td>125</td>\n",
       "      <td>390.379607</td>\n",
       "      <td>391</td>\n",
       "      <td>355.947122</td>\n",
       "      <td>357</td>\n",
       "      <td>257.850280</td>\n",
       "      <td>258</td>\n",
       "      <td>257.850280</td>\n",
       "      <td>258</td>\n",
       "    </tr>\n",
       "    <tr>\n",
       "      <th>12</th>\n",
       "      <td>15</td>\n",
       "      <td>Naaldbos</td>\n",
       "      <td>166.636478</td>\n",
       "      <td>185</td>\n",
       "      <td>123.175613</td>\n",
       "      <td>125</td>\n",
       "      <td>358.361431</td>\n",
       "      <td>357</td>\n",
       "      <td>302.432721</td>\n",
       "      <td>301</td>\n",
       "      <td>206.766925</td>\n",
       "      <td>204</td>\n",
       "      <td>206.766925</td>\n",
       "      <td>204</td>\n",
       "    </tr>\n",
       "    <tr>\n",
       "      <th>13</th>\n",
       "      <td>14</td>\n",
       "      <td>Loofbos</td>\n",
       "      <td>133.514934</td>\n",
       "      <td>149</td>\n",
       "      <td>136.283737</td>\n",
       "      <td>140</td>\n",
       "      <td>364.683468</td>\n",
       "      <td>365</td>\n",
       "      <td>317.476369</td>\n",
       "      <td>318</td>\n",
       "      <td>216.735557</td>\n",
       "      <td>215</td>\n",
       "      <td>216.735557</td>\n",
       "      <td>215</td>\n",
       "    </tr>\n",
       "    <tr>\n",
       "      <th>14</th>\n",
       "      <td>12</td>\n",
       "      <td>Riet</td>\n",
       "      <td>66.918346</td>\n",
       "      <td>71</td>\n",
       "      <td>145.592559</td>\n",
       "      <td>153</td>\n",
       "      <td>373.570032</td>\n",
       "      <td>374</td>\n",
       "      <td>340.510927</td>\n",
       "      <td>344</td>\n",
       "      <td>220.336477</td>\n",
       "      <td>221</td>\n",
       "      <td>220.336477</td>\n",
       "      <td>221</td>\n",
       "    </tr>\n",
       "    <tr>\n",
       "      <th>15</th>\n",
       "      <td>3</td>\n",
       "      <td>Adelaarsvaren</td>\n",
       "      <td>16.408548</td>\n",
       "      <td>1</td>\n",
       "      <td>170.910293</td>\n",
       "      <td>177</td>\n",
       "      <td>369.487244</td>\n",
       "      <td>370</td>\n",
       "      <td>352.991699</td>\n",
       "      <td>356</td>\n",
       "      <td>226.042077</td>\n",
       "      <td>226</td>\n",
       "      <td>226.042077</td>\n",
       "      <td>226</td>\n",
       "    </tr>\n",
       "  </tbody>\n",
       "</table>\n",
       "</div>"
      ],
      "text/plain": [
       "    Unnamed: 0                Label  MEAN_height  MEDIAN_height   MEAN_ndvi  \\\n",
       "0            6        Water, Overig    33.681119              1   59.542520   \n",
       "1            2                 Zand    13.342271              1   56.084952   \n",
       "2            1                  Mos     9.031527              1   70.439476   \n",
       "3            5   Open laag struweel    19.814789              1   84.188820   \n",
       "4            4    Lage kruiden-gras    17.112904              1   89.680283   \n",
       "5            8  Dicht laag struweel    32.726436             33   96.099444   \n",
       "6            7    Hoge kruiden-gras    27.232926             21   99.836974   \n",
       "7            0                Heide     6.553915              1  100.129149   \n",
       "8            9       Open Duindoorn    37.356660             35  104.661932   \n",
       "9           11   Open Hoog Struweel    65.137206             71  111.494941   \n",
       "10          13  Dicht Hoog Struweel    76.153911             81  121.198426   \n",
       "11          10      Dicht Duindoorn    56.457891             60  122.770465   \n",
       "12          15             Naaldbos   166.636478            185  123.175613   \n",
       "13          14              Loofbos   133.514934            149  136.283737   \n",
       "14          12                 Riet    66.918346             71  145.592559   \n",
       "15           3        Adelaarsvaren    16.408548              1  170.910293   \n",
       "\n",
       "    MEDIAN_ndvi  MEAN_band1  MEDIAN_band1  MEAN_band2  MEDIAN_band2  \\\n",
       "0            43  382.018012           362  338.064206           311   \n",
       "1            51  551.205535           548  588.247318           583   \n",
       "2            70  472.028280           452  465.234426           435   \n",
       "3            85  439.180951           423  419.085477           395   \n",
       "4            91  423.178573           412  400.410999           384   \n",
       "5            96  419.657661           412  392.187870           380   \n",
       "6            97  412.705271           409  388.424642           382   \n",
       "7            98  404.804143           407  369.751504           372   \n",
       "8           104  411.211571           407  383.413253           376   \n",
       "9           109  389.910388           391  355.641225           358   \n",
       "10          122  382.090855           383  345.404667           348   \n",
       "11          125  390.379607           391  355.947122           357   \n",
       "12          125  358.361431           357  302.432721           301   \n",
       "13          140  364.683468           365  317.476369           318   \n",
       "14          153  373.570032           374  340.510927           344   \n",
       "15          177  369.487244           370  352.991699           356   \n",
       "\n",
       "    MEAN_band3  MEDIAN_band3  MEAN_band4  MEDIAN_band4  \n",
       "0   228.930551           191  228.930551           191  \n",
       "1   514.976774           513  514.976774           513  \n",
       "2   386.487745           354  386.487745           354  \n",
       "3   335.791424           311  335.791424           311  \n",
       "4   318.752655           302  318.752655           302  \n",
       "5   302.898087           291  302.898087           291  \n",
       "6   300.566245           296  300.566245           296  \n",
       "7   285.847669           289  285.847669           289  \n",
       "8   293.139071           287  293.139071           287  \n",
       "9   262.183000           261  262.183000           261  \n",
       "10  246.009970           244  246.009970           244  \n",
       "11  257.850280           258  257.850280           258  \n",
       "12  206.766925           204  206.766925           204  \n",
       "13  216.735557           215  216.735557           215  \n",
       "14  220.336477           221  220.336477           221  \n",
       "15  226.042077           226  226.042077           226  "
      ]
     },
     "execution_count": 19,
     "metadata": {},
     "output_type": "execute_result"
    }
   ],
   "source": [
    "median_annotations "
   ]
  },
  {
   "cell_type": "code",
   "execution_count": 21,
   "metadata": {},
   "outputs": [],
   "source": [
    "inputs = []\n",
    "\n",
    "input = kernel[0][15][15]\n",
    "inputs.append(median_annotations.iloc[(median_annotations['MEDIAN_band1']-input).abs().argsort()[:1]]['Label'].values[0])\n",
    "\n",
    "input = kernel[1][15][15]\n",
    "inputs.append(median_annotations.iloc[(median_annotations['MEDIAN_band2']-input).abs().argsort()[:1]]['Label'].values[0])\n",
    "\n",
    "input = kernel[2][15][15]\n",
    "inputs.append(median_annotations.iloc[(median_annotations['MEDIAN_band3']-input).abs().argsort()[:1]]['Label'].values[0])\n",
    "\n",
    "input = kernel[3][15][15]\n",
    "inputs.append(median_annotations.iloc[(median_annotations['MEDIAN_band4']-input).abs().argsort()[:1]]['Label'].values[0])\n",
    "\n",
    "input = kernel[4][15][15]\n",
    "inputs.append(median_annotations.iloc[(median_annotations['MEDIAN_ndvi']-input).abs().argsort()[:1]]['Label'].values[0])\n",
    "input = kernel[5][15][15]\n",
    "inputs.append(median_annotations.iloc[(median_annotations['MEDIAN_height']-input).abs().argsort()[:1]]['Label'].values[0])\n"
   ]
  },
  {
   "cell_type": "code",
   "execution_count": 29,
   "metadata": {},
   "outputs": [
    {
     "data": {
      "text/plain": [
       "0     361\n",
       "1     547\n",
       "2     451\n",
       "3     422\n",
       "4     411\n",
       "5     411\n",
       "6     408\n",
       "7     406\n",
       "8     406\n",
       "9     390\n",
       "10    382\n",
       "11    390\n",
       "12    356\n",
       "13    364\n",
       "14    373\n",
       "15    369\n",
       "Name: MEDIAN_band1, dtype: int64"
      ]
     },
     "execution_count": 29,
     "metadata": {},
     "output_type": "execute_result"
    }
   ],
   "source": [
    "(median_annotations['MEDIAN_band1']-input).abs()"
   ]
  },
  {
   "cell_type": "code",
   "execution_count": 28,
   "metadata": {},
   "outputs": [
    {
     "data": {
      "text/html": [
       "<div>\n",
       "<style scoped>\n",
       "    .dataframe tbody tr th:only-of-type {\n",
       "        vertical-align: middle;\n",
       "    }\n",
       "\n",
       "    .dataframe tbody tr th {\n",
       "        vertical-align: top;\n",
       "    }\n",
       "\n",
       "    .dataframe thead th {\n",
       "        text-align: right;\n",
       "    }\n",
       "</style>\n",
       "<table border=\"1\" class=\"dataframe\">\n",
       "  <thead>\n",
       "    <tr style=\"text-align: right;\">\n",
       "      <th></th>\n",
       "      <th>Unnamed: 0</th>\n",
       "      <th>Label</th>\n",
       "      <th>MEAN_height</th>\n",
       "      <th>MEDIAN_height</th>\n",
       "      <th>MEAN_ndvi</th>\n",
       "      <th>MEDIAN_ndvi</th>\n",
       "      <th>MEAN_band1</th>\n",
       "      <th>MEDIAN_band1</th>\n",
       "      <th>MEAN_band2</th>\n",
       "      <th>MEDIAN_band2</th>\n",
       "      <th>MEAN_band3</th>\n",
       "      <th>MEDIAN_band3</th>\n",
       "      <th>MEAN_band4</th>\n",
       "      <th>MEDIAN_band4</th>\n",
       "    </tr>\n",
       "  </thead>\n",
       "  <tbody>\n",
       "    <tr>\n",
       "      <th>12</th>\n",
       "      <td>15</td>\n",
       "      <td>Naaldbos</td>\n",
       "      <td>166.636478</td>\n",
       "      <td>185</td>\n",
       "      <td>123.175613</td>\n",
       "      <td>125</td>\n",
       "      <td>358.361431</td>\n",
       "      <td>357</td>\n",
       "      <td>302.432721</td>\n",
       "      <td>301</td>\n",
       "      <td>206.766925</td>\n",
       "      <td>204</td>\n",
       "      <td>206.766925</td>\n",
       "      <td>204</td>\n",
       "    </tr>\n",
       "  </tbody>\n",
       "</table>\n",
       "</div>"
      ],
      "text/plain": [
       "    Unnamed: 0     Label  MEAN_height  MEDIAN_height   MEAN_ndvi  MEDIAN_ndvi  \\\n",
       "12          15  Naaldbos   166.636478            185  123.175613          125   \n",
       "\n",
       "    MEAN_band1  MEDIAN_band1  MEAN_band2  MEDIAN_band2  MEAN_band3  \\\n",
       "12  358.361431           357  302.432721           301  206.766925   \n",
       "\n",
       "    MEDIAN_band3  MEAN_band4  MEDIAN_band4  \n",
       "12           204  206.766925           204  "
      ]
     },
     "execution_count": 28,
     "metadata": {},
     "output_type": "execute_result"
    }
   ],
   "source": [
    "median_annotations.iloc[(median_annotations['MEDIAN_band1']-input).abs().argsort()[:1]]"
   ]
  },
  {
   "cell_type": "code",
   "execution_count": 54,
   "metadata": {},
   "outputs": [],
   "source": [
    "import sys"
   ]
  },
  {
   "cell_type": "code",
   "execution_count": 55,
   "metadata": {},
   "outputs": [],
   "source": [
    "np.set_printoptions(threshold=sys.maxsize)"
   ]
  },
  {
   "cell_type": "code",
   "execution_count": 22,
   "metadata": {},
   "outputs": [
    {
     "data": {
      "text/plain": [
       "6"
      ]
     },
     "execution_count": 22,
     "metadata": {},
     "output_type": "execute_result"
    }
   ],
   "source": [
    "tif_kernel_generator.get_data().shape[0]"
   ]
  },
  {
   "cell_type": "code",
   "execution_count": 51,
   "metadata": {},
   "outputs": [],
   "source": [
    "tif_kernel_generator.set_fade_kernel()"
   ]
  },
  {
   "cell_type": "code",
   "execution_count": 65,
   "metadata": {},
   "outputs": [
    {
     "data": {
      "text/plain": [
       "array([0.325, 0.37 , 0.37 , 0.37 , 0.37 , 0.37 , 0.37 , 0.37 , 0.37 ,\n",
       "       0.37 , 0.37 , 0.37 , 0.37 , 0.37 , 0.37 , 0.37 , 0.37 , 0.37 ,\n",
       "       0.37 , 0.37 , 0.37 , 0.37 , 0.37 , 0.37 , 0.37 , 0.37 , 0.37 ,\n",
       "       0.37 , 0.37 , 0.37 , 0.325, 0.28 ])"
      ]
     },
     "execution_count": 65,
     "metadata": {},
     "output_type": "execute_result"
    }
   ],
   "source": [
    "tif_kernel_generator.fade_kernel[0][1]"
   ]
  },
  {
   "cell_type": "code",
   "execution_count": null,
   "metadata": {},
   "outputs": [],
   "source": [
    "tif_kernel_generator"
   ]
  },
  {
   "cell_type": "code",
   "execution_count": 19,
   "metadata": {},
   "outputs": [
    {
     "data": {
      "text/html": [
       "<div>\n",
       "<style scoped>\n",
       "    .dataframe tbody tr th:only-of-type {\n",
       "        vertical-align: middle;\n",
       "    }\n",
       "\n",
       "    .dataframe tbody tr th {\n",
       "        vertical-align: top;\n",
       "    }\n",
       "\n",
       "    .dataframe thead th {\n",
       "        text-align: right;\n",
       "    }\n",
       "</style>\n",
       "<table border=\"1\" class=\"dataframe\">\n",
       "  <thead>\n",
       "    <tr style=\"text-align: right;\">\n",
       "      <th></th>\n",
       "      <th>label</th>\n",
       "      <th>x</th>\n",
       "      <th>y</th>\n",
       "      <th>cor_x</th>\n",
       "      <th>cor_y</th>\n",
       "    </tr>\n",
       "  </thead>\n",
       "  <tbody>\n",
       "    <tr>\n",
       "      <th>0</th>\n",
       "      <td>Mos</td>\n",
       "      <td>93927.25</td>\n",
       "      <td>479552.75</td>\n",
       "      <td>14979</td>\n",
       "      <td>2643</td>\n",
       "    </tr>\n",
       "    <tr>\n",
       "      <th>1</th>\n",
       "      <td>Mos</td>\n",
       "      <td>93927.25</td>\n",
       "      <td>479551.75</td>\n",
       "      <td>14981</td>\n",
       "      <td>2643</td>\n",
       "    </tr>\n",
       "    <tr>\n",
       "      <th>2</th>\n",
       "      <td>Mos</td>\n",
       "      <td>93928.25</td>\n",
       "      <td>479551.75</td>\n",
       "      <td>14981</td>\n",
       "      <td>2645</td>\n",
       "    </tr>\n",
       "    <tr>\n",
       "      <th>3</th>\n",
       "      <td>Mos</td>\n",
       "      <td>93928.25</td>\n",
       "      <td>479552.75</td>\n",
       "      <td>14979</td>\n",
       "      <td>2645</td>\n",
       "    </tr>\n",
       "    <tr>\n",
       "      <th>4</th>\n",
       "      <td>Mos</td>\n",
       "      <td>93927.25</td>\n",
       "      <td>479552.75</td>\n",
       "      <td>14979</td>\n",
       "      <td>2643</td>\n",
       "    </tr>\n",
       "    <tr>\n",
       "      <th>...</th>\n",
       "      <td>...</td>\n",
       "      <td>...</td>\n",
       "      <td>...</td>\n",
       "      <td>...</td>\n",
       "      <td>...</td>\n",
       "    </tr>\n",
       "    <tr>\n",
       "      <th>392376</th>\n",
       "      <td>Riet</td>\n",
       "      <td>95940.25</td>\n",
       "      <td>482367.75</td>\n",
       "      <td>9349</td>\n",
       "      <td>6669</td>\n",
       "    </tr>\n",
       "    <tr>\n",
       "      <th>392377</th>\n",
       "      <td>Riet</td>\n",
       "      <td>95940.25</td>\n",
       "      <td>482366.75</td>\n",
       "      <td>9351</td>\n",
       "      <td>6669</td>\n",
       "    </tr>\n",
       "    <tr>\n",
       "      <th>392378</th>\n",
       "      <td>Riet</td>\n",
       "      <td>95941.25</td>\n",
       "      <td>482366.75</td>\n",
       "      <td>9351</td>\n",
       "      <td>6671</td>\n",
       "    </tr>\n",
       "    <tr>\n",
       "      <th>392379</th>\n",
       "      <td>Riet</td>\n",
       "      <td>95941.25</td>\n",
       "      <td>482367.75</td>\n",
       "      <td>9349</td>\n",
       "      <td>6671</td>\n",
       "    </tr>\n",
       "    <tr>\n",
       "      <th>392380</th>\n",
       "      <td>Riet</td>\n",
       "      <td>95940.25</td>\n",
       "      <td>482367.75</td>\n",
       "      <td>9349</td>\n",
       "      <td>6669</td>\n",
       "    </tr>\n",
       "  </tbody>\n",
       "</table>\n",
       "<p>392381 rows × 5 columns</p>\n",
       "</div>"
      ],
      "text/plain": [
       "       label         x          y  cor_x  cor_y\n",
       "0        Mos  93927.25  479552.75  14979   2643\n",
       "1        Mos  93927.25  479551.75  14981   2643\n",
       "2        Mos  93928.25  479551.75  14981   2645\n",
       "3        Mos  93928.25  479552.75  14979   2645\n",
       "4        Mos  93927.25  479552.75  14979   2643\n",
       "...      ...       ...        ...    ...    ...\n",
       "392376  Riet  95940.25  482367.75   9349   6669\n",
       "392377  Riet  95940.25  482366.75   9351   6669\n",
       "392378  Riet  95941.25  482366.75   9351   6671\n",
       "392379  Riet  95941.25  482367.75   9349   6671\n",
       "392380  Riet  95940.25  482367.75   9349   6669\n",
       "\n",
       "[392381 rows x 5 columns]"
      ]
     },
     "execution_count": 19,
     "metadata": {},
     "output_type": "execute_result"
    }
   ],
   "source": [
    "annotations"
   ]
  },
  {
   "cell_type": "code",
   "execution_count": 26,
   "metadata": {
    "collapsed": true
   },
   "outputs": [
    {
     "name": "stdout",
     "output_type": "stream",
     "text": [
      "Center pixel is empty\n",
      "Center pixel is empty\n",
      "Center pixel is empty\n",
      "Center pixel is empty\n",
      "Center pixel is empty\n",
      "Center pixel is empty\n",
      "Center pixel is empty\n",
      "Center pixel is empty\n",
      "Center pixel is empty\n",
      "Center pixel is empty\n",
      "Center pixel is empty\n",
      "Center pixel is empty\n",
      "Center pixel is empty\n",
      "Center pixel is empty\n",
      "Center pixel is empty\n",
      "Center pixel is empty\n",
      "Center pixel is empty\n",
      "Center pixel is empty\n",
      "Center pixel is empty\n",
      "Center pixel is empty\n",
      "Center pixel is empty\n",
      "Center pixel is empty\n",
      "Center pixel is empty\n",
      "Center pixel is empty\n",
      "Center pixel is empty\n",
      "Center pixel is empty\n",
      "Center pixel is empty\n",
      "Center pixel is empty\n",
      "Center pixel is empty\n",
      "Center pixel is empty\n",
      "Center pixel is empty\n",
      "Center pixel is empty\n",
      "Center pixel is empty\n",
      "Center pixel is empty\n",
      "Center pixel is empty\n",
      "Center pixel is empty\n",
      "Center pixel is empty\n",
      "Center pixel is empty\n",
      "Center pixel is empty\n",
      "Center pixel is empty\n",
      "Center pixel is empty\n",
      "Center pixel is empty\n",
      "Center pixel is empty\n",
      "Center pixel is empty\n",
      "Center pixel is empty\n",
      "Center pixel is empty\n",
      "Center pixel is empty\n",
      "Center pixel is empty\n",
      "Center pixel is empty\n",
      "Center pixel is empty\n",
      "Center pixel is empty\n",
      "Center pixel is empty\n",
      "Center pixel is empty\n",
      "Center pixel is empty\n",
      "Center pixel is empty\n",
      "Center pixel is empty\n",
      "Center pixel is empty\n",
      "Center pixel is empty\n",
      "Center pixel is empty\n",
      "Center pixel is empty\n",
      "Center pixel is empty\n",
      "Center pixel is empty\n",
      "Center pixel is empty\n",
      "Center pixel is empty\n",
      "Center pixel is empty\n",
      "Center pixel is empty\n",
      "Center pixel is empty\n",
      "Center pixel is empty\n",
      "Center pixel is empty\n",
      "Center pixel is empty\n",
      "Center pixel is empty\n",
      "Center pixel is empty\n",
      "Center pixel is empty\n",
      "Center pixel is empty\n",
      "Center pixel is empty\n",
      "Center pixel is empty\n",
      "Center pixel is empty\n",
      "Center pixel is empty\n",
      "Center pixel is empty\n",
      "Center pixel is empty\n",
      "Center pixel is empty\n",
      "Center pixel is empty\n",
      "Center pixel is empty\n",
      "Center pixel is empty\n",
      "Center pixel is empty\n",
      "Center pixel is empty\n",
      "Center pixel is empty\n",
      "Center pixel is empty\n",
      "Center pixel is empty\n",
      "Center pixel is empty\n",
      "Center pixel is empty\n",
      "Center pixel is empty\n",
      "Center pixel is empty\n",
      "Center pixel is empty\n",
      "Center pixel is empty\n",
      "Center pixel is empty\n",
      "Center pixel is empty\n",
      "Center pixel is empty\n",
      "Center pixel is empty\n",
      "Center pixel is empty\n",
      "Center pixel is empty\n",
      "Center pixel is empty\n",
      "Center pixel is empty\n",
      "Center pixel is empty\n",
      "Center pixel is empty\n",
      "Center pixel is empty\n",
      "Center pixel is empty\n",
      "Center pixel is empty\n",
      "Center pixel is empty\n",
      "Center pixel is empty\n",
      "Center pixel is empty\n",
      "Center pixel is empty\n",
      "Center pixel is empty\n",
      "Center pixel is empty\n",
      "Center pixel is empty\n",
      "Center pixel is empty\n",
      "Center pixel is empty\n",
      "Center pixel is empty\n",
      "Center pixel is empty\n",
      "Center pixel is empty\n",
      "Center pixel is empty\n",
      "Center pixel is empty\n",
      "Center pixel is empty\n",
      "Center pixel is empty\n",
      "Center pixel is empty\n",
      "Center pixel is empty\n",
      "Center pixel is empty\n",
      "Center pixel is empty\n",
      "Center pixel is empty\n",
      "Center pixel is empty\n",
      "Center pixel is empty\n",
      "Center pixel is empty\n",
      "Center pixel is empty\n",
      "Center pixel is empty\n",
      "Center pixel is empty\n",
      "Center pixel is empty\n",
      "Center pixel is empty\n",
      "Center pixel is empty\n",
      "Center pixel is empty\n",
      "Center pixel is empty\n",
      "Center pixel is empty\n",
      "Center pixel is empty\n",
      "Center pixel is empty\n",
      "Center pixel is empty\n",
      "Center pixel is empty\n",
      "Center pixel is empty\n",
      "Center pixel is empty\n",
      "Center pixel is empty\n",
      "Center pixel is empty\n",
      "Center pixel is empty\n",
      "Center pixel is empty\n",
      "Center pixel is empty\n",
      "Center pixel is empty\n",
      "Center pixel is empty\n",
      "Center pixel is empty\n",
      "Center pixel is empty\n",
      "Center pixel is empty\n",
      "Center pixel is empty\n",
      "Center pixel is empty\n",
      "Center pixel is empty\n",
      "Center pixel is empty\n",
      "Center pixel is empty\n",
      "Center pixel is empty\n",
      "Center pixel is empty\n",
      "Center pixel is empty\n",
      "Center pixel is empty\n",
      "Center pixel is empty\n",
      "Center pixel is empty\n",
      "Center pixel is empty\n",
      "Center pixel is empty\n",
      "Center pixel is empty\n",
      "Center pixel is empty\n",
      "Center pixel is empty\n",
      "Center pixel is empty\n",
      "Center pixel is empty\n",
      "Center pixel is empty\n",
      "Center pixel is empty\n",
      "Center pixel is empty\n",
      "Center pixel is empty\n",
      "Center pixel is empty\n",
      "Center pixel is empty\n",
      "Center pixel is empty\n",
      "Center pixel is empty\n",
      "Center pixel is empty\n",
      "Center pixel is empty\n",
      "Center pixel is empty\n",
      "Center pixel is empty\n",
      "Center pixel is empty\n",
      "Center pixel is empty\n",
      "Center pixel is empty\n",
      "Center pixel is empty\n",
      "Center pixel is empty\n",
      "Center pixel is empty\n",
      "Center pixel is empty\n",
      "Center pixel is empty\n",
      "Center pixel is empty\n",
      "Center pixel is empty\n",
      "Center pixel is empty\n",
      "Center pixel is empty\n",
      "Center pixel is empty\n",
      "Center pixel is empty\n",
      "Center pixel is empty\n",
      "Center pixel is empty\n",
      "Center pixel is empty\n",
      "Center pixel is empty\n",
      "Center pixel is empty\n",
      "Center pixel is empty\n",
      "Center pixel is empty\n",
      "Center pixel is empty\n",
      "Center pixel is empty\n",
      "Center pixel is empty\n",
      "Center pixel is empty\n",
      "Center pixel is empty\n",
      "Center pixel is empty\n",
      "Center pixel is empty\n",
      "Center pixel is empty\n",
      "Center pixel is empty\n",
      "Center pixel is empty\n",
      "Center pixel is empty\n",
      "Center pixel is empty\n",
      "Center pixel is empty\n",
      "Center pixel is empty\n",
      "Center pixel is empty\n",
      "Center pixel is empty\n",
      "Center pixel is empty\n",
      "Center pixel is empty\n",
      "Center pixel is empty\n",
      "Center pixel is empty\n",
      "Center pixel is empty\n",
      "Center pixel is empty\n",
      "Center pixel is empty\n",
      "Center pixel is empty\n",
      "Center pixel is empty\n",
      "Center pixel is empty\n",
      "Center pixel is empty\n",
      "Center pixel is empty\n",
      "Center pixel is empty\n",
      "Center pixel is empty\n",
      "Center pixel is empty\n",
      "Center pixel is empty\n",
      "Center pixel is empty\n",
      "Center pixel is empty\n",
      "Center pixel is empty\n",
      "Center pixel is empty\n",
      "Center pixel is empty\n",
      "Center pixel is empty\n",
      "Center pixel is empty\n",
      "Center pixel is empty\n",
      "Center pixel is empty\n",
      "Center pixel is empty\n",
      "Center pixel is empty\n",
      "Center pixel is empty\n",
      "Center pixel is empty\n",
      "Center pixel is empty\n",
      "Center pixel is empty\n",
      "Center pixel is empty\n",
      "Center pixel is empty\n",
      "Center pixel is empty\n",
      "Center pixel is empty\n",
      "Center pixel is empty\n",
      "Center pixel is empty\n",
      "Center pixel is empty\n",
      "Center pixel is empty\n",
      "Center pixel is empty\n",
      "Center pixel is empty\n",
      "Center pixel is empty\n",
      "Center pixel is empty\n",
      "Center pixel is empty\n",
      "Center pixel is empty\n",
      "Center pixel is empty\n",
      "Center pixel is empty\n",
      "Center pixel is empty\n",
      "Center pixel is empty\n",
      "Center pixel is empty\n",
      "Center pixel is empty\n",
      "Center pixel is empty\n",
      "Center pixel is empty\n",
      "Center pixel is empty\n",
      "Center pixel is empty\n",
      "Center pixel is empty\n",
      "Center pixel is empty\n",
      "Center pixel is empty\n",
      "Center pixel is empty\n",
      "Center pixel is empty\n",
      "Center pixel is empty\n",
      "Center pixel is empty\n",
      "Center pixel is empty\n",
      "Center pixel is empty\n",
      "Center pixel is empty\n",
      "Center pixel is empty\n",
      "Center pixel is empty\n",
      "Center pixel is empty\n",
      "Center pixel is empty\n",
      "Center pixel is empty\n",
      "Center pixel is empty\n",
      "Center pixel is empty\n",
      "Center pixel is empty\n",
      "Center pixel is empty\n",
      "Center pixel is empty\n",
      "Center pixel is empty\n",
      "Center pixel is empty\n",
      "Center pixel is empty\n",
      "Center pixel is empty\n",
      "Center pixel is empty\n",
      "Center pixel is empty\n",
      "Center pixel is empty\n",
      "Center pixel is empty\n",
      "Center pixel is empty\n",
      "Center pixel is empty\n",
      "Center pixel is empty\n",
      "Center pixel is empty\n",
      "Center pixel is empty\n",
      "Center pixel is empty\n",
      "Center pixel is empty\n",
      "Center pixel is empty\n",
      "Center pixel is empty\n",
      "Center pixel is empty\n",
      "Center pixel is empty\n",
      "Center pixel is empty\n",
      "Center pixel is empty\n",
      "Center pixel is empty\n",
      "Center pixel is empty\n",
      "Center pixel is empty\n",
      "Center pixel is empty\n",
      "Center pixel is empty\n",
      "Center pixel is empty\n",
      "Center pixel is empty\n",
      "Center pixel is empty\n",
      "Center pixel is empty\n",
      "Center pixel is empty\n",
      "Center pixel is empty\n",
      "Center pixel is empty\n",
      "Center pixel is empty\n",
      "Center pixel is empty\n",
      "Center pixel is empty\n",
      "Center pixel is empty\n",
      "Center pixel is empty\n",
      "Center pixel is empty\n",
      "Center pixel is empty\n",
      "Center pixel is empty\n",
      "Center pixel is empty\n",
      "Center pixel is empty\n",
      "Center pixel is empty\n",
      "Center pixel is empty\n",
      "Center pixel is empty\n",
      "Center pixel is empty\n",
      "Center pixel is empty\n",
      "Center pixel is empty\n",
      "Center pixel is empty\n",
      "Center pixel is empty\n",
      "Center pixel is empty\n",
      "Center pixel is empty\n",
      "Center pixel is empty\n",
      "Center pixel is empty\n",
      "Center pixel is empty\n",
      "Center pixel is empty\n",
      "Center pixel is empty\n",
      "Center pixel is empty\n",
      "Center pixel is empty\n",
      "Center pixel is empty\n",
      "Center pixel is empty\n",
      "Center pixel is empty\n",
      "Center pixel is empty\n",
      "Center pixel is empty\n",
      "Center pixel is empty\n",
      "Center pixel is empty\n",
      "Center pixel is empty\n",
      "Center pixel is empty\n",
      "Center pixel is empty\n",
      "Center pixel is empty\n",
      "Center pixel is empty\n",
      "Center pixel is empty\n",
      "Center pixel is empty\n",
      "Center pixel is empty\n",
      "Center pixel is empty\n",
      "Center pixel is empty\n",
      "Center pixel is empty\n",
      "Center pixel is empty\n",
      "Center pixel is empty\n",
      "Center pixel is empty\n",
      "Center pixel is empty\n",
      "Center pixel is empty\n",
      "Center pixel is empty\n"
     ]
    }
   ],
   "source": [
    "annotations['kernel'] = annotations.apply(lambda x: retrieve_kernel(x['cor_x'],x['cor_y']), axis=1)"
   ]
  },
  {
   "cell_type": "code",
   "execution_count": 21,
   "metadata": {},
   "outputs": [],
   "source": [
    "# Filter out empty kernels\n",
    "annotations = annotations[annotations.apply(lambda x: x['kernel'] is not None, axis =1)]"
   ]
  },
  {
   "cell_type": "code",
   "execution_count": 49,
   "metadata": {},
   "outputs": [
    {
     "name": "stdout",
     "output_type": "stream",
     "text": [
      "Mos\n"
     ]
    },
    {
     "data": {
      "image/png": "[encoded data removed]",
      "text/plain": [
       "<Figure size 432x288 with 1 Axes>"
      ]
     },
     "metadata": {
      "needs_background": "light"
     },
     "output_type": "display_data"
    },
    {
     "name": "stdout",
     "output_type": "stream",
     "text": [
      "Open laag struweel\n"
     ]
    },
    {
     "data": {
      "image/png": "[encoded data removed]",
      "text/plain": [
       "<Figure size 432x288 with 1 Axes>"
      ]
     },
     "metadata": {
      "needs_background": "light"
     },
     "output_type": "display_data"
    },
    {
     "name": "stdout",
     "output_type": "stream",
     "text": [
      "Zand\n"
     ]
    },
    {
     "data": {
      "image/png": "[encoded data removed]",
      "text/plain": [
       "<Figure size 432x288 with 1 Axes>"
      ]
     },
     "metadata": {
      "needs_background": "light"
     },
     "output_type": "display_data"
    },
    {
     "name": "stdout",
     "output_type": "stream",
     "text": [
      "Open Duindoorn\n"
     ]
    },
    {
     "data": {
      "image/png": "[encoded data removed]",
      "text/plain": [
       "<Figure size 432x288 with 1 Axes>"
      ]
     },
     "metadata": {
      "needs_background": "light"
     },
     "output_type": "display_data"
    },
    {
     "name": "stdout",
     "output_type": "stream",
     "text": [
      "Dicht Duindoorn\n"
     ]
    },
    {
     "data": {
      "image/png": "[encoded data removed]",
      "text/plain": [
       "<Figure size 432x288 with 1 Axes>"
      ]
     },
     "metadata": {
      "needs_background": "light"
     },
     "output_type": "display_data"
    },
    {
     "name": "stdout",
     "output_type": "stream",
     "text": [
      "Lage kruiden-gras\n"
     ]
    },
    {
     "data": {
      "image/png": "[encoded data removed]",
      "text/plain": [
       "<Figure size 432x288 with 1 Axes>"
      ]
     },
     "metadata": {
      "needs_background": "light"
     },
     "output_type": "display_data"
    },
    {
     "name": "stdout",
     "output_type": "stream",
     "text": [
      "Hoge kruiden-gras\n"
     ]
    },
    {
     "data": {
      "image/png": "[encoded data removed]",
      "text/plain": [
       "<Figure size 432x288 with 1 Axes>"
      ]
     },
     "metadata": {
      "needs_background": "light"
     },
     "output_type": "display_data"
    },
    {
     "name": "stdout",
     "output_type": "stream",
     "text": [
      "Dicht laag struweel\n"
     ]
    },
    {
     "data": {
      "image/png": "[encoded data removed]",
      "text/plain": [
       "<Figure size 432x288 with 1 Axes>"
      ]
     },
     "metadata": {
      "needs_background": "light"
     },
     "output_type": "display_data"
    },
    {
     "name": "stdout",
     "output_type": "stream",
     "text": [
      "Open Hoog Struweel\n"
     ]
    },
    {
     "data": {
      "image/png": "[encoded data removed]",
      "text/plain": [
       "<Figure size 432x288 with 1 Axes>"
      ]
     },
     "metadata": {
      "needs_background": "light"
     },
     "output_type": "display_data"
    },
    {
     "name": "stdout",
     "output_type": "stream",
     "text": [
      "Dicht Hoog Struweel\n"
     ]
    },
    {
     "data": {
      "image/png": "[encoded data removed]",
      "text/plain": [
       "<Figure size 432x288 with 1 Axes>"
      ]
     },
     "metadata": {
      "needs_background": "light"
     },
     "output_type": "display_data"
    },
    {
     "name": "stdout",
     "output_type": "stream",
     "text": [
      "Naaldbos\n"
     ]
    },
    {
     "data": {
      "image/png": "[encoded data removed]",
      "text/plain": [
       "<Figure size 432x288 with 1 Axes>"
      ]
     },
     "metadata": {
      "needs_background": "light"
     },
     "output_type": "display_data"
    },
    {
     "name": "stdout",
     "output_type": "stream",
     "text": [
      "Loofbos\n"
     ]
    },
    {
     "data": {
      "image/png": "[encoded data removed]",
      "text/plain": [
       "<Figure size 432x288 with 1 Axes>"
      ]
     },
     "metadata": {
      "needs_background": "light"
     },
     "output_type": "display_data"
    },
    {
     "name": "stdout",
     "output_type": "stream",
     "text": [
      "Adelaarsvaren\n"
     ]
    },
    {
     "data": {
      "image/png": "[encoded data removed]",
      "text/plain": [
       "<Figure size 432x288 with 1 Axes>"
      ]
     },
     "metadata": {
      "needs_background": "light"
     },
     "output_type": "display_data"
    },
    {
     "name": "stdout",
     "output_type": "stream",
     "text": [
      "Heide\n"
     ]
    },
    {
     "data": {
      "image/png": "[encoded data removed]",
      "text/plain": [
       "<Figure size 432x288 with 1 Axes>"
      ]
     },
     "metadata": {
      "needs_background": "light"
     },
     "output_type": "display_data"
    },
    {
     "name": "stdout",
     "output_type": "stream",
     "text": [
      "Water, Overig\n"
     ]
    },
    {
     "data": {
      "image/png": "[encoded data removed]",
      "text/plain": [
       "<Figure size 432x288 with 1 Axes>"
      ]
     },
     "metadata": {
      "needs_background": "light"
     },
     "output_type": "display_data"
    },
    {
     "name": "stdout",
     "output_type": "stream",
     "text": [
      "Riet\n"
     ]
    },
    {
     "data": {
      "image/png": "[encoded data removed]",
      "text/plain": [
       "<Figure size 432x288 with 1 Axes>"
      ]
     },
     "metadata": {
      "needs_background": "light"
     },
     "output_type": "display_data"
    }
   ],
   "source": [
    "for annotation in annotations['label'].unique():\n",
    "    print(annotation)\n",
    "\n",
    "    nso_tif_kernel.plot_kernel(annotations[annotations['label'] == annotation].sample(1)['kernel'].values[0])"
   ]
  },
  {
   "cell_type": "code",
   "execution_count": 39,
   "metadata": {},
   "outputs": [],
   "source": [
    "annotations.to_csv(tif_file.split(\"/\")[-1]+\"_coordinates_rd_awd.csv\")"
   ]
  },
  {
   "cell_type": "code",
   "execution_count": 9,
   "metadata": {},
   "outputs": [],
   "source": [
    "annotations = pd.read_csv(tif_file.split(\"/\")[-1]+\"_coordinates_rd_awd.csv\")"
   ]
  },
  {
   "cell_type": "code",
   "execution_count": 12,
   "metadata": {},
   "outputs": [],
   "source": [
    "annotations = annotations.drop(['Unnamed: 0'],axis=1)"
   ]
  },
  {
   "cell_type": "markdown",
   "metadata": {},
   "source": [
    "# Median ec distance model"
   ]
  },
  {
   "cell_type": "code",
   "execution_count": 13,
   "metadata": {
    "collapsed": true
   },
   "outputs": [
    {
     "name": "stdout",
     "output_type": "stream",
     "text": [
      "Mos\n",
      "25676\n"
     ]
    },
    {
     "name": "stderr",
     "output_type": "stream",
     "text": [
      "C:\\ProgramData\\Anaconda3\\lib\\site-packages\\ipykernel_launcher.py:14: VisibleDeprecationWarning: Creating an ndarray from ragged nested sequences (which is a list-or-tuple of lists-or-tuples-or ndarrays with different lengths or shapes) is deprecated. If you meant to do this, you must specify 'dtype=object' when creating the ndarray.\n",
      "  \n"
     ]
    },
    {
     "name": "stdout",
     "output_type": "stream",
     "text": [
      "Open laag struweel\n",
      "25748\n",
      "Zand\n",
      "26579\n",
      "Open Duindoorn\n",
      "25455\n",
      "Dicht Duindoorn\n",
      "24900\n",
      "Lage kruiden-gras\n",
      "24775\n",
      "Hoge kruiden-gras\n",
      "25684\n",
      "Dicht laag struweel\n",
      "25343\n",
      "Open Hoog Struweel\n",
      "25417\n",
      "Dicht Hoog Struweel\n",
      "24745\n",
      "Naaldbos\n",
      "25068\n",
      "Loofbos\n",
      "25055\n",
      "Adelaarsvaren\n",
      "26076\n",
      "Heide\n",
      "14478\n",
      "Water, Overig\n",
      "22960\n",
      "Riet\n",
      "24039\n"
     ]
    }
   ],
   "source": [
    "np_array_median_annotation = np.array([])\n",
    "for label in annotations['label'].unique():\n",
    "    print(label)\n",
    "    anno_shapes = []\n",
    "    for shape in annotations[annotations['label'] == str(label)]['kernel'].values:\n",
    "        try:\n",
    "            if shape.shape == (6,32,32):\n",
    "               anno_shapes.append(shape) \n",
    "        except:\n",
    "            print(\"Faulty shape format\")\n",
    "        \n",
    "    print(len(anno_shapes))\n",
    "    \n",
    "    np_array_median_annotation = np.append(np_array_median_annotation, np.array([label, np.median(np.array(anno_shapes), axis=0)]) )\n",
    " "
   ]
  },
  {
   "cell_type": "code",
   "execution_count": 14,
   "metadata": {
    "collapsed": true
   },
   "outputs": [
    {
     "data": {
      "text/plain": [
       "(32,)"
      ]
     },
     "execution_count": 14,
     "metadata": {},
     "output_type": "execute_result"
    }
   ],
   "source": [
    "np_array_median_annotation.shape"
   ]
  },
  {
   "cell_type": "code",
   "execution_count": 15,
   "metadata": {},
   "outputs": [],
   "source": [
    "np_array_median_annotation = np_array_median_annotation.reshape(16,2)"
   ]
  },
  {
   "cell_type": "code",
   "execution_count": 50,
   "metadata": {
    "collapsed": true
   },
   "outputs": [
    {
     "data": {
      "text/plain": [
       "array([['Mos',\n",
       "        array([[[437. , 437. , 436. , ..., 436. , 436. , 436. ],\n",
       "                [437. , 437. , 437. , ..., 437. , 437. , 437. ],\n",
       "                [438. , 437. , 437. , ..., 437. , 437. , 437. ],\n",
       "                ...,\n",
       "                [444. , 444. , 445. , ..., 437. , 437. , 437. ],\n",
       "                [443. , 444. , 444. , ..., 437. , 437. , 436. ],\n",
       "                [443. , 444. , 444. , ..., 437. , 437. , 436. ]],\n",
       "\n",
       "               [[413. , 413. , 412. , ..., 411. , 412. , 412. ],\n",
       "                [412. , 413. , 413. , ..., 412. , 413. , 412. ],\n",
       "                [413. , 413. , 413. , ..., 413. , 413. , 413. ],\n",
       "                ...,\n",
       "                [424. , 424. , 425. , ..., 414. , 413. , 414. ],\n",
       "                [423. , 423.5, 424. , ..., 413. , 413. , 412. ],\n",
       "                [422. , 423. , 423. , ..., 413. , 413. , 412. ]],\n",
       "\n",
       "               [[329. , 329. , 328. , ..., 329. , 329. , 328. ],\n",
       "                [330. , 329. , 330. , ..., 330. , 330. , 329. ],\n",
       "                [330. , 330. , 329. , ..., 330. , 330. , 330. ],\n",
       "                ...,\n",
       "                [341. , 342. , 342. , ..., 331. , 330. , 330. ],\n",
       "                [341. , 342. , 342. , ..., 330. , 330. , 329. ],\n",
       "                [340. , 341. , 341. , ..., 330. , 329. , 328. ]],\n",
       "\n",
       "               [[657. , 656. , 657. , ..., 658. , 659. , 659. ],\n",
       "                [656. , 656. , 657. , ..., 659. , 659. , 659. ],\n",
       "                [656. , 656. , 657. , ..., 659. , 659. , 659. ],\n",
       "                ...,\n",
       "                [662. , 662. , 661. , ..., 657. , 657. , 657. ],\n",
       "                [660. , 660. , 660. , ..., 658. , 657. , 657. ],\n",
       "                [660. , 661. , 660. , ..., 657. , 656. , 656. ]],\n",
       "\n",
       "               [[ 77. ,  77. ,  77. , ...,  78. ,  78. ,  78. ],\n",
       "                [ 77. ,  77. ,  77. , ...,  78. ,  78. ,  78. ],\n",
       "                [ 77. ,  77. ,  77. , ...,  77. ,  77. ,  77. ],\n",
       "                ...,\n",
       "                [ 73. ,  73. ,  73. , ...,  76. ,  76. ,  76. ],\n",
       "                [ 74. ,  74. ,  74. , ...,  76. ,  76. ,  76. ],\n",
       "                [ 74. ,  74. ,  74. , ...,  76. ,  76. ,  77. ]],\n",
       "\n",
       "               [[  1. ,   1. ,   1. , ...,   1. ,   1. ,   1. ],\n",
       "                [  1. ,   1. ,   1. , ...,   1. ,   1. ,   1. ],\n",
       "                [  1. ,   1. ,   1. , ...,   1. ,   1. ,   1. ],\n",
       "                ...,\n",
       "                [  1. ,   1. ,   1. , ...,   1. ,   1. ,   1. ],\n",
       "                [  1. ,   1. ,   1. , ...,   1. ,   1. ,   1. ],\n",
       "                [  1. ,   1. ,   1. , ...,   1. ,   1. ,   1. ]]])],\n",
       "       ['Open laag struweel',\n",
       "        array([[[424., 424., 424., ..., 424., 423., 423.],\n",
       "                [424., 424., 424., ..., 423., 423., 423.],\n",
       "                [424., 424., 424., ..., 423., 423., 423.],\n",
       "                ...,\n",
       "                [423., 423., 423., ..., 424., 424., 424.],\n",
       "                [424., 424., 424., ..., 424., 425., 425.],\n",
       "                [425., 424., 424., ..., 425., 425., 425.]],\n",
       "\n",
       "               [[396., 396., 396., ..., 395., 395., 395.],\n",
       "                [396., 396., 396., ..., 395., 394., 394.],\n",
       "                [396., 396., 396., ..., 394., 394., 394.],\n",
       "                ...,\n",
       "                [394., 394., 394., ..., 395., 396., 396.],\n",
       "                [395., 395., 395., ..., 396., 396., 396.],\n",
       "                [396., 396., 395., ..., 396., 397., 397.]],\n",
       "\n",
       "               [[313., 313., 313., ..., 312., 312., 312.],\n",
       "                [313., 312., 312., ..., 312., 311., 311.],\n",
       "                [312., 312., 312., ..., 311., 311., 311.],\n",
       "                ...,\n",
       "                [310., 310., 310., ..., 312., 312., 313.],\n",
       "                [311., 311., 311., ..., 313., 313., 313.],\n",
       "                [312., 312., 312., ..., 313., 313., 314.]],\n",
       "\n",
       "               [[651., 651., 651., ..., 648., 647., 646.],\n",
       "                [651., 651., 650., ..., 647., 647., 646.],\n",
       "                [650., 650., 650., ..., 646., 646., 645.],\n",
       "                ...,\n",
       "                [649., 650., 651., ..., 651., 651., 651.],\n",
       "                [650., 652., 651., ..., 651., 651., 651.],\n",
       "                [650., 651., 651., ..., 651., 651., 651.]],\n",
       "\n",
       "               [[ 84.,  84.,  84., ...,  85.,  84.,  85.],\n",
       "                [ 84.,  85.,  85., ...,  85.,  85.,  85.],\n",
       "                [ 85.,  85.,  85., ...,  85.,  85.,  85.],\n",
       "                ...,\n",
       "                [ 85.,  85.,  86., ...,  85.,  85.,  85.],\n",
       "                [ 85.,  85.,  85., ...,  85.,  85.,  84.],\n",
       "                [ 85.,  85.,  85., ...,  84.,  84.,  84.]],\n",
       "\n",
       "               [[ 21.,  21.,  21., ...,  21.,  21.,  21.],\n",
       "                [ 21.,  21.,  21., ...,  21.,  21.,  21.],\n",
       "                [ 22.,  22.,  22., ...,  22.,  22.,  22.],\n",
       "                ...,\n",
       "                [ 22.,  22.,  23., ...,  22.,  21.,  21.],\n",
       "                [ 22.,  22.,  22., ...,  21.,  21.,  21.],\n",
       "                [ 22.,  22.,  22., ...,  21.,  21.,  21.]]])],\n",
       "       ['Zand', array([[[493., 494., 494., ..., 479., 479., 478.],\n",
       "                        [495., 496., 497., ..., 480., 479., 479.],\n",
       "                        [498., 498., 498., ..., 481., 480., 480.],\n",
       "                        ...,\n",
       "                        [522., 522., 521., ..., 476., 474., 472.],\n",
       "                        [520., 520., 520., ..., 474., 471., 470.],\n",
       "                        [518., 518., 517., ..., 473., 470., 469.]],\n",
       "\n",
       "                       [[500., 500., 501., ..., 481., 480., 480.],\n",
       "                        [503., 504., 505., ..., 482., 482., 481.],\n",
       "                        [506., 507., 508., ..., 483., 484., 482.],\n",
       "                        ...,\n",
       "                        [545., 545., 544., ..., 477., 475., 471.],\n",
       "                        [542., 542., 542., ..., 474., 471., 469.],\n",
       "                        [539., 539., 538., ..., 473., 469., 467.]],\n",
       "\n",
       "                       [[420., 421., 421., ..., 397., 396., 395.],\n",
       "                        [424., 426., 427., ..., 398., 397., 396.],\n",
       "                        [428., 429., 430., ..., 399., 399., 398.],\n",
       "                        ...,\n",
       "                        [470., 470., 470., ..., 393., 390., 386.],\n",
       "                        [469., 467., 468., ..., 390., 386., 384.],\n",
       "                        [465., 465., 463., ..., 388., 384., 382.]],\n",
       "\n",
       "                       [[761., 761., 760., ..., 751., 752., 751.],\n",
       "                        [761., 763., 762., ..., 752., 751., 753.],\n",
       "                        [763., 763., 764., ..., 754., 754., 753.],\n",
       "                        ...,\n",
       "                        [774., 774., 774., ..., 747., 745., 744.],\n",
       "                        [772., 772., 772., ..., 746., 743., 743.],\n",
       "                        [771., 770., 770., ..., 743., 742., 741.]],\n",
       "\n",
       "                       [[ 61.,  61.,  61., ...,  66.,  66.,  67.],\n",
       "                        [ 60.,  60.,  60., ...,  66.,  66.,  67.],\n",
       "                        [ 60.,  60.,  60., ...,  65.,  66.,  66.],\n",
       "                        ...,\n",
       "                        [ 55.,  55.,  55., ...,  67.,  68.,  68.],\n",
       "                        [ 55.,  55.,  55., ...,  68.,  68.,  69.],\n",
       "                        [ 56.,  56.,  56., ...,  68.,  69.,  69.]],\n",
       "\n",
       "                       [[ 15.,  15.,  16., ...,  21.,  21.,  21.],\n",
       "                        [ 15.,  15.,  16., ...,  21.,  21.,  21.],\n",
       "                        [ 16.,  16.,  16., ...,  21.,  21.,  21.],\n",
       "                        ...,\n",
       "                        [ 15.,  15.,  16., ...,  20.,  21.,  21.],\n",
       "                        [ 16.,  16.,  16., ...,  20.,  21.,  21.],\n",
       "                        [ 16.,  16.,  16., ...,  21.,  21.,  21.]]])],\n",
       "       ['Open Duindoorn',\n",
       "        array([[[406., 406., 406., ..., 405., 405., 405.],\n",
       "                [406., 406., 406., ..., 405., 405., 405.],\n",
       "                [406., 406., 406., ..., 405., 405., 405.],\n",
       "                ...,\n",
       "                [404., 404., 404., ..., 404., 404., 405.],\n",
       "                [404., 404., 404., ..., 405., 404., 405.],\n",
       "                [404., 404., 404., ..., 404., 405., 405.]],\n",
       "\n",
       "               [[377., 377., 376., ..., 375., 375., 375.],\n",
       "                [376., 376., 376., ..., 375., 375., 375.],\n",
       "                [376., 376., 375., ..., 375., 375., 375.],\n",
       "                ...,\n",
       "                [373., 373., 373., ..., 374., 374., 374.],\n",
       "                [373., 373., 373., ..., 374., 374., 374.],\n",
       "                [374., 374., 373., ..., 374., 374., 374.]],\n",
       "\n",
       "               [[287., 287., 287., ..., 285., 286., 285.],\n",
       "                [287., 287., 287., ..., 285., 286., 286.],\n",
       "                [286., 286., 286., ..., 285., 286., 285.],\n",
       "                ...,\n",
       "                [282., 282., 281., ..., 283., 283., 284.],\n",
       "                [282., 283., 282., ..., 284., 284., 284.],\n",
       "                [283., 282., 282., ..., 283., 284., 285.]],\n",
       "\n",
       "               [[683., 682., 682., ..., 684., 683., 683.],\n",
       "                [682., 683., 683., ..., 684., 684., 683.],\n",
       "                [683., 683., 683., ..., 684., 683., 684.],\n",
       "                ...,\n",
       "                [687., 687., 685., ..., 681., 681., 681.],\n",
       "                [687., 687., 686., ..., 682., 680., 680.],\n",
       "                [687., 687., 686., ..., 681., 681., 680.]],\n",
       "\n",
       "               [[ 99.,  99., 100., ..., 100., 100., 100.],\n",
       "                [100., 100., 100., ..., 100., 100., 100.],\n",
       "                [100., 100., 100., ..., 101., 100., 100.],\n",
       "                ...,\n",
       "                [103., 103., 103., ..., 101., 101., 101.],\n",
       "                [103., 103., 103., ..., 101., 101., 101.],\n",
       "                [103., 103., 103., ..., 101., 101., 100.]],\n",
       "\n",
       "               [[ 30.,  30.,  31., ...,  32.,  32.,  32.],\n",
       "                [ 30.,  30.,  31., ...,  32.,  32.,  32.],\n",
       "                [ 31.,  31.,  31., ...,  33.,  32.,  32.],\n",
       "                ...,\n",
       "                [ 34.,  34.,  34., ...,  33.,  32.,  32.],\n",
       "                [ 33.,  33.,  34., ...,  32.,  31.,  31.],\n",
       "                [ 33.,  33.,  34., ...,  32.,  31.,  32.]]])],\n",
       "       ['Dicht Duindoorn',\n",
       "        array([[[388. , 387. , 387. , ..., 389. , 389. , 388. ],\n",
       "                [387. , 387. , 387. , ..., 388. , 389. , 389. ],\n",
       "                [387. , 387. , 387. , ..., 388. , 389. , 389. ],\n",
       "                ...,\n",
       "                [387. , 387. , 387. , ..., 388. , 388. , 388. ],\n",
       "                [387. , 387. , 387. , ..., 389. , 389. , 389. ],\n",
       "                [387. , 387. , 387. , ..., 388. , 389. , 389. ]],\n",
       "\n",
       "               [[353. , 354. , 353. , ..., 355. , 355. , 355. ],\n",
       "                [353. , 353. , 353. , ..., 354. , 355. , 355. ],\n",
       "                [353. , 353. , 353. , ..., 354. , 355. , 355. ],\n",
       "                ...,\n",
       "                [352. , 352. , 352. , ..., 354. , 354.5, 355. ],\n",
       "                [353. , 352. , 352. , ..., 355. , 355. , 355. ],\n",
       "                [353. , 353. , 353. , ..., 355. , 355. , 355. ]],\n",
       "\n",
       "               [[252. , 252. , 252. , ..., 254. , 254. , 254. ],\n",
       "                [252. , 251. , 252. , ..., 254. , 255. , 255. ],\n",
       "                [251. , 252. , 252. , ..., 254. , 254. , 255. ],\n",
       "                ...,\n",
       "                [251. , 251. , 251. , ..., 254. , 254. , 254. ],\n",
       "                [251. , 251. , 252. , ..., 254. , 254. , 255. ],\n",
       "                [252. , 252. , 252. , ..., 254. , 254. , 255. ]],\n",
       "\n",
       "               [[699. , 698. , 701. , ..., 700. , 699. , 699. ],\n",
       "                [700. , 701. , 703. , ..., 700. , 700. , 699. ],\n",
       "                [702. , 702. , 702. , ..., 700. , 699. , 699. ],\n",
       "                ...,\n",
       "                [713. , 713. , 715. , ..., 703. , 701. , 699. ],\n",
       "                [712. , 714. , 715. , ..., 701. , 700. , 699. ],\n",
       "                [713. , 714. , 716. , ..., 702. , 700. , 699. ]],\n",
       "\n",
       "               [[115. , 115. , 116. , ..., 116. , 115. , 115. ],\n",
       "                [115. , 116. , 116. , ..., 116. , 116. , 115. ],\n",
       "                [116. , 116. , 116. , ..., 116. , 116. , 116. ],\n",
       "                ...,\n",
       "                [121. , 121. , 121. , ..., 117. , 116. , 116. ],\n",
       "                [120. , 120. , 121. , ..., 117. , 116. , 116. ],\n",
       "                [120. , 120. , 120. , ..., 116. , 116. , 116. ]],\n",
       "\n",
       "               [[ 54. ,  54. ,  55. , ...,  56. ,  56. ,  56. ],\n",
       "                [ 54. ,  54. ,  55. , ...,  56. ,  56. ,  56. ],\n",
       "                [ 55. ,  55. ,  56. , ...,  56. ,  56. ,  56. ],\n",
       "                ...,\n",
       "                [ 58. ,  58. ,  58. , ...,  56. ,  56. ,  56. ],\n",
       "                [ 57. ,  57. ,  58. , ...,  56. ,  55. ,  55. ],\n",
       "                [ 57. ,  57. ,  58. , ...,  56. ,  55. ,  55. ]]])],\n",
       "       ['Lage kruiden-gras',\n",
       "        array([[[409., 409., 409., ..., 409., 409., 409.],\n",
       "                [409., 409., 409., ..., 409., 409., 409.],\n",
       "                [409., 409., 409., ..., 409., 409., 409.],\n",
       "                ...,\n",
       "                [410., 410., 411., ..., 410., 409., 409.],\n",
       "                [410., 410., 410., ..., 409., 409., 409.],\n",
       "                [410., 410., 410., ..., 409., 409., 409.]],\n",
       "\n",
       "               [[380., 380., 380., ..., 380., 380., 379.],\n",
       "                [380., 380., 380., ..., 380., 380., 380.],\n",
       "                [380., 380., 380., ..., 380., 380., 380.],\n",
       "                ...,\n",
       "                [381., 382., 382., ..., 381., 381., 381.],\n",
       "                [381., 381., 382., ..., 381., 381., 381.],\n",
       "                [381., 382., 382., ..., 381., 381., 381.]],\n",
       "\n",
       "               [[296., 296., 296., ..., 297., 297., 296.],\n",
       "                [296., 296., 296., ..., 297., 297., 297.],\n",
       "                [296., 297., 296., ..., 297., 297., 297.],\n",
       "                ...,\n",
       "                [298., 299., 299., ..., 298., 298., 298.],\n",
       "                [298., 299., 299., ..., 298., 298., 297.],\n",
       "                [299., 298., 299., ..., 298., 297., 298.]],\n",
       "\n",
       "               [[654., 655., 655., ..., 654., 653., 653.],\n",
       "                [654., 654., 654., ..., 653., 653., 653.],\n",
       "                [654., 655., 655., ..., 653., 653., 653.],\n",
       "                ...,\n",
       "                [650., 651., 652., ..., 650., 651., 651.],\n",
       "                [651., 651., 651., ..., 651., 650., 651.],\n",
       "                [650., 650., 650., ..., 650., 651., 651.]],\n",
       "\n",
       "               [[ 91.,  91.,  91., ...,  91.,  91.,  91.],\n",
       "                [ 91.,  91.,  91., ...,  91.,  91.,  91.],\n",
       "                [ 91.,  91.,  91., ...,  91.,  91.,  91.],\n",
       "                ...,\n",
       "                [ 91.,  91.,  91., ...,  91.,  91.,  91.],\n",
       "                [ 91.,  91.,  91., ...,  91.,  91.,  91.],\n",
       "                [ 91.,  91.,  91., ...,  91.,  91.,  91.]],\n",
       "\n",
       "               [[ 19.,  19.,  20., ...,  20.,  20.,  20.],\n",
       "                [ 19.,  19.,  20., ...,  20.,  20.,  20.],\n",
       "                [ 19.,  19.,  20., ...,  20.,  20.,  20.],\n",
       "                ...,\n",
       "                [  1.,   1.,  10., ...,  18.,  17.,  17.],\n",
       "                [  1.,   1.,  12., ...,  15.,  16.,  16.],\n",
       "                [  1.,   1.,  13., ...,  15.,  17.,  17.]]])],\n",
       "       ['Hoge kruiden-gras',\n",
       "        array([[[403. , 403. , 404. , ..., 403. , 403. , 403. ],\n",
       "                [404. , 404. , 403. , ..., 403. , 403. , 403. ],\n",
       "                [404. , 403. , 403. , ..., 403. , 403. , 404. ],\n",
       "                ...,\n",
       "                [405. , 405. , 405. , ..., 404. , 404. , 404. ],\n",
       "                [405. , 405. , 405. , ..., 404. , 405. , 405. ],\n",
       "                [405. , 405. , 405. , ..., 405. , 404. , 405. ]],\n",
       "\n",
       "               [[375. , 375. , 375. , ..., 375. , 375. , 375. ],\n",
       "                [375. , 375. , 375. , ..., 375. , 375. , 375. ],\n",
       "                [375. , 375. , 375. , ..., 375. , 375. , 375. ],\n",
       "                ...,\n",
       "                [376. , 377. , 377. , ..., 376. , 376. , 376. ],\n",
       "                [377. , 377. , 377. , ..., 376. , 376. , 376. ],\n",
       "                [377. , 377. , 377. , ..., 376. , 376. , 376. ]],\n",
       "\n",
       "               [[286. , 287. , 287. , ..., 287. , 286. , 286. ],\n",
       "                [287. , 287. , 286. , ..., 287. , 287. , 287. ],\n",
       "                [287. , 286. , 286. , ..., 287. , 287. , 286. ],\n",
       "                ...,\n",
       "                [289. , 289. , 289. , ..., 288. , 288. , 288. ],\n",
       "                [289. , 289. , 289. , ..., 288. , 288. , 289. ],\n",
       "                [290. , 289. , 289. , ..., 289. , 289. , 289. ]],\n",
       "\n",
       "               [[672. , 672. , 674. , ..., 672. , 673. , 673. ],\n",
       "                [672. , 672. , 673. , ..., 673. , 673. , 673. ],\n",
       "                [672. , 672. , 673. , ..., 673. , 673. , 672. ],\n",
       "                ...,\n",
       "                [675. , 675. , 675. , ..., 672. , 674. , 673. ],\n",
       "                [675. , 675. , 676. , ..., 673. , 673.5, 674. ],\n",
       "                [676. , 675. , 675. , ..., 673. , 673. , 673. ]],\n",
       "\n",
       "               [[ 97. ,  97. ,  97. , ...,  97. ,  97. ,  97. ],\n",
       "                [ 97. ,  97. ,  97. , ...,  97. ,  97. ,  97. ],\n",
       "                [ 97. ,  97. ,  97. , ...,  97. ,  97. ,  97. ],\n",
       "                ...,\n",
       "                [ 97. ,  97. ,  97. , ...,  97. ,  97. ,  97. ],\n",
       "                [ 97. ,  97. ,  97. , ...,  97. ,  97. ,  97. ],\n",
       "                [ 97. ,  97. ,  97. , ...,  97. ,  97. ,  97. ]],\n",
       "\n",
       "               [[ 25. ,  26. ,  26. , ...,  27. ,  27. ,  27. ],\n",
       "                [ 26. ,  26. ,  26. , ...,  27. ,  27. ,  27. ],\n",
       "                [ 26. ,  26. ,  26. , ...,  27. ,  27. ,  27. ],\n",
       "                ...,\n",
       "                [ 27. ,  27. ,  26. , ...,  26. ,  26. ,  26. ],\n",
       "                [ 26. ,  26. ,  26. , ...,  26. ,  26. ,  26. ],\n",
       "                [ 26. ,  26. ,  26. , ...,  26. ,  26. ,  26. ]]])],\n",
       "       ['Dicht laag struweel',\n",
       "        array([[[423., 422., 422., ..., 420., 420., 420.],\n",
       "                [422., 421., 421., ..., 419., 419., 420.],\n",
       "                [421., 421., 421., ..., 418., 419., 419.],\n",
       "                ...,\n",
       "                [417., 417., 417., ..., 421., 421., 422.],\n",
       "                [417., 417., 417., ..., 422., 422., 422.],\n",
       "                [418., 418., 418., ..., 422., 423., 423.]],\n",
       "\n",
       "               [[395., 394., 394., ..., 390., 391., 391.],\n",
       "                [394., 393., 393., ..., 389., 390., 390.],\n",
       "                [393., 392., 392., ..., 388., 389., 389.],\n",
       "                ...,\n",
       "                [386., 386., 386., ..., 391., 392., 392.],\n",
       "                [387., 386., 386., ..., 392., 393., 393.],\n",
       "                [388., 388., 387., ..., 393., 394., 394.]],\n",
       "\n",
       "               [[308., 308., 307., ..., 304., 305., 305.],\n",
       "                [308., 306., 306., ..., 303., 303., 304.],\n",
       "                [306., 306., 305., ..., 302., 302., 303.],\n",
       "                ...,\n",
       "                [297., 297., 297., ..., 303., 304., 304.],\n",
       "                [298., 298., 298., ..., 305., 306., 306.],\n",
       "                [299., 299., 299., ..., 305., 306., 307.]],\n",
       "\n",
       "               [[670., 669., 668., ..., 659., 659., 658.],\n",
       "                [669., 668., 667., ..., 657., 658., 658.],\n",
       "                [668., 667., 667., ..., 657., 658., 659.],\n",
       "                ...,\n",
       "                [659., 658., 659., ..., 658., 660., 659.],\n",
       "                [660., 660., 659., ..., 659., 660., 661.],\n",
       "                [660., 660., 660., ..., 660., 661., 660.]],\n",
       "\n",
       "               [[ 90.,  90.,  90., ...,  91.,  90.,  90.],\n",
       "                [ 90.,  90.,  90., ...,  91.,  91.,  90.],\n",
       "                [ 91.,  91.,  91., ...,  91.,  91.,  91.],\n",
       "                ...,\n",
       "                [ 93.,  93.,  94., ...,  90.,  90.,  90.],\n",
       "                [ 93.,  93.,  93., ...,  90.,  90.,  89.],\n",
       "                [ 93.,  93.,  93., ...,  89.,  89.,  89.]],\n",
       "\n",
       "               [[ 28.,  28.,  28., ...,  30.,  29.,  29.],\n",
       "                [ 29.,  28.,  28., ...,  30.,  29.,  29.],\n",
       "                [ 30.,  29.,  30., ...,  30.,  30.,  30.],\n",
       "                ...,\n",
       "                [ 31.,  31.,  31., ...,  29.,  29.,  29.],\n",
       "                [ 30.,  30.,  30., ...,  28.,  28.,  28.],\n",
       "                [ 30.,  30.,  30., ...,  28.,  28.,  28.]]])],\n",
       "       ['Open Hoog Struweel',\n",
       "        array([[[395., 395., 395., ..., 395., 395., 395.],\n",
       "                [395., 395., 395., ..., 395., 395., 395.],\n",
       "                [395., 395., 395., ..., 395., 395., 394.],\n",
       "                ...,\n",
       "                [393., 393., 393., ..., 395., 395., 395.],\n",
       "                [393., 393., 393., ..., 395., 395., 395.],\n",
       "                [393., 393., 393., ..., 395., 395., 395.]],\n",
       "\n",
       "               [[363., 364., 364., ..., 364., 364., 364.],\n",
       "                [364., 364., 364., ..., 363., 363., 363.],\n",
       "                [363., 363., 363., ..., 363., 363., 363.],\n",
       "                ...,\n",
       "                [361., 360., 360., ..., 363., 363., 363.],\n",
       "                [361., 361., 361., ..., 363., 364., 364.],\n",
       "                [361., 361., 361., ..., 363., 364., 364.]],\n",
       "\n",
       "               [[270., 270., 270., ..., 270., 271., 270.],\n",
       "                [270., 270., 270., ..., 270., 270., 270.],\n",
       "                [269., 269., 269., ..., 269., 270., 269.],\n",
       "                ...,\n",
       "                [266., 265., 265., ..., 269., 269., 269.],\n",
       "                [266., 266., 265., ..., 269., 269., 270.],\n",
       "                [266., 265., 265., ..., 269., 270., 270.]],\n",
       "\n",
       "               [[679., 680., 680., ..., 679., 678., 678.],\n",
       "                [679., 680., 680., ..., 678., 678., 678.],\n",
       "                [678., 679., 680., ..., 678., 678., 678.],\n",
       "                ...,\n",
       "                [680., 681., 681., ..., 680., 680., 679.],\n",
       "                [680., 680., 681., ..., 680., 679., 679.],\n",
       "                [678., 680., 681., ..., 679., 678., 678.]],\n",
       "\n",
       "               [[105., 105., 105., ..., 105., 105., 105.],\n",
       "                [105., 106., 106., ..., 106., 106., 106.],\n",
       "                [105., 106., 106., ..., 106., 106., 106.],\n",
       "                ...,\n",
       "                [108., 108., 109., ..., 107., 107., 107.],\n",
       "                [108., 108., 108., ..., 107., 107., 107.],\n",
       "                [108., 108., 108., ..., 107., 106., 106.]],\n",
       "\n",
       "               [[ 51.,  51.,  53., ...,  55.,  56.,  56.],\n",
       "                [ 52.,  52.,  53., ...,  55.,  56.,  56.],\n",
       "                [ 55.,  55.,  55., ...,  59.,  58.,  58.],\n",
       "                ...,\n",
       "                [ 59.,  59.,  61., ...,  58.,  55.,  55.],\n",
       "                [ 58.,  58.,  59., ...,  56.,  53.,  53.],\n",
       "                [ 58.,  58.,  59., ...,  56.,  53.,  53.]]])],\n",
       "       ['Dicht Hoog Struweel',\n",
       "        array([[[385., 385., 385., ..., 386., 386., 387.],\n",
       "                [385., 384., 385., ..., 385., 386., 386.],\n",
       "                [384., 384., 384., ..., 385., 385., 386.],\n",
       "                ...,\n",
       "                [384., 384., 384., ..., 387., 387., 387.],\n",
       "                [384., 385., 385., ..., 387., 387., 387.],\n",
       "                [385., 385., 385., ..., 387., 387., 387.]],\n",
       "\n",
       "               [[351., 351., 351., ..., 353., 353., 354.],\n",
       "                [351., 351., 351., ..., 352., 353., 353.],\n",
       "                [350., 349., 350., ..., 352., 352., 353.],\n",
       "                ...,\n",
       "                [350., 351., 351., ..., 354., 354., 355.],\n",
       "                [351., 351., 351., ..., 354., 355., 354.],\n",
       "                [351., 351., 351., ..., 354., 354., 355.]],\n",
       "\n",
       "               [[248., 247., 247., ..., 249., 250., 251.],\n",
       "                [247., 246., 247., ..., 249., 249., 250.],\n",
       "                [246., 245., 246., ..., 248., 249., 249.],\n",
       "                ...,\n",
       "                [245., 246., 247., ..., 251., 251., 251.],\n",
       "                [247., 247., 247., ..., 251., 251., 251.],\n",
       "                [247., 247., 247., ..., 251., 251., 252.]],\n",
       "\n",
       "               [[687., 687., 688., ..., 692., 692., 690.],\n",
       "                [688., 687., 687., ..., 690., 691., 690.],\n",
       "                [688., 688., 687., ..., 691., 689., 689.],\n",
       "                ...,\n",
       "                [700., 703., 704., ..., 699., 697., 694.],\n",
       "                [701., 702., 703., ..., 696., 696., 694.],\n",
       "                [701., 702., 703., ..., 693., 694., 693.]],\n",
       "\n",
       "               [[114., 114., 114., ..., 114., 114., 114.],\n",
       "                [114., 114., 114., ..., 114., 114., 114.],\n",
       "                [114., 115., 115., ..., 115., 114., 114.],\n",
       "                ...,\n",
       "                [119., 119., 119., ..., 116., 116., 115.],\n",
       "                [119., 119., 119., ..., 116., 115., 115.],\n",
       "                [118., 119., 119., ..., 115., 115., 114.]],\n",
       "\n",
       "               [[ 66.,  66.,  67., ...,  68.,  67.,  67.],\n",
       "                [ 66.,  66.,  67., ...,  68.,  67.,  67.],\n",
       "                [ 67.,  67.,  68., ...,  70.,  69.,  69.],\n",
       "                ...,\n",
       "                [ 71.,  71.,  71., ...,  68.,  67.,  67.],\n",
       "                [ 69.,  69.,  70., ...,  66.,  65.,  65.],\n",
       "                [ 69.,  69.,  70., ...,  66.,  65.,  65.]]])],\n",
       "       ['Naaldbos',\n",
       "        array([[[348. , 349. , 349. , ..., 347. , 347. , 348. ],\n",
       "                [348. , 349. , 349. , ..., 348. , 348. , 348. ],\n",
       "                [348. , 348. , 349. , ..., 348. , 348. , 348. ],\n",
       "                ...,\n",
       "                [350. , 350. , 350. , ..., 351. , 350. , 351. ],\n",
       "                [350. , 350. , 351. , ..., 351. , 351. , 351. ],\n",
       "                [350. , 350. , 350. , ..., 351. , 351. , 351. ]],\n",
       "\n",
       "               [[288. , 288. , 288. , ..., 287. , 287. , 287. ],\n",
       "                [288. , 288. , 288. , ..., 288. , 288. , 288. ],\n",
       "                [288. , 288. , 288. , ..., 287. , 288. , 288. ],\n",
       "                ...,\n",
       "                [291. , 291. , 291. , ..., 293. , 292. , 293. ],\n",
       "                [291. , 292. , 292. , ..., 293. , 293. , 293. ],\n",
       "                [291. , 291.5, 292. , ..., 293. , 293. , 293. ]],\n",
       "\n",
       "               [[192. , 192. , 192. , ..., 191. , 191. , 191. ],\n",
       "                [192. , 192. , 192. , ..., 191. , 192. , 192. ],\n",
       "                [192. , 192. , 192. , ..., 191. , 192. , 192. ],\n",
       "                ...,\n",
       "                [195. , 194. , 195. , ..., 196. , 195. , 196. ],\n",
       "                [195. , 195. , 195. , ..., 196. , 196. , 196. ],\n",
       "                [195. , 195. , 195. , ..., 196. , 196. , 196. ]],\n",
       "\n",
       "               [[560. , 562. , 562. , ..., 564. , 564. , 564.5],\n",
       "                [560. , 562. , 564. , ..., 567. , 567. , 569. ],\n",
       "                [560. , 562. , 561. , ..., 566. , 567. , 568. ],\n",
       "                ...,\n",
       "                [576. , 576. , 576. , ..., 584. , 585. , 585. ],\n",
       "                [577. , 576. , 577. , ..., 587. , 586. , 586. ],\n",
       "                [575. , 577. , 577. , ..., 587. , 586. , 587. ]],\n",
       "\n",
       "               [[120. , 120. , 120. , ..., 121. , 121. , 121. ],\n",
       "                [120. , 120. , 120. , ..., 121. , 121. , 121. ],\n",
       "                [120. , 120. , 120. , ..., 121. , 121. , 122. ],\n",
       "                ...,\n",
       "                [122. , 121. , 121. , ..., 122. , 123. , 122. ],\n",
       "                [122. , 122. , 122. , ..., 122. , 122. , 122. ],\n",
       "                [122. , 122. , 122. , ..., 122. , 122. , 122. ]],\n",
       "\n",
       "               [[181. , 181. , 182. , ..., 184. , 184. , 184. ],\n",
       "                [181. , 181. , 182. , ..., 184. , 184. , 184. ],\n",
       "                [182. , 182. , 182. , ..., 184. , 184. , 184. ],\n",
       "                ...,\n",
       "                [182. , 182. , 182. , ..., 185. , 185. , 185. ],\n",
       "                [182. , 182. , 182. , ..., 184. , 184. , 184. ],\n",
       "                [182. , 182. , 182. , ..., 184. , 184. , 184. ]]])],\n",
       "       ['Loofbos', array([[[363., 363., 363., ..., 365., 365., 365.],\n",
       "                           [364., 363., 363., ..., 365., 365., 365.],\n",
       "                           [363., 363., 363., ..., 364., 365., 365.],\n",
       "                           ...,\n",
       "                           [364., 364., 364., ..., 366., 367., 367.],\n",
       "                           [364., 365., 364., ..., 366., 367., 367.],\n",
       "                           [365., 365., 365., ..., 366., 366., 366.]],\n",
       "\n",
       "                          [[316., 316., 315., ..., 318., 318., 318.],\n",
       "                           [316., 315., 315., ..., 318., 319., 318.],\n",
       "                           [315., 315., 315., ..., 318., 318., 318.],\n",
       "                           ...,\n",
       "                           [318., 318., 318., ..., 322., 322., 322.],\n",
       "                           [318., 319., 318., ..., 321., 322., 322.],\n",
       "                           [319., 319., 318., ..., 322., 322., 322.]],\n",
       "\n",
       "                          [[213., 213., 213., ..., 215., 215., 215.],\n",
       "                           [214., 213., 213., ..., 215., 216., 215.],\n",
       "                           [213., 213., 212., ..., 215., 215., 215.],\n",
       "                           ...,\n",
       "                           [214., 215., 215., ..., 217., 218., 218.],\n",
       "                           [215., 215., 215., ..., 217., 218., 218.],\n",
       "                           [215., 215., 215., ..., 217., 218., 218.]],\n",
       "\n",
       "                          [[702., 703., 702., ..., 713., 714., 712.],\n",
       "                           [703., 702., 701., ..., 715., 715., 715.],\n",
       "                           [703., 702., 701., ..., 714., 715., 716.],\n",
       "                           ...,\n",
       "                           [725., 728., 728., ..., 738., 736., 737.],\n",
       "                           [728., 729., 730., ..., 737., 738., 736.],\n",
       "                           [728., 729., 729., ..., 735., 736., 734.]],\n",
       "\n",
       "                          [[133., 133., 133., ..., 134., 134., 134.],\n",
       "                           [133., 133., 133., ..., 134., 134., 134.],\n",
       "                           [133., 133., 133., ..., 134., 134., 134.],\n",
       "                           ...,\n",
       "                           [137., 137., 137., ..., 137., 137., 137.],\n",
       "                           [137., 137., 137., ..., 137., 137., 137.],\n",
       "                           [137., 137., 137., ..., 137., 137., 137.]],\n",
       "\n",
       "                          [[139., 139., 141., ..., 143., 143., 143.],\n",
       "                           [139., 139., 141., ..., 143., 143., 143.],\n",
       "                           [141., 140., 142., ..., 145., 144., 144.],\n",
       "                           ...,\n",
       "                           [144., 144., 144., ..., 144., 143., 143.],\n",
       "                           [143., 143., 143., ..., 143., 142., 142.],\n",
       "                           [143., 143., 143., ..., 143., 142., 142.]]])],\n",
       "       ['Adelaarsvaren',\n",
       "        array([[[3.730e+02, 3.730e+02, 3.730e+02, ..., 3.720e+02, 3.720e+02,\n",
       "                 3.720e+02],\n",
       "                [3.730e+02, 3.730e+02, 3.730e+02, ..., 3.720e+02, 3.720e+02,\n",
       "                 3.720e+02],\n",
       "                [3.730e+02, 3.730e+02, 3.720e+02, ..., 3.720e+02, 3.730e+02,\n",
       "                 3.720e+02],\n",
       "                ...,\n",
       "                [3.700e+02, 3.700e+02, 3.700e+02, ..., 3.700e+02, 3.700e+02,\n",
       "                 3.700e+02],\n",
       "                [3.700e+02, 3.700e+02, 3.700e+02, ..., 3.700e+02, 3.700e+02,\n",
       "                 3.700e+02],\n",
       "                [3.700e+02, 3.710e+02, 3.700e+02, ..., 3.700e+02, 3.700e+02,\n",
       "                 3.700e+02]],\n",
       "\n",
       "               [[3.560e+02, 3.570e+02, 3.570e+02, ..., 3.560e+02, 3.560e+02,\n",
       "                 3.560e+02],\n",
       "                [3.570e+02, 3.570e+02, 3.570e+02, ..., 3.560e+02, 3.560e+02,\n",
       "                 3.560e+02],\n",
       "                [3.570e+02, 3.570e+02, 3.560e+02, ..., 3.550e+02, 3.560e+02,\n",
       "                 3.560e+02],\n",
       "                ...,\n",
       "                [3.540e+02, 3.550e+02, 3.550e+02, ..., 3.530e+02, 3.530e+02,\n",
       "                 3.530e+02],\n",
       "                [3.540e+02, 3.540e+02, 3.540e+02, ..., 3.530e+02, 3.520e+02,\n",
       "                 3.530e+02],\n",
       "                [3.540e+02, 3.540e+02, 3.550e+02, ..., 3.530e+02, 3.530e+02,\n",
       "                 3.520e+02]],\n",
       "\n",
       "               [[2.290e+02, 2.290e+02, 2.290e+02, ..., 2.290e+02, 2.290e+02,\n",
       "                 2.290e+02],\n",
       "                [2.300e+02, 2.290e+02, 2.300e+02, ..., 2.290e+02, 2.290e+02,\n",
       "                 2.290e+02],\n",
       "                [2.300e+02, 2.300e+02, 2.290e+02, ..., 2.290e+02, 2.290e+02,\n",
       "                 2.290e+02],\n",
       "                ...,\n",
       "                [2.260e+02, 2.260e+02, 2.260e+02, ..., 2.260e+02, 2.260e+02,\n",
       "                 2.260e+02],\n",
       "                [2.260e+02, 2.260e+02, 2.260e+02, ..., 2.260e+02, 2.260e+02,\n",
       "                 2.260e+02],\n",
       "                [2.260e+02, 2.260e+02, 2.260e+02, ..., 2.260e+02, 2.260e+02,\n",
       "                 2.260e+02]],\n",
       "\n",
       "               [[1.136e+03, 1.139e+03, 1.140e+03, ..., 1.140e+03, 1.139e+03,\n",
       "                 1.137e+03],\n",
       "                [1.140e+03, 1.142e+03, 1.143e+03, ..., 1.146e+03, 1.142e+03,\n",
       "                 1.141e+03],\n",
       "                [1.143e+03, 1.144e+03, 1.146e+03, ..., 1.149e+03, 1.147e+03,\n",
       "                 1.144e+03],\n",
       "                ...,\n",
       "                [1.163e+03, 1.165e+03, 1.167e+03, ..., 1.133e+03, 1.130e+03,\n",
       "                 1.125e+03],\n",
       "                [1.159e+03, 1.160e+03, 1.161e+03, ..., 1.127e+03, 1.121e+03,\n",
       "                 1.120e+03],\n",
       "                [1.157e+03, 1.158e+03, 1.159e+03, ..., 1.122e+03, 1.118e+03,\n",
       "                 1.113e+03]],\n",
       "\n",
       "               [[1.700e+02, 1.700e+02, 1.700e+02, ..., 1.710e+02, 1.700e+02,\n",
       "                 1.700e+02],\n",
       "                [1.700e+02, 1.710e+02, 1.710e+02, ..., 1.710e+02, 1.700e+02,\n",
       "                 1.700e+02],\n",
       "                [1.700e+02, 1.710e+02, 1.710e+02, ..., 1.710e+02, 1.700e+02,\n",
       "                 1.700e+02],\n",
       "                ...,\n",
       "                [1.720e+02, 1.720e+02, 1.720e+02, ..., 1.700e+02, 1.700e+02,\n",
       "                 1.700e+02],\n",
       "                [1.720e+02, 1.720e+02, 1.720e+02, ..., 1.700e+02, 1.700e+02,\n",
       "                 1.690e+02],\n",
       "                [1.720e+02, 1.720e+02, 1.720e+02, ..., 1.690e+02, 1.690e+02,\n",
       "                 1.690e+02]],\n",
       "\n",
       "               [[1.000e+00, 1.000e+00, 1.000e+00, ..., 1.000e+00, 1.000e+00,\n",
       "                 1.000e+00],\n",
       "                [1.000e+00, 1.000e+00, 1.000e+00, ..., 1.000e+00, 1.000e+00,\n",
       "                 1.000e+00],\n",
       "                [1.000e+00, 1.000e+00, 1.000e+00, ..., 1.000e+00, 1.550e+01,\n",
       "                 1.600e+01],\n",
       "                ...,\n",
       "                [1.000e+00, 1.000e+00, 1.000e+00, ..., 1.800e+01, 1.800e+01,\n",
       "                 1.800e+01],\n",
       "                [1.000e+00, 1.000e+00, 1.000e+00, ..., 1.700e+01, 1.800e+01,\n",
       "                 1.800e+01],\n",
       "                [1.000e+00, 1.000e+00, 1.000e+00, ..., 1.700e+01, 1.800e+01,\n",
       "                 1.700e+01]]])                                              ],\n",
       "       ['Heide', array([[[402., 402., 402., ..., 404., 404., 404.],\n",
       "                         [402., 402., 402., ..., 404., 404., 404.],\n",
       "                         [402., 402., 402., ..., 404., 404., 404.],\n",
       "                         ...,\n",
       "                         [402., 402., 402., ..., 404., 404., 404.],\n",
       "                         [402., 402., 402., ..., 404., 404., 404.],\n",
       "                         [403., 403., 403., ..., 404., 404., 404.]],\n",
       "\n",
       "                        [[367., 366., 367., ..., 368., 369., 369.],\n",
       "                         [366., 366., 366., ..., 369., 369., 369.],\n",
       "                         [366., 366., 366., ..., 368., 369., 369.],\n",
       "                         ...,\n",
       "                         [365., 365., 365., ..., 369., 369., 369.],\n",
       "                         [365., 365., 366., ..., 369., 369., 369.],\n",
       "                         [366., 366., 366., ..., 369., 369., 369.]],\n",
       "\n",
       "                        [[281., 281., 281., ..., 283., 283., 284.],\n",
       "                         [280., 280., 280., ..., 283., 283., 284.],\n",
       "                         [280., 280., 280., ..., 283., 283., 284.],\n",
       "                         ...,\n",
       "                         [280., 280., 280., ..., 285., 285., 285.],\n",
       "                         [280., 280., 280., ..., 284., 285., 284.],\n",
       "                         [281., 281., 281., ..., 285., 285., 285.]],\n",
       "\n",
       "                        [[661., 661., 661., ..., 655., 655., 655.],\n",
       "                         [660., 659., 660., ..., 657., 657., 658.],\n",
       "                         [660., 660., 660., ..., 658., 658., 657.],\n",
       "                         ...,\n",
       "                         [664., 664., 667., ..., 670., 669., 669.],\n",
       "                         [666., 665., 667., ..., 668., 669., 667.],\n",
       "                         [665., 664., 666., ..., 669., 668., 668.]],\n",
       "\n",
       "                        [[100., 100., 100., ...,  99.,  99.,  99.],\n",
       "                         [100., 100., 100., ...,  99.,  99.,  99.],\n",
       "                         [100., 100., 100., ..., 100.,  99.,  99.],\n",
       "                         ...,\n",
       "                         [101., 102., 102., ..., 100., 100., 100.],\n",
       "                         [101., 102., 102., ..., 100., 100., 100.],\n",
       "                         [101., 101., 102., ..., 100., 100., 100.]],\n",
       "\n",
       "                        [[  1.,   1.,   1., ...,   1.,   1.,   1.],\n",
       "                         [  1.,   1.,   1., ...,   1.,   1.,   1.],\n",
       "                         [  1.,   1.,   1., ...,   1.,   1.,   1.],\n",
       "                         ...,\n",
       "                         [  1.,   1.,   1., ...,   1.,   1.,   1.],\n",
       "                         [  1.,   1.,   1., ...,   1.,   1.,   1.],\n",
       "                         [  1.,   1.,   1., ...,   1.,   1.,   1.]]])],\n",
       "       ['Water, Overig',\n",
       "        array([[[369. , 369. , 369. , ..., 367. , 368. , 368. ],\n",
       "                [369. , 369. , 369. , ..., 368. , 368. , 368. ],\n",
       "                [369. , 369. , 369. , ..., 368. , 368. , 368. ],\n",
       "                ...,\n",
       "                [364. , 364. , 364. , ..., 365. , 366. , 366. ],\n",
       "                [364. , 364. , 364. , ..., 365. , 366. , 366. ],\n",
       "                [364. , 364. , 364. , ..., 365. , 365. , 365. ]],\n",
       "\n",
       "               [[329. , 329. , 328. , ..., 324. , 325. , 325. ],\n",
       "                [330. , 329. , 328. , ..., 325. , 325. , 326. ],\n",
       "                [329. , 328. , 327. , ..., 325. , 325. , 325. ],\n",
       "                ...,\n",
       "                [319. , 319. , 319. , ..., 321. , 322. , 322. ],\n",
       "                [319. , 319. , 318. , ..., 321. , 322. , 322. ],\n",
       "                [319. , 318. , 318. , ..., 321. , 322. , 321.5]],\n",
       "\n",
       "               [[216. , 215. , 215. , ..., 212. , 212. , 212. ],\n",
       "                [216. , 215. , 215. , ..., 212. , 212. , 212. ],\n",
       "                [216. , 215. , 214. , ..., 212. , 212. , 212. ],\n",
       "                ...,\n",
       "                [204. , 204. , 204. , ..., 206. , 207. , 207. ],\n",
       "                [204. , 203. , 203. , ..., 206. , 208. , 207. ],\n",
       "                [204. , 203. , 204. , ..., 206. , 207. , 207. ]],\n",
       "\n",
       "               [[652. , 648. , 649. , ..., 627. , 626. , 625. ],\n",
       "                [648. , 649. , 646. , ..., 624. , 623. , 625. ],\n",
       "                [649. , 648. , 646. , ..., 624. , 623. , 625. ],\n",
       "                ...,\n",
       "                [542. , 535. , 522. , ..., 582. , 587. , 591. ],\n",
       "                [538. , 525.5, 519. , ..., 580. , 584. , 590. ],\n",
       "                [534. , 522.5, 519.5, ..., 579. , 585. , 588. ]],\n",
       "\n",
       "               [[106. , 106. , 107. , ..., 106. , 106. , 106. ],\n",
       "                [106. , 106. , 106. , ..., 107. , 106. , 106. ],\n",
       "                [105. , 105. , 106. , ..., 106. , 106. , 106. ],\n",
       "                ...,\n",
       "                [ 92. ,  91. ,  90. , ...,  96. ,  96. ,  97. ],\n",
       "                [ 92. ,  91. ,  90. , ...,  96. ,  96. ,  96. ],\n",
       "                [ 92. ,  91. ,  91. , ...,  95. ,  96. ,  96. ]],\n",
       "\n",
       "               [[ 51. ,  51. ,  52. , ...,  58. ,  57. ,  58. ],\n",
       "                [ 50. ,  51. ,  52. , ...,  58. ,  57. ,  57. ],\n",
       "                [ 50. ,  51. ,  52. , ...,  59. ,  57. ,  57. ],\n",
       "                ...,\n",
       "                [ 37. ,  37. ,  34. , ...,  30. ,  30. ,  31. ],\n",
       "                [ 36. ,  35. ,  33. , ...,  29. ,  30. ,  30. ],\n",
       "                [ 36. ,  36. ,  34. , ...,  29. ,  30. ,  30. ]]])],\n",
       "       ['Riet', array([[[369., 369., 369., ..., 373., 373., 373.],\n",
       "                        [369., 369., 370., ..., 373., 373., 373.],\n",
       "                        [369., 370., 370., ..., 373., 373., 373.],\n",
       "                        ...,\n",
       "                        [371., 371., 371., ..., 371., 371., 371.],\n",
       "                        [371., 371., 371., ..., 371., 371., 371.],\n",
       "                        [370., 370., 371., ..., 371., 371., 371.]],\n",
       "\n",
       "                       [[334., 335., 335., ..., 341., 341., 341.],\n",
       "                        [335., 335., 336., ..., 341., 341., 341.],\n",
       "                        [334., 335., 335., ..., 341., 341., 342.],\n",
       "                        ...,\n",
       "                        [338., 338., 339., ..., 337., 337., 336.],\n",
       "                        [338., 338., 339., ..., 337., 337., 336.],\n",
       "                        [338., 338., 338., ..., 337., 337., 337.]],\n",
       "\n",
       "                       [[213., 214., 213., ..., 220., 221., 221.],\n",
       "                        [213., 214., 214., ..., 220., 220., 221.],\n",
       "                        [213., 214., 214., ..., 220., 220., 221.],\n",
       "                        ...,\n",
       "                        [216., 216., 217., ..., 217., 217., 217.],\n",
       "                        [216., 216., 216., ..., 217., 217., 217.],\n",
       "                        [216., 216., 216., ..., 217., 217., 217.]],\n",
       "\n",
       "                       [[745., 753., 758., ..., 843., 838., 834.],\n",
       "                        [749., 753., 759., ..., 842., 838., 835.],\n",
       "                        [750., 757., 763., ..., 841., 837., 833.],\n",
       "                        ...,\n",
       "                        [849., 856., 864., ..., 758., 754., 749.],\n",
       "                        [848., 856., 864., ..., 754., 749., 744.],\n",
       "                        [847., 854., 861., ..., 750., 746., 740.]],\n",
       "\n",
       "                       [[133., 134., 135., ..., 147., 147., 146.],\n",
       "                        [134., 135., 136., ..., 147., 147., 146.],\n",
       "                        [135., 136., 137., ..., 148., 147., 146.],\n",
       "                        ...,\n",
       "                        [149., 150., 151., ..., 138., 137., 136.],\n",
       "                        [149., 150., 151., ..., 137., 136., 136.],\n",
       "                        [149., 150., 151., ..., 136., 136., 135.]],\n",
       "\n",
       "                       [[ 54.,  54.,  56., ...,  68.,  68.,  68.],\n",
       "                        [ 54.,  54.,  56., ...,  68.,  68.,  68.],\n",
       "                        [ 55.,  55.,  57., ...,  68.,  68.,  68.],\n",
       "                        ...,\n",
       "                        [ 66.,  66.,  67., ...,  62.,  62.,  62.],\n",
       "                        [ 67.,  67.,  67., ...,  62.,  61.,  61.],\n",
       "                        [ 67.,  67.,  67., ...,  62.,  61.,  61.]]])]],\n",
       "      dtype=object)"
      ]
     },
     "execution_count": 50,
     "metadata": {},
     "output_type": "execute_result"
    }
   ],
   "source": [
    "np_array_median_annotation"
   ]
  },
  {
   "cell_type": "code",
   "execution_count": 4,
   "metadata": {
    "collapsed": true
   },
   "outputs": [
    {
     "ename": "NameError",
     "evalue": "name 'np_array_median_annotation' is not defined",
     "output_type": "error",
     "traceback": [
      "\u001b[1;31m---------------------------------------------------------------------------\u001b[0m",
      "\u001b[1;31mNameError\u001b[0m                                 Traceback (most recent call last)",
      "\u001b[1;32m<ipython-input-4-4e4f3d7a2d22>\u001b[0m in \u001b[0;36m<module>\u001b[1;34m\u001b[0m\n\u001b[1;32m----> 1\u001b[1;33m \u001b[1;32mfor\u001b[0m \u001b[0mlabel\u001b[0m \u001b[1;32min\u001b[0m \u001b[0mnp_array_median_annotation\u001b[0m\u001b[1;33m:\u001b[0m\u001b[1;33m\u001b[0m\u001b[1;33m\u001b[0m\u001b[0m\n\u001b[0m\u001b[0;32m      2\u001b[0m     \u001b[0mprint\u001b[0m\u001b[1;33m(\u001b[0m\u001b[1;34m\"---\"\u001b[0m\u001b[1;33m)\u001b[0m\u001b[1;33m\u001b[0m\u001b[1;33m\u001b[0m\u001b[0m\n\u001b[0;32m      3\u001b[0m     \u001b[0mprint\u001b[0m\u001b[1;33m(\u001b[0m\u001b[0mlabel\u001b[0m\u001b[1;33m[\u001b[0m\u001b[1;36m0\u001b[0m\u001b[1;33m]\u001b[0m\u001b[1;33m)\u001b[0m\u001b[1;33m\u001b[0m\u001b[1;33m\u001b[0m\u001b[0m\n\u001b[0;32m      4\u001b[0m     \u001b[0mprint\u001b[0m\u001b[1;33m(\u001b[0m\u001b[1;34m\" NDVI:\"\u001b[0m\u001b[1;33m)\u001b[0m\u001b[1;33m\u001b[0m\u001b[1;33m\u001b[0m\u001b[0m\n\u001b[0;32m      5\u001b[0m     \u001b[0mprint\u001b[0m\u001b[1;33m(\u001b[0m\u001b[0msum\u001b[0m\u001b[1;33m(\u001b[0m\u001b[0msum\u001b[0m\u001b[1;33m(\u001b[0m\u001b[0mlabel\u001b[0m\u001b[1;33m[\u001b[0m\u001b[1;36m1\u001b[0m\u001b[1;33m]\u001b[0m\u001b[1;33m[\u001b[0m\u001b[1;36m0\u001b[0m\u001b[1;33m]\u001b[0m\u001b[1;33m)\u001b[0m\u001b[1;33m)\u001b[0m\u001b[1;33m)\u001b[0m\u001b[1;33m\u001b[0m\u001b[1;33m\u001b[0m\u001b[0m\n",
      "\u001b[1;31mNameError\u001b[0m: name 'np_array_median_annotation' is not defined"
     ]
    }
   ],
   "source": [
    "for label in np_array_median_annotation:\n",
    "    print(\"---\")\n",
    "    print(label[0])\n",
    "    print(\" NDVI:\")\n",
    "    print(sum(sum(label[1][0])))\n",
    "    print(\" AHN:\")\n",
    "    print(sum(sum(label[1][1])))"
   ]
  },
  {
   "cell_type": "code",
   "execution_count": 18,
   "metadata": {},
   "outputs": [],
   "source": [
    "np.save(\"median_annotation_rgbi_ndvi_rgbi.npy\",np_array_median_annotation)"
   ]
  },
  {
   "cell_type": "code",
   "execution_count": 5,
   "metadata": {
    "collapsed": true
   },
   "outputs": [],
   "source": [
    "np_array_median_annotation = np.load(\"median_annotation_rgbi_ndvi_rgbi.npy\",allow_pickle=True)"
   ]
  },
  {
   "cell_type": "code",
   "execution_count": 10,
   "metadata": {},
   "outputs": [
    {
     "name": "stdout",
     "output_type": "stream",
     "text": [
      "------\n",
      "Mos\n"
     ]
    },
    {
     "data": {
      "image/png": "[encoded data removed]",
      "text/plain": [
       "<Figure size 432x288 with 1 Axes>"
      ]
     },
     "metadata": {
      "needs_background": "light"
     },
     "output_type": "display_data"
    },
    {
     "name": "stdout",
     "output_type": "stream",
     "text": [
      "------\n",
      "Open laag struweel\n"
     ]
    },
    {
     "data": {
      "image/png": "[encoded data removed]",
      "text/plain": [
       "<Figure size 432x288 with 1 Axes>"
      ]
     },
     "metadata": {
      "needs_background": "light"
     },
     "output_type": "display_data"
    },
    {
     "name": "stdout",
     "output_type": "stream",
     "text": [
      "------\n",
      "Zand\n"
     ]
    },
    {
     "data": {
      "image/png": "[encoded data removed]",
      "text/plain": [
       "<Figure size 432x288 with 1 Axes>"
      ]
     },
     "metadata": {
      "needs_background": "light"
     },
     "output_type": "display_data"
    },
    {
     "name": "stdout",
     "output_type": "stream",
     "text": [
      "------\n",
      "Open Duindoorn\n"
     ]
    },
    {
     "data": {
      "image/png": "[encoded data removed]",
      "text/plain": [
       "<Figure size 432x288 with 1 Axes>"
      ]
     },
     "metadata": {
      "needs_background": "light"
     },
     "output_type": "display_data"
    },
    {
     "name": "stdout",
     "output_type": "stream",
     "text": [
      "------\n",
      "Dicht Duindoorn\n"
     ]
    },
    {
     "data": {
      "image/png": "[encoded data removed]",
      "text/plain": [
       "<Figure size 432x288 with 1 Axes>"
      ]
     },
     "metadata": {
      "needs_background": "light"
     },
     "output_type": "display_data"
    },
    {
     "name": "stdout",
     "output_type": "stream",
     "text": [
      "------\n",
      "Lage kruiden-gras\n"
     ]
    },
    {
     "data": {
      "image/png": "[encoded data removed]",
      "text/plain": [
       "<Figure size 432x288 with 1 Axes>"
      ]
     },
     "metadata": {
      "needs_background": "light"
     },
     "output_type": "display_data"
    },
    {
     "name": "stdout",
     "output_type": "stream",
     "text": [
      "------\n",
      "Hoge kruiden-gras\n"
     ]
    },
    {
     "data": {
      "image/png": "[encoded data removed]",
      "text/plain": [
       "<Figure size 432x288 with 1 Axes>"
      ]
     },
     "metadata": {
      "needs_background": "light"
     },
     "output_type": "display_data"
    },
    {
     "name": "stdout",
     "output_type": "stream",
     "text": [
      "------\n",
      "Dicht laag struweel\n"
     ]
    },
    {
     "data": {
      "image/png": "[encoded data removed]",
      "text/plain": [
       "<Figure size 432x288 with 1 Axes>"
      ]
     },
     "metadata": {
      "needs_background": "light"
     },
     "output_type": "display_data"
    },
    {
     "name": "stdout",
     "output_type": "stream",
     "text": [
      "------\n",
      "Open Hoog Struweel\n"
     ]
    },
    {
     "data": {
      "image/png": "[encoded data removed]",
      "text/plain": [
       "<Figure size 432x288 with 1 Axes>"
      ]
     },
     "metadata": {
      "needs_background": "light"
     },
     "output_type": "display_data"
    },
    {
     "name": "stdout",
     "output_type": "stream",
     "text": [
      "------\n",
      "Dicht Hoog Struweel\n"
     ]
    },
    {
     "data": {
      "image/png": "[encoded data removed]",
      "text/plain": [
       "<Figure size 432x288 with 1 Axes>"
      ]
     },
     "metadata": {
      "needs_background": "light"
     },
     "output_type": "display_data"
    },
    {
     "name": "stdout",
     "output_type": "stream",
     "text": [
      "------\n",
      "Naaldbos\n"
     ]
    },
    {
     "data": {
      "image/png": "[encoded data removed]",
      "text/plain": [
       "<Figure size 432x288 with 1 Axes>"
      ]
     },
     "metadata": {
      "needs_background": "light"
     },
     "output_type": "display_data"
    },
    {
     "name": "stdout",
     "output_type": "stream",
     "text": [
      "------\n",
      "Loofbos\n"
     ]
    },
    {
     "data": {
      "image/png": "[encoded data removed]",
      "text/plain": [
       "<Figure size 432x288 with 1 Axes>"
      ]
     },
     "metadata": {
      "needs_background": "light"
     },
     "output_type": "display_data"
    },
    {
     "name": "stdout",
     "output_type": "stream",
     "text": [
      "------\n",
      "Adelaarsvaren\n"
     ]
    },
    {
     "data": {
      "image/png": "[encoded data removed]",
      "text/plain": [
       "<Figure size 432x288 with 1 Axes>"
      ]
     },
     "metadata": {
      "needs_background": "light"
     },
     "output_type": "display_data"
    },
    {
     "name": "stdout",
     "output_type": "stream",
     "text": [
      "------\n",
      "Heide\n"
     ]
    },
    {
     "data": {
      "image/png": "[encoded data removed]",
      "text/plain": [
       "<Figure size 432x288 with 1 Axes>"
      ]
     },
     "metadata": {
      "needs_background": "light"
     },
     "output_type": "display_data"
    },
    {
     "name": "stdout",
     "output_type": "stream",
     "text": [
      "------\n",
      "Water, Overig\n"
     ]
    },
    {
     "data": {
      "image/png": "[encoded data removed]",
      "text/plain": [
       "<Figure size 432x288 with 1 Axes>"
      ]
     },
     "metadata": {
      "needs_background": "light"
     },
     "output_type": "display_data"
    },
    {
     "name": "stdout",
     "output_type": "stream",
     "text": [
      "------\n",
      "Riet\n"
     ]
    },
    {
     "data": {
      "image/png": "[encoded data removed]",
      "text/plain": [
       "<Figure size 432x288 with 1 Axes>"
      ]
     },
     "metadata": {
      "needs_background": "light"
     },
     "output_type": "display_data"
    }
   ],
   "source": [
    "for median_annotation in np_array_median_annotation:\n",
    "    print(\"------\")\n",
    "    print(median_annotation[0])\n",
    "    nso_tif_kernel.plot_kernel(median_annotation[1])"
   ]
  },
  {
   "cell_type": "code",
   "execution_count": 31,
   "metadata": {},
   "outputs": [],
   "source": [
    " for x in range(0, len(np_array_median_annotation)):\n",
    "     np_array_median_annotation[x][1] =x"
   ]
  },
  {
   "cell_type": "code",
   "execution_count": 32,
   "metadata": {
    "collapsed": true
   },
   "outputs": [
    {
     "data": {
      "text/plain": [
       "array([['Mos', 0],\n",
       "       ['Open laag struweel', 1],\n",
       "       ['Zand', 2],\n",
       "       ['Open Duindoorn', 3],\n",
       "       ['Dicht Duindoorn', 4],\n",
       "       ['Lage kruiden-gras', 5],\n",
       "       ['Hoge kruiden-gras', 6],\n",
       "       ['Dicht laag struweel', 7],\n",
       "       ['Open Hoog Struweel', 8],\n",
       "       ['Dicht Hoog Struweel', 9],\n",
       "       ['Naaldbos', 10],\n",
       "       ['Loofbos', 11],\n",
       "       ['Adelaarsvaren', 12],\n",
       "       ['Heide', 13],\n",
       "       ['Water, Overig', 14],\n",
       "       ['Riet', 15]], dtype=object)"
      ]
     },
     "execution_count": 32,
     "metadata": {},
     "output_type": "execute_result"
    }
   ],
   "source": [
    "np_array_median_annotation"
   ]
  },
  {
   "cell_type": "code",
   "execution_count": 21,
   "metadata": {},
   "outputs": [],
   "source": [
    "tif_kernel_generator.set_fade_kernel(bands=6)"
   ]
  },
  {
   "cell_type": "code",
   "execution_count": 22,
   "metadata": {},
   "outputs": [
    {
     "data": {
      "text/plain": [
       "'Dicht Hoog Struweel'"
      ]
     },
     "execution_count": 22,
     "metadata": {},
     "output_type": "execute_result"
    }
   ],
   "source": [
    "predict(tif_kernel_generator.get_kernel_for_x_y(9351,6671),np_array_median_annotation)"
   ]
  },
  {
   "cell_type": "code",
   "execution_count": 23,
   "metadata": {},
   "outputs": [],
   "source": [
    "annotations['predict'] = annotations.apply(lambda x: predict(x['kernel'],np_array_median_annotation, False), axis=1)"
   ]
  },
  {
   "cell_type": "code",
   "execution_count": 24,
   "metadata": {},
   "outputs": [
    {
     "data": {
      "text/plain": [
       "0.38929254984313716"
      ]
     },
     "execution_count": 24,
     "metadata": {},
     "output_type": "execute_result"
    }
   ],
   "source": [
    "len(annotations[annotations['label'] == annotations['predict']])/len(annotations)"
   ]
  },
  {
   "cell_type": "code",
   "execution_count": 326,
   "metadata": {},
   "outputs": [
    {
     "data": {
      "text/plain": [
       "array(['Mos', 'Open laag struweel', 'Zand', 'Open Duindoorn',\n",
       "       'Dicht Duindoorn', 'Lage kruiden-gras', 'Hoge kruiden-gras',\n",
       "       'Dicht laag struweel', 'Open Hoog Struweel', 'Dicht Hoog Struweel',\n",
       "       'Naaldbos', 'Loofbos', 'Adelaarsvaren', 'Heide', 'Water, Overig',\n",
       "       'Riet'], dtype=object)"
      ]
     },
     "execution_count": 326,
     "metadata": {},
     "output_type": "execute_result"
    }
   ],
   "source": [
    "annotations['label'].unique()"
   ]
  },
  {
   "cell_type": "code",
   "execution_count": 27,
   "metadata": {
    "collapsed": true
   },
   "outputs": [
    {
     "data": {
      "image/png": "[encoded data removed]",
      "text/plain": [
       "<Figure size 800x480 with 2 Axes>"
      ]
     },
     "metadata": {
      "needs_background": "light"
     },
     "output_type": "display_data"
    }
   ],
   "source": [
    "plot_confusion_matrix(confusion_matrix(annotations['label'],annotations['predict'], labels = annotations['label'].unique()))"
   ]
  },
  {
   "cell_type": "code",
   "execution_count": null,
   "metadata": {},
   "outputs": [],
   "source": [
    "# check annotations if there are correct"
   ]
  },
  {
   "cell_type": "code",
   "execution_count": 186,
   "metadata": {},
   "outputs": [],
   "source": [
    "def sum_sum_ndvi(x):\n",
    "    try:\n",
    "        sum(sum(x[\"kernel\"]))\n",
    "    except:\n",
    "        return 0\n",
    "    \n",
    "annotations.apply(lambda x:sum_sum_ndvi(x['kernel'][0][0]), axis=1)"
   ]
  },
  {
   "cell_type": "code",
   "execution_count": 203,
   "metadata": {},
   "outputs": [],
   "source": [
    "ndvi_array = []\n",
    "for id,row in annotations.iterrows():\n",
    "    try:\n",
    "        ndvi_array.append(sum(sum(row['kernel'][0])))\n",
    "    except:\n",
    "        ndvi_array.append(0)"
   ]
  },
  {
   "cell_type": "code",
   "execution_count": 205,
   "metadata": {},
   "outputs": [],
   "source": [
    "annotations['ndvi_sum'] = ndvi_array"
   ]
  },
  {
   "cell_type": "code",
   "execution_count": 206,
   "metadata": {},
   "outputs": [],
   "source": [
    "ahn_array = []\n",
    "for id,row in annotations.iterrows():\n",
    "    try:\n",
    "        ahn_array.append(sum(sum(row['kernel'][1])))\n",
    "    except:\n",
    "        ahn_array.append(0)"
   ]
  },
  {
   "cell_type": "code",
   "execution_count": 207,
   "metadata": {},
   "outputs": [],
   "source": [
    "annotations['ahn_sum'] = ahn_array"
   ]
  },
  {
   "cell_type": "code",
   "execution_count": 213,
   "metadata": {
    "collapsed": true
   },
   "outputs": [
    {
     "data": {
      "text/html": [
       "<div>\n",
       "<style scoped>\n",
       "    .dataframe tbody tr th:only-of-type {\n",
       "        vertical-align: middle;\n",
       "    }\n",
       "\n",
       "    .dataframe tbody tr th {\n",
       "        vertical-align: top;\n",
       "    }\n",
       "\n",
       "    .dataframe thead th {\n",
       "        text-align: right;\n",
       "    }\n",
       "</style>\n",
       "<table border=\"1\" class=\"dataframe\">\n",
       "  <thead>\n",
       "    <tr style=\"text-align: right;\">\n",
       "      <th></th>\n",
       "      <th>label</th>\n",
       "      <th>x</th>\n",
       "      <th>y</th>\n",
       "      <th>cor_x</th>\n",
       "      <th>cor_y</th>\n",
       "      <th>kernel</th>\n",
       "      <th>predict</th>\n",
       "      <th>ndvi_sum</th>\n",
       "      <th>ahn_sum</th>\n",
       "    </tr>\n",
       "  </thead>\n",
       "  <tbody>\n",
       "    <tr>\n",
       "      <th>0</th>\n",
       "      <td>Mos</td>\n",
       "      <td>93927.25</td>\n",
       "      <td>479552.75</td>\n",
       "      <td>14979</td>\n",
       "      <td>2643</td>\n",
       "      <td>[[[117, 118, 118, 118, 122, 129, 129, 129, 129...</td>\n",
       "      <td>Mos</td>\n",
       "      <td>93726</td>\n",
       "      <td>42608</td>\n",
       "    </tr>\n",
       "    <tr>\n",
       "      <th>1</th>\n",
       "      <td>Mos</td>\n",
       "      <td>93927.25</td>\n",
       "      <td>479551.75</td>\n",
       "      <td>14981</td>\n",
       "      <td>2643</td>\n",
       "      <td>[[[118, 121, 123, 124, 128, 131, 130, 130, 133...</td>\n",
       "      <td>Mos</td>\n",
       "      <td>89697</td>\n",
       "      <td>35952</td>\n",
       "    </tr>\n",
       "    <tr>\n",
       "      <th>2</th>\n",
       "      <td>Mos</td>\n",
       "      <td>93928.25</td>\n",
       "      <td>479551.75</td>\n",
       "      <td>14981</td>\n",
       "      <td>2645</td>\n",
       "      <td>[[[123, 124, 128, 131, 130, 130, 133, 135, 135...</td>\n",
       "      <td>Mos</td>\n",
       "      <td>87347</td>\n",
       "      <td>32960</td>\n",
       "    </tr>\n",
       "    <tr>\n",
       "      <th>3</th>\n",
       "      <td>Mos</td>\n",
       "      <td>93928.25</td>\n",
       "      <td>479552.75</td>\n",
       "      <td>14979</td>\n",
       "      <td>2645</td>\n",
       "      <td>[[[118, 118, 122, 129, 129, 129, 129, 128, 128...</td>\n",
       "      <td>Mos</td>\n",
       "      <td>91264</td>\n",
       "      <td>39420</td>\n",
       "    </tr>\n",
       "    <tr>\n",
       "      <th>4</th>\n",
       "      <td>Mos</td>\n",
       "      <td>93927.25</td>\n",
       "      <td>479552.75</td>\n",
       "      <td>14979</td>\n",
       "      <td>2643</td>\n",
       "      <td>[[[117, 118, 118, 118, 122, 129, 129, 129, 129...</td>\n",
       "      <td>Mos</td>\n",
       "      <td>93726</td>\n",
       "      <td>42608</td>\n",
       "    </tr>\n",
       "    <tr>\n",
       "      <th>...</th>\n",
       "      <td>...</td>\n",
       "      <td>...</td>\n",
       "      <td>...</td>\n",
       "      <td>...</td>\n",
       "      <td>...</td>\n",
       "      <td>...</td>\n",
       "      <td>...</td>\n",
       "      <td>...</td>\n",
       "      <td>...</td>\n",
       "    </tr>\n",
       "    <tr>\n",
       "      <th>392376</th>\n",
       "      <td>Riet</td>\n",
       "      <td>95940.25</td>\n",
       "      <td>482367.75</td>\n",
       "      <td>9349</td>\n",
       "      <td>6669</td>\n",
       "      <td>[[[86, 112, 136, 143, 148, 155, 163, 168, 168,...</td>\n",
       "      <td>Heide</td>\n",
       "      <td>130482</td>\n",
       "      <td>77192</td>\n",
       "    </tr>\n",
       "    <tr>\n",
       "      <th>392377</th>\n",
       "      <td>Riet</td>\n",
       "      <td>95940.25</td>\n",
       "      <td>482366.75</td>\n",
       "      <td>9351</td>\n",
       "      <td>6669</td>\n",
       "      <td>[[[75, 95, 119, 137, 145, 150, 156, 160, 163, ...</td>\n",
       "      <td>Heide</td>\n",
       "      <td>129831</td>\n",
       "      <td>74804</td>\n",
       "    </tr>\n",
       "    <tr>\n",
       "      <th>392378</th>\n",
       "      <td>Riet</td>\n",
       "      <td>95941.25</td>\n",
       "      <td>482366.75</td>\n",
       "      <td>9351</td>\n",
       "      <td>6671</td>\n",
       "      <td>[[[119, 137, 145, 150, 156, 160, 163, 167, 167...</td>\n",
       "      <td>Heide</td>\n",
       "      <td>134741</td>\n",
       "      <td>84280</td>\n",
       "    </tr>\n",
       "    <tr>\n",
       "      <th>392379</th>\n",
       "      <td>Riet</td>\n",
       "      <td>95941.25</td>\n",
       "      <td>482367.75</td>\n",
       "      <td>9349</td>\n",
       "      <td>6671</td>\n",
       "      <td>[[[136, 143, 148, 155, 163, 168, 168, 169, 168...</td>\n",
       "      <td>Heide</td>\n",
       "      <td>135069</td>\n",
       "      <td>86736</td>\n",
       "    </tr>\n",
       "    <tr>\n",
       "      <th>392380</th>\n",
       "      <td>Riet</td>\n",
       "      <td>95940.25</td>\n",
       "      <td>482367.75</td>\n",
       "      <td>9349</td>\n",
       "      <td>6669</td>\n",
       "      <td>[[[86, 112, 136, 143, 148, 155, 163, 168, 168,...</td>\n",
       "      <td>Heide</td>\n",
       "      <td>130482</td>\n",
       "      <td>77192</td>\n",
       "    </tr>\n",
       "  </tbody>\n",
       "</table>\n",
       "<p>392381 rows × 9 columns</p>\n",
       "</div>"
      ],
      "text/plain": [
       "       label         x          y  cor_x  cor_y  \\\n",
       "0        Mos  93927.25  479552.75  14979   2643   \n",
       "1        Mos  93927.25  479551.75  14981   2643   \n",
       "2        Mos  93928.25  479551.75  14981   2645   \n",
       "3        Mos  93928.25  479552.75  14979   2645   \n",
       "4        Mos  93927.25  479552.75  14979   2643   \n",
       "...      ...       ...        ...    ...    ...   \n",
       "392376  Riet  95940.25  482367.75   9349   6669   \n",
       "392377  Riet  95940.25  482366.75   9351   6669   \n",
       "392378  Riet  95941.25  482366.75   9351   6671   \n",
       "392379  Riet  95941.25  482367.75   9349   6671   \n",
       "392380  Riet  95940.25  482367.75   9349   6669   \n",
       "\n",
       "                                                   kernel predict  ndvi_sum  \\\n",
       "0       [[[117, 118, 118, 118, 122, 129, 129, 129, 129...     Mos     93726   \n",
       "1       [[[118, 121, 123, 124, 128, 131, 130, 130, 133...     Mos     89697   \n",
       "2       [[[123, 124, 128, 131, 130, 130, 133, 135, 135...     Mos     87347   \n",
       "3       [[[118, 118, 122, 129, 129, 129, 129, 128, 128...     Mos     91264   \n",
       "4       [[[117, 118, 118, 118, 122, 129, 129, 129, 129...     Mos     93726   \n",
       "...                                                   ...     ...       ...   \n",
       "392376  [[[86, 112, 136, 143, 148, 155, 163, 168, 168,...   Heide    130482   \n",
       "392377  [[[75, 95, 119, 137, 145, 150, 156, 160, 163, ...   Heide    129831   \n",
       "392378  [[[119, 137, 145, 150, 156, 160, 163, 167, 167...   Heide    134741   \n",
       "392379  [[[136, 143, 148, 155, 163, 168, 168, 169, 168...   Heide    135069   \n",
       "392380  [[[86, 112, 136, 143, 148, 155, 163, 168, 168,...   Heide    130482   \n",
       "\n",
       "        ahn_sum  \n",
       "0         42608  \n",
       "1         35952  \n",
       "2         32960  \n",
       "3         39420  \n",
       "4         42608  \n",
       "...         ...  \n",
       "392376    77192  \n",
       "392377    74804  \n",
       "392378    84280  \n",
       "392379    86736  \n",
       "392380    77192  \n",
       "\n",
       "[392381 rows x 9 columns]"
      ]
     },
     "execution_count": 213,
     "metadata": {},
     "output_type": "execute_result"
    }
   ],
   "source": [
    "annotations"
   ]
  },
  {
   "cell_type": "code",
   "execution_count": 212,
   "metadata": {
    "collapsed": true
   },
   "outputs": [
    {
     "name": "stdout",
     "output_type": "stream",
     "text": [
      "--------\n",
      "Mos\n",
      "78382.7533104845\n",
      "77112.0\n",
      "19558.322752765227\n",
      "16184.0\n",
      "--------\n",
      "Open laag struweel\n",
      "86857.28493203883\n",
      "87369.0\n",
      "25973.28100970874\n",
      "24610.0\n",
      "--------\n",
      "Zand\n",
      "65303.36645471989\n",
      "65280.0\n",
      "37074.01346928026\n",
      "20824.0\n",
      "--------\n",
      "Open Duindoorn\n",
      "102338.7270870163\n",
      "105694.0\n",
      "39428.90567668434\n",
      "37340.0\n",
      "--------\n",
      "Dicht Duindoorn\n",
      "108595.89485943776\n",
      "121372.0\n",
      "55606.455341365465\n",
      "56042.0\n",
      "--------\n",
      "Lage kruiden-gras\n",
      "90983.93380958146\n",
      "94085.0\n",
      "36320.949832505954\n",
      "26440.0\n",
      "--------\n",
      "Hoge kruiden-gras\n",
      "99901.18291543373\n",
      "100949.0\n",
      "36881.6638374085\n",
      "30898.0\n",
      "--------\n",
      "Dicht laag struweel\n",
      "94851.17001380943\n",
      "94850.0\n",
      "34907.89536397711\n",
      "32628.0\n",
      "--------\n",
      "Open Hoog Struweel\n",
      "112164.11952630129\n",
      "111090.0\n",
      "64929.332612031314\n",
      "61648.0\n",
      "--------\n",
      "Dicht Hoog Struweel\n",
      "116038.69412002424\n",
      "120396.0\n",
      "72284.68332996564\n",
      "71200.0\n",
      "--------\n",
      "Naaldbos\n",
      "104549.8426280517\n",
      "124770.0\n",
      "168538.55864049785\n",
      "176204.0\n",
      "--------\n",
      "Loofbos\n",
      "128568.14206472725\n",
      "137759.0\n",
      "132762.4496188994\n",
      "132880.0\n",
      "--------\n",
      "Adelaarsvaren\n",
      "170199.3132331519\n",
      "173697.0\n",
      "29290.241470520585\n",
      "20900.0\n",
      "--------\n",
      "Heide\n",
      "110378.24385120944\n",
      "113730.0\n",
      "36117.7353479233\n",
      "37376.0\n",
      "--------\n",
      "Water, Overig\n",
      "93492.77565104167\n",
      "98141.5\n",
      "69229.81918402777\n",
      "50150.0\n",
      "--------\n",
      "Riet\n",
      "138653.97807911484\n",
      "144374.0\n",
      "59105.63641279481\n",
      "59572.0\n"
     ]
    }
   ],
   "source": [
    "for label in annotations['label'].unique():\n",
    "    print(\"--------\")\n",
    "    print(label)\n",
    "    annotations_cur = annotations[annotations['label'] == str(label)]\n",
    "    \n",
    "    print(annotations_cur['ndvi_sum'].mean())\n",
    "    print(annotations_cur['ndvi_sum'].median())\n",
    "    \n",
    "    print(annotations_cur['ahn_sum'].mean())\n",
    "    print(annotations_cur['ahn_sum'].median())"
   ]
  },
  {
   "cell_type": "markdown",
   "metadata": {},
   "source": [
    "# Deep learning model."
   ]
  },
  {
   "cell_type": "code",
   "execution_count": 29,
   "metadata": {},
   "outputs": [],
   "source": [
    "def standard_convolutional_network(size_x_matrix =32 ,size_y_matrix = 32,bands = 6, no_classes =5):\n",
    "\n",
    "     model = Sequential()\n",
    "     model.add(Convolution2D(32, kernel_size=(3, 3), activation='relu', input_shape=(size_x_matrix,size_y_matrix,bands)))\n",
    "     model.add(Convolution2D(64, kernel_size=(3, 3), activation='relu'))\n",
    "     model.add(Convolution2D(128, kernel_size=(3, 3), activation='relu'))\n",
    "     model.add(Flatten())\n",
    "     model.add(Dense(128, activation='relu'))\n",
    "     model.add(Dense(no_classes, activation='softmax'))\n",
    "     return model\n",
    "\n",
    "def VGG_16_inspired_model(size_x_matrix =32 ,size_y_matrix = 32,bands = 4, no_classes=5):\n",
    "    model = Sequential()\n",
    "    # model.add(ZeroPadding2D((1,1),input_shape=(31,31, 7)))\n",
    "    model.add(Convolution2D(28, 2, 2, activation='relu',input_shape=((size_x_matrix, size_y_matrix, bands))))\n",
    "    model.add(Convolution2D(56, 2, 2, activation='relu'))\n",
    "    model.add(MaxPooling2D((2,2), strides=(2,2)))\n",
    "    model.add(Flatten())\n",
    "    model.add(Dense(256, activation='relu'))\n",
    "    model.add(Dropout(0.5))\n",
    "    model.add(Dense(128, activation='relu'))\n",
    "    model.add(Dropout(0.5))\n",
    "    model.add(Dense(no_classes, activation='softmax'))\n",
    "    return model"
   ]
  },
  {
   "cell_type": "code",
   "execution_count": 86,
   "metadata": {},
   "outputs": [],
   "source": [
    "from keras.callbacks import ModelCheckpoint, EarlyStopping, TensorBoard\n",
    " \n",
    "# In the following lines, replace <username> with your username.\n",
    "experiment_log_dir = \"C:\\\\repos\\\\satellite-images-nso-datascience\\\\logs\"\n",
    "checkpoint_path = \"C:\\\\repos\\\\satellite-images-nso-datascience\\\\model_check_points\\\\\"+tif_file.split(\"/\")[-1]+\"keras_checkpoint_weights.ckpt\"\n",
    " \n",
    "tensorboard_callback = TensorBoard(log_dir=experiment_log_dir)\n",
    "model_checkpoint = ModelCheckpoint(filepath=checkpoint_path, verbose=1, save_best_only=True)\n",
    "early_stopping = EarlyStopping(monitor=\"loss\", mode=\"min\", patience=3)"
   ]
  },
  {
   "cell_type": "code",
   "execution_count": 27,
   "metadata": {},
   "outputs": [],
   "source": [
    "annotations_sample = annotations.sample(n=70000, random_state=1)"
   ]
  },
  {
   "cell_type": "code",
   "execution_count": 36,
   "metadata": {},
   "outputs": [],
   "source": [
    "alabelencoder = LabelEncoder()\n",
    "y = alabelencoder.fit_transform(annotations_sample['label'])"
   ]
  },
  {
   "cell_type": "code",
   "execution_count": 19,
   "metadata": {},
   "outputs": [],
   "source": [
    "len_y = len(annotations_sample)"
   ]
  },
  {
   "cell_type": "code",
   "execution_count": 37,
   "metadata": {
    "collapsed": true
   },
   "outputs": [
    {
     "data": {
      "text/plain": [
       "70000"
      ]
     },
     "execution_count": 37,
     "metadata": {},
     "output_type": "execute_result"
    }
   ],
   "source": [
    "len_y "
   ]
  },
  {
   "cell_type": "code",
   "execution_count": 31,
   "metadata": {},
   "outputs": [],
   "source": [
    "model = standard_convolutional_network(bands = 6, no_classes= len_y)"
   ]
  },
  {
   "cell_type": "code",
   "execution_count": 83,
   "metadata": {},
   "outputs": [
    {
     "name": "stderr",
     "output_type": "stream",
     "text": [
      "C:\\ProgramData\\Anaconda3\\lib\\site-packages\\ipykernel_launcher.py:15: UserWarning: Update your `Conv2D` call to the Keras 2 API: `Conv2D(28, (2, 2), activation=\"relu\", input_shape=(32, 32, 6...)`\n",
      "  from ipykernel import kernelapp as app\n",
      "C:\\ProgramData\\Anaconda3\\lib\\site-packages\\ipykernel_launcher.py:16: UserWarning: Update your `Conv2D` call to the Keras 2 API: `Conv2D(56, (2, 2), activation=\"relu\")`\n",
      "  app.launch_new_instance()\n"
     ]
    }
   ],
   "source": [
    "model = VGG_16_inspired_model(bands = 6, no_classes= len_y)"
   ]
  },
  {
   "cell_type": "code",
   "execution_count": 87,
   "metadata": {},
   "outputs": [],
   "source": [
    "model.compile(loss=\"sparse_categorical_crossentropy\",\n",
    "              optimizer= 'rmsprop',\n",
    "              metrics=['accuracy'])"
   ]
  },
  {
   "cell_type": "code",
   "execution_count": 29,
   "metadata": {},
   "outputs": [],
   "source": [
    "reshape_file = np.concatenate(annotations_sample[\"kernel\"].values).reshape(len_y,32,32,6).astype(int)"
   ]
  },
  {
   "cell_type": "code",
   "execution_count": null,
   "metadata": {
    "collapsed": true
   },
   "outputs": [
    {
     "name": "stdout",
     "output_type": "stream",
     "text": [
      "Epoch 1/30\n",
      "70000/70000 [==============================] - 1113s 16ms/step - loss: 2.3940 - accuracy: 0.2607\n",
      "Epoch 2/30\n"
     ]
    },
    {
     "name": "stderr",
     "output_type": "stream",
     "text": [
      "C:\\ProgramData\\Anaconda3\\lib\\site-packages\\keras\\callbacks\\callbacks.py:707: RuntimeWarning: Can save best model only with val_loss available, skipping.\n",
      "  'skipping.' % (self.monitor), RuntimeWarning)\n"
     ]
    },
    {
     "name": "stdout",
     "output_type": "stream",
     "text": [
      "70000/70000 [==============================] - 2531s 36ms/step - loss: 2.2102 - accuracy: 0.3081\n",
      "Epoch 3/30\n",
      "70000/70000 [==============================] - 3923s 56ms/step - loss: 2.1780 - accuracy: 0.3174\n",
      "Epoch 4/30\n",
      "70000/70000 [==============================] - 5666s 81ms/step - loss: 2.1395 - accuracy: 0.3255\n",
      "Epoch 5/30\n",
      "70000/70000 [==============================] - 6999s 100ms/step - loss: 2.1657 - accuracy: 0.3244\n",
      "Epoch 6/30\n",
      "70000/70000 [==============================] - 9169s 131ms/step - loss: 2.1317 - accuracy: 0.3289\n",
      "Epoch 7/30\n",
      "33824/70000 [=============>................] - ETA: 1:35:03 - loss: 2.0936 - accuracy: 0.3355"
     ]
    }
   ],
   "source": [
    "model.fit(reshape_file,y.reshape(len_y,1), epochs=30, callbacks=[ model_checkpoint, early_stopping])"
   ]
  },
  {
   "cell_type": "code",
   "execution_count": null,
   "metadata": {},
   "outputs": [],
   "source": [
    "model.save('VGG_16_inspired_model_2019_AWD_RGBI_NDVI_H')"
   ]
  },
  {
   "cell_type": "code",
   "execution_count": 30,
   "metadata": {},
   "outputs": [],
   "source": [
    "model = keras.models.load_model('standard_convolutional_network_2019_AWD_RGBI_NDVI_H')"
   ]
  },
  {
   "cell_type": "code",
   "execution_count": 22,
   "metadata": {},
   "outputs": [],
   "source": [
    "def dl_predict(model, akernel):\n",
    "        return model.predict(np.concatenate(akernel).reshape(len(akernel),32,32,6))"
   ]
  },
  {
   "cell_type": "code",
   "execution_count": 88,
   "metadata": {},
   "outputs": [
    {
     "data": {
      "text/plain": [
       "391998"
      ]
     },
     "execution_count": 88,
     "metadata": {},
     "output_type": "execute_result"
    }
   ],
   "source": [
    "len(annotations)"
   ]
  },
  {
   "cell_type": "code",
   "execution_count": 94,
   "metadata": {},
   "outputs": [],
   "source": [
    "del annotations_sample"
   ]
  },
  {
   "cell_type": "code",
   "execution_count": 39,
   "metadata": {},
   "outputs": [],
   "source": [
    "sample_test_annotations = annotations.sample(n=50000, random_state=1)"
   ]
  },
  {
   "cell_type": "code",
   "execution_count": 44,
   "metadata": {},
   "outputs": [],
   "source": [
    "del sample_test_annotations"
   ]
  },
  {
   "cell_type": "code",
   "execution_count": 40,
   "metadata": {},
   "outputs": [],
   "source": [
    "labels_othot = dl_predict(model,sample_test_annotations['kernel'].values)"
   ]
  },
  {
   "cell_type": "code",
   "execution_count": 41,
   "metadata": {},
   "outputs": [],
   "source": [
    "sample_test_annotations['predict'] = [alabelencoder.inverse_transform([np.argmax(alabelothot)])[0] for alabelothot in labels_othot]"
   ]
  },
  {
   "cell_type": "code",
   "execution_count": 42,
   "metadata": {},
   "outputs": [
    {
     "data": {
      "text/plain": [
       "0.43196"
      ]
     },
     "execution_count": 42,
     "metadata": {},
     "output_type": "execute_result"
    }
   ],
   "source": [
    "len(sample_test_annotations[sample_test_annotations['label'] == sample_test_annotations['predict']])/len(sample_test_annotations)"
   ]
  },
  {
   "cell_type": "code",
   "execution_count": 43,
   "metadata": {
    "collapsed": true
   },
   "outputs": [
    {
     "data": {
      "image/png": "[encoded data removed]",
      "text/plain": [
       "<Figure size 800x480 with 2 Axes>"
      ]
     },
     "metadata": {
      "needs_background": "light"
     },
     "output_type": "display_data"
    }
   ],
   "source": [
    "plot_confusion_matrix(confusion_matrix(sample_test_annotations['label'],sample_test_annotations['predict'], labels = annotations['label'].unique()))"
   ]
  },
  {
   "cell_type": "markdown",
   "metadata": {},
   "source": [
    "# Deep learning multiprocessing."
   ]
  },
  {
   "cell_type": "code",
   "execution_count": 12,
   "metadata": {},
   "outputs": [],
   "source": [
    "xa = [[2,3,223],[3,4,234234],[7,6,123123],[4,3,123],[7,2,1324234],[7,10,8234]]"
   ]
  },
  {
   "cell_type": "code",
   "execution_count": 17,
   "metadata": {
    "collapsed": true
   },
   "outputs": [
    {
     "data": {
      "text/plain": [
       "6"
      ]
     },
     "execution_count": 17,
     "metadata": {},
     "output_type": "execute_result"
    }
   ],
   "source": [
    "len(xa)"
   ]
  },
  {
   "cell_type": "code",
   "execution_count": 39,
   "metadata": {},
   "outputs": [],
   "source": [
    "import numpy as np \n",
    "\n",
    "ax = np.array([[23,234,12],[34,4,78],[67,89,67],[34,23,45],[67,78,89]])"
   ]
  },
  {
   "cell_type": "code",
   "execution_count": 47,
   "metadata": {},
   "outputs": [
    {
     "data": {
      "text/plain": [
       "[67, 45]"
      ]
     },
     "execution_count": 47,
     "metadata": {},
     "output_type": "execute_result"
    }
   ],
   "source": [
    "[ x[2] for x in np.array_split(ax,3)[1] ]"
   ]
  },
  {
   "cell_type": "code",
   "execution_count": 23,
   "metadata": {},
   "outputs": [
    {
     "ename": "NameError",
     "evalue": "name 'xa' is not defined",
     "output_type": "error",
     "traceback": [
      "\u001b[1;31m---------------------------------------------------------------------------\u001b[0m",
      "\u001b[1;31mNameError\u001b[0m                                 Traceback (most recent call last)",
      "\u001b[1;32m<ipython-input-23-ee98f92f6f43>\u001b[0m in \u001b[0;36m<module>\u001b[1;34m\u001b[0m\n\u001b[1;32m----> 1\u001b[1;33m \u001b[0mxa\u001b[0m \u001b[1;33m=\u001b[0m \u001b[0mnp\u001b[0m\u001b[1;33m.\u001b[0m\u001b[0marray\u001b[0m\u001b[1;33m(\u001b[0m\u001b[0mxa\u001b[0m\u001b[1;33m)\u001b[0m\u001b[1;33m.\u001b[0m\u001b[0mreshape\u001b[0m\u001b[1;33m(\u001b[0m\u001b[0mint\u001b[0m\u001b[1;33m(\u001b[0m\u001b[0mlen\u001b[0m\u001b[1;33m(\u001b[0m\u001b[0mxa\u001b[0m\u001b[1;33m)\u001b[0m\u001b[1;33m/\u001b[0m\u001b[1;36m3\u001b[0m\u001b[1;33m)\u001b[0m\u001b[1;33m,\u001b[0m\u001b[1;36m3\u001b[0m\u001b[1;33m,\u001b[0m\u001b[1;36m3\u001b[0m\u001b[1;33m)\u001b[0m\u001b[1;33m\u001b[0m\u001b[1;33m\u001b[0m\u001b[0m\n\u001b[0m",
      "\u001b[1;31mNameError\u001b[0m: name 'xa' is not defined"
     ]
    }
   ],
   "source": [
    "xa = np.array(xa).reshape(int(len(xa)/3),3,3)"
   ]
  },
  {
   "cell_type": "code",
   "execution_count": 1,
   "metadata": {
    "collapsed": true
   },
   "outputs": [
    {
     "data": {
      "text/plain": [
       "True"
      ]
     },
     "execution_count": 1,
     "metadata": {},
     "output_type": "execute_result"
    }
   ],
   "source": [
    "\"yes\" == \"yes\""
   ]
  },
  {
   "cell_type": "code",
   "execution_count": 3,
   "metadata": {},
   "outputs": [
    {
     "name": "stdout",
     "output_type": "stream",
     "text": [
      "E:/data/coepelduynen\\20200304_114601_SV1-02_SV_RD_11bit_RGBI_50cm_Oegstgeest_natura2000_coepelduynen_cropped_ndvi_height.tif\n",
      "E:/data/coepelduynen\\20200323_112115_SV1-03_SV_RD_11bit_RGBI_50cm_Oegstgeest_natura2000_coepelduynen_cropped_ndvi_height.tif\n",
      "E:/data/coepelduynen\\20200326_114323_SV1-02_SV_RD_11bit_RGBI_50cm_Oegstgeest_natura2000_coepelduynen_cropped_ndvi_height.tif\n",
      "E:/data/coepelduynen\\20200915_112329_SV1-04_SV_RD_11bit_RGBI_50cm_KatwijkAanZee_natura2000_coepelduynen_cropped_ndvi_height.tif\n",
      "E:/data/coepelduynen\\20210302_111247_SV1-03_SV_RD_11bit_RGBI_50cm_KatwijkAanZee_natura2000_coepelduynen_cropped_ndvi_height.tif\n",
      "E:/data/coepelduynen\\20210907_112017_SV1-04_SV_RD_11bit_RGBI_50cm_KatwijkAanZee_natura2000_coepelduynen_cropped_ndvi_height.tif\n"
     ]
    }
   ],
   "source": [
    "import glob\n",
    "\n",
    "for file in glob.glob(\"E:/data/coepelduynen/202[0|1]0[3:9]*ndvi_height.tif\"):\n",
    "    print(file)"
   ]
  },
  {
   "cell_type": "code",
   "execution_count": 37,
   "metadata": {},
   "outputs": [
    {
     "data": {
      "text/html": [
       "<div>\n",
       "<style scoped>\n",
       "    .dataframe tbody tr th:only-of-type {\n",
       "        vertical-align: middle;\n",
       "    }\n",
       "\n",
       "    .dataframe tbody tr th {\n",
       "        vertical-align: top;\n",
       "    }\n",
       "\n",
       "    .dataframe thead th {\n",
       "        text-align: right;\n",
       "    }\n",
       "</style>\n",
       "<table border=\"1\" class=\"dataframe\">\n",
       "  <thead>\n",
       "    <tr style=\"text-align: right;\">\n",
       "      <th></th>\n",
       "      <th>bleh</th>\n",
       "      <th>bleh1</th>\n",
       "      <th>bleh2</th>\n",
       "    </tr>\n",
       "  </thead>\n",
       "  <tbody>\n",
       "    <tr>\n",
       "      <th>0</th>\n",
       "      <td>2</td>\n",
       "      <td>3</td>\n",
       "      <td>223</td>\n",
       "    </tr>\n",
       "    <tr>\n",
       "      <th>1</th>\n",
       "      <td>3</td>\n",
       "      <td>4</td>\n",
       "      <td>234234</td>\n",
       "    </tr>\n",
       "    <tr>\n",
       "      <th>2</th>\n",
       "      <td>7</td>\n",
       "      <td>6</td>\n",
       "      <td>123123</td>\n",
       "    </tr>\n",
       "    <tr>\n",
       "      <th>3</th>\n",
       "      <td>4</td>\n",
       "      <td>3</td>\n",
       "      <td>123</td>\n",
       "    </tr>\n",
       "    <tr>\n",
       "      <th>4</th>\n",
       "      <td>7</td>\n",
       "      <td>2</td>\n",
       "      <td>1324234</td>\n",
       "    </tr>\n",
       "    <tr>\n",
       "      <th>5</th>\n",
       "      <td>7</td>\n",
       "      <td>10</td>\n",
       "      <td>8234</td>\n",
       "    </tr>\n",
       "  </tbody>\n",
       "</table>\n",
       "</div>"
      ],
      "text/plain": [
       "   bleh  bleh1    bleh2\n",
       "0     2      3      223\n",
       "1     3      4   234234\n",
       "2     7      6   123123\n",
       "3     4      3      123\n",
       "4     7      2  1324234\n",
       "5     7     10     8234"
      ]
     },
     "execution_count": 37,
     "metadata": {},
     "output_type": "execute_result"
    }
   ],
   "source": [
    "pd.DataFrame(xa.reshape(6,3),columns=['bleh','bleh1','bleh2'])"
   ]
  }
 ],
 "metadata": {
  "kernelspec": {
   "display_name": "Python 3",
   "language": "python",
   "name": "python3"
  },
  "language_info": {
   "codemirror_mode": {
    "name": "ipython",
    "version": 3
   },
   "file_extension": ".py",
   "mimetype": "text/x-python",
   "name": "python",
   "nbconvert_exporter": "python",
   "pygments_lexer": "ipython3",
   "version": "3.7.3"
  }
 },
 "nbformat": 4,
 "nbformat_minor": 2
}
