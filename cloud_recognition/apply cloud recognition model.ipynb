{
 "cells": [
  {
   "cell_type": "code",
   "execution_count": 2,
   "metadata": {},
   "outputs": [],
   "source": [
    "import sys\n",
    "import pickle"
   ]
  },
  {
   "cell_type": "code",
   "execution_count": 6,
   "metadata": {},
   "outputs": [],
   "source": [
    "sys.path.append(\"..\")\n",
    "\n",
    "from src.cloud_recognition.model_training import Natura2000CloudDetectionModel, Location\n",
    "from src.cloud_recognition.data_loaders import FlattenedRGBImageLoader\n",
    "from src.cloud_recognition.data_preparation import DataPreprocessor\n",
    "from src.cloud_recognition.features import selected_features"
   ]
  },
  {
   "cell_type": "code",
   "execution_count": 9,
   "metadata": {},
   "outputs": [],
   "source": [
    "# Set variables\n",
    "folder_path = \"20190302_105726_SV1-01_50cm_RD_11bit_RGBI_Warmond_natura2000_coepelduynen_cropped_ndvi_height.tif\"\n",
    "file_name = \"E:/Data/remote_sensing/satellite-images\"\n",
    "model_artefact_path = \"../saved_models/cloud_detection_logistic_regression_v1.0.sav\"\n",
    "location = Location(\"coepelduynen\")"
   ]
  },
  {
   "cell_type": "code",
   "execution_count": 11,
   "metadata": {},
   "outputs": [
    {
     "data": {
      "text/plain": [
       "<src.cloud_recognition.model_training.Natura2000CloudDetectionModel at 0x2089aded670>"
      ]
     },
     "execution_count": 11,
     "metadata": {},
     "output_type": "execute_result"
    }
   ],
   "source": [
    "image_loader = FlattenedRGBImageLoader()\n",
    "data_preprocessor = DataPreprocessor()\n",
    "model = pickle.load(open(model_artefact_path, 'rb'))\n",
    "\n",
    "# model = "
   ]
  }
 ],
 "metadata": {
  "kernelspec": {
   "display_name": "Python 3",
   "language": "python",
   "name": "python3"
  },
  "language_info": {
   "codemirror_mode": {
    "name": "ipython",
    "version": 3
   },
   "file_extension": ".py",
   "mimetype": "text/x-python",
   "name": "python",
   "nbconvert_exporter": "python",
   "pygments_lexer": "ipython3",
   "version": "3.9.18"
  }
 },
 "nbformat": 4,
 "nbformat_minor": 2
}
