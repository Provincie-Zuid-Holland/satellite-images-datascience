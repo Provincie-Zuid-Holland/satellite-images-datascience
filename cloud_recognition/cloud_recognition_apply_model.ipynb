{
 "cells": [
  {
   "cell_type": "markdown",
   "metadata": {},
   "source": [
    "# Applying Natura2000CloudDetectionModel\n",
    "\n",
    "This notebook shows how to apply an existing Natura2000CloudDetectionModel.\n",
    "\n",
    "Existing models can be found in `pzh-blob-satelliet` blob storage, container `satellite-images-nso` and folder `cloud_detection_models`. The necessary code is in the src/cloud_recognition folder.\n",
    "\n",
    "Author: Pieter Kouyzer, paj.kouyzer@pzh.nl\\\n",
    "Date: 2024/01/02"
   ]
  },
  {
   "cell_type": "code",
   "execution_count": 1,
   "metadata": {},
   "outputs": [],
   "source": [
    "import sys\n",
    "import pickle\n",
    "\n",
    "import pandas as pd"
   ]
  },
  {
   "cell_type": "code",
   "execution_count": 2,
   "metadata": {},
   "outputs": [],
   "source": [
    "sys.path.append(\"..\")\n",
    "\n",
    "from src.cloud_recognition.data_loaders import FlattenedRGBImageLoader\n",
    "from src.cloud_recognition.data_preparation import DataPreprocessor"
   ]
  },
  {
   "cell_type": "markdown",
   "metadata": {},
   "source": [
    "### Set Variables"
   ]
  },
  {
   "cell_type": "code",
   "execution_count": 3,
   "metadata": {},
   "outputs": [],
   "source": [
    "folder_path = \"E:/Data/remote_sensing/satellite-images\"\n",
    "filename = \"20190302_105726_SV1-01_50cm_RD_11bit_RGBI_Warmond_natura2000_coepelduynen_cropped_ndvi_height.tif\"\n",
    "model_artefact_path = \"../saved_models/cloud_detection_logistic_regression_v1.0.sav\"\n",
    "location = \"coepelduynen\""
   ]
  },
  {
   "cell_type": "markdown",
   "metadata": {},
   "source": [
    "### Apply Model\n",
    "\n",
    "Load model, load and prepare data and then apply model. 1 corresponds to 'clouds' and 0 corresponds to 'no clouds'."
   ]
  },
  {
   "cell_type": "code",
   "execution_count": 4,
   "metadata": {},
   "outputs": [
    {
     "name": "stdout",
     "output_type": "stream",
     "text": [
      "0    1\n",
      "dtype: int32\n"
     ]
    },
    {
     "name": "stderr",
     "output_type": "stream",
     "text": [
      "c:\\Users\\pzhadmin\\Code\\satellite-images-nso-datascience\\cloud_recognition\\..\\src\\cloud_recognition\\model_training.py:77: FutureWarning: The behavior of array concatenation with empty entries is deprecated. In a future version, this will no longer exclude empty items when determining the result dtype. To retain the old behavior, exclude the empty entries before the concat operation.\n",
      "  output = pd.concat(outputs)\n"
     ]
    }
   ],
   "source": [
    "image_loader = FlattenedRGBImageLoader(filename=filename, folder_path=folder_path)\n",
    "data_preprocessor = DataPreprocessor()\n",
    "model = pickle.load(open(model_artefact_path, 'rb'))\n",
    "\n",
    "rgb_df = image_loader.get_rgb_df()\n",
    "features = data_preprocessor.transform(rgb_df)\n",
    "features[\"location\"] = location\n",
    "feature_df = pd.DataFrame([features])\n",
    "clouds = model.predict(feature_df)\n",
    "print(clouds)"
   ]
  }
 ],
 "metadata": {
  "kernelspec": {
   "display_name": "Python 3",
   "language": "python",
   "name": "python3"
  },
  "language_info": {
   "codemirror_mode": {
    "name": "ipython",
    "version": 3
   },
   "file_extension": ".py",
   "mimetype": "text/x-python",
   "name": "python",
   "nbconvert_exporter": "python",
   "pygments_lexer": "ipython3",
   "version": "3.9.18"
  }
 },
 "nbformat": 4,
 "nbformat_minor": 2
}
