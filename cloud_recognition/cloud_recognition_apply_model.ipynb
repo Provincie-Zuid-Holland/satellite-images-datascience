{
 "cells": [
  {
   "cell_type": "markdown",
   "metadata": {},
   "source": [
    "# Applying Natura2000CloudDetectionModel\n",
    "\n",
    "This notebook shows how to apply an existing Natura2000CloudDetectionModel.\n",
    "\n",
    "Existing models can be found in `pzh-blob-satelliet` blob storage, container `satellite-images-nso` and folder `cloud_detection_models`. The necessary code is in the src/cloud_recognition folder.\n",
    "\n",
    "Author: Pieter Kouyzer, paj.kouyzer@pzh.nl\\\n",
    "Date: 2024/01/02"
   ]
  },
  {
   "cell_type": "code",
   "execution_count": 1,
   "metadata": {},
   "outputs": [],
   "source": [
    "import pickle\n",
    "\n",
    "from cloud_recognition.api import detect_clouds"
   ]
  },
  {
   "cell_type": "markdown",
   "metadata": {},
   "source": [
    "### Set Variables"
   ]
  },
  {
   "cell_type": "code",
   "execution_count": 2,
   "metadata": {},
   "outputs": [],
   "source": [
    "filepath = \"E:/Data/remote_sensing/satellite-images/20190302_105726_SV1-01_50cm_RD_11bit_RGBI_Warmond_natura2000_coepelduynen_cropped_ndvi_height.tif\"\n",
    "model_artefact_path = \"../saved_models/cloud_detection_logistic_regression_v1.0.sav\""
   ]
  },
  {
   "cell_type": "code",
   "execution_count": 3,
   "metadata": {},
   "outputs": [
    {
     "data": {
      "text/plain": [
       "False"
      ]
     },
     "execution_count": 3,
     "metadata": {},
     "output_type": "execute_result"
    }
   ],
   "source": [
    "model = pickle.load(open(model_artefact_path, \"rb\"))\n",
    "detect_clouds(model, filepath)"
   ]
  }
 ],
 "metadata": {
  "kernelspec": {
   "display_name": "Python 3",
   "language": "python",
   "name": "python3"
  },
  "language_info": {
   "codemirror_mode": {
    "name": "ipython",
    "version": 3
   },
   "file_extension": ".py",
   "mimetype": "text/x-python",
   "name": "python",
   "nbconvert_exporter": "python",
   "pygments_lexer": "ipython3",
   "version": "3.9.18"
  }
 },
 "nbformat": 4,
 "nbformat_minor": 2
}
